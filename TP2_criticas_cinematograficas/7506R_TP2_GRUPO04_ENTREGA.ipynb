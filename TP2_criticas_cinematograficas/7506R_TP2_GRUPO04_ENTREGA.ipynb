{
  "cells": [
    {
      "cell_type": "markdown",
      "metadata": {
        "id": "FjtZhU_3fa7X"
      },
      "source": [
        "# <center> Organizacion de datos </center>\n",
        "#### <center> Curso Rodriguez </center>\n",
        "## <center> Trabajo practico II: Críticas Cinematográficas </center>\n",
        "#### <center> Integrantes del grupo: </center>"
      ]
    },
    {
      "cell_type": "markdown",
      "metadata": {
        "id": "MuzFi6QCiuZq"
      },
      "source": [
        "\n",
        "<center>\n",
        "\n",
        "| Apellido y nombre | Padron |\n",
        "| - | - |\n",
        "| Ayala, Camila | 107440 |\n",
        "| Loscalzo, Melina | 106571 |\n",
        "| Masri, Noah | 108814 |\n",
        "\n",
        "</center>"
      ]
    },
    {
      "cell_type": "markdown",
      "metadata": {
        "id": "rwfashkHmYmx"
      },
      "source": [
        "\n",
        "Para comenzar, vamos a importar las librerias que utilizaremos"
      ]
    },
    {
      "cell_type": "code",
      "source": [
        "pip install unidecode"
      ],
      "metadata": {
        "colab": {
          "base_uri": "https://localhost:8080/"
        },
        "id": "PX9oXtw9Ku3i",
        "outputId": "25122120-b844-4aa9-ed54-c3a2d362190c"
      },
      "execution_count": null,
      "outputs": [
        {
          "output_type": "stream",
          "name": "stdout",
          "text": [
            "Collecting unidecode\n",
            "  Downloading Unidecode-1.3.6-py3-none-any.whl (235 kB)\n",
            "\u001b[?25l     \u001b[90m━━━━━━━━━━━━━━━━━━━━━━━━━━━━━━━━━━━━━━━━\u001b[0m \u001b[32m0.0/235.9 kB\u001b[0m \u001b[31m?\u001b[0m eta \u001b[36m-:--:--\u001b[0m\r\u001b[2K     \u001b[91m━━━━━━━━━━━━━━━━━━━━━━━━━━━━━━━━━━━━━━\u001b[0m\u001b[91m╸\u001b[0m \u001b[32m235.5/235.9 kB\u001b[0m \u001b[31m7.0 MB/s\u001b[0m eta \u001b[36m0:00:01\u001b[0m\r\u001b[2K     \u001b[90m━━━━━━━━━━━━━━━━━━━━━━━━━━━━━━━━━━━━━━━\u001b[0m \u001b[32m235.9/235.9 kB\u001b[0m \u001b[31m5.1 MB/s\u001b[0m eta \u001b[36m0:00:00\u001b[0m\n",
            "\u001b[?25hInstalling collected packages: unidecode\n",
            "Successfully installed unidecode-1.3.6\n"
          ]
        }
      ]
    },
    {
      "cell_type": "code",
      "source": [
        "import nltk\n",
        "nltk.download('punkt')\n",
        "nltk.download('stopwords')"
      ],
      "metadata": {
        "colab": {
          "base_uri": "https://localhost:8080/"
        },
        "id": "owvb_DpXJmtd",
        "outputId": "188beef6-7a3b-454a-fd43-3a48432fcc28"
      },
      "execution_count": null,
      "outputs": [
        {
          "output_type": "stream",
          "name": "stderr",
          "text": [
            "[nltk_data] Downloading package punkt to /root/nltk_data...\n",
            "[nltk_data]   Unzipping tokenizers/punkt.zip.\n",
            "[nltk_data] Downloading package stopwords to /root/nltk_data...\n",
            "[nltk_data]   Unzipping corpora/stopwords.zip.\n"
          ]
        },
        {
          "output_type": "execute_result",
          "data": {
            "text/plain": [
              "True"
            ]
          },
          "metadata": {},
          "execution_count": 2
        }
      ]
    },
    {
      "cell_type": "code",
      "execution_count": null,
      "metadata": {
        "id": "-NMN8SYfl76l"
      },
      "outputs": [],
      "source": [
        "#para cargar el dataset\n",
        "import pandas as pd\n",
        "\n",
        "#para limpiar la data de caracteres especiales\n",
        "import re\n",
        "\n",
        "#para la exportacion de los modelos\n",
        "import pickle\n",
        "\n",
        "#para preprocesamiento de las resenas\n",
        "from unidecode import unidecode\n",
        "from nltk.tokenize import word_tokenize\n",
        "from nltk.tokenize import ToktokTokenizer\n",
        "from sklearn.pipeline import Pipeline\n",
        "from sklearn.feature_extraction.text import CountVectorizer, TfidfTransformer, TfidfVectorizer\n",
        "from sklearn.model_selection import train_test_split, StratifiedKFold\n",
        "\n",
        "#para las predicciones\n",
        "from sklearn.metrics import precision_score, recall_score, accuracy_score, f1_score\n",
        "from sklearn.naive_bayes import GaussianNB, MultinomialNB, BernoulliNB\n",
        "from sklearn.pipeline import make_pipeline\n",
        "from sklearn.metrics import confusion_matrix, accuracy_score, precision_score, classification_report, make_scorer\n",
        "from sklearn.datasets import fetch_20newsgroups\n",
        "from sklearn.ensemble import RandomForestClassifier\n",
        "from sklearn.model_selection import RandomizedSearchCV\n",
        "from sklearn.preprocessing import LabelEncoder\n",
        "from scipy.stats import uniform\n",
        "import tensorflow as tf\n",
        "from tensorflow import keras\n",
        "from tensorflow.keras.callbacks import EarlyStopping\n",
        "from tensorflow.keras.wrappers.scikit_learn import KerasClassifier\n",
        "from tensorflow.keras.optimizers import Nadam\n",
        "from tensorflow.keras.models import Sequential\n",
        "from tensorflow.keras.layers import Dense,Dropout\n",
        "from sklearn.pipeline import Pipeline\n",
        "import xgboost as xgb\n",
        "from sklearn.svm import SVC\n",
        "from sklearn.linear_model import LogisticRegression\n",
        "from sklearn.ensemble import StackingClassifier\n",
        "from sklearn.neighbors import KNeighborsClassifier\n",
        "from sklearn.ensemble import  VotingClassifier\n",
        "from sklearn.model_selection import train_test_split\n",
        "import tensorflow.keras.backend as K\n",
        "\n",
        "import seaborn as sns\n",
        "import matplotlib.pyplot as plt\n",
        "import numpy as np\n",
        "\n",
        "#para binarizar los sentimientos\n",
        "from sklearn.preprocessing import LabelBinarizer"
      ]
    },
    {
      "cell_type": "markdown",
      "source": [
        "# Funciones utiles para generacion de modelos y prediccion"
      ],
      "metadata": {
        "id": "wI82tAg0tt5-"
      }
    },
    {
      "cell_type": "code",
      "source": [
        "def pasar_prediccion_a_binario(y):\n",
        "  umbral = 0.5  # Umbral para la conversión binaria\n",
        "  y_pred_binario = np.where(y >= umbral, 1, 0)  # Convertir las predicciones continuas a binarias\n",
        "  return y_pred_binario"
      ],
      "metadata": {
        "id": "suSu94PN32ih"
      },
      "execution_count": null,
      "outputs": []
    },
    {
      "cell_type": "markdown",
      "source": [
        "Creamos una funcion que recibe un modelo ya entrenado, realiza con este predicciones y luego imprime su matriz de confusion."
      ],
      "metadata": {
        "id": "NRi5ilLatxJP"
      }
    },
    {
      "cell_type": "code",
      "source": [
        "def mostrarPerformance(model, x, y):\n",
        "  y_pred = model.predict(x)\n",
        "  cm = confusion_matrix(y,y_pred)\n",
        "  sns.heatmap(cm, cmap='Blues',annot=True,fmt='g')\n",
        "  plt.xlabel('Predicted')\n",
        "  plt.ylabel('True')\n",
        "\n",
        "  print(classification_report(y, y_pred))"
      ],
      "metadata": {
        "id": "3GZKAksK6uDE"
      },
      "execution_count": null,
      "outputs": []
    },
    {
      "cell_type": "code",
      "source": [
        "def mostrarPerformanceConBinarizador (model, x, y):\n",
        "  y_pred = model.predict(x)\n",
        "  y_pred = pasar_prediccion_a_binario(y_pred)\n",
        "  cm = confusion_matrix(y,y_pred)\n",
        "  sns.heatmap(cm, cmap='Blues',annot=True,fmt='g')\n",
        "  plt.xlabel('Predicted')\n",
        "  plt.ylabel('True')\n",
        "\n",
        "  print(classification_report(y, y_pred))"
      ],
      "metadata": {
        "id": "pOey7_tttwP8"
      },
      "execution_count": null,
      "outputs": []
    },
    {
      "cell_type": "markdown",
      "source": [
        "Creamos una funcion que dado un modelo, los conjuntos de entrenamiento (x e y) y los rangos de parametros en los que buscar, busca optimizar el f1 score, buscando el mejor set de dichos hiperparametros, haciendo kfolds randomized cross validation, de n sets de hiperparametros, con folds cantidad de folds."
      ],
      "metadata": {
        "id": "RO6VLZcx560Z"
      }
    },
    {
      "cell_type": "code",
      "source": [
        "def buscarMejoresHiperparametros(n, folds, model, parametres, x_train, y_train, metric= make_scorer(f1_score)) :\n",
        "\n",
        "  kfoldcv = StratifiedKFold(n_splits=folds)\n",
        "  randomcv = RandomizedSearchCV(estimator=model,\n",
        "                              param_distributions = parametres,\n",
        "                              scoring=metric,\n",
        "                              cv=kfoldcv,\n",
        "                              n_iter=n,\n",
        "                              random_state=42) #plantamos la semilla para que nos den siempre los mismos hiperparametros\n",
        "\n",
        "  #Entrenamos al random search\n",
        "  randomcv.fit(X = x_train, y = y_train)\n",
        "\n",
        "  best_params = randomcv.best_params_\n",
        "  best_score = randomcv.best_score_\n",
        "\n",
        "  print(f\"Best parameters: {best_params}\")\n",
        "  print(f\"Best score: {best_score}\")\n",
        "\n",
        "  best_model = model.set_params(**best_params)\n",
        "  best_model.fit(x_train, y_train)\n",
        "\n",
        "  return best_model"
      ],
      "metadata": {
        "id": "VhYKHDfN3jl7"
      },
      "execution_count": null,
      "outputs": []
    },
    {
      "cell_type": "markdown",
      "source": [
        "Esta funcion recibe una prediccion binaria y vuelve a mappear los numeros a palabras. Es util para la generacion de predicciones para Kaggle, pero no es necesaria para todos los modelos."
      ],
      "metadata": {
        "id": "4HbCcWr9FZrY"
      }
    },
    {
      "cell_type": "code",
      "source": [
        "def mapear_numeros_a_palabras(y_predicted):\n",
        "\n",
        "  label_mapping = {\n",
        "    0: \"negativo\",\n",
        "    1: \"positivo\"\n",
        "  }\n",
        "  y_pred = [label_mapping[int(value)] for value in y_predicted]\n",
        "  return y_pred"
      ],
      "metadata": {
        "id": "Wt68gkIlFEvk"
      },
      "execution_count": null,
      "outputs": []
    },
    {
      "cell_type": "markdown",
      "source": [
        "Esta funcion recibe los targets de train y test y mapea las palabras \"negativo\" y \"positivo\" a 0 y 1 respectivamente."
      ],
      "metadata": {
        "id": "63Al7QKl_4fc"
      }
    },
    {
      "cell_type": "code",
      "source": [
        "def mapear_palabras_a_numeros(y_train, y_test):\n",
        "  label_encoder = LabelEncoder()\n",
        "  label_encoder.fit([\"negativo\", \"positivo\"])\n",
        "  y_train_encoded = label_encoder.transform(y_train)\n",
        "  y_test_encoded = label_encoder.transform(y_test)\n",
        "  return y_train_encoded, y_test_encoded"
      ],
      "metadata": {
        "id": "VDVOs3xc_r0z"
      },
      "execution_count": null,
      "outputs": []
    },
    {
      "cell_type": "markdown",
      "source": [
        "Esta función crea un generador de datos por lotes para entrenar el modelo con lotes secuenciales. Esto sirve principalmente para las redes neuronales, ya que al querer pasar la informacion a un array por los requerimientos de esta nos quedamos sin ram."
      ],
      "metadata": {
        "id": "psqKC5e4tG-1"
      }
    },
    {
      "cell_type": "code",
      "source": [
        "def generador_de_lotes(X, y, batch_size):\n",
        "    num_samples = X.shape[0]\n",
        "    indices = np.arange(num_samples)\n",
        "    while True:\n",
        "        np.random.shuffle(indices)\n",
        "        for start in range(0, num_samples, batch_size):\n",
        "            end = min(start + batch_size, num_samples)\n",
        "            batch_indices = indices[start:end]\n",
        "            X_batch = X[batch_indices].toarray()\n",
        "            y_batch = y[batch_indices]\n",
        "            yield X_batch, y_batch"
      ],
      "metadata": {
        "id": "hKZdO604tYem"
      },
      "execution_count": null,
      "outputs": []
    },
    {
      "cell_type": "markdown",
      "source": [
        "# Funciones utiles para el preprocesamiento de datos"
      ],
      "metadata": {
        "id": "SB57Twjn2Mx2"
      }
    },
    {
      "cell_type": "markdown",
      "source": [
        "Creamos las siguientes funciones para el preprocesamiento de las resenas. Esta primer funcion convierte todas las letras que contengan tilde a su respectiva letra sin tilde."
      ],
      "metadata": {
        "id": "Y8ymCUjiL0Qf"
      }
    },
    {
      "cell_type": "code",
      "source": [
        "def sacar_tildes(texto):\n",
        "  texto_sin_tildes = unidecode(texto)\n",
        "  return texto_sin_tildes"
      ],
      "metadata": {
        "id": "nl2lZkfWKuB0"
      },
      "execution_count": null,
      "outputs": []
    },
    {
      "cell_type": "markdown",
      "source": [
        "Esta siguiente remueve todos los caracteres HTML, y todos los caracteres que no sean alfabeticos. Se tomo la decision de eliminar todos los numeros ya que si bien hay casos en que tienen algun sentido (\"0/10\"), al eliminar todo el resto de los caracteres lo pierden, y en la mayoria de los casos esto no es lo que se borra, sino un numero de año, entre otras cosas que consideramos no aportan al sentimiento."
      ],
      "metadata": {
        "id": "qFrNXMkkMZ-w"
      }
    },
    {
      "cell_type": "code",
      "source": [
        "def limpiar_texto(texto):\n",
        "  limpio = re.sub('<.*?>', '', texto)\n",
        "  limpio = re.sub('[^a-zA-Z]', ' ', limpio)\n",
        "  return limpio"
      ],
      "metadata": {
        "id": "F41PDyWyIjv6"
      },
      "execution_count": null,
      "outputs": []
    },
    {
      "cell_type": "markdown",
      "source": [
        "Esta ultima funcion elimina todos los conectores, y pasa todas las mayusculas a minusculas para evitar el ruido.\n",
        "Ademas, dado que al ver el dataset encontramos muchas letras sueltas y palabras de dos letras decidimos tambien eliminar estas:\n",
        "- las \"palabras\" de una sola letra, ya que la mayoria no existen como palabras (\"b\", \"n\", etc.) y las que existen, igualmente no aportan informacion (\"a\", \"o\").\n",
        "- las de dos letras ya que o bien no existen, o bien no aportan informacion, pero no aparecen en la lista de conectores, y se suelen repetir en muchas resenas (\"si\", \"vi\")."
      ],
      "metadata": {
        "id": "t-4jkNqZSVeK"
      }
    },
    {
      "cell_type": "code",
      "source": [
        "conectores = nltk.corpus.stopwords.words('spanish')\n",
        "\n",
        "def tokenize_text(text):\n",
        "    tokens = word_tokenize(text)\n",
        "    return tokens\n",
        "\n",
        "def remover_conectores(text):\n",
        "  text = unidecode(text.lower())\n",
        "  words = tokenize_text(text)\n",
        "  words = [word for word in words if len(word) > 2 and not word.isdigit() and word not in conectores]\n",
        "  texto_sin_conectores = ' '.join(words)\n",
        "  return texto_sin_conectores"
      ],
      "metadata": {
        "id": "77def7DxNH0k"
      },
      "execution_count": null,
      "outputs": []
    },
    {
      "cell_type": "markdown",
      "metadata": {
        "id": "K3BGumnCn5NA"
      },
      "source": [
        "#Preparacion del Dataset\n",
        "Importamos el dataset con el que entrenaremos a nuestro modelo"
      ]
    },
    {
      "cell_type": "code",
      "execution_count": null,
      "metadata": {
        "id": "UD6xd6yToLct"
      },
      "outputs": [],
      "source": [
        "ds = pd.read_csv(\"https://drive.google.com/uc?export=download&id=1EBmTHSPeuMjFPARUFMRqM-IMlnR92s0W\")"
      ]
    },
    {
      "cell_type": "markdown",
      "metadata": {
        "id": "lHpC0e4-rhtk"
      },
      "source": [
        "Creamos una copia del dataset para no alterar los datos originales"
      ]
    },
    {
      "cell_type": "code",
      "execution_count": null,
      "metadata": {
        "id": "bKPvs-LWoufI"
      },
      "outputs": [],
      "source": [
        "ds_resenas = ds.copy()"
      ]
    },
    {
      "cell_type": "markdown",
      "metadata": {
        "id": "CcIfJvSPsQ4h"
      },
      "source": [
        "Sabemos que nuestro dataset en esta ocasion cuenta con solamente 3 columnas: un ID de la resena, la resena en si, y una ultima, binaria, que dice si la resena fue positiva o negativa."
      ]
    },
    {
      "cell_type": "code",
      "execution_count": null,
      "metadata": {
        "colab": {
          "base_uri": "https://localhost:8080/"
        },
        "id": "ezjDYntesUgV",
        "outputId": "b991067a-4bfa-431e-bc4e-ce98001c3a2e"
      },
      "outputs": [
        {
          "output_type": "execute_result",
          "data": {
            "text/plain": [
              "   ID                                          review_es sentimiento\n",
              "0   0  Uno de los otros críticos ha mencionado que de...    positivo\n",
              "1   1  Una pequeña pequeña producción.La técnica de f...    positivo\n",
              "2   2  Pensé que esta era una manera maravillosa de p...    positivo\n",
              "3   3  Básicamente, hay una familia donde un niño peq...    negativo\n",
              "4   4  El \"amor en el tiempo\" de Petter Mattei es una...    positivo"
            ],
            "text/html": [
              "\n",
              "  <div id=\"df-b524d186-5a62-4d0d-b736-86e52de7c5d3\">\n",
              "    <div class=\"colab-df-container\">\n",
              "      <div>\n",
              "<style scoped>\n",
              "    .dataframe tbody tr th:only-of-type {\n",
              "        vertical-align: middle;\n",
              "    }\n",
              "\n",
              "    .dataframe tbody tr th {\n",
              "        vertical-align: top;\n",
              "    }\n",
              "\n",
              "    .dataframe thead th {\n",
              "        text-align: right;\n",
              "    }\n",
              "</style>\n",
              "<table border=\"1\" class=\"dataframe\">\n",
              "  <thead>\n",
              "    <tr style=\"text-align: right;\">\n",
              "      <th></th>\n",
              "      <th>ID</th>\n",
              "      <th>review_es</th>\n",
              "      <th>sentimiento</th>\n",
              "    </tr>\n",
              "  </thead>\n",
              "  <tbody>\n",
              "    <tr>\n",
              "      <th>0</th>\n",
              "      <td>0</td>\n",
              "      <td>Uno de los otros críticos ha mencionado que de...</td>\n",
              "      <td>positivo</td>\n",
              "    </tr>\n",
              "    <tr>\n",
              "      <th>1</th>\n",
              "      <td>1</td>\n",
              "      <td>Una pequeña pequeña producción.La técnica de f...</td>\n",
              "      <td>positivo</td>\n",
              "    </tr>\n",
              "    <tr>\n",
              "      <th>2</th>\n",
              "      <td>2</td>\n",
              "      <td>Pensé que esta era una manera maravillosa de p...</td>\n",
              "      <td>positivo</td>\n",
              "    </tr>\n",
              "    <tr>\n",
              "      <th>3</th>\n",
              "      <td>3</td>\n",
              "      <td>Básicamente, hay una familia donde un niño peq...</td>\n",
              "      <td>negativo</td>\n",
              "    </tr>\n",
              "    <tr>\n",
              "      <th>4</th>\n",
              "      <td>4</td>\n",
              "      <td>El \"amor en el tiempo\" de Petter Mattei es una...</td>\n",
              "      <td>positivo</td>\n",
              "    </tr>\n",
              "  </tbody>\n",
              "</table>\n",
              "</div>\n",
              "      <button class=\"colab-df-convert\" onclick=\"convertToInteractive('df-b524d186-5a62-4d0d-b736-86e52de7c5d3')\"\n",
              "              title=\"Convert this dataframe to an interactive table.\"\n",
              "              style=\"display:none;\">\n",
              "        \n",
              "  <svg xmlns=\"http://www.w3.org/2000/svg\" height=\"24px\"viewBox=\"0 0 24 24\"\n",
              "       width=\"24px\">\n",
              "    <path d=\"M0 0h24v24H0V0z\" fill=\"none\"/>\n",
              "    <path d=\"M18.56 5.44l.94 2.06.94-2.06 2.06-.94-2.06-.94-.94-2.06-.94 2.06-2.06.94zm-11 1L8.5 8.5l.94-2.06 2.06-.94-2.06-.94L8.5 2.5l-.94 2.06-2.06.94zm10 10l.94 2.06.94-2.06 2.06-.94-2.06-.94-.94-2.06-.94 2.06-2.06.94z\"/><path d=\"M17.41 7.96l-1.37-1.37c-.4-.4-.92-.59-1.43-.59-.52 0-1.04.2-1.43.59L10.3 9.45l-7.72 7.72c-.78.78-.78 2.05 0 2.83L4 21.41c.39.39.9.59 1.41.59.51 0 1.02-.2 1.41-.59l7.78-7.78 2.81-2.81c.8-.78.8-2.07 0-2.86zM5.41 20L4 18.59l7.72-7.72 1.47 1.35L5.41 20z\"/>\n",
              "  </svg>\n",
              "      </button>\n",
              "      \n",
              "  <style>\n",
              "    .colab-df-container {\n",
              "      display:flex;\n",
              "      flex-wrap:wrap;\n",
              "      gap: 12px;\n",
              "    }\n",
              "\n",
              "    .colab-df-convert {\n",
              "      background-color: #E8F0FE;\n",
              "      border: none;\n",
              "      border-radius: 50%;\n",
              "      cursor: pointer;\n",
              "      display: none;\n",
              "      fill: #1967D2;\n",
              "      height: 32px;\n",
              "      padding: 0 0 0 0;\n",
              "      width: 32px;\n",
              "    }\n",
              "\n",
              "    .colab-df-convert:hover {\n",
              "      background-color: #E2EBFA;\n",
              "      box-shadow: 0px 1px 2px rgba(60, 64, 67, 0.3), 0px 1px 3px 1px rgba(60, 64, 67, 0.15);\n",
              "      fill: #174EA6;\n",
              "    }\n",
              "\n",
              "    [theme=dark] .colab-df-convert {\n",
              "      background-color: #3B4455;\n",
              "      fill: #D2E3FC;\n",
              "    }\n",
              "\n",
              "    [theme=dark] .colab-df-convert:hover {\n",
              "      background-color: #434B5C;\n",
              "      box-shadow: 0px 1px 3px 1px rgba(0, 0, 0, 0.15);\n",
              "      filter: drop-shadow(0px 1px 2px rgba(0, 0, 0, 0.3));\n",
              "      fill: #FFFFFF;\n",
              "    }\n",
              "  </style>\n",
              "\n",
              "      <script>\n",
              "        const buttonEl =\n",
              "          document.querySelector('#df-b524d186-5a62-4d0d-b736-86e52de7c5d3 button.colab-df-convert');\n",
              "        buttonEl.style.display =\n",
              "          google.colab.kernel.accessAllowed ? 'block' : 'none';\n",
              "\n",
              "        async function convertToInteractive(key) {\n",
              "          const element = document.querySelector('#df-b524d186-5a62-4d0d-b736-86e52de7c5d3');\n",
              "          const dataTable =\n",
              "            await google.colab.kernel.invokeFunction('convertToInteractive',\n",
              "                                                     [key], {});\n",
              "          if (!dataTable) return;\n",
              "\n",
              "          const docLinkHtml = 'Like what you see? Visit the ' +\n",
              "            '<a target=\"_blank\" href=https://colab.research.google.com/notebooks/data_table.ipynb>data table notebook</a>'\n",
              "            + ' to learn more about interactive tables.';\n",
              "          element.innerHTML = '';\n",
              "          dataTable['output_type'] = 'display_data';\n",
              "          await google.colab.output.renderOutput(dataTable, element);\n",
              "          const docLink = document.createElement('div');\n",
              "          docLink.innerHTML = docLinkHtml;\n",
              "          element.appendChild(docLink);\n",
              "        }\n",
              "      </script>\n",
              "    </div>\n",
              "  </div>\n",
              "  "
            ]
          },
          "metadata": {},
          "execution_count": 16
        }
      ],
      "source": [
        "ds_resenas.head()"
      ]
    },
    {
      "cell_type": "markdown",
      "source": [
        "Imprimimos las dimensiones del dataset con el que contamos"
      ],
      "metadata": {
        "id": "efITExLCHNLp"
      }
    },
    {
      "cell_type": "code",
      "source": [
        "ds_resenas.shape"
      ],
      "metadata": {
        "colab": {
          "base_uri": "https://localhost:8080/"
        },
        "id": "gfxmSHHAHHC8",
        "outputId": "4b4361c1-ea06-4060-f9ea-ec360725d455"
      },
      "execution_count": null,
      "outputs": [
        {
          "output_type": "execute_result",
          "data": {
            "text/plain": [
              "(50000, 3)"
            ]
          },
          "metadata": {},
          "execution_count": 17
        }
      ]
    },
    {
      "cell_type": "markdown",
      "source": [
        "Vemos si nuestro dataset esta balanceado"
      ],
      "metadata": {
        "id": "MBVTKCe2HrK2"
      }
    },
    {
      "cell_type": "code",
      "source": [
        "ds_resenas['sentimiento'].value_counts()"
      ],
      "metadata": {
        "colab": {
          "base_uri": "https://localhost:8080/"
        },
        "id": "mHG9xsmQHe90",
        "outputId": "dcda8744-32ae-46ab-ca3e-d232d4fef51c"
      },
      "execution_count": null,
      "outputs": [
        {
          "output_type": "execute_result",
          "data": {
            "text/plain": [
              "positivo    25000\n",
              "negativo    25000\n",
              "Name: sentimiento, dtype: int64"
            ]
          },
          "metadata": {},
          "execution_count": 18
        }
      ]
    },
    {
      "cell_type": "markdown",
      "source": [
        "Contamos con exactamente la misma cantidad de resenas positivas que de negativas, por lo que podemos concluir que si lo esta."
      ],
      "metadata": {
        "id": "tPrCroNcHt6c"
      }
    },
    {
      "cell_type": "markdown",
      "metadata": {
        "id": "v07ZOJv9Twrk"
      },
      "source": [
        "#Análisis Exploratorio y Preprocesamiento de Datos"
      ]
    },
    {
      "cell_type": "markdown",
      "source": [
        "Aplicamos todas nuestras funciones al dataset"
      ],
      "metadata": {
        "id": "ahFBxYbWcUA8"
      }
    },
    {
      "cell_type": "code",
      "source": [
        "ds_resenas[\"review_es\"] = ds_resenas[\"review_es\"].apply(sacar_tildes)\n",
        "ds_resenas[\"review_es\"] = ds_resenas[\"review_es\"].apply(limpiar_texto)\n",
        "ds_resenas[\"review_es\"] = ds_resenas[\"review_es\"].apply(remover_conectores)"
      ],
      "metadata": {
        "id": "G3CxFMTSPvIc"
      },
      "execution_count": null,
      "outputs": []
    },
    {
      "cell_type": "markdown",
      "source": [
        "Visualizamos las primeras filas para ver como quedo nuestro dataset."
      ],
      "metadata": {
        "id": "IOdHHbI7cjAc"
      }
    },
    {
      "cell_type": "code",
      "source": [
        "ds_resenas.head(10)"
      ],
      "metadata": {
        "id": "sKQAe9k7N8yL",
        "colab": {
          "base_uri": "https://localhost:8080/"
        },
        "outputId": "062a70cd-ca0e-4dbe-ba94-1a2cdf556842"
      },
      "execution_count": null,
      "outputs": [
        {
          "output_type": "execute_result",
          "data": {
            "text/plain": [
              "   ID                                          review_es sentimiento\n",
              "0   0  criticos mencionado despues ver solo episodio ...    positivo\n",
              "1   1  pequena pequena produccion tecnica filmacion i...    positivo\n",
              "2   2  pense manera maravillosa pasar tiempo fin sema...    positivo\n",
              "3   3  basicamente familia nino pequeno jake piensa z...    negativo\n",
              "4   4  amor tiempo petter mattei pelicula visualmente...    positivo\n",
              "5   5  probablemente pelicula favorita tiempos histor...    positivo\n",
              "6   6  seguro gustaria ver resurreccion serie seahunt...    positivo\n",
              "7   7  espectaculo idea increible fresca innovadora a...    negativo\n",
              "8   8  alentados comentarios positivos pelicula aqui ...    negativo\n",
              "9   9  gusta risa original desgarradora gustara pelic...    positivo"
            ],
            "text/html": [
              "\n",
              "  <div id=\"df-1805d425-1822-4f1c-aa01-1c4564a5899e\">\n",
              "    <div class=\"colab-df-container\">\n",
              "      <div>\n",
              "<style scoped>\n",
              "    .dataframe tbody tr th:only-of-type {\n",
              "        vertical-align: middle;\n",
              "    }\n",
              "\n",
              "    .dataframe tbody tr th {\n",
              "        vertical-align: top;\n",
              "    }\n",
              "\n",
              "    .dataframe thead th {\n",
              "        text-align: right;\n",
              "    }\n",
              "</style>\n",
              "<table border=\"1\" class=\"dataframe\">\n",
              "  <thead>\n",
              "    <tr style=\"text-align: right;\">\n",
              "      <th></th>\n",
              "      <th>ID</th>\n",
              "      <th>review_es</th>\n",
              "      <th>sentimiento</th>\n",
              "    </tr>\n",
              "  </thead>\n",
              "  <tbody>\n",
              "    <tr>\n",
              "      <th>0</th>\n",
              "      <td>0</td>\n",
              "      <td>criticos mencionado despues ver solo episodio ...</td>\n",
              "      <td>positivo</td>\n",
              "    </tr>\n",
              "    <tr>\n",
              "      <th>1</th>\n",
              "      <td>1</td>\n",
              "      <td>pequena pequena produccion tecnica filmacion i...</td>\n",
              "      <td>positivo</td>\n",
              "    </tr>\n",
              "    <tr>\n",
              "      <th>2</th>\n",
              "      <td>2</td>\n",
              "      <td>pense manera maravillosa pasar tiempo fin sema...</td>\n",
              "      <td>positivo</td>\n",
              "    </tr>\n",
              "    <tr>\n",
              "      <th>3</th>\n",
              "      <td>3</td>\n",
              "      <td>basicamente familia nino pequeno jake piensa z...</td>\n",
              "      <td>negativo</td>\n",
              "    </tr>\n",
              "    <tr>\n",
              "      <th>4</th>\n",
              "      <td>4</td>\n",
              "      <td>amor tiempo petter mattei pelicula visualmente...</td>\n",
              "      <td>positivo</td>\n",
              "    </tr>\n",
              "    <tr>\n",
              "      <th>5</th>\n",
              "      <td>5</td>\n",
              "      <td>probablemente pelicula favorita tiempos histor...</td>\n",
              "      <td>positivo</td>\n",
              "    </tr>\n",
              "    <tr>\n",
              "      <th>6</th>\n",
              "      <td>6</td>\n",
              "      <td>seguro gustaria ver resurreccion serie seahunt...</td>\n",
              "      <td>positivo</td>\n",
              "    </tr>\n",
              "    <tr>\n",
              "      <th>7</th>\n",
              "      <td>7</td>\n",
              "      <td>espectaculo idea increible fresca innovadora a...</td>\n",
              "      <td>negativo</td>\n",
              "    </tr>\n",
              "    <tr>\n",
              "      <th>8</th>\n",
              "      <td>8</td>\n",
              "      <td>alentados comentarios positivos pelicula aqui ...</td>\n",
              "      <td>negativo</td>\n",
              "    </tr>\n",
              "    <tr>\n",
              "      <th>9</th>\n",
              "      <td>9</td>\n",
              "      <td>gusta risa original desgarradora gustara pelic...</td>\n",
              "      <td>positivo</td>\n",
              "    </tr>\n",
              "  </tbody>\n",
              "</table>\n",
              "</div>\n",
              "      <button class=\"colab-df-convert\" onclick=\"convertToInteractive('df-1805d425-1822-4f1c-aa01-1c4564a5899e')\"\n",
              "              title=\"Convert this dataframe to an interactive table.\"\n",
              "              style=\"display:none;\">\n",
              "        \n",
              "  <svg xmlns=\"http://www.w3.org/2000/svg\" height=\"24px\"viewBox=\"0 0 24 24\"\n",
              "       width=\"24px\">\n",
              "    <path d=\"M0 0h24v24H0V0z\" fill=\"none\"/>\n",
              "    <path d=\"M18.56 5.44l.94 2.06.94-2.06 2.06-.94-2.06-.94-.94-2.06-.94 2.06-2.06.94zm-11 1L8.5 8.5l.94-2.06 2.06-.94-2.06-.94L8.5 2.5l-.94 2.06-2.06.94zm10 10l.94 2.06.94-2.06 2.06-.94-2.06-.94-.94-2.06-.94 2.06-2.06.94z\"/><path d=\"M17.41 7.96l-1.37-1.37c-.4-.4-.92-.59-1.43-.59-.52 0-1.04.2-1.43.59L10.3 9.45l-7.72 7.72c-.78.78-.78 2.05 0 2.83L4 21.41c.39.39.9.59 1.41.59.51 0 1.02-.2 1.41-.59l7.78-7.78 2.81-2.81c.8-.78.8-2.07 0-2.86zM5.41 20L4 18.59l7.72-7.72 1.47 1.35L5.41 20z\"/>\n",
              "  </svg>\n",
              "      </button>\n",
              "      \n",
              "  <style>\n",
              "    .colab-df-container {\n",
              "      display:flex;\n",
              "      flex-wrap:wrap;\n",
              "      gap: 12px;\n",
              "    }\n",
              "\n",
              "    .colab-df-convert {\n",
              "      background-color: #E8F0FE;\n",
              "      border: none;\n",
              "      border-radius: 50%;\n",
              "      cursor: pointer;\n",
              "      display: none;\n",
              "      fill: #1967D2;\n",
              "      height: 32px;\n",
              "      padding: 0 0 0 0;\n",
              "      width: 32px;\n",
              "    }\n",
              "\n",
              "    .colab-df-convert:hover {\n",
              "      background-color: #E2EBFA;\n",
              "      box-shadow: 0px 1px 2px rgba(60, 64, 67, 0.3), 0px 1px 3px 1px rgba(60, 64, 67, 0.15);\n",
              "      fill: #174EA6;\n",
              "    }\n",
              "\n",
              "    [theme=dark] .colab-df-convert {\n",
              "      background-color: #3B4455;\n",
              "      fill: #D2E3FC;\n",
              "    }\n",
              "\n",
              "    [theme=dark] .colab-df-convert:hover {\n",
              "      background-color: #434B5C;\n",
              "      box-shadow: 0px 1px 3px 1px rgba(0, 0, 0, 0.15);\n",
              "      filter: drop-shadow(0px 1px 2px rgba(0, 0, 0, 0.3));\n",
              "      fill: #FFFFFF;\n",
              "    }\n",
              "  </style>\n",
              "\n",
              "      <script>\n",
              "        const buttonEl =\n",
              "          document.querySelector('#df-1805d425-1822-4f1c-aa01-1c4564a5899e button.colab-df-convert');\n",
              "        buttonEl.style.display =\n",
              "          google.colab.kernel.accessAllowed ? 'block' : 'none';\n",
              "\n",
              "        async function convertToInteractive(key) {\n",
              "          const element = document.querySelector('#df-1805d425-1822-4f1c-aa01-1c4564a5899e');\n",
              "          const dataTable =\n",
              "            await google.colab.kernel.invokeFunction('convertToInteractive',\n",
              "                                                     [key], {});\n",
              "          if (!dataTable) return;\n",
              "\n",
              "          const docLinkHtml = 'Like what you see? Visit the ' +\n",
              "            '<a target=\"_blank\" href=https://colab.research.google.com/notebooks/data_table.ipynb>data table notebook</a>'\n",
              "            + ' to learn more about interactive tables.';\n",
              "          element.innerHTML = '';\n",
              "          dataTable['output_type'] = 'display_data';\n",
              "          await google.colab.output.renderOutput(dataTable, element);\n",
              "          const docLink = document.createElement('div');\n",
              "          docLink.innerHTML = docLinkHtml;\n",
              "          element.appendChild(docLink);\n",
              "        }\n",
              "      </script>\n",
              "    </div>\n",
              "  </div>\n",
              "  "
            ]
          },
          "metadata": {},
          "execution_count": 20
        }
      ]
    },
    {
      "cell_type": "markdown",
      "source": [
        "Dado que este procesamiento se toma un tiempo, exportamos el dataset trabajado, y lo reimportamos de otro lado."
      ],
      "metadata": {
        "id": "sQ40uBL9eceZ"
      }
    },
    {
      "cell_type": "code",
      "source": [
        "ruta_archivo = \"train_normalizado.csv\"\n",
        "\n",
        "# Exportar el DataFrame a un archivo CSV\n",
        "ds_resenas.to_csv(ruta_archivo, index=False)"
      ],
      "metadata": {
        "id": "acSc00wwY_LM"
      },
      "execution_count": null,
      "outputs": []
    },
    {
      "cell_type": "markdown",
      "source": [
        "Importamos el dataset trabajado haciendo una copia para no modificar el archivo original."
      ],
      "metadata": {
        "id": "0goFVjddetkU"
      }
    },
    {
      "cell_type": "code",
      "source": [
        "ds = pd.read_csv(\"https://drive.google.com/uc?export=download&id=1SUBsU-PbSY7dotLmJprBs4SLnB-yDMyV\")\n",
        "ds_normalizado = ds.copy()"
      ],
      "metadata": {
        "id": "2fPaS_QNdwWy"
      },
      "execution_count": null,
      "outputs": []
    },
    {
      "cell_type": "markdown",
      "source": [
        "# Modelos que se construiran para analizar nuestro bag of words"
      ],
      "metadata": {
        "id": "0xSGuOCKuICF"
      }
    },
    {
      "cell_type": "markdown",
      "source": [
        "\n",
        "\n",
        "* Bayes Naïve\n",
        "* Random Forest\n",
        "* XGBoost\n",
        "* Un modelo de red neuronal aplicando Keras y Tensor Flow.\n",
        "* Un ensamble de al menos 3 modelos elegidos por el grupo.\n",
        "\n",
        "\n"
      ],
      "metadata": {
        "id": "v4a_SYaNuUJZ"
      }
    },
    {
      "cell_type": "markdown",
      "source": [
        "# Modelo Bayes Naïve"
      ],
      "metadata": {
        "id": "XJfLjtkC4X-S"
      }
    },
    {
      "cell_type": "markdown",
      "source": [
        "Separamos el dataset en train y test, usando como target el sentimiento, y como entrada unicamente las resenas, sin el ID."
      ],
      "metadata": {
        "id": "pwe-llzcvyKP"
      }
    },
    {
      "cell_type": "code",
      "source": [
        "X_train,X_test,y_train,y_test = train_test_split(ds_normalizado.review_es,\n",
        "                                                 ds_normalizado.sentimiento,\n",
        "                                                 test_size =0.30,\n",
        "                                                 random_state=25,\n",
        "                                                 shuffle=True)"
      ],
      "metadata": {
        "id": "POsNjXfYuTdy"
      },
      "execution_count": null,
      "outputs": []
    },
    {
      "cell_type": "markdown",
      "source": [
        "## Multinomial con Count Vectorizer"
      ],
      "metadata": {
        "id": "MUVSt0FivDBf"
      }
    },
    {
      "cell_type": "markdown",
      "source": [
        "Generamos para este primero nuestro bag of words, un vector de 0s y 1s que lista todas las palabras existentes en todo el dataset. Por cada palabra, se tiene el numero de ocurrencias de este, y si una columna la contiene o no. Decidimos filtrar todas las palabras que aparecen menos de 10 veces, para eliminar errores de tipeo y reducir un poco el ruido."
      ],
      "metadata": {
        "id": "s_SVoxuLf-u_"
      }
    },
    {
      "cell_type": "code",
      "source": [
        "count_vect = CountVectorizer(min_df=30)\n",
        "X_train_count = count_vect.fit_transform(X_train)\n",
        "X_test_count = count_vect.transform(X_test)"
      ],
      "metadata": {
        "id": "MiM31AbFezMb"
      },
      "execution_count": null,
      "outputs": []
    },
    {
      "cell_type": "markdown",
      "source": [
        "Creamos ahora el modelo, usando como datos de entrada nuestro x con un bag of words ya hecho."
      ],
      "metadata": {
        "id": "1WDsS5Efu5Pr"
      }
    },
    {
      "cell_type": "code",
      "source": [
        "model_bayes = MultinomialNB()\n",
        "model_bayes.fit(X_train_count, y_train)"
      ],
      "metadata": {
        "colab": {
          "base_uri": "https://localhost:8080/",
          "height": 75
        },
        "id": "QMGQorFAsojv",
        "outputId": "a44eae97-7370-493d-8fa3-9ceeb4ce5c38"
      },
      "execution_count": null,
      "outputs": [
        {
          "output_type": "execute_result",
          "data": {
            "text/plain": [
              "MultinomialNB()"
            ],
            "text/html": [
              "<style>#sk-container-id-1 {color: black;background-color: white;}#sk-container-id-1 pre{padding: 0;}#sk-container-id-1 div.sk-toggleable {background-color: white;}#sk-container-id-1 label.sk-toggleable__label {cursor: pointer;display: block;width: 100%;margin-bottom: 0;padding: 0.3em;box-sizing: border-box;text-align: center;}#sk-container-id-1 label.sk-toggleable__label-arrow:before {content: \"▸\";float: left;margin-right: 0.25em;color: #696969;}#sk-container-id-1 label.sk-toggleable__label-arrow:hover:before {color: black;}#sk-container-id-1 div.sk-estimator:hover label.sk-toggleable__label-arrow:before {color: black;}#sk-container-id-1 div.sk-toggleable__content {max-height: 0;max-width: 0;overflow: hidden;text-align: left;background-color: #f0f8ff;}#sk-container-id-1 div.sk-toggleable__content pre {margin: 0.2em;color: black;border-radius: 0.25em;background-color: #f0f8ff;}#sk-container-id-1 input.sk-toggleable__control:checked~div.sk-toggleable__content {max-height: 200px;max-width: 100%;overflow: auto;}#sk-container-id-1 input.sk-toggleable__control:checked~label.sk-toggleable__label-arrow:before {content: \"▾\";}#sk-container-id-1 div.sk-estimator input.sk-toggleable__control:checked~label.sk-toggleable__label {background-color: #d4ebff;}#sk-container-id-1 div.sk-label input.sk-toggleable__control:checked~label.sk-toggleable__label {background-color: #d4ebff;}#sk-container-id-1 input.sk-hidden--visually {border: 0;clip: rect(1px 1px 1px 1px);clip: rect(1px, 1px, 1px, 1px);height: 1px;margin: -1px;overflow: hidden;padding: 0;position: absolute;width: 1px;}#sk-container-id-1 div.sk-estimator {font-family: monospace;background-color: #f0f8ff;border: 1px dotted black;border-radius: 0.25em;box-sizing: border-box;margin-bottom: 0.5em;}#sk-container-id-1 div.sk-estimator:hover {background-color: #d4ebff;}#sk-container-id-1 div.sk-parallel-item::after {content: \"\";width: 100%;border-bottom: 1px solid gray;flex-grow: 1;}#sk-container-id-1 div.sk-label:hover label.sk-toggleable__label {background-color: #d4ebff;}#sk-container-id-1 div.sk-serial::before {content: \"\";position: absolute;border-left: 1px solid gray;box-sizing: border-box;top: 0;bottom: 0;left: 50%;z-index: 0;}#sk-container-id-1 div.sk-serial {display: flex;flex-direction: column;align-items: center;background-color: white;padding-right: 0.2em;padding-left: 0.2em;position: relative;}#sk-container-id-1 div.sk-item {position: relative;z-index: 1;}#sk-container-id-1 div.sk-parallel {display: flex;align-items: stretch;justify-content: center;background-color: white;position: relative;}#sk-container-id-1 div.sk-item::before, #sk-container-id-1 div.sk-parallel-item::before {content: \"\";position: absolute;border-left: 1px solid gray;box-sizing: border-box;top: 0;bottom: 0;left: 50%;z-index: -1;}#sk-container-id-1 div.sk-parallel-item {display: flex;flex-direction: column;z-index: 1;position: relative;background-color: white;}#sk-container-id-1 div.sk-parallel-item:first-child::after {align-self: flex-end;width: 50%;}#sk-container-id-1 div.sk-parallel-item:last-child::after {align-self: flex-start;width: 50%;}#sk-container-id-1 div.sk-parallel-item:only-child::after {width: 0;}#sk-container-id-1 div.sk-dashed-wrapped {border: 1px dashed gray;margin: 0 0.4em 0.5em 0.4em;box-sizing: border-box;padding-bottom: 0.4em;background-color: white;}#sk-container-id-1 div.sk-label label {font-family: monospace;font-weight: bold;display: inline-block;line-height: 1.2em;}#sk-container-id-1 div.sk-label-container {text-align: center;}#sk-container-id-1 div.sk-container {/* jupyter's `normalize.less` sets `[hidden] { display: none; }` but bootstrap.min.css set `[hidden] { display: none !important; }` so we also need the `!important` here to be able to override the default hidden behavior on the sphinx rendered scikit-learn.org. See: https://github.com/scikit-learn/scikit-learn/issues/21755 */display: inline-block !important;position: relative;}#sk-container-id-1 div.sk-text-repr-fallback {display: none;}</style><div id=\"sk-container-id-1\" class=\"sk-top-container\"><div class=\"sk-text-repr-fallback\"><pre>MultinomialNB()</pre><b>In a Jupyter environment, please rerun this cell to show the HTML representation or trust the notebook. <br />On GitHub, the HTML representation is unable to render, please try loading this page with nbviewer.org.</b></div><div class=\"sk-container\" hidden><div class=\"sk-item\"><div class=\"sk-estimator sk-toggleable\"><input class=\"sk-toggleable__control sk-hidden--visually\" id=\"sk-estimator-id-1\" type=\"checkbox\" checked><label for=\"sk-estimator-id-1\" class=\"sk-toggleable__label sk-toggleable__label-arrow\">MultinomialNB</label><div class=\"sk-toggleable__content\"><pre>MultinomialNB()</pre></div></div></div></div></div>"
            ]
          },
          "metadata": {},
          "execution_count": 15
        }
      ]
    },
    {
      "cell_type": "markdown",
      "source": [
        "Realizamos las predicciones, tanto en train como en test, y visualizamos los resultados"
      ],
      "metadata": {
        "id": "D61MW-a0vIKp"
      }
    },
    {
      "cell_type": "code",
      "source": [
        "mostrarPerformance(model_bayes, X_test_count, y_test)"
      ],
      "metadata": {
        "colab": {
          "base_uri": "https://localhost:8080/",
          "height": 605
        },
        "id": "amteQMK5ujHE",
        "outputId": "895f93b4-f928-4c1d-d920-32c91089f47d"
      },
      "execution_count": null,
      "outputs": [
        {
          "output_type": "stream",
          "name": "stdout",
          "text": [
            "              precision    recall  f1-score   support\n",
            "\n",
            "    negativo       0.84      0.86      0.85      7599\n",
            "    positivo       0.85      0.83      0.84      7401\n",
            "\n",
            "    accuracy                           0.84     15000\n",
            "   macro avg       0.84      0.84      0.84     15000\n",
            "weighted avg       0.84      0.84      0.84     15000\n",
            "\n"
          ]
        },
        {
          "output_type": "display_data",
          "data": {
            "text/plain": [
              "<Figure size 640x480 with 2 Axes>"
            ],
            "image/png": "[encoded data removed]"
          },
          "metadata": {}
        }
      ]
    },
    {
      "cell_type": "code",
      "source": [
        "mostrarPerformance(model_bayes, X_train_count, y_train)"
      ],
      "metadata": {
        "colab": {
          "base_uri": "https://localhost:8080/",
          "height": 605
        },
        "id": "fnfe4vdJstV2",
        "outputId": "726a1451-b8cb-4929-bf7e-90db3c8e036e"
      },
      "execution_count": null,
      "outputs": [
        {
          "output_type": "stream",
          "name": "stdout",
          "text": [
            "              precision    recall  f1-score   support\n",
            "\n",
            "    negativo       0.85      0.88      0.86     17401\n",
            "    positivo       0.87      0.84      0.86     17599\n",
            "\n",
            "    accuracy                           0.86     35000\n",
            "   macro avg       0.86      0.86      0.86     35000\n",
            "weighted avg       0.86      0.86      0.86     35000\n",
            "\n"
          ]
        },
        {
          "output_type": "display_data",
          "data": {
            "text/plain": [
              "<Figure size 640x480 with 2 Axes>"
            ],
            "image/png": "[encoded data removed]"
          },
          "metadata": {}
        }
      ]
    },
    {
      "cell_type": "markdown",
      "source": [
        "Vemos que contamos con un buen modelo inicial, con metricas bastante elevadas para ser el primero, y si bien sobreajusta, no es tan grave."
      ],
      "metadata": {
        "id": "_7Kvbb5vvOtk"
      }
    },
    {
      "cell_type": "code",
      "source": [
        "filename = \"multinomia_cv.pickle\"\n",
        "\n",
        "# save model\n",
        "pickle.dump(model_bayes, open(filename, \"wb\"))"
      ],
      "metadata": {
        "id": "NYUJBtJu63I0"
      },
      "execution_count": null,
      "outputs": []
    },
    {
      "cell_type": "markdown",
      "source": [
        "## Multinomial con TFIDF"
      ],
      "metadata": {
        "id": "OIBtFe_uviwD"
      }
    },
    {
      "cell_type": "markdown",
      "source": [
        "En este caso estaremos aplicando a nuestro dataset un transformador del tipo TFIDF, que en lugar de medir ocurrencias, mide la frecuencia de aparicion de una palabra, respecto de todas las palabras que hay. Este otorga una puntuacion que indica la importancia relativa de un término en un documento en comparación con el resto de los documentos en la colección. Decidimos eliminar las palabras cuyo valor sea mayor que 0.5, ya que si aparecen muchisimo hay chances de que las palabras sean conectores que no agregan mucha opinion, y a su vez eliminamos las que tienen un valor por debajo de 0.025, ya que podrian ser errores de tipeo, entre otras cosas que agregarian ruido unicamente."
      ],
      "metadata": {
        "id": "Yx81hpO6w-MM"
      }
    },
    {
      "cell_type": "code",
      "source": [
        "tfidf_transformer = TfidfVectorizer(smooth_idf=True, max_df=0.5, min_df=0.025)\n",
        "X_train_tfidf = tfidf_transformer.fit_transform(X_train)\n",
        "X_test_tfidf = tfidf_transformer.transform(X_test)"
      ],
      "metadata": {
        "id": "YwmKTQmZyd44"
      },
      "execution_count": null,
      "outputs": []
    },
    {
      "cell_type": "markdown",
      "source": [
        "Generamos nuevamente el modelo, y lo entrenamos con nuestro conjunto transformado."
      ],
      "metadata": {
        "id": "YKvcp9eAxNEG"
      }
    },
    {
      "cell_type": "code",
      "source": [
        "model_bayes_transformer = MultinomialNB()\n",
        "model_bayes_transformer.fit(X_train_tfidf, y_train)"
      ],
      "metadata": {
        "colab": {
          "base_uri": "https://localhost:8080/",
          "height": 75
        },
        "id": "aXgtSvkkweNz",
        "outputId": "1ad50515-38e8-4c7e-8d46-bc5639d70811"
      },
      "execution_count": null,
      "outputs": [
        {
          "output_type": "execute_result",
          "data": {
            "text/plain": [
              "MultinomialNB()"
            ],
            "text/html": [
              "<style>#sk-container-id-2 {color: black;background-color: white;}#sk-container-id-2 pre{padding: 0;}#sk-container-id-2 div.sk-toggleable {background-color: white;}#sk-container-id-2 label.sk-toggleable__label {cursor: pointer;display: block;width: 100%;margin-bottom: 0;padding: 0.3em;box-sizing: border-box;text-align: center;}#sk-container-id-2 label.sk-toggleable__label-arrow:before {content: \"▸\";float: left;margin-right: 0.25em;color: #696969;}#sk-container-id-2 label.sk-toggleable__label-arrow:hover:before {color: black;}#sk-container-id-2 div.sk-estimator:hover label.sk-toggleable__label-arrow:before {color: black;}#sk-container-id-2 div.sk-toggleable__content {max-height: 0;max-width: 0;overflow: hidden;text-align: left;background-color: #f0f8ff;}#sk-container-id-2 div.sk-toggleable__content pre {margin: 0.2em;color: black;border-radius: 0.25em;background-color: #f0f8ff;}#sk-container-id-2 input.sk-toggleable__control:checked~div.sk-toggleable__content {max-height: 200px;max-width: 100%;overflow: auto;}#sk-container-id-2 input.sk-toggleable__control:checked~label.sk-toggleable__label-arrow:before {content: \"▾\";}#sk-container-id-2 div.sk-estimator input.sk-toggleable__control:checked~label.sk-toggleable__label {background-color: #d4ebff;}#sk-container-id-2 div.sk-label input.sk-toggleable__control:checked~label.sk-toggleable__label {background-color: #d4ebff;}#sk-container-id-2 input.sk-hidden--visually {border: 0;clip: rect(1px 1px 1px 1px);clip: rect(1px, 1px, 1px, 1px);height: 1px;margin: -1px;overflow: hidden;padding: 0;position: absolute;width: 1px;}#sk-container-id-2 div.sk-estimator {font-family: monospace;background-color: #f0f8ff;border: 1px dotted black;border-radius: 0.25em;box-sizing: border-box;margin-bottom: 0.5em;}#sk-container-id-2 div.sk-estimator:hover {background-color: #d4ebff;}#sk-container-id-2 div.sk-parallel-item::after {content: \"\";width: 100%;border-bottom: 1px solid gray;flex-grow: 1;}#sk-container-id-2 div.sk-label:hover label.sk-toggleable__label {background-color: #d4ebff;}#sk-container-id-2 div.sk-serial::before {content: \"\";position: absolute;border-left: 1px solid gray;box-sizing: border-box;top: 0;bottom: 0;left: 50%;z-index: 0;}#sk-container-id-2 div.sk-serial {display: flex;flex-direction: column;align-items: center;background-color: white;padding-right: 0.2em;padding-left: 0.2em;position: relative;}#sk-container-id-2 div.sk-item {position: relative;z-index: 1;}#sk-container-id-2 div.sk-parallel {display: flex;align-items: stretch;justify-content: center;background-color: white;position: relative;}#sk-container-id-2 div.sk-item::before, #sk-container-id-2 div.sk-parallel-item::before {content: \"\";position: absolute;border-left: 1px solid gray;box-sizing: border-box;top: 0;bottom: 0;left: 50%;z-index: -1;}#sk-container-id-2 div.sk-parallel-item {display: flex;flex-direction: column;z-index: 1;position: relative;background-color: white;}#sk-container-id-2 div.sk-parallel-item:first-child::after {align-self: flex-end;width: 50%;}#sk-container-id-2 div.sk-parallel-item:last-child::after {align-self: flex-start;width: 50%;}#sk-container-id-2 div.sk-parallel-item:only-child::after {width: 0;}#sk-container-id-2 div.sk-dashed-wrapped {border: 1px dashed gray;margin: 0 0.4em 0.5em 0.4em;box-sizing: border-box;padding-bottom: 0.4em;background-color: white;}#sk-container-id-2 div.sk-label label {font-family: monospace;font-weight: bold;display: inline-block;line-height: 1.2em;}#sk-container-id-2 div.sk-label-container {text-align: center;}#sk-container-id-2 div.sk-container {/* jupyter's `normalize.less` sets `[hidden] { display: none; }` but bootstrap.min.css set `[hidden] { display: none !important; }` so we also need the `!important` here to be able to override the default hidden behavior on the sphinx rendered scikit-learn.org. See: https://github.com/scikit-learn/scikit-learn/issues/21755 */display: inline-block !important;position: relative;}#sk-container-id-2 div.sk-text-repr-fallback {display: none;}</style><div id=\"sk-container-id-2\" class=\"sk-top-container\"><div class=\"sk-text-repr-fallback\"><pre>MultinomialNB()</pre><b>In a Jupyter environment, please rerun this cell to show the HTML representation or trust the notebook. <br />On GitHub, the HTML representation is unable to render, please try loading this page with nbviewer.org.</b></div><div class=\"sk-container\" hidden><div class=\"sk-item\"><div class=\"sk-estimator sk-toggleable\"><input class=\"sk-toggleable__control sk-hidden--visually\" id=\"sk-estimator-id-2\" type=\"checkbox\" checked><label for=\"sk-estimator-id-2\" class=\"sk-toggleable__label sk-toggleable__label-arrow\">MultinomialNB</label><div class=\"sk-toggleable__content\"><pre>MultinomialNB()</pre></div></div></div></div></div>"
            ]
          },
          "metadata": {},
          "execution_count": 28
        }
      ]
    },
    {
      "cell_type": "markdown",
      "source": [
        "Mostramos la performance en ambos test y train"
      ],
      "metadata": {
        "id": "RSp8WSxnxSex"
      }
    },
    {
      "cell_type": "code",
      "source": [
        "mostrarPerformance(model_bayes_transformer, X_test_tfidf, y_test)"
      ],
      "metadata": {
        "colab": {
          "base_uri": "https://localhost:8080/",
          "height": 605
        },
        "id": "wnII54OJ2Ebc",
        "outputId": "0b2c6ac0-a0d9-495b-a41f-cf633c4deedd"
      },
      "execution_count": null,
      "outputs": [
        {
          "output_type": "stream",
          "name": "stdout",
          "text": [
            "              precision    recall  f1-score   support\n",
            "\n",
            "    negativo       0.84      0.78      0.80      7599\n",
            "    positivo       0.79      0.84      0.81      7401\n",
            "\n",
            "    accuracy                           0.81     15000\n",
            "   macro avg       0.81      0.81      0.81     15000\n",
            "weighted avg       0.81      0.81      0.81     15000\n",
            "\n"
          ]
        },
        {
          "output_type": "display_data",
          "data": {
            "text/plain": [
              "<Figure size 640x480 with 2 Axes>"
            ],
            "image/png": "[encoded data removed]"
          },
          "metadata": {}
        }
      ]
    },
    {
      "cell_type": "code",
      "source": [
        "mostrarPerformance(model_bayes_transformer, X_train_tfidf, y_train)"
      ],
      "metadata": {
        "colab": {
          "base_uri": "https://localhost:8080/",
          "height": 605
        },
        "id": "5PJ_VTH3w5SK",
        "outputId": "f27516e5-a08b-47e1-a997-38c8156a9d5a"
      },
      "execution_count": null,
      "outputs": [
        {
          "output_type": "stream",
          "name": "stdout",
          "text": [
            "              precision    recall  f1-score   support\n",
            "\n",
            "    negativo       0.84      0.78      0.81     17401\n",
            "    positivo       0.80      0.85      0.82     17599\n",
            "\n",
            "    accuracy                           0.82     35000\n",
            "   macro avg       0.82      0.82      0.82     35000\n",
            "weighted avg       0.82      0.82      0.82     35000\n",
            "\n"
          ]
        },
        {
          "output_type": "display_data",
          "data": {
            "text/plain": [
              "<Figure size 640x480 with 2 Axes>"
            ],
            "image/png": "[encoded data removed]"
          },
          "metadata": {}
        }
      ]
    },
    {
      "cell_type": "markdown",
      "source": [
        "Notamos que las predicciones en el set de test han empeorado, pero la brecha con el set de entrenamiento se achico, por lo que al menos podemos decir que logramos reducir un poco el sobreajuste."
      ],
      "metadata": {
        "id": "ExoxFWi4xXKR"
      }
    },
    {
      "cell_type": "markdown",
      "source": [
        "Exportamos ahora el modelo"
      ],
      "metadata": {
        "id": "YMXPPfpH96Ou"
      }
    },
    {
      "cell_type": "code",
      "source": [
        "filename = \"multinomial_tfidf.pickle\"\n",
        "\n",
        "# save model\n",
        "pickle.dump(model_bayes_transformer, open(filename, \"wb\"))"
      ],
      "metadata": {
        "id": "WFBFjIdM9IzY"
      },
      "execution_count": null,
      "outputs": []
    },
    {
      "cell_type": "markdown",
      "source": [
        "## Bernoulli con TFIDF"
      ],
      "metadata": {
        "id": "dGOrey2BDzNc"
      }
    },
    {
      "cell_type": "markdown",
      "source": [
        "Dada la naturaleza de nuestro problema, deberiamos poder usar un clasificador de tipo Bernoulli tambien. Es eso lo que haremos, y analizaremos cual nos da mejor. Estaremos usando el dataset modifcado con TFIDF en el paso anterior. Generamos este tipo de modelo y lo entrenamos."
      ],
      "metadata": {
        "id": "_Fv3Z4-jD3vg"
      }
    },
    {
      "cell_type": "code",
      "source": [
        "model_bayes_bernoulli = BernoulliNB()\n",
        "model_bayes_bernoulli.fit(X_train_tfidf, y_train)"
      ],
      "metadata": {
        "colab": {
          "base_uri": "https://localhost:8080/",
          "height": 75
        },
        "id": "HWtEFSKoD3RK",
        "outputId": "9f57a7ee-6dc9-4004-8aa5-97aea8b79e8f"
      },
      "execution_count": null,
      "outputs": [
        {
          "output_type": "execute_result",
          "data": {
            "text/plain": [
              "BernoulliNB()"
            ],
            "text/html": [
              "<style>#sk-container-id-1 {color: black;background-color: white;}#sk-container-id-1 pre{padding: 0;}#sk-container-id-1 div.sk-toggleable {background-color: white;}#sk-container-id-1 label.sk-toggleable__label {cursor: pointer;display: block;width: 100%;margin-bottom: 0;padding: 0.3em;box-sizing: border-box;text-align: center;}#sk-container-id-1 label.sk-toggleable__label-arrow:before {content: \"▸\";float: left;margin-right: 0.25em;color: #696969;}#sk-container-id-1 label.sk-toggleable__label-arrow:hover:before {color: black;}#sk-container-id-1 div.sk-estimator:hover label.sk-toggleable__label-arrow:before {color: black;}#sk-container-id-1 div.sk-toggleable__content {max-height: 0;max-width: 0;overflow: hidden;text-align: left;background-color: #f0f8ff;}#sk-container-id-1 div.sk-toggleable__content pre {margin: 0.2em;color: black;border-radius: 0.25em;background-color: #f0f8ff;}#sk-container-id-1 input.sk-toggleable__control:checked~div.sk-toggleable__content {max-height: 200px;max-width: 100%;overflow: auto;}#sk-container-id-1 input.sk-toggleable__control:checked~label.sk-toggleable__label-arrow:before {content: \"▾\";}#sk-container-id-1 div.sk-estimator input.sk-toggleable__control:checked~label.sk-toggleable__label {background-color: #d4ebff;}#sk-container-id-1 div.sk-label input.sk-toggleable__control:checked~label.sk-toggleable__label {background-color: #d4ebff;}#sk-container-id-1 input.sk-hidden--visually {border: 0;clip: rect(1px 1px 1px 1px);clip: rect(1px, 1px, 1px, 1px);height: 1px;margin: -1px;overflow: hidden;padding: 0;position: absolute;width: 1px;}#sk-container-id-1 div.sk-estimator {font-family: monospace;background-color: #f0f8ff;border: 1px dotted black;border-radius: 0.25em;box-sizing: border-box;margin-bottom: 0.5em;}#sk-container-id-1 div.sk-estimator:hover {background-color: #d4ebff;}#sk-container-id-1 div.sk-parallel-item::after {content: \"\";width: 100%;border-bottom: 1px solid gray;flex-grow: 1;}#sk-container-id-1 div.sk-label:hover label.sk-toggleable__label {background-color: #d4ebff;}#sk-container-id-1 div.sk-serial::before {content: \"\";position: absolute;border-left: 1px solid gray;box-sizing: border-box;top: 0;bottom: 0;left: 50%;z-index: 0;}#sk-container-id-1 div.sk-serial {display: flex;flex-direction: column;align-items: center;background-color: white;padding-right: 0.2em;padding-left: 0.2em;position: relative;}#sk-container-id-1 div.sk-item {position: relative;z-index: 1;}#sk-container-id-1 div.sk-parallel {display: flex;align-items: stretch;justify-content: center;background-color: white;position: relative;}#sk-container-id-1 div.sk-item::before, #sk-container-id-1 div.sk-parallel-item::before {content: \"\";position: absolute;border-left: 1px solid gray;box-sizing: border-box;top: 0;bottom: 0;left: 50%;z-index: -1;}#sk-container-id-1 div.sk-parallel-item {display: flex;flex-direction: column;z-index: 1;position: relative;background-color: white;}#sk-container-id-1 div.sk-parallel-item:first-child::after {align-self: flex-end;width: 50%;}#sk-container-id-1 div.sk-parallel-item:last-child::after {align-self: flex-start;width: 50%;}#sk-container-id-1 div.sk-parallel-item:only-child::after {width: 0;}#sk-container-id-1 div.sk-dashed-wrapped {border: 1px dashed gray;margin: 0 0.4em 0.5em 0.4em;box-sizing: border-box;padding-bottom: 0.4em;background-color: white;}#sk-container-id-1 div.sk-label label {font-family: monospace;font-weight: bold;display: inline-block;line-height: 1.2em;}#sk-container-id-1 div.sk-label-container {text-align: center;}#sk-container-id-1 div.sk-container {/* jupyter's `normalize.less` sets `[hidden] { display: none; }` but bootstrap.min.css set `[hidden] { display: none !important; }` so we also need the `!important` here to be able to override the default hidden behavior on the sphinx rendered scikit-learn.org. See: https://github.com/scikit-learn/scikit-learn/issues/21755 */display: inline-block !important;position: relative;}#sk-container-id-1 div.sk-text-repr-fallback {display: none;}</style><div id=\"sk-container-id-1\" class=\"sk-top-container\"><div class=\"sk-text-repr-fallback\"><pre>BernoulliNB()</pre><b>In a Jupyter environment, please rerun this cell to show the HTML representation or trust the notebook. <br />On GitHub, the HTML representation is unable to render, please try loading this page with nbviewer.org.</b></div><div class=\"sk-container\" hidden><div class=\"sk-item\"><div class=\"sk-estimator sk-toggleable\"><input class=\"sk-toggleable__control sk-hidden--visually\" id=\"sk-estimator-id-1\" type=\"checkbox\" checked><label for=\"sk-estimator-id-1\" class=\"sk-toggleable__label sk-toggleable__label-arrow\">BernoulliNB</label><div class=\"sk-toggleable__content\"><pre>BernoulliNB()</pre></div></div></div></div></div>"
            ]
          },
          "metadata": {},
          "execution_count": 36
        }
      ]
    },
    {
      "cell_type": "markdown",
      "source": [
        "Realizamos las predicciones"
      ],
      "metadata": {
        "id": "-usmK5n-Ayxw"
      }
    },
    {
      "cell_type": "code",
      "source": [
        "mostrarPerformance(model_bayes_bernoulli, X_test_tfidf, y_test)"
      ],
      "metadata": {
        "colab": {
          "base_uri": "https://localhost:8080/",
          "height": 605
        },
        "id": "8tk8KE4hEm7h",
        "outputId": "ea331484-2063-4589-be9f-a2025446baac"
      },
      "execution_count": null,
      "outputs": [
        {
          "output_type": "stream",
          "name": "stdout",
          "text": [
            "              precision    recall  f1-score   support\n",
            "\n",
            "    negativo       0.84      0.76      0.79      7599\n",
            "    positivo       0.77      0.85      0.81      7401\n",
            "\n",
            "    accuracy                           0.80     15000\n",
            "   macro avg       0.80      0.80      0.80     15000\n",
            "weighted avg       0.81      0.80      0.80     15000\n",
            "\n"
          ]
        },
        {
          "output_type": "display_data",
          "data": {
            "text/plain": [
              "<Figure size 640x480 with 2 Axes>"
            ],
            "image/png": "[encoded data removed]"
          },
          "metadata": {}
        }
      ]
    },
    {
      "cell_type": "code",
      "source": [
        "mostrarPerformance(model_bayes_bernoulli, X_train_tfidf, y_train)"
      ],
      "metadata": {
        "colab": {
          "base_uri": "https://localhost:8080/",
          "height": 605
        },
        "id": "HSsNieMkEbdJ",
        "outputId": "c54a728e-e85f-4b5a-f495-1e5c48bd5273"
      },
      "execution_count": null,
      "outputs": [
        {
          "output_type": "stream",
          "name": "stdout",
          "text": [
            "              precision    recall  f1-score   support\n",
            "\n",
            "    negativo       0.84      0.76      0.80     17401\n",
            "    positivo       0.78      0.86      0.82     17599\n",
            "\n",
            "    accuracy                           0.81     35000\n",
            "   macro avg       0.81      0.81      0.81     35000\n",
            "weighted avg       0.81      0.81      0.81     35000\n",
            "\n"
          ]
        },
        {
          "output_type": "display_data",
          "data": {
            "text/plain": [
              "<Figure size 640x480 with 2 Axes>"
            ],
            "image/png": "[encoded data removed]"
          },
          "metadata": {}
        }
      ]
    },
    {
      "cell_type": "markdown",
      "source": [
        "Vemos que este ultimo dio levemente peor que el anterior, pero seguimos contando con un sobreajuste regulado, pareciera estar generalizando bastante bien. Queremos ahora saber si es por nuestro problema que conviene usar un count vectorizer antes que un TFIDF, o si simplemente es casualidad, y si realmente es mejor el modelo multinomial para nuestras condiciones o si nuevamente, es mera coincidencia."
      ],
      "metadata": {
        "id": "jHrHAYgFEqii"
      }
    },
    {
      "cell_type": "code",
      "source": [
        "filename = \"bernoulli_tfidf.pickle\"\n",
        "\n",
        "# save model\n",
        "pickle.dump(model_bayes_bernoulli, open(filename, \"wb\"))"
      ],
      "metadata": {
        "id": "UplrClLq93_7"
      },
      "execution_count": null,
      "outputs": []
    },
    {
      "cell_type": "markdown",
      "source": [
        "## Bernoulli con Count Vectorizer"
      ],
      "metadata": {
        "id": "n19Zvqlv6JmD"
      }
    },
    {
      "cell_type": "markdown",
      "source": [
        "En esta ocasion, copiaremos el procedimiento realizado para la multinomial con count vectorizer, pero cambiaremos uno de los hiperparametros del vectorizer. Dejaremos que se puedan tener en cuenta palabras en un contexto de hasta 2 palabras, ya que, por ejemplo, no es lo mismo \"mas hermosa\" que \"mas basura\"."
      ],
      "metadata": {
        "id": "R4G2jSxs80oD"
      }
    },
    {
      "cell_type": "code",
      "source": [
        "count_vect_ber = CountVectorizer(min_df=30, ngram_range= (1,2))\n",
        "X_train_count = count_vect_ber.fit_transform(X_train)\n",
        "X_test_count = count_vect_ber.transform(X_test)"
      ],
      "metadata": {
        "id": "4LMPQ0xy6NcO"
      },
      "execution_count": null,
      "outputs": []
    },
    {
      "cell_type": "markdown",
      "source": [
        "Creamos el modelo y lo entrenamos"
      ],
      "metadata": {
        "id": "Hqk7f23qBTvd"
      }
    },
    {
      "cell_type": "code",
      "source": [
        "model_bayes_bernoulli_cv = BernoulliNB()\n",
        "model_bayes_bernoulli_cv.fit(X_train_count, y_train)"
      ],
      "metadata": {
        "colab": {
          "base_uri": "https://localhost:8080/",
          "height": 75
        },
        "id": "E0Dx_b3-6QTf",
        "outputId": "959c8317-92f4-4e5a-c642-440dda10dc28"
      },
      "execution_count": null,
      "outputs": [
        {
          "output_type": "execute_result",
          "data": {
            "text/plain": [
              "BernoulliNB()"
            ],
            "text/html": [
              "<style>#sk-container-id-4 {color: black;background-color: white;}#sk-container-id-4 pre{padding: 0;}#sk-container-id-4 div.sk-toggleable {background-color: white;}#sk-container-id-4 label.sk-toggleable__label {cursor: pointer;display: block;width: 100%;margin-bottom: 0;padding: 0.3em;box-sizing: border-box;text-align: center;}#sk-container-id-4 label.sk-toggleable__label-arrow:before {content: \"▸\";float: left;margin-right: 0.25em;color: #696969;}#sk-container-id-4 label.sk-toggleable__label-arrow:hover:before {color: black;}#sk-container-id-4 div.sk-estimator:hover label.sk-toggleable__label-arrow:before {color: black;}#sk-container-id-4 div.sk-toggleable__content {max-height: 0;max-width: 0;overflow: hidden;text-align: left;background-color: #f0f8ff;}#sk-container-id-4 div.sk-toggleable__content pre {margin: 0.2em;color: black;border-radius: 0.25em;background-color: #f0f8ff;}#sk-container-id-4 input.sk-toggleable__control:checked~div.sk-toggleable__content {max-height: 200px;max-width: 100%;overflow: auto;}#sk-container-id-4 input.sk-toggleable__control:checked~label.sk-toggleable__label-arrow:before {content: \"▾\";}#sk-container-id-4 div.sk-estimator input.sk-toggleable__control:checked~label.sk-toggleable__label {background-color: #d4ebff;}#sk-container-id-4 div.sk-label input.sk-toggleable__control:checked~label.sk-toggleable__label {background-color: #d4ebff;}#sk-container-id-4 input.sk-hidden--visually {border: 0;clip: rect(1px 1px 1px 1px);clip: rect(1px, 1px, 1px, 1px);height: 1px;margin: -1px;overflow: hidden;padding: 0;position: absolute;width: 1px;}#sk-container-id-4 div.sk-estimator {font-family: monospace;background-color: #f0f8ff;border: 1px dotted black;border-radius: 0.25em;box-sizing: border-box;margin-bottom: 0.5em;}#sk-container-id-4 div.sk-estimator:hover {background-color: #d4ebff;}#sk-container-id-4 div.sk-parallel-item::after {content: \"\";width: 100%;border-bottom: 1px solid gray;flex-grow: 1;}#sk-container-id-4 div.sk-label:hover label.sk-toggleable__label {background-color: #d4ebff;}#sk-container-id-4 div.sk-serial::before {content: \"\";position: absolute;border-left: 1px solid gray;box-sizing: border-box;top: 0;bottom: 0;left: 50%;z-index: 0;}#sk-container-id-4 div.sk-serial {display: flex;flex-direction: column;align-items: center;background-color: white;padding-right: 0.2em;padding-left: 0.2em;position: relative;}#sk-container-id-4 div.sk-item {position: relative;z-index: 1;}#sk-container-id-4 div.sk-parallel {display: flex;align-items: stretch;justify-content: center;background-color: white;position: relative;}#sk-container-id-4 div.sk-item::before, #sk-container-id-4 div.sk-parallel-item::before {content: \"\";position: absolute;border-left: 1px solid gray;box-sizing: border-box;top: 0;bottom: 0;left: 50%;z-index: -1;}#sk-container-id-4 div.sk-parallel-item {display: flex;flex-direction: column;z-index: 1;position: relative;background-color: white;}#sk-container-id-4 div.sk-parallel-item:first-child::after {align-self: flex-end;width: 50%;}#sk-container-id-4 div.sk-parallel-item:last-child::after {align-self: flex-start;width: 50%;}#sk-container-id-4 div.sk-parallel-item:only-child::after {width: 0;}#sk-container-id-4 div.sk-dashed-wrapped {border: 1px dashed gray;margin: 0 0.4em 0.5em 0.4em;box-sizing: border-box;padding-bottom: 0.4em;background-color: white;}#sk-container-id-4 div.sk-label label {font-family: monospace;font-weight: bold;display: inline-block;line-height: 1.2em;}#sk-container-id-4 div.sk-label-container {text-align: center;}#sk-container-id-4 div.sk-container {/* jupyter's `normalize.less` sets `[hidden] { display: none; }` but bootstrap.min.css set `[hidden] { display: none !important; }` so we also need the `!important` here to be able to override the default hidden behavior on the sphinx rendered scikit-learn.org. See: https://github.com/scikit-learn/scikit-learn/issues/21755 */display: inline-block !important;position: relative;}#sk-container-id-4 div.sk-text-repr-fallback {display: none;}</style><div id=\"sk-container-id-4\" class=\"sk-top-container\"><div class=\"sk-text-repr-fallback\"><pre>BernoulliNB()</pre><b>In a Jupyter environment, please rerun this cell to show the HTML representation or trust the notebook. <br />On GitHub, the HTML representation is unable to render, please try loading this page with nbviewer.org.</b></div><div class=\"sk-container\" hidden><div class=\"sk-item\"><div class=\"sk-estimator sk-toggleable\"><input class=\"sk-toggleable__control sk-hidden--visually\" id=\"sk-estimator-id-4\" type=\"checkbox\" checked><label for=\"sk-estimator-id-4\" class=\"sk-toggleable__label sk-toggleable__label-arrow\">BernoulliNB</label><div class=\"sk-toggleable__content\"><pre>BernoulliNB()</pre></div></div></div></div></div>"
            ]
          },
          "metadata": {},
          "execution_count": 38
        }
      ]
    },
    {
      "cell_type": "code",
      "source": [
        "mostrarPerformance(model_bayes_bernoulli_cv, X_test_count, y_test)"
      ],
      "metadata": {
        "colab": {
          "base_uri": "https://localhost:8080/",
          "height": 605
        },
        "id": "kWUJOPUL6SnG",
        "outputId": "808d031c-9ea8-4eae-fcdf-90edfa3cae96"
      },
      "execution_count": null,
      "outputs": [
        {
          "output_type": "stream",
          "name": "stdout",
          "text": [
            "              precision    recall  f1-score   support\n",
            "\n",
            "    negativo       0.87      0.85      0.86      7599\n",
            "    positivo       0.85      0.87      0.86      7401\n",
            "\n",
            "    accuracy                           0.86     15000\n",
            "   macro avg       0.86      0.86      0.86     15000\n",
            "weighted avg       0.86      0.86      0.86     15000\n",
            "\n"
          ]
        },
        {
          "output_type": "display_data",
          "data": {
            "text/plain": [
              "<Figure size 640x480 with 2 Axes>"
            ],
            "image/png": "[encoded data removed]"
          },
          "metadata": {}
        }
      ]
    },
    {
      "cell_type": "code",
      "source": [
        "mostrarPerformance(model_bayes_bernoulli_cv, X_train_count, y_train)"
      ],
      "metadata": {
        "colab": {
          "base_uri": "https://localhost:8080/",
          "height": 605
        },
        "id": "JEBJK6Fi9fOb",
        "outputId": "dbfb040e-d077-4a2a-9f87-ab4318972475"
      },
      "execution_count": null,
      "outputs": [
        {
          "output_type": "stream",
          "name": "stdout",
          "text": [
            "              precision    recall  f1-score   support\n",
            "\n",
            "    negativo       0.89      0.87      0.88     17401\n",
            "    positivo       0.87      0.89      0.88     17599\n",
            "\n",
            "    accuracy                           0.88     35000\n",
            "   macro avg       0.88      0.88      0.88     35000\n",
            "weighted avg       0.88      0.88      0.88     35000\n",
            "\n"
          ]
        },
        {
          "output_type": "display_data",
          "data": {
            "text/plain": [
              "<Figure size 640x480 with 2 Axes>"
            ],
            "image/png": "[encoded data removed]"
          },
          "metadata": {}
        }
      ]
    },
    {
      "cell_type": "markdown",
      "source": [
        "Consideramos que las metricas obtenidas por este modelo, a pesar de continuar sobreajustando, fueron las mejores hasta el momento. Hubo un buen balance entre precision y recall, difiriendo por 0.02, mientras que en la multinomial habia mucho mas, y el f1 score dio alto tambien. Veremos ahora si podemos mejorarlas incluso mas optimizando los parametros."
      ],
      "metadata": {
        "id": "-ZxC_HXk90A4"
      }
    },
    {
      "cell_type": "code",
      "source": [
        "filename = \"bernoulli_cv.pickle\"\n",
        "\n",
        "# save model\n",
        "pickle.dump(model_bayes_bernoulli_cv, open(filename, \"wb\"))"
      ],
      "metadata": {
        "id": "NboBfiRd-gv4"
      },
      "execution_count": null,
      "outputs": []
    },
    {
      "cell_type": "markdown",
      "source": [
        "## Optimizacion de hiperparametros en Bernoulli con Count Vectorizer"
      ],
      "metadata": {
        "id": "ZdDWdv0RGwqc"
      }
    },
    {
      "cell_type": "markdown",
      "source": [
        "Realizaremos una busqueda por KFolds para optimizar los hiperparametros de nuestra bernoulli, pero a su vez tambien intentaremos optimizar los del vectorizer, ya que los del primero son muy pocos y notamos que esto tambien es bastante crucial, analizando la performance en los anteriores."
      ],
      "metadata": {
        "id": "h1izJrh9a542"
      }
    },
    {
      "cell_type": "code",
      "source": [
        "pipeline = Pipeline([\n",
        "    ('cv', CountVectorizer()),\n",
        "    ('bn', BernoulliNB())\n",
        "])"
      ],
      "metadata": {
        "id": "PGWQ-TugB9S3"
      },
      "execution_count": null,
      "outputs": []
    },
    {
      "cell_type": "markdown",
      "source": [
        "Generamos nuestra grilla de hiperparametros a optimizar. En este caso son pocos los hiperparametros existentes."
      ],
      "metadata": {
        "id": "2Z2nTtbtPKh0"
      }
    },
    {
      "cell_type": "code",
      "source": [
        "alpha_range = np.linspace(0.1, 1.5, num=10)\n",
        "from scipy.stats import uniform\n",
        "param_grid = {'bn__alpha': [0.1, 0.15, 0.2, 0.5, 0.75, 1.0],\n",
        "              'cv__ngram_range': [(1, 1), (1, 2)],\n",
        "              'cv__min_df': list(range(5,200)),\n",
        "              'cv__max_df': uniform(loc=0.4, scale=0.6)}"
      ],
      "metadata": {
        "id": "uASd9PdfHXLl"
      },
      "execution_count": null,
      "outputs": []
    },
    {
      "cell_type": "markdown",
      "source": [
        "Codificamos las salidas, mapeando positivo y negativo a 0 y 1"
      ],
      "metadata": {
        "id": "_T1D6SfHPjdT"
      }
    },
    {
      "cell_type": "code",
      "source": [
        "label_encoder = LabelEncoder()\n",
        "label_encoder.fit([\"negativo\", \"positivo\"])\n",
        "y_train_encoded = label_encoder.transform(y_train)\n",
        "y_test_encoded = label_encoder.transform(y_test)"
      ],
      "metadata": {
        "id": "S2gp0orDIMb-"
      },
      "execution_count": null,
      "outputs": []
    },
    {
      "cell_type": "markdown",
      "source": [
        "Realizamos la busqueda de hiperparametros haciendo uso de nuestra funcion, con 5 folds y 20 intentos"
      ],
      "metadata": {
        "id": "av1L46o3PsFB"
      }
    },
    {
      "cell_type": "code",
      "source": [
        "optimized_bayes = buscarMejoresHiperparametros(20, 5, pipeline, param_grid, X_train, y_train_encoded)"
      ],
      "metadata": {
        "colab": {
          "base_uri": "https://localhost:8080/"
        },
        "id": "39tIlRF0Hyxt",
        "outputId": "3302ef14-a15c-4e34-d3cd-511c9e85b307"
      },
      "execution_count": null,
      "outputs": [
        {
          "output_type": "stream",
          "name": "stdout",
          "text": [
            "Best parameters: {'bn__alpha': 0.2, 'cv__max_df': 0.41235069657748147, 'cv__min_df': 6, 'cv__ngram_range': (1, 2)}\n",
            "Best score: 0.8703864908765098\n"
          ]
        }
      ]
    },
    {
      "cell_type": "markdown",
      "source": [
        "Vemos que como maximo de apariciones tiene las palabras que aparecen en mas del 41% de las veces, mientras que el minimo de apariciones es 6. Notamos que no esta haciendo un gran recorte por debajo, mientras que si por arriba."
      ],
      "metadata": {
        "id": "qlKImuAHLAZk"
      }
    },
    {
      "cell_type": "markdown",
      "source": [
        "Realizamos las predicciones en ambos conjuntos"
      ],
      "metadata": {
        "id": "ef-wInb4PyBU"
      }
    },
    {
      "cell_type": "code",
      "source": [
        "mostrarPerformance(optimized_bayes, X_test, y_test_encoded)"
      ],
      "metadata": {
        "colab": {
          "base_uri": "https://localhost:8080/",
          "height": 605
        },
        "id": "a_ApoNZcIXtR",
        "outputId": "2e431c0f-ed4a-47a1-b157-48b6bf33e413"
      },
      "execution_count": null,
      "outputs": [
        {
          "output_type": "stream",
          "name": "stdout",
          "text": [
            "              precision    recall  f1-score   support\n",
            "\n",
            "           0       0.88      0.87      0.87      7599\n",
            "           1       0.87      0.87      0.87      7401\n",
            "\n",
            "    accuracy                           0.87     15000\n",
            "   macro avg       0.87      0.87      0.87     15000\n",
            "weighted avg       0.87      0.87      0.87     15000\n",
            "\n"
          ]
        },
        {
          "output_type": "display_data",
          "data": {
            "text/plain": [
              "<Figure size 640x480 with 2 Axes>"
            ],
            "image/png": "[encoded data removed]"
          },
          "metadata": {}
        }
      ]
    },
    {
      "cell_type": "code",
      "source": [
        "mostrarPerformance(optimized_bayes, X_train, y_train_encoded)"
      ],
      "metadata": {
        "colab": {
          "base_uri": "https://localhost:8080/",
          "height": 605
        },
        "id": "Giuzo3KhIW9j",
        "outputId": "139f725a-a780-48fb-9050-568009833e5c"
      },
      "execution_count": null,
      "outputs": [
        {
          "output_type": "stream",
          "name": "stdout",
          "text": [
            "              precision    recall  f1-score   support\n",
            "\n",
            "           0       0.93      0.94      0.94     17401\n",
            "           1       0.94      0.93      0.94     17599\n",
            "\n",
            "    accuracy                           0.94     35000\n",
            "   macro avg       0.94      0.94      0.94     35000\n",
            "weighted avg       0.94      0.94      0.94     35000\n",
            "\n"
          ]
        },
        {
          "output_type": "display_data",
          "data": {
            "text/plain": [
              "<Figure size 640x480 with 2 Axes>"
            ],
            "image/png": "[encoded data removed]"
          },
          "metadata": {}
        }
      ]
    },
    {
      "cell_type": "markdown",
      "source": [
        "Observamos que las metricas mejoraron en el set de testeo, pero muchisimo mas en el conjunto de entrenamiento que en este, por lo podemos afirmar que aumento mucho el sobreajuste. Aunque da bien en ambos, no esta generalizando tan bien."
      ],
      "metadata": {
        "id": "eXipuBENLyPg"
      }
    },
    {
      "cell_type": "code",
      "source": [
        "filename = \"bernoulli_kfolds.pickle\"\n",
        "\n",
        "# save model\n",
        "pickle.dump(optimized_bayes, open(filename, \"wb\"))"
      ],
      "metadata": {
        "id": "-Gi-nqLv_riY"
      },
      "execution_count": null,
      "outputs": []
    },
    {
      "cell_type": "markdown",
      "source": [
        "# Random Forest"
      ],
      "metadata": {
        "id": "K5Wp7eZD1NT1"
      }
    },
    {
      "cell_type": "markdown",
      "source": [
        "El modelo a construir ahora sera un random forest. Comenzamos separando el dataset en train y test nuevamente."
      ],
      "metadata": {
        "id": "0egThEMQ1apf"
      }
    },
    {
      "cell_type": "code",
      "source": [
        "X_train,X_test,y_train,y_test = train_test_split(ds_normalizado['review_es'],\n",
        "                                                 ds_normalizado['sentimiento'],\n",
        "                                                 test_size =0.30,\n",
        "                                                 random_state=25,\n",
        "                                                 shuffle=True)"
      ],
      "metadata": {
        "id": "QhP8g0GN1UM5"
      },
      "execution_count": null,
      "outputs": []
    },
    {
      "cell_type": "markdown",
      "source": [
        "## Random Forest sin optimizar con Count Vectorizer"
      ],
      "metadata": {
        "id": "Lm8SIPn3P457"
      }
    },
    {
      "cell_type": "markdown",
      "source": [
        "Haremos en primer lugar, una version no optimizada, en que los hiperparametros seran los que vienen por defecto.  En lugar de tomar el approach previo en que vamos entrenando el modelo de a poco, construiremos un pipeline, que haga el bag of words y aplique el transformador."
      ],
      "metadata": {
        "id": "0Y58JeUHP7pC"
      }
    },
    {
      "cell_type": "code",
      "source": [
        "random_forest = Pipeline([\n",
        "    ('cv', CountVectorizer(min_df = 20)),\n",
        "    ('rf', RandomForestClassifier())\n",
        "])"
      ],
      "metadata": {
        "id": "I8_2TG8G2zWj"
      },
      "execution_count": null,
      "outputs": []
    },
    {
      "cell_type": "markdown",
      "source": [
        "Entrenamos el pipeline con los datos de entrenamiento"
      ],
      "metadata": {
        "id": "igexrrgQQJtW"
      }
    },
    {
      "cell_type": "code",
      "source": [
        "random_forest.fit(X_train, y_train)"
      ],
      "metadata": {
        "colab": {
          "base_uri": "https://localhost:8080/",
          "height": 128
        },
        "id": "HAPFi_ZNNX3m",
        "outputId": "7b9013f2-78b1-4c4f-dbd9-61df47ff6bb3"
      },
      "execution_count": null,
      "outputs": [
        {
          "output_type": "execute_result",
          "data": {
            "text/plain": [
              "Pipeline(steps=[('cv', CountVectorizer(min_df=20)),\n",
              "                ('rf', RandomForestClassifier())])"
            ],
            "text/html": [
              "<style>#sk-container-id-5 {color: black;background-color: white;}#sk-container-id-5 pre{padding: 0;}#sk-container-id-5 div.sk-toggleable {background-color: white;}#sk-container-id-5 label.sk-toggleable__label {cursor: pointer;display: block;width: 100%;margin-bottom: 0;padding: 0.3em;box-sizing: border-box;text-align: center;}#sk-container-id-5 label.sk-toggleable__label-arrow:before {content: \"▸\";float: left;margin-right: 0.25em;color: #696969;}#sk-container-id-5 label.sk-toggleable__label-arrow:hover:before {color: black;}#sk-container-id-5 div.sk-estimator:hover label.sk-toggleable__label-arrow:before {color: black;}#sk-container-id-5 div.sk-toggleable__content {max-height: 0;max-width: 0;overflow: hidden;text-align: left;background-color: #f0f8ff;}#sk-container-id-5 div.sk-toggleable__content pre {margin: 0.2em;color: black;border-radius: 0.25em;background-color: #f0f8ff;}#sk-container-id-5 input.sk-toggleable__control:checked~div.sk-toggleable__content {max-height: 200px;max-width: 100%;overflow: auto;}#sk-container-id-5 input.sk-toggleable__control:checked~label.sk-toggleable__label-arrow:before {content: \"▾\";}#sk-container-id-5 div.sk-estimator input.sk-toggleable__control:checked~label.sk-toggleable__label {background-color: #d4ebff;}#sk-container-id-5 div.sk-label input.sk-toggleable__control:checked~label.sk-toggleable__label {background-color: #d4ebff;}#sk-container-id-5 input.sk-hidden--visually {border: 0;clip: rect(1px 1px 1px 1px);clip: rect(1px, 1px, 1px, 1px);height: 1px;margin: -1px;overflow: hidden;padding: 0;position: absolute;width: 1px;}#sk-container-id-5 div.sk-estimator {font-family: monospace;background-color: #f0f8ff;border: 1px dotted black;border-radius: 0.25em;box-sizing: border-box;margin-bottom: 0.5em;}#sk-container-id-5 div.sk-estimator:hover {background-color: #d4ebff;}#sk-container-id-5 div.sk-parallel-item::after {content: \"\";width: 100%;border-bottom: 1px solid gray;flex-grow: 1;}#sk-container-id-5 div.sk-label:hover label.sk-toggleable__label {background-color: #d4ebff;}#sk-container-id-5 div.sk-serial::before {content: \"\";position: absolute;border-left: 1px solid gray;box-sizing: border-box;top: 0;bottom: 0;left: 50%;z-index: 0;}#sk-container-id-5 div.sk-serial {display: flex;flex-direction: column;align-items: center;background-color: white;padding-right: 0.2em;padding-left: 0.2em;position: relative;}#sk-container-id-5 div.sk-item {position: relative;z-index: 1;}#sk-container-id-5 div.sk-parallel {display: flex;align-items: stretch;justify-content: center;background-color: white;position: relative;}#sk-container-id-5 div.sk-item::before, #sk-container-id-5 div.sk-parallel-item::before {content: \"\";position: absolute;border-left: 1px solid gray;box-sizing: border-box;top: 0;bottom: 0;left: 50%;z-index: -1;}#sk-container-id-5 div.sk-parallel-item {display: flex;flex-direction: column;z-index: 1;position: relative;background-color: white;}#sk-container-id-5 div.sk-parallel-item:first-child::after {align-self: flex-end;width: 50%;}#sk-container-id-5 div.sk-parallel-item:last-child::after {align-self: flex-start;width: 50%;}#sk-container-id-5 div.sk-parallel-item:only-child::after {width: 0;}#sk-container-id-5 div.sk-dashed-wrapped {border: 1px dashed gray;margin: 0 0.4em 0.5em 0.4em;box-sizing: border-box;padding-bottom: 0.4em;background-color: white;}#sk-container-id-5 div.sk-label label {font-family: monospace;font-weight: bold;display: inline-block;line-height: 1.2em;}#sk-container-id-5 div.sk-label-container {text-align: center;}#sk-container-id-5 div.sk-container {/* jupyter's `normalize.less` sets `[hidden] { display: none; }` but bootstrap.min.css set `[hidden] { display: none !important; }` so we also need the `!important` here to be able to override the default hidden behavior on the sphinx rendered scikit-learn.org. See: https://github.com/scikit-learn/scikit-learn/issues/21755 */display: inline-block !important;position: relative;}#sk-container-id-5 div.sk-text-repr-fallback {display: none;}</style><div id=\"sk-container-id-5\" class=\"sk-top-container\"><div class=\"sk-text-repr-fallback\"><pre>Pipeline(steps=[(&#x27;cv&#x27;, CountVectorizer(min_df=20)),\n",
              "                (&#x27;rf&#x27;, RandomForestClassifier())])</pre><b>In a Jupyter environment, please rerun this cell to show the HTML representation or trust the notebook. <br />On GitHub, the HTML representation is unable to render, please try loading this page with nbviewer.org.</b></div><div class=\"sk-container\" hidden><div class=\"sk-item sk-dashed-wrapped\"><div class=\"sk-label-container\"><div class=\"sk-label sk-toggleable\"><input class=\"sk-toggleable__control sk-hidden--visually\" id=\"sk-estimator-id-5\" type=\"checkbox\" ><label for=\"sk-estimator-id-5\" class=\"sk-toggleable__label sk-toggleable__label-arrow\">Pipeline</label><div class=\"sk-toggleable__content\"><pre>Pipeline(steps=[(&#x27;cv&#x27;, CountVectorizer(min_df=20)),\n",
              "                (&#x27;rf&#x27;, RandomForestClassifier())])</pre></div></div></div><div class=\"sk-serial\"><div class=\"sk-item\"><div class=\"sk-estimator sk-toggleable\"><input class=\"sk-toggleable__control sk-hidden--visually\" id=\"sk-estimator-id-6\" type=\"checkbox\" ><label for=\"sk-estimator-id-6\" class=\"sk-toggleable__label sk-toggleable__label-arrow\">CountVectorizer</label><div class=\"sk-toggleable__content\"><pre>CountVectorizer(min_df=20)</pre></div></div></div><div class=\"sk-item\"><div class=\"sk-estimator sk-toggleable\"><input class=\"sk-toggleable__control sk-hidden--visually\" id=\"sk-estimator-id-7\" type=\"checkbox\" ><label for=\"sk-estimator-id-7\" class=\"sk-toggleable__label sk-toggleable__label-arrow\">RandomForestClassifier</label><div class=\"sk-toggleable__content\"><pre>RandomForestClassifier()</pre></div></div></div></div></div></div></div>"
            ]
          },
          "metadata": {},
          "execution_count": 54
        }
      ]
    },
    {
      "cell_type": "markdown",
      "source": [
        "Realizamos las predicciones con este primer modelo basico."
      ],
      "metadata": {
        "id": "t1BbrrcIQORf"
      }
    },
    {
      "cell_type": "code",
      "source": [
        "mostrarPerformance(random_forest, X_test, y_test)"
      ],
      "metadata": {
        "colab": {
          "base_uri": "https://localhost:8080/",
          "height": 605
        },
        "id": "912T-DDnNv2t",
        "outputId": "e3455510-54f6-4c26-d466-dd9cee2dc19d"
      },
      "execution_count": null,
      "outputs": [
        {
          "output_type": "stream",
          "name": "stdout",
          "text": [
            "              precision    recall  f1-score   support\n",
            "\n",
            "    negativo       0.83      0.84      0.84      7599\n",
            "    positivo       0.84      0.83      0.83      7401\n",
            "\n",
            "    accuracy                           0.84     15000\n",
            "   macro avg       0.84      0.84      0.84     15000\n",
            "weighted avg       0.84      0.84      0.84     15000\n",
            "\n"
          ]
        },
        {
          "output_type": "display_data",
          "data": {
            "text/plain": [
              "<Figure size 640x480 with 2 Axes>"
            ],
            "image/png": "[encoded data removed]"
          },
          "metadata": {}
        }
      ]
    },
    {
      "cell_type": "code",
      "source": [
        "mostrarPerformance(random_forest, X_train, y_train)"
      ],
      "metadata": {
        "colab": {
          "base_uri": "https://localhost:8080/",
          "height": 605
        },
        "id": "PlII-uh9N4E5",
        "outputId": "ca451b75-5ed8-4de9-f3b4-b005880b4712"
      },
      "execution_count": null,
      "outputs": [
        {
          "output_type": "stream",
          "name": "stdout",
          "text": [
            "              precision    recall  f1-score   support\n",
            "\n",
            "    negativo       1.00      1.00      1.00     17401\n",
            "    positivo       1.00      1.00      1.00     17599\n",
            "\n",
            "    accuracy                           1.00     35000\n",
            "   macro avg       1.00      1.00      1.00     35000\n",
            "weighted avg       1.00      1.00      1.00     35000\n",
            "\n"
          ]
        },
        {
          "output_type": "display_data",
          "data": {
            "text/plain": [
              "<Figure size 640x480 with 2 Axes>"
            ],
            "image/png": "[encoded data removed]"
          },
          "metadata": {}
        }
      ]
    },
    {
      "cell_type": "markdown",
      "source": [
        "Vemos que no comete ni un error en el set de entrenamiento, por lo que el sobreajuste es total. Ahora, intentaremos optimizar los hiperparametros, tratando de mantener una performance medianamente buena."
      ],
      "metadata": {
        "id": "Ayn-mZK6QQ4F"
      }
    },
    {
      "cell_type": "code",
      "source": [
        "filename = \"random_forest.pickle\"\n",
        "\n",
        "# save model\n",
        "pickle.dump(random_forest, open(filename, \"wb\"))"
      ],
      "metadata": {
        "id": "TzOzKAFoCXyO"
      },
      "execution_count": null,
      "outputs": []
    },
    {
      "cell_type": "markdown",
      "source": [
        "## Random Forest optimizado"
      ],
      "metadata": {
        "id": "PhwhcWMoQaDP"
      }
    },
    {
      "cell_type": "markdown",
      "source": [
        "Creamos nuevamente el pipeline, pero ahora modificando los valores que recibe nuestro encoder. Decidimos settear directamente el ngram range a (1,2), ya que vimos que esto dio buenos resultados anteriormente."
      ],
      "metadata": {
        "id": "ZcHRmYscQkGx"
      }
    },
    {
      "cell_type": "code",
      "source": [
        "pipeline = Pipeline([\n",
        "    ('cv', CountVectorizer(ngram_range=(1,2))),\n",
        "    ('rf', RandomForestClassifier())\n",
        "])"
      ],
      "metadata": {
        "id": "5JYhyK89Ql4M"
      },
      "execution_count": null,
      "outputs": []
    },
    {
      "cell_type": "markdown",
      "source": [
        "Definimos los rangos de los hiperparametros que queremos optimizar, siendo algunos del random forest y otros del count vectorizer."
      ],
      "metadata": {
        "id": "HpFN85PO3Uf1"
      }
    },
    {
      "cell_type": "code",
      "source": [
        "param_rf = {\n",
        "    'rf__n_estimators': list(range(50, 300)),\n",
        "    'rf__max_depth': list(range(1, 10)),\n",
        "    'rf__criterion': ['gini', 'entropy'],\n",
        "    'cv__min_df': list(range(10, 100)),\n",
        "    'cv__max_df': uniform(loc=0.8, scale=0.2)\n",
        "}"
      ],
      "metadata": {
        "id": "2lhxng7M3To9"
      },
      "execution_count": null,
      "outputs": []
    },
    {
      "cell_type": "markdown",
      "source": [
        "Dado que para arboles toma salidas binarias, debemos codificar nuestros inputs de \"negativo\" y \"positivo\" a 0 y 1."
      ],
      "metadata": {
        "id": "ZKwvn2vm8cOk"
      }
    },
    {
      "cell_type": "code",
      "source": [
        "y_train_encoded, y_test_encoded = mapear_palabras_a_numeros(y_train, y_test)"
      ],
      "metadata": {
        "id": "a9kkwnxa5anP"
      },
      "execution_count": null,
      "outputs": []
    },
    {
      "cell_type": "markdown",
      "source": [
        "Buscamos ahora optimizar los hiperparametros haciendo uso de la funcion que definimos. Intentaremos 10 sets de valores, con 5 folds."
      ],
      "metadata": {
        "id": "ElQNEnHrAdzH"
      }
    },
    {
      "cell_type": "code",
      "source": [
        "optimized_rf_2 = buscarMejoresHiperparametros(10, 5, pipeline, param_rf, X_train, y_train_encoded)"
      ],
      "metadata": {
        "colab": {
          "base_uri": "https://localhost:8080/"
        },
        "id": "Pm6zTXDO4sWL",
        "outputId": "68622a6d-f40d-442c-e4fb-e9de429b51f8"
      },
      "execution_count": null,
      "outputs": [
        {
          "output_type": "stream",
          "name": "stdout",
          "text": [
            "Best parameters: {'cv__max_df': 0.8749080237694725, 'cv__min_df': 24, 'rf__criterion': 'gini', 'rf__max_depth': 8, 'rf__n_estimators': 238}\n",
            "Best score: 0.8182235038330621\n"
          ]
        }
      ]
    },
    {
      "cell_type": "markdown",
      "source": [
        "Con nuestro modelo optimizado y entrenado, ahora realizaremos predicciones."
      ],
      "metadata": {
        "id": "ouDSJrTe7t9q"
      }
    },
    {
      "cell_type": "code",
      "source": [
        "mostrarPerformance(optimized_rf_2, X_test, y_test_encoded)"
      ],
      "metadata": {
        "colab": {
          "base_uri": "https://localhost:8080/",
          "height": 605
        },
        "id": "Qx52DEXH7zSG",
        "outputId": "8345a330-4593-468e-a93f-1ac71d995d54"
      },
      "execution_count": null,
      "outputs": [
        {
          "output_type": "stream",
          "name": "stdout",
          "text": [
            "              precision    recall  f1-score   support\n",
            "\n",
            "           0       0.87      0.70      0.78      7599\n",
            "           1       0.75      0.90      0.81      7401\n",
            "\n",
            "    accuracy                           0.80     15000\n",
            "   macro avg       0.81      0.80      0.80     15000\n",
            "weighted avg       0.81      0.80      0.80     15000\n",
            "\n"
          ]
        },
        {
          "output_type": "display_data",
          "data": {
            "text/plain": [
              "<Figure size 640x480 with 2 Axes>"
            ],
            "image/png": "[encoded data removed]"
          },
          "metadata": {}
        }
      ]
    },
    {
      "cell_type": "code",
      "source": [
        "mostrarPerformance(optimized_rf_2, X_train, y_train_encoded)"
      ],
      "metadata": {
        "colab": {
          "base_uri": "https://localhost:8080/",
          "height": 605
        },
        "id": "Uu52rmXz7ugk",
        "outputId": "7aafd6e2-71e1-4dbf-fbe1-14e20c3559c8"
      },
      "execution_count": null,
      "outputs": [
        {
          "output_type": "stream",
          "name": "stdout",
          "text": [
            "              precision    recall  f1-score   support\n",
            "\n",
            "           0       0.91      0.72      0.80     17401\n",
            "           1       0.77      0.93      0.84     17599\n",
            "\n",
            "    accuracy                           0.82     35000\n",
            "   macro avg       0.84      0.82      0.82     35000\n",
            "weighted avg       0.84      0.82      0.82     35000\n",
            "\n"
          ]
        },
        {
          "output_type": "display_data",
          "data": {
            "text/plain": [
              "<Figure size 640x480 with 2 Axes>"
            ],
            "image/png": "[encoded data removed]"
          },
          "metadata": {}
        }
      ]
    },
    {
      "cell_type": "markdown",
      "source": [
        "Vemos que a este modelo le va \"peor\" que al anterior en cuanto a metricas del set de testeo, pero la brecha entre test y train es mucho menor. Este modelo sigue sobreajustando pero no tanto. Igualmente, su performance no se acerca siquiera a los peores modelos hechos previamente con bayes naive."
      ],
      "metadata": {
        "id": "CIAt2RNl90kB"
      }
    },
    {
      "cell_type": "code",
      "source": [
        "filename = \"random_forest_kfolds.pickle\"\n",
        "\n",
        "# save model\n",
        "pickle.dump(optimized_rf_2, open(filename, \"wb\"))"
      ],
      "metadata": {
        "id": "89jybn3RCcEQ"
      },
      "execution_count": null,
      "outputs": []
    },
    {
      "cell_type": "markdown",
      "source": [
        "#XGBoost\n"
      ],
      "metadata": {
        "id": "UNZx31CIFehc"
      }
    },
    {
      "cell_type": "markdown",
      "source": [
        "Separamos el dataset en train y test, usando como target el sentimiento, y como entrada unicamente las resenas, sin el ID."
      ],
      "metadata": {
        "id": "s5NjHbxTwFrr"
      }
    },
    {
      "cell_type": "code",
      "source": [
        "X_train,X_test,y_train,y_test = train_test_split(ds_normalizado['review_es'],\n",
        "                                                 ds_normalizado['sentimiento'],\n",
        "                                                 test_size =0.30,\n",
        "                                                 random_state=25,\n",
        "                                                 shuffle=True)"
      ],
      "metadata": {
        "id": "1F1SKdzXF0K7"
      },
      "execution_count": null,
      "outputs": []
    },
    {
      "cell_type": "markdown",
      "source": [
        "Mapeamos los sentimientos a numeros para que nuestro dataset sea compatible con lo necesario para construir un modelo xgb."
      ],
      "metadata": {
        "id": "u_tCgbVEIMG0"
      }
    },
    {
      "cell_type": "code",
      "source": [
        "y_train_encoded, y_test_encoded = mapear_palabras_a_numeros(y_train, y_test)"
      ],
      "metadata": {
        "id": "avftgmFbGo5r"
      },
      "execution_count": null,
      "outputs": []
    },
    {
      "cell_type": "markdown",
      "source": [
        "## Basico"
      ],
      "metadata": {
        "id": "VAXjgEg6_n05"
      }
    },
    {
      "cell_type": "markdown",
      "source": [
        "Contruimos un pipeline, que hace utiliza el count vectorizer para la generacion del bag of words, y luego aplica el modelo en si.\n",
        "\n"
      ],
      "metadata": {
        "id": "hvx7_R82wcPJ"
      }
    },
    {
      "cell_type": "code",
      "source": [
        "xgb_basico = Pipeline([\n",
        "    ('cv', CountVectorizer()),\n",
        "    ('xgb',  xgb.XGBClassifier(random_state=0))\n",
        "])"
      ],
      "metadata": {
        "id": "_6nAIfuXGHMc"
      },
      "execution_count": null,
      "outputs": []
    },
    {
      "cell_type": "markdown",
      "source": [
        "Entrenamos el pipeline con los datos de entrenamiento"
      ],
      "metadata": {
        "id": "i2yQck6ywPfq"
      }
    },
    {
      "cell_type": "code",
      "source": [
        "xgb_basico.fit(X_train,y_train_encoded)"
      ],
      "metadata": {
        "colab": {
          "base_uri": "https://localhost:8080/",
          "height": 128
        },
        "id": "67DLFl85PxYn",
        "outputId": "55bed285-71e3-4f0c-a8ae-30ab77ad0fa8"
      },
      "execution_count": null,
      "outputs": [
        {
          "output_type": "execute_result",
          "data": {
            "text/plain": [
              "Pipeline(steps=[('cv', CountVectorizer()),\n",
              "                ('xgb',\n",
              "                 XGBClassifier(base_score=None, booster=None, callbacks=None,\n",
              "                               colsample_bylevel=None, colsample_bynode=None,\n",
              "                               colsample_bytree=None,\n",
              "                               early_stopping_rounds=None,\n",
              "                               enable_categorical=False, eval_metric=None,\n",
              "                               feature_types=None, gamma=None, gpu_id=None,\n",
              "                               grow_policy=None, importance_type=None,\n",
              "                               interaction_constraints=None, learning_rate=None,\n",
              "                               max_bin=None, max_cat_threshold=None,\n",
              "                               max_cat_to_onehot=None, max_delta_step=None,\n",
              "                               max_depth=None, max_leaves=None,\n",
              "                               min_child_weight=None, missing=nan,\n",
              "                               monotone_constraints=None, n_estimators=100,\n",
              "                               n_jobs=None, num_parallel_tree=None,\n",
              "                               predictor=None, random_state=0, ...))])"
            ],
            "text/html": [
              "<style>#sk-container-id-6 {color: black;background-color: white;}#sk-container-id-6 pre{padding: 0;}#sk-container-id-6 div.sk-toggleable {background-color: white;}#sk-container-id-6 label.sk-toggleable__label {cursor: pointer;display: block;width: 100%;margin-bottom: 0;padding: 0.3em;box-sizing: border-box;text-align: center;}#sk-container-id-6 label.sk-toggleable__label-arrow:before {content: \"▸\";float: left;margin-right: 0.25em;color: #696969;}#sk-container-id-6 label.sk-toggleable__label-arrow:hover:before {color: black;}#sk-container-id-6 div.sk-estimator:hover label.sk-toggleable__label-arrow:before {color: black;}#sk-container-id-6 div.sk-toggleable__content {max-height: 0;max-width: 0;overflow: hidden;text-align: left;background-color: #f0f8ff;}#sk-container-id-6 div.sk-toggleable__content pre {margin: 0.2em;color: black;border-radius: 0.25em;background-color: #f0f8ff;}#sk-container-id-6 input.sk-toggleable__control:checked~div.sk-toggleable__content {max-height: 200px;max-width: 100%;overflow: auto;}#sk-container-id-6 input.sk-toggleable__control:checked~label.sk-toggleable__label-arrow:before {content: \"▾\";}#sk-container-id-6 div.sk-estimator input.sk-toggleable__control:checked~label.sk-toggleable__label {background-color: #d4ebff;}#sk-container-id-6 div.sk-label input.sk-toggleable__control:checked~label.sk-toggleable__label {background-color: #d4ebff;}#sk-container-id-6 input.sk-hidden--visually {border: 0;clip: rect(1px 1px 1px 1px);clip: rect(1px, 1px, 1px, 1px);height: 1px;margin: -1px;overflow: hidden;padding: 0;position: absolute;width: 1px;}#sk-container-id-6 div.sk-estimator {font-family: monospace;background-color: #f0f8ff;border: 1px dotted black;border-radius: 0.25em;box-sizing: border-box;margin-bottom: 0.5em;}#sk-container-id-6 div.sk-estimator:hover {background-color: #d4ebff;}#sk-container-id-6 div.sk-parallel-item::after {content: \"\";width: 100%;border-bottom: 1px solid gray;flex-grow: 1;}#sk-container-id-6 div.sk-label:hover label.sk-toggleable__label {background-color: #d4ebff;}#sk-container-id-6 div.sk-serial::before {content: \"\";position: absolute;border-left: 1px solid gray;box-sizing: border-box;top: 0;bottom: 0;left: 50%;z-index: 0;}#sk-container-id-6 div.sk-serial {display: flex;flex-direction: column;align-items: center;background-color: white;padding-right: 0.2em;padding-left: 0.2em;position: relative;}#sk-container-id-6 div.sk-item {position: relative;z-index: 1;}#sk-container-id-6 div.sk-parallel {display: flex;align-items: stretch;justify-content: center;background-color: white;position: relative;}#sk-container-id-6 div.sk-item::before, #sk-container-id-6 div.sk-parallel-item::before {content: \"\";position: absolute;border-left: 1px solid gray;box-sizing: border-box;top: 0;bottom: 0;left: 50%;z-index: -1;}#sk-container-id-6 div.sk-parallel-item {display: flex;flex-direction: column;z-index: 1;position: relative;background-color: white;}#sk-container-id-6 div.sk-parallel-item:first-child::after {align-self: flex-end;width: 50%;}#sk-container-id-6 div.sk-parallel-item:last-child::after {align-self: flex-start;width: 50%;}#sk-container-id-6 div.sk-parallel-item:only-child::after {width: 0;}#sk-container-id-6 div.sk-dashed-wrapped {border: 1px dashed gray;margin: 0 0.4em 0.5em 0.4em;box-sizing: border-box;padding-bottom: 0.4em;background-color: white;}#sk-container-id-6 div.sk-label label {font-family: monospace;font-weight: bold;display: inline-block;line-height: 1.2em;}#sk-container-id-6 div.sk-label-container {text-align: center;}#sk-container-id-6 div.sk-container {/* jupyter's `normalize.less` sets `[hidden] { display: none; }` but bootstrap.min.css set `[hidden] { display: none !important; }` so we also need the `!important` here to be able to override the default hidden behavior on the sphinx rendered scikit-learn.org. See: https://github.com/scikit-learn/scikit-learn/issues/21755 */display: inline-block !important;position: relative;}#sk-container-id-6 div.sk-text-repr-fallback {display: none;}</style><div id=\"sk-container-id-6\" class=\"sk-top-container\"><div class=\"sk-text-repr-fallback\"><pre>Pipeline(steps=[(&#x27;cv&#x27;, CountVectorizer()),\n",
              "                (&#x27;xgb&#x27;,\n",
              "                 XGBClassifier(base_score=None, booster=None, callbacks=None,\n",
              "                               colsample_bylevel=None, colsample_bynode=None,\n",
              "                               colsample_bytree=None,\n",
              "                               early_stopping_rounds=None,\n",
              "                               enable_categorical=False, eval_metric=None,\n",
              "                               feature_types=None, gamma=None, gpu_id=None,\n",
              "                               grow_policy=None, importance_type=None,\n",
              "                               interaction_constraints=None, learning_rate=None,\n",
              "                               max_bin=None, max_cat_threshold=None,\n",
              "                               max_cat_to_onehot=None, max_delta_step=None,\n",
              "                               max_depth=None, max_leaves=None,\n",
              "                               min_child_weight=None, missing=nan,\n",
              "                               monotone_constraints=None, n_estimators=100,\n",
              "                               n_jobs=None, num_parallel_tree=None,\n",
              "                               predictor=None, random_state=0, ...))])</pre><b>In a Jupyter environment, please rerun this cell to show the HTML representation or trust the notebook. <br />On GitHub, the HTML representation is unable to render, please try loading this page with nbviewer.org.</b></div><div class=\"sk-container\" hidden><div class=\"sk-item sk-dashed-wrapped\"><div class=\"sk-label-container\"><div class=\"sk-label sk-toggleable\"><input class=\"sk-toggleable__control sk-hidden--visually\" id=\"sk-estimator-id-8\" type=\"checkbox\" ><label for=\"sk-estimator-id-8\" class=\"sk-toggleable__label sk-toggleable__label-arrow\">Pipeline</label><div class=\"sk-toggleable__content\"><pre>Pipeline(steps=[(&#x27;cv&#x27;, CountVectorizer()),\n",
              "                (&#x27;xgb&#x27;,\n",
              "                 XGBClassifier(base_score=None, booster=None, callbacks=None,\n",
              "                               colsample_bylevel=None, colsample_bynode=None,\n",
              "                               colsample_bytree=None,\n",
              "                               early_stopping_rounds=None,\n",
              "                               enable_categorical=False, eval_metric=None,\n",
              "                               feature_types=None, gamma=None, gpu_id=None,\n",
              "                               grow_policy=None, importance_type=None,\n",
              "                               interaction_constraints=None, learning_rate=None,\n",
              "                               max_bin=None, max_cat_threshold=None,\n",
              "                               max_cat_to_onehot=None, max_delta_step=None,\n",
              "                               max_depth=None, max_leaves=None,\n",
              "                               min_child_weight=None, missing=nan,\n",
              "                               monotone_constraints=None, n_estimators=100,\n",
              "                               n_jobs=None, num_parallel_tree=None,\n",
              "                               predictor=None, random_state=0, ...))])</pre></div></div></div><div class=\"sk-serial\"><div class=\"sk-item\"><div class=\"sk-estimator sk-toggleable\"><input class=\"sk-toggleable__control sk-hidden--visually\" id=\"sk-estimator-id-9\" type=\"checkbox\" ><label for=\"sk-estimator-id-9\" class=\"sk-toggleable__label sk-toggleable__label-arrow\">CountVectorizer</label><div class=\"sk-toggleable__content\"><pre>CountVectorizer()</pre></div></div></div><div class=\"sk-item\"><div class=\"sk-estimator sk-toggleable\"><input class=\"sk-toggleable__control sk-hidden--visually\" id=\"sk-estimator-id-10\" type=\"checkbox\" ><label for=\"sk-estimator-id-10\" class=\"sk-toggleable__label sk-toggleable__label-arrow\">XGBClassifier</label><div class=\"sk-toggleable__content\"><pre>XGBClassifier(base_score=None, booster=None, callbacks=None,\n",
              "              colsample_bylevel=None, colsample_bynode=None,\n",
              "              colsample_bytree=None, early_stopping_rounds=None,\n",
              "              enable_categorical=False, eval_metric=None, feature_types=None,\n",
              "              gamma=None, gpu_id=None, grow_policy=None, importance_type=None,\n",
              "              interaction_constraints=None, learning_rate=None, max_bin=None,\n",
              "              max_cat_threshold=None, max_cat_to_onehot=None,\n",
              "              max_delta_step=None, max_depth=None, max_leaves=None,\n",
              "              min_child_weight=None, missing=nan, monotone_constraints=None,\n",
              "              n_estimators=100, n_jobs=None, num_parallel_tree=None,\n",
              "              predictor=None, random_state=0, ...)</pre></div></div></div></div></div></div></div>"
            ]
          },
          "metadata": {},
          "execution_count": 81
        }
      ]
    },
    {
      "cell_type": "code",
      "source": [
        "mostrarPerformance(xgb_basico,X_test,y_test_encoded)"
      ],
      "metadata": {
        "colab": {
          "base_uri": "https://localhost:8080/",
          "height": 605
        },
        "id": "DvDyAt3nQ5rc",
        "outputId": "1f5860b7-dcdd-4e74-f5d6-5ad63f832024"
      },
      "execution_count": null,
      "outputs": [
        {
          "output_type": "stream",
          "name": "stdout",
          "text": [
            "              precision    recall  f1-score   support\n",
            "\n",
            "           0       0.86      0.81      0.84      7599\n",
            "           1       0.82      0.87      0.84      7401\n",
            "\n",
            "    accuracy                           0.84     15000\n",
            "   macro avg       0.84      0.84      0.84     15000\n",
            "weighted avg       0.84      0.84      0.84     15000\n",
            "\n"
          ]
        },
        {
          "output_type": "display_data",
          "data": {
            "text/plain": [
              "<Figure size 640x480 with 2 Axes>"
            ],
            "image/png": "[encoded data removed]"
          },
          "metadata": {}
        }
      ]
    },
    {
      "cell_type": "code",
      "source": [
        "mostrarPerformance(xgb_basico,X_train,y_train_encoded)"
      ],
      "metadata": {
        "colab": {
          "base_uri": "https://localhost:8080/",
          "height": 605
        },
        "id": "Za393JDzQnZU",
        "outputId": "620d3e60-5d4a-4ecf-a2f1-6a27ab9056d2"
      },
      "execution_count": null,
      "outputs": [
        {
          "output_type": "stream",
          "name": "stdout",
          "text": [
            "              precision    recall  f1-score   support\n",
            "\n",
            "           0       0.93      0.88      0.91     17401\n",
            "           1       0.89      0.94      0.91     17599\n",
            "\n",
            "    accuracy                           0.91     35000\n",
            "   macro avg       0.91      0.91      0.91     35000\n",
            "weighted avg       0.91      0.91      0.91     35000\n",
            "\n"
          ]
        },
        {
          "output_type": "display_data",
          "data": {
            "text/plain": [
              "<Figure size 640x480 with 2 Axes>"
            ],
            "image/png": "[encoded data removed]"
          },
          "metadata": {}
        }
      ]
    },
    {
      "cell_type": "markdown",
      "source": [
        "Notamos que si bien la performance no es mala, le va muchisimo mejor en el set de testeo, por lo que podemos afirmar que el modelo esta realizando muchisimo sobreajuste."
      ],
      "metadata": {
        "id": "e8hgp89MBfCO"
      }
    },
    {
      "cell_type": "code",
      "source": [
        "filename = \"xgb_basico.pickle\"\n",
        "\n",
        "# save model\n",
        "pickle.dump(xgb_basico, open(filename, \"wb\"))"
      ],
      "metadata": {
        "id": "pZwSkyLfCuH2"
      },
      "execution_count": null,
      "outputs": []
    },
    {
      "cell_type": "markdown",
      "source": [
        "## XGB optimizado"
      ],
      "metadata": {
        "id": "ZvuHBg-rCBH-"
      }
    },
    {
      "cell_type": "markdown",
      "source": [
        "Elegimos parametros a optimizar."
      ],
      "metadata": {
        "id": "MDio90RaFrr0"
      }
    },
    {
      "cell_type": "code",
      "source": [
        "param_xgb = {\n",
        "    'xgb__learning_rate': np.linspace(0.05, 0.2, 10),\n",
        "    'xgb__max_depth': list(range(3, 10)),\n",
        "    'xgb__subsample': np.linspace(0.5, 1.0, 5),\n",
        "    'xgb__n_estimators': list(range(50, 200)),\n",
        "    'xgb__gamma': np.linspace(0.1, 3.0,5 ),\n",
        "    'xgb__lambda': np.linspace(0.1, 3.0, 5),\n",
        "    'cv__ngram_range':[ (1, 1), (1, 2)],\n",
        "    'cv__min_df': list(range(1, 10)),\n",
        "    'cv__max_df': np.linspace(0.8, 1.0, 10),\n",
        "}"
      ],
      "metadata": {
        "id": "UxWX-gGoFox-"
      },
      "execution_count": null,
      "outputs": []
    },
    {
      "cell_type": "markdown",
      "source": [
        "Buscamos optimizar estos hiperparametros. Como metrica a optimizar usamos f1-score y elegimos 4 folds."
      ],
      "metadata": {
        "id": "la9_Q3uvIcLs"
      }
    },
    {
      "cell_type": "code",
      "source": [
        "optimized_xgb = buscarMejoresHiperparametros(6, 4, xgb_basico, param_xgb, X_train, y_train_encoded)"
      ],
      "metadata": {
        "colab": {
          "base_uri": "https://localhost:8080/"
        },
        "id": "BZs9iKvTHtCB",
        "outputId": "1c52d7a9-8b6d-4087-8a65-3155a00490fb"
      },
      "execution_count": null,
      "outputs": [
        {
          "output_type": "stream",
          "name": "stdout",
          "text": [
            "Best parameters: {'xgb__subsample': 0.875, 'xgb__n_estimators': 72, 'xgb__max_depth': 9, 'xgb__learning_rate': 0.2, 'xgb__lambda': 2.275, 'xgb__gamma': 0.1, 'cv__ngram_range': (1, 2), 'cv__min_df': 4, 'cv__max_df': 0.9111111111111111}\n",
            "Best score: 0.8336246440316248\n"
          ]
        }
      ]
    },
    {
      "cell_type": "code",
      "source": [
        "mostrarPerformance(optimized_xgb,X_test,y_test_encoded)"
      ],
      "metadata": {
        "colab": {
          "base_uri": "https://localhost:8080/",
          "height": 605
        },
        "id": "7oHK_6ywJU0s",
        "outputId": "d59f2962-f860-4aa9-8f7f-23f3ffb395b6"
      },
      "execution_count": null,
      "outputs": [
        {
          "output_type": "stream",
          "name": "stdout",
          "text": [
            "              precision    recall  f1-score   support\n",
            "\n",
            "           0       0.85      0.81      0.83      7599\n",
            "           1       0.81      0.86      0.83      7401\n",
            "\n",
            "    accuracy                           0.83     15000\n",
            "   macro avg       0.83      0.83      0.83     15000\n",
            "weighted avg       0.83      0.83      0.83     15000\n",
            "\n"
          ]
        },
        {
          "output_type": "display_data",
          "data": {
            "text/plain": [
              "<Figure size 640x480 with 2 Axes>"
            ],
            "image/png": "[encoded data removed]"
          },
          "metadata": {}
        }
      ]
    },
    {
      "cell_type": "code",
      "source": [
        "mostrarPerformance(optimized_xgb, X_train, y_train_encoded)"
      ],
      "metadata": {
        "colab": {
          "base_uri": "https://localhost:8080/",
          "height": 605
        },
        "id": "QaacW3B-JncA",
        "outputId": "d3954268-e5d5-4406-d5e2-0a86b43f300f"
      },
      "execution_count": null,
      "outputs": [
        {
          "output_type": "stream",
          "name": "stdout",
          "text": [
            "              precision    recall  f1-score   support\n",
            "\n",
            "           0       0.93      0.88      0.91     17401\n",
            "           1       0.89      0.94      0.91     17599\n",
            "\n",
            "    accuracy                           0.91     35000\n",
            "   macro avg       0.91      0.91      0.91     35000\n",
            "weighted avg       0.91      0.91      0.91     35000\n",
            "\n"
          ]
        },
        {
          "output_type": "display_data",
          "data": {
            "text/plain": [
              "<Figure size 640x480 with 2 Axes>"
            ],
            "image/png": "[encoded data removed]"
          },
          "metadata": {}
        }
      ]
    },
    {
      "cell_type": "markdown",
      "source": [
        "Notamos que al modelo no le va muy bien; le va hasta peor que al anterior en el set de test y ni siquiera se redujo el sobreajuste."
      ],
      "metadata": {
        "id": "zgAM8cY6cjq1"
      }
    },
    {
      "cell_type": "markdown",
      "source": [
        "Exportamos igualmente el modelo, y continuaremos intentando optimizar"
      ],
      "metadata": {
        "id": "IssNURibRAMh"
      }
    },
    {
      "cell_type": "code",
      "source": [
        "filename = \"xgb_optimizado.pickle\"\n",
        "\n",
        "# save model\n",
        "pickle.dump(optimized_xgb, open(filename, \"wb\"))"
      ],
      "metadata": {
        "id": "7EQk2WU1RGBg"
      },
      "execution_count": null,
      "outputs": []
    },
    {
      "cell_type": "markdown",
      "source": [
        "Veremos antes las importancias de las variables que quedaron luego del filtro del Count Vectorizer, para ver si podemos notar alguna data y tomar una decision sobre que hacer con esto."
      ],
      "metadata": {
        "id": "M4pEcyK5OJYZ"
      }
    },
    {
      "cell_type": "code",
      "source": [
        "importancias_caracteristicas = optimized_xgb.named_steps['xgb'].feature_importances_\n",
        "nombres_caracteristicas = optimized_xgb.named_steps['cv'].get_feature_names_out()\n",
        "\n",
        "# Obtener los índices de las características ordenadas por importancia ascendente\n",
        "indices_ordenados = importancias_caracteristicas.argsort()\n",
        "\n",
        "# Imprimir las características en orden ascendente\n",
        "for i in range(len(indices_ordenados)):\n",
        "    indice = indices_ordenados[i]\n",
        "    importancia = importancias_caracteristicas[indice]\n",
        "    if importancia > 0:\n",
        "      nombre_caracteristica = nombres_caracteristicas[indice]\n",
        "      print(f\"Característica: {nombre_caracteristica}, Importancia: {importancia}\")\n"
      ],
      "metadata": {
        "id": "O2SxBoSmWEDS"
      },
      "execution_count": null,
      "outputs": []
    },
    {
      "cell_type": "markdown",
      "source": [
        "Vemos que no se esta filtrando correctamente el ruido y que hay muchas palabras que estan ensuciando nuestro dataset. El modelo no cuenta con metodos para prevenir esto pero intentamos aplicar herramientas externas para manejarlo.\n"
      ],
      "metadata": {
        "id": "IfZTID6GNQfD"
      }
    },
    {
      "cell_type": "markdown",
      "source": [
        "## Aplicamos un Stemmer"
      ],
      "metadata": {
        "id": "7sOkSFndCJSL"
      }
    },
    {
      "cell_type": "markdown",
      "source": [
        "Para homogenizar el vocabulario con el que contamos, aplicamos un stemmer."
      ],
      "metadata": {
        "id": "CZ_sug1GMA56"
      }
    },
    {
      "cell_type": "code",
      "source": [
        "from nltk.stem.snowball import SpanishStemmer\n",
        "def lematizar(text):\n",
        "  stemmer = SpanishStemmer()\n",
        "  texto_lematizado = text.apply(lambda x: ' '.join([stemmer.stem(word) for word in word_tokenize(x)]))\n",
        "  return texto_lematizado"
      ],
      "metadata": {
        "id": "9KsEqyvuCRD8"
      },
      "execution_count": null,
      "outputs": []
    },
    {
      "cell_type": "code",
      "source": [
        "X_train_lematizado = lematizar(X_train)\n",
        "X_test_lematizado = lematizar(X_test)"
      ],
      "metadata": {
        "id": "dDeYCujjDDyu"
      },
      "execution_count": null,
      "outputs": []
    },
    {
      "cell_type": "markdown",
      "source": [
        "Creamos otro modelo con los hiperparametros obtenidos previamente en la optimizacion y lo entrenamos con el set de datos modificado."
      ],
      "metadata": {
        "id": "5APXckBMMN5g"
      }
    },
    {
      "cell_type": "code",
      "source": [
        "from xgboost.sklearn import xgboost_model_doc\n",
        "param_xgb = {'learning_rate': 0.2,\n",
        "             'max_depth': 9,\n",
        "             'n_estimators': 72,\n",
        "             'subsample': 0.875,\n",
        "             'gamma': 0.1,\n",
        "             'lambda': 0.275,\n",
        "             'seed' : 0,\n",
        "}\n",
        "param_cv = {'ngram_range' : (1,2),\n",
        "            'min_df': 4,\n",
        "            'max_df': 0.911,\n",
        "}\n",
        "xgb_model = Pipeline([\n",
        "    ('cv', CountVectorizer(**param_cv)),\n",
        "    ('xgb',  xgb.XGBClassifier(**param_xgb))\n",
        "])\n",
        "xgb_model.fit(X_train_lematizado,y_train_encoded)"
      ],
      "metadata": {
        "colab": {
          "base_uri": "https://localhost:8080/",
          "height": 125
        },
        "id": "gKstWbueCQGc",
        "outputId": "89b11657-dff3-4d06-d2c0-cdd81169e395"
      },
      "execution_count": null,
      "outputs": [
        {
          "output_type": "execute_result",
          "data": {
            "text/plain": [
              "Pipeline(steps=[('cv',\n",
              "                 CountVectorizer(max_df=0.911, min_df=4, ngram_range=(1, 2))),\n",
              "                ('xgb',\n",
              "                 XGBClassifier(base_score=None, booster=None, callbacks=None,\n",
              "                               colsample_bylevel=None, colsample_bynode=None,\n",
              "                               colsample_bytree=None,\n",
              "                               early_stopping_rounds=None,\n",
              "                               enable_categorical=False, eval_metric=None,\n",
              "                               feature_types=None, gamma=0.1, gpu_id=None,\n",
              "                               grow_policy=None, importance_type=None,\n",
              "                               interaction_constraints=None, lambda=0.275,\n",
              "                               learning_rate=0.2, max_bin=None,\n",
              "                               max_cat_threshold=None, max_cat_to_onehot=None,\n",
              "                               max_delta_step=None, max_depth=9,\n",
              "                               max_leaves=None, min_child_weight=None,\n",
              "                               missing=nan, monotone_constraints=None,\n",
              "                               n_estimators=72, n_jobs=None,\n",
              "                               num_parallel_tree=None, predictor=None, ...))])"
            ],
            "text/html": [
              "<style>#sk-container-id-1 {color: black;background-color: white;}#sk-container-id-1 pre{padding: 0;}#sk-container-id-1 div.sk-toggleable {background-color: white;}#sk-container-id-1 label.sk-toggleable__label {cursor: pointer;display: block;width: 100%;margin-bottom: 0;padding: 0.3em;box-sizing: border-box;text-align: center;}#sk-container-id-1 label.sk-toggleable__label-arrow:before {content: \"▸\";float: left;margin-right: 0.25em;color: #696969;}#sk-container-id-1 label.sk-toggleable__label-arrow:hover:before {color: black;}#sk-container-id-1 div.sk-estimator:hover label.sk-toggleable__label-arrow:before {color: black;}#sk-container-id-1 div.sk-toggleable__content {max-height: 0;max-width: 0;overflow: hidden;text-align: left;background-color: #f0f8ff;}#sk-container-id-1 div.sk-toggleable__content pre {margin: 0.2em;color: black;border-radius: 0.25em;background-color: #f0f8ff;}#sk-container-id-1 input.sk-toggleable__control:checked~div.sk-toggleable__content {max-height: 200px;max-width: 100%;overflow: auto;}#sk-container-id-1 input.sk-toggleable__control:checked~label.sk-toggleable__label-arrow:before {content: \"▾\";}#sk-container-id-1 div.sk-estimator input.sk-toggleable__control:checked~label.sk-toggleable__label {background-color: #d4ebff;}#sk-container-id-1 div.sk-label input.sk-toggleable__control:checked~label.sk-toggleable__label {background-color: #d4ebff;}#sk-container-id-1 input.sk-hidden--visually {border: 0;clip: rect(1px 1px 1px 1px);clip: rect(1px, 1px, 1px, 1px);height: 1px;margin: -1px;overflow: hidden;padding: 0;position: absolute;width: 1px;}#sk-container-id-1 div.sk-estimator {font-family: monospace;background-color: #f0f8ff;border: 1px dotted black;border-radius: 0.25em;box-sizing: border-box;margin-bottom: 0.5em;}#sk-container-id-1 div.sk-estimator:hover {background-color: #d4ebff;}#sk-container-id-1 div.sk-parallel-item::after {content: \"\";width: 100%;border-bottom: 1px solid gray;flex-grow: 1;}#sk-container-id-1 div.sk-label:hover label.sk-toggleable__label {background-color: #d4ebff;}#sk-container-id-1 div.sk-serial::before {content: \"\";position: absolute;border-left: 1px solid gray;box-sizing: border-box;top: 0;bottom: 0;left: 50%;z-index: 0;}#sk-container-id-1 div.sk-serial {display: flex;flex-direction: column;align-items: center;background-color: white;padding-right: 0.2em;padding-left: 0.2em;position: relative;}#sk-container-id-1 div.sk-item {position: relative;z-index: 1;}#sk-container-id-1 div.sk-parallel {display: flex;align-items: stretch;justify-content: center;background-color: white;position: relative;}#sk-container-id-1 div.sk-item::before, #sk-container-id-1 div.sk-parallel-item::before {content: \"\";position: absolute;border-left: 1px solid gray;box-sizing: border-box;top: 0;bottom: 0;left: 50%;z-index: -1;}#sk-container-id-1 div.sk-parallel-item {display: flex;flex-direction: column;z-index: 1;position: relative;background-color: white;}#sk-container-id-1 div.sk-parallel-item:first-child::after {align-self: flex-end;width: 50%;}#sk-container-id-1 div.sk-parallel-item:last-child::after {align-self: flex-start;width: 50%;}#sk-container-id-1 div.sk-parallel-item:only-child::after {width: 0;}#sk-container-id-1 div.sk-dashed-wrapped {border: 1px dashed gray;margin: 0 0.4em 0.5em 0.4em;box-sizing: border-box;padding-bottom: 0.4em;background-color: white;}#sk-container-id-1 div.sk-label label {font-family: monospace;font-weight: bold;display: inline-block;line-height: 1.2em;}#sk-container-id-1 div.sk-label-container {text-align: center;}#sk-container-id-1 div.sk-container {/* jupyter's `normalize.less` sets `[hidden] { display: none; }` but bootstrap.min.css set `[hidden] { display: none !important; }` so we also need the `!important` here to be able to override the default hidden behavior on the sphinx rendered scikit-learn.org. See: https://github.com/scikit-learn/scikit-learn/issues/21755 */display: inline-block !important;position: relative;}#sk-container-id-1 div.sk-text-repr-fallback {display: none;}</style><div id=\"sk-container-id-1\" class=\"sk-top-container\"><div class=\"sk-text-repr-fallback\"><pre>Pipeline(steps=[(&#x27;cv&#x27;,\n",
              "                 CountVectorizer(max_df=0.911, min_df=4, ngram_range=(1, 2))),\n",
              "                (&#x27;xgb&#x27;,\n",
              "                 XGBClassifier(base_score=None, booster=None, callbacks=None,\n",
              "                               colsample_bylevel=None, colsample_bynode=None,\n",
              "                               colsample_bytree=None,\n",
              "                               early_stopping_rounds=None,\n",
              "                               enable_categorical=False, eval_metric=None,\n",
              "                               feature_types=None, gamma=0.1, gpu_id=None,\n",
              "                               grow_policy=None, importance_type=None,\n",
              "                               interaction_constraints=None, lambda=0.275,\n",
              "                               learning_rate=0.2, max_bin=None,\n",
              "                               max_cat_threshold=None, max_cat_to_onehot=None,\n",
              "                               max_delta_step=None, max_depth=9,\n",
              "                               max_leaves=None, min_child_weight=None,\n",
              "                               missing=nan, monotone_constraints=None,\n",
              "                               n_estimators=72, n_jobs=None,\n",
              "                               num_parallel_tree=None, predictor=None, ...))])</pre><b>In a Jupyter environment, please rerun this cell to show the HTML representation or trust the notebook. <br />On GitHub, the HTML representation is unable to render, please try loading this page with nbviewer.org.</b></div><div class=\"sk-container\" hidden><div class=\"sk-item sk-dashed-wrapped\"><div class=\"sk-label-container\"><div class=\"sk-label sk-toggleable\"><input class=\"sk-toggleable__control sk-hidden--visually\" id=\"sk-estimator-id-1\" type=\"checkbox\" ><label for=\"sk-estimator-id-1\" class=\"sk-toggleable__label sk-toggleable__label-arrow\">Pipeline</label><div class=\"sk-toggleable__content\"><pre>Pipeline(steps=[(&#x27;cv&#x27;,\n",
              "                 CountVectorizer(max_df=0.911, min_df=4, ngram_range=(1, 2))),\n",
              "                (&#x27;xgb&#x27;,\n",
              "                 XGBClassifier(base_score=None, booster=None, callbacks=None,\n",
              "                               colsample_bylevel=None, colsample_bynode=None,\n",
              "                               colsample_bytree=None,\n",
              "                               early_stopping_rounds=None,\n",
              "                               enable_categorical=False, eval_metric=None,\n",
              "                               feature_types=None, gamma=0.1, gpu_id=None,\n",
              "                               grow_policy=None, importance_type=None,\n",
              "                               interaction_constraints=None, lambda=0.275,\n",
              "                               learning_rate=0.2, max_bin=None,\n",
              "                               max_cat_threshold=None, max_cat_to_onehot=None,\n",
              "                               max_delta_step=None, max_depth=9,\n",
              "                               max_leaves=None, min_child_weight=None,\n",
              "                               missing=nan, monotone_constraints=None,\n",
              "                               n_estimators=72, n_jobs=None,\n",
              "                               num_parallel_tree=None, predictor=None, ...))])</pre></div></div></div><div class=\"sk-serial\"><div class=\"sk-item\"><div class=\"sk-estimator sk-toggleable\"><input class=\"sk-toggleable__control sk-hidden--visually\" id=\"sk-estimator-id-2\" type=\"checkbox\" ><label for=\"sk-estimator-id-2\" class=\"sk-toggleable__label sk-toggleable__label-arrow\">CountVectorizer</label><div class=\"sk-toggleable__content\"><pre>CountVectorizer(max_df=0.911, min_df=4, ngram_range=(1, 2))</pre></div></div></div><div class=\"sk-item\"><div class=\"sk-estimator sk-toggleable\"><input class=\"sk-toggleable__control sk-hidden--visually\" id=\"sk-estimator-id-3\" type=\"checkbox\" ><label for=\"sk-estimator-id-3\" class=\"sk-toggleable__label sk-toggleable__label-arrow\">XGBClassifier</label><div class=\"sk-toggleable__content\"><pre>XGBClassifier(base_score=None, booster=None, callbacks=None,\n",
              "              colsample_bylevel=None, colsample_bynode=None,\n",
              "              colsample_bytree=None, early_stopping_rounds=None,\n",
              "              enable_categorical=False, eval_metric=None, feature_types=None,\n",
              "              gamma=0.1, gpu_id=None, grow_policy=None, importance_type=None,\n",
              "              interaction_constraints=None, lambda=0.275, learning_rate=0.2,\n",
              "              max_bin=None, max_cat_threshold=None, max_cat_to_onehot=None,\n",
              "              max_delta_step=None, max_depth=9, max_leaves=None,\n",
              "              min_child_weight=None, missing=nan, monotone_constraints=None,\n",
              "              n_estimators=72, n_jobs=None, num_parallel_tree=None,\n",
              "              predictor=None, ...)</pre></div></div></div></div></div></div></div>"
            ]
          },
          "metadata": {},
          "execution_count": 20
        }
      ]
    },
    {
      "cell_type": "code",
      "source": [
        "mostrarPerformanceConBinarizador(xgb_model,X_train_lematizado,y_train_encoded)"
      ],
      "metadata": {
        "colab": {
          "base_uri": "https://localhost:8080/",
          "height": 605
        },
        "id": "UipqyFrSEjPn",
        "outputId": "d1a8382d-12ee-43fd-844d-a059a8a9536c"
      },
      "execution_count": null,
      "outputs": [
        {
          "output_type": "stream",
          "name": "stdout",
          "text": [
            "              precision    recall  f1-score   support\n",
            "\n",
            "           0       0.95      0.91      0.93     17401\n",
            "           1       0.92      0.95      0.93     17599\n",
            "\n",
            "    accuracy                           0.93     35000\n",
            "   macro avg       0.93      0.93      0.93     35000\n",
            "weighted avg       0.93      0.93      0.93     35000\n",
            "\n"
          ]
        },
        {
          "output_type": "display_data",
          "data": {
            "text/plain": [
              "<Figure size 640x480 with 2 Axes>"
            ],
            "image/png": "[encoded data removed]"
          },
          "metadata": {}
        }
      ]
    },
    {
      "cell_type": "code",
      "source": [
        "mostrarPerformanceConBinarizador(xgb_model,X_test_lematizado,y_test_encoded)"
      ],
      "metadata": {
        "colab": {
          "base_uri": "https://localhost:8080/",
          "height": 605
        },
        "id": "e7outCAsD6lN",
        "outputId": "dcee3a57-911d-496e-9672-1cddee8b9110"
      },
      "execution_count": null,
      "outputs": [
        {
          "output_type": "stream",
          "name": "stdout",
          "text": [
            "              precision    recall  f1-score   support\n",
            "\n",
            "           0       0.85      0.82      0.83      7599\n",
            "           1       0.82      0.86      0.84      7401\n",
            "\n",
            "    accuracy                           0.84     15000\n",
            "   macro avg       0.84      0.84      0.84     15000\n",
            "weighted avg       0.84      0.84      0.84     15000\n",
            "\n"
          ]
        },
        {
          "output_type": "display_data",
          "data": {
            "text/plain": [
              "<Figure size 640x480 with 2 Axes>"
            ],
            "image/png": "[encoded data removed]"
          },
          "metadata": {}
        }
      ]
    },
    {
      "cell_type": "markdown",
      "source": [
        "Podemos ver que sigue habiendo overfitting, pero las metricas aumentaron al mismo ritmo en ambos set de datos.\n"
      ],
      "metadata": {
        "id": "vz-Q3Rq7MZiF"
      }
    },
    {
      "cell_type": "code",
      "source": [
        "importancias_caracteristicas = xgb_model.named_steps['xgb'].feature_importances_\n",
        "nombres_caracteristicas = xgb_model.named_steps['cv'].get_feature_names_out()\n",
        "\n",
        "# Obtener los índices de las características ordenadas por importancia ascendente\n",
        "indices_ordenados = importancias_caracteristicas.argsort()\n",
        "\n",
        "# Imprimir las características en orden ascendente\n",
        "for i in range(len(indices_ordenados)):\n",
        "    indice = indices_ordenados[i]\n",
        "    importancia = importancias_caracteristicas[indice]\n",
        "    nombre_caracteristica = nombres_caracteristicas[indice]\n",
        "    if importancia > 0:\n",
        "      print(f\"Característica: {nombre_caracteristica}, Importancia: {importancia}\")"
      ],
      "metadata": {
        "id": "-chBHlVeEWML"
      },
      "execution_count": null,
      "outputs": []
    },
    {
      "cell_type": "markdown",
      "source": [
        "Podemos ver que se reducen la cantidad de palabras en el vocabulario y que alguna se combinan, aumentando asi su importancia. Seguimos viendo sin embargo que no se filtra correctamente el ruido y que se le da importancia a palabras irrelevantes."
      ],
      "metadata": {
        "id": "93ZZBfUmMkzj"
      }
    },
    {
      "cell_type": "markdown",
      "source": [
        "## Aumentamos hiperparametros de regularizacion"
      ],
      "metadata": {
        "id": "TZDw9sEQ-vq3"
      }
    },
    {
      "cell_type": "code",
      "source": [
        "from xgboost.sklearn import xgboost_model_doc\n",
        "param_xgb = {'learning_rate': 0.2,\n",
        "             'max_depth': 5,\n",
        "             'n_estimators': 72,\n",
        "             'subsample': 0.6,\n",
        "             'gamma': 0.3,\n",
        "             'lambda': 0.6,\n",
        "             'seed' : 0,\n",
        "}\n",
        "param_cv = {'ngram_range' : (1,2),\n",
        "            'min_df': 20,\n",
        "            'max_df': 0.911,\n",
        "}\n",
        "xgb_model = Pipeline([\n",
        "    ('cv', CountVectorizer(**param_cv)),\n",
        "    ('xgb',  xgb.XGBClassifier(**param_xgb))\n",
        "])\n",
        "xgb_model.fit(X_train,y_train_encoded)"
      ],
      "metadata": {
        "colab": {
          "base_uri": "https://localhost:8080/",
          "height": 125
        },
        "id": "-it9l14e-vL0",
        "outputId": "43fd0812-1964-4916-d031-06a75f1c1aaf"
      },
      "execution_count": null,
      "outputs": [
        {
          "output_type": "execute_result",
          "data": {
            "text/plain": [
              "Pipeline(steps=[('cv',\n",
              "                 CountVectorizer(max_df=0.911, min_df=20, ngram_range=(1, 2))),\n",
              "                ('xgb',\n",
              "                 XGBClassifier(base_score=None, booster=None, callbacks=None,\n",
              "                               colsample_bylevel=None, colsample_bynode=None,\n",
              "                               colsample_bytree=None,\n",
              "                               early_stopping_rounds=None,\n",
              "                               enable_categorical=False, eval_metric=None,\n",
              "                               feature_types=None, gamma=0.3, gpu_id=None,\n",
              "                               grow_policy=None, importance_type=None,\n",
              "                               interaction_constraints=None, lambda=0.6,\n",
              "                               learning_rate=0.2, max_bin=None,\n",
              "                               max_cat_threshold=None, max_cat_to_onehot=None,\n",
              "                               max_delta_step=None, max_depth=5,\n",
              "                               max_leaves=None, min_child_weight=None,\n",
              "                               missing=nan, monotone_constraints=None,\n",
              "                               n_estimators=72, n_jobs=None,\n",
              "                               num_parallel_tree=None, predictor=None, ...))])"
            ],
            "text/html": [
              "<style>#sk-container-id-1 {color: black;background-color: white;}#sk-container-id-1 pre{padding: 0;}#sk-container-id-1 div.sk-toggleable {background-color: white;}#sk-container-id-1 label.sk-toggleable__label {cursor: pointer;display: block;width: 100%;margin-bottom: 0;padding: 0.3em;box-sizing: border-box;text-align: center;}#sk-container-id-1 label.sk-toggleable__label-arrow:before {content: \"▸\";float: left;margin-right: 0.25em;color: #696969;}#sk-container-id-1 label.sk-toggleable__label-arrow:hover:before {color: black;}#sk-container-id-1 div.sk-estimator:hover label.sk-toggleable__label-arrow:before {color: black;}#sk-container-id-1 div.sk-toggleable__content {max-height: 0;max-width: 0;overflow: hidden;text-align: left;background-color: #f0f8ff;}#sk-container-id-1 div.sk-toggleable__content pre {margin: 0.2em;color: black;border-radius: 0.25em;background-color: #f0f8ff;}#sk-container-id-1 input.sk-toggleable__control:checked~div.sk-toggleable__content {max-height: 200px;max-width: 100%;overflow: auto;}#sk-container-id-1 input.sk-toggleable__control:checked~label.sk-toggleable__label-arrow:before {content: \"▾\";}#sk-container-id-1 div.sk-estimator input.sk-toggleable__control:checked~label.sk-toggleable__label {background-color: #d4ebff;}#sk-container-id-1 div.sk-label input.sk-toggleable__control:checked~label.sk-toggleable__label {background-color: #d4ebff;}#sk-container-id-1 input.sk-hidden--visually {border: 0;clip: rect(1px 1px 1px 1px);clip: rect(1px, 1px, 1px, 1px);height: 1px;margin: -1px;overflow: hidden;padding: 0;position: absolute;width: 1px;}#sk-container-id-1 div.sk-estimator {font-family: monospace;background-color: #f0f8ff;border: 1px dotted black;border-radius: 0.25em;box-sizing: border-box;margin-bottom: 0.5em;}#sk-container-id-1 div.sk-estimator:hover {background-color: #d4ebff;}#sk-container-id-1 div.sk-parallel-item::after {content: \"\";width: 100%;border-bottom: 1px solid gray;flex-grow: 1;}#sk-container-id-1 div.sk-label:hover label.sk-toggleable__label {background-color: #d4ebff;}#sk-container-id-1 div.sk-serial::before {content: \"\";position: absolute;border-left: 1px solid gray;box-sizing: border-box;top: 0;bottom: 0;left: 50%;z-index: 0;}#sk-container-id-1 div.sk-serial {display: flex;flex-direction: column;align-items: center;background-color: white;padding-right: 0.2em;padding-left: 0.2em;position: relative;}#sk-container-id-1 div.sk-item {position: relative;z-index: 1;}#sk-container-id-1 div.sk-parallel {display: flex;align-items: stretch;justify-content: center;background-color: white;position: relative;}#sk-container-id-1 div.sk-item::before, #sk-container-id-1 div.sk-parallel-item::before {content: \"\";position: absolute;border-left: 1px solid gray;box-sizing: border-box;top: 0;bottom: 0;left: 50%;z-index: -1;}#sk-container-id-1 div.sk-parallel-item {display: flex;flex-direction: column;z-index: 1;position: relative;background-color: white;}#sk-container-id-1 div.sk-parallel-item:first-child::after {align-self: flex-end;width: 50%;}#sk-container-id-1 div.sk-parallel-item:last-child::after {align-self: flex-start;width: 50%;}#sk-container-id-1 div.sk-parallel-item:only-child::after {width: 0;}#sk-container-id-1 div.sk-dashed-wrapped {border: 1px dashed gray;margin: 0 0.4em 0.5em 0.4em;box-sizing: border-box;padding-bottom: 0.4em;background-color: white;}#sk-container-id-1 div.sk-label label {font-family: monospace;font-weight: bold;display: inline-block;line-height: 1.2em;}#sk-container-id-1 div.sk-label-container {text-align: center;}#sk-container-id-1 div.sk-container {/* jupyter's `normalize.less` sets `[hidden] { display: none; }` but bootstrap.min.css set `[hidden] { display: none !important; }` so we also need the `!important` here to be able to override the default hidden behavior on the sphinx rendered scikit-learn.org. See: https://github.com/scikit-learn/scikit-learn/issues/21755 */display: inline-block !important;position: relative;}#sk-container-id-1 div.sk-text-repr-fallback {display: none;}</style><div id=\"sk-container-id-1\" class=\"sk-top-container\"><div class=\"sk-text-repr-fallback\"><pre>Pipeline(steps=[(&#x27;cv&#x27;,\n",
              "                 CountVectorizer(max_df=0.911, min_df=20, ngram_range=(1, 2))),\n",
              "                (&#x27;xgb&#x27;,\n",
              "                 XGBClassifier(base_score=None, booster=None, callbacks=None,\n",
              "                               colsample_bylevel=None, colsample_bynode=None,\n",
              "                               colsample_bytree=None,\n",
              "                               early_stopping_rounds=None,\n",
              "                               enable_categorical=False, eval_metric=None,\n",
              "                               feature_types=None, gamma=0.3, gpu_id=None,\n",
              "                               grow_policy=None, importance_type=None,\n",
              "                               interaction_constraints=None, lambda=0.6,\n",
              "                               learning_rate=0.2, max_bin=None,\n",
              "                               max_cat_threshold=None, max_cat_to_onehot=None,\n",
              "                               max_delta_step=None, max_depth=5,\n",
              "                               max_leaves=None, min_child_weight=None,\n",
              "                               missing=nan, monotone_constraints=None,\n",
              "                               n_estimators=72, n_jobs=None,\n",
              "                               num_parallel_tree=None, predictor=None, ...))])</pre><b>In a Jupyter environment, please rerun this cell to show the HTML representation or trust the notebook. <br />On GitHub, the HTML representation is unable to render, please try loading this page with nbviewer.org.</b></div><div class=\"sk-container\" hidden><div class=\"sk-item sk-dashed-wrapped\"><div class=\"sk-label-container\"><div class=\"sk-label sk-toggleable\"><input class=\"sk-toggleable__control sk-hidden--visually\" id=\"sk-estimator-id-1\" type=\"checkbox\" ><label for=\"sk-estimator-id-1\" class=\"sk-toggleable__label sk-toggleable__label-arrow\">Pipeline</label><div class=\"sk-toggleable__content\"><pre>Pipeline(steps=[(&#x27;cv&#x27;,\n",
              "                 CountVectorizer(max_df=0.911, min_df=20, ngram_range=(1, 2))),\n",
              "                (&#x27;xgb&#x27;,\n",
              "                 XGBClassifier(base_score=None, booster=None, callbacks=None,\n",
              "                               colsample_bylevel=None, colsample_bynode=None,\n",
              "                               colsample_bytree=None,\n",
              "                               early_stopping_rounds=None,\n",
              "                               enable_categorical=False, eval_metric=None,\n",
              "                               feature_types=None, gamma=0.3, gpu_id=None,\n",
              "                               grow_policy=None, importance_type=None,\n",
              "                               interaction_constraints=None, lambda=0.6,\n",
              "                               learning_rate=0.2, max_bin=None,\n",
              "                               max_cat_threshold=None, max_cat_to_onehot=None,\n",
              "                               max_delta_step=None, max_depth=5,\n",
              "                               max_leaves=None, min_child_weight=None,\n",
              "                               missing=nan, monotone_constraints=None,\n",
              "                               n_estimators=72, n_jobs=None,\n",
              "                               num_parallel_tree=None, predictor=None, ...))])</pre></div></div></div><div class=\"sk-serial\"><div class=\"sk-item\"><div class=\"sk-estimator sk-toggleable\"><input class=\"sk-toggleable__control sk-hidden--visually\" id=\"sk-estimator-id-2\" type=\"checkbox\" ><label for=\"sk-estimator-id-2\" class=\"sk-toggleable__label sk-toggleable__label-arrow\">CountVectorizer</label><div class=\"sk-toggleable__content\"><pre>CountVectorizer(max_df=0.911, min_df=20, ngram_range=(1, 2))</pre></div></div></div><div class=\"sk-item\"><div class=\"sk-estimator sk-toggleable\"><input class=\"sk-toggleable__control sk-hidden--visually\" id=\"sk-estimator-id-3\" type=\"checkbox\" ><label for=\"sk-estimator-id-3\" class=\"sk-toggleable__label sk-toggleable__label-arrow\">XGBClassifier</label><div class=\"sk-toggleable__content\"><pre>XGBClassifier(base_score=None, booster=None, callbacks=None,\n",
              "              colsample_bylevel=None, colsample_bynode=None,\n",
              "              colsample_bytree=None, early_stopping_rounds=None,\n",
              "              enable_categorical=False, eval_metric=None, feature_types=None,\n",
              "              gamma=0.3, gpu_id=None, grow_policy=None, importance_type=None,\n",
              "              interaction_constraints=None, lambda=0.6, learning_rate=0.2,\n",
              "              max_bin=None, max_cat_threshold=None, max_cat_to_onehot=None,\n",
              "              max_delta_step=None, max_depth=5, max_leaves=None,\n",
              "              min_child_weight=None, missing=nan, monotone_constraints=None,\n",
              "              n_estimators=72, n_jobs=None, num_parallel_tree=None,\n",
              "              predictor=None, ...)</pre></div></div></div></div></div></div></div>"
            ]
          },
          "metadata": {},
          "execution_count": 17
        }
      ]
    },
    {
      "cell_type": "code",
      "source": [
        "mostrarPerformanceConBinarizador(xgb_model,X_train,y_train_encoded)"
      ],
      "metadata": {
        "colab": {
          "base_uri": "https://localhost:8080/",
          "height": 605
        },
        "outputId": "b8dd4743-b3ab-4907-8d00-7dbada1cb218",
        "id": "l3wXUVbV_whb"
      },
      "execution_count": null,
      "outputs": [
        {
          "output_type": "stream",
          "name": "stdout",
          "text": [
            "              precision    recall  f1-score   support\n",
            "\n",
            "           0       0.89      0.81      0.84     17401\n",
            "           1       0.82      0.90      0.86     17599\n",
            "\n",
            "    accuracy                           0.85     35000\n",
            "   macro avg       0.86      0.85      0.85     35000\n",
            "weighted avg       0.85      0.85      0.85     35000\n",
            "\n"
          ]
        },
        {
          "output_type": "display_data",
          "data": {
            "text/plain": [
              "<Figure size 640x480 with 2 Axes>"
            ],
            "image/png": "[encoded data removed]"
          },
          "metadata": {}
        }
      ]
    },
    {
      "cell_type": "code",
      "source": [
        "mostrarPerformanceConBinarizador(xgb_model,X_test,y_test_encoded)"
      ],
      "metadata": {
        "colab": {
          "base_uri": "https://localhost:8080/",
          "height": 605
        },
        "id": "bgzYuQjJ_zxD",
        "outputId": "beacfee3-3180-42c8-9310-2b892e67e4bd"
      },
      "execution_count": null,
      "outputs": [
        {
          "output_type": "stream",
          "name": "stdout",
          "text": [
            "              precision    recall  f1-score   support\n",
            "\n",
            "           0       0.85      0.77      0.81      7599\n",
            "           1       0.79      0.86      0.82      7401\n",
            "\n",
            "    accuracy                           0.82     15000\n",
            "   macro avg       0.82      0.82      0.82     15000\n",
            "weighted avg       0.82      0.82      0.82     15000\n",
            "\n"
          ]
        },
        {
          "output_type": "display_data",
          "data": {
            "text/plain": [
              "<Figure size 640x480 with 2 Axes>"
            ],
            "image/png": "[encoded data removed]"
          },
          "metadata": {}
        }
      ]
    },
    {
      "cell_type": "code",
      "source": [],
      "metadata": {
        "id": "R_O7HGNyAG-M"
      },
      "execution_count": null,
      "outputs": []
    },
    {
      "cell_type": "markdown",
      "source": [
        "# Modelo de red neuronal aplicando Keras y Tensor Flow"
      ],
      "metadata": {
        "id": "dOcvu1cSooiy"
      }
    },
    {
      "cell_type": "markdown",
      "source": [
        "## Modelo con una capa oculta y dropout"
      ],
      "metadata": {
        "id": "Ch7JZo35-ONv"
      }
    },
    {
      "cell_type": "markdown",
      "source": [
        "Entrenaremos ahora una red neuronal con el fin de predecir el sentimiento de las resenas. Empezamos separando como antes el dataset en train y test. Realizaremos un primer modelo casi de la misma manera que trabajamos en el trabajo anterior."
      ],
      "metadata": {
        "id": "hpl4lSy6-GMd"
      }
    },
    {
      "cell_type": "code",
      "source": [
        "X_train,X_test,y_train,y_test = train_test_split(ds_normalizado.review_es,\n",
        "                                                 ds_normalizado.sentimiento,\n",
        "                                                 test_size =0.30,\n",
        "                                                 random_state=25,\n",
        "                                                 shuffle=True)"
      ],
      "metadata": {
        "id": "cXjm3zbYtWFH"
      },
      "execution_count": null,
      "outputs": []
    },
    {
      "cell_type": "markdown",
      "source": [
        "Crearemos nuestro bag of words mediante la funcion Count Vectorizer, setteando como hiperparametros los elegidos para Bayes Naive con bernoulli, pues este modelo tuvo una alta performance."
      ],
      "metadata": {
        "id": "aGhsOkJh-e8l"
      }
    },
    {
      "cell_type": "code",
      "source": [
        "count_vect_neuronal = CountVectorizer(min_df=30, ngram_range= (1,2))\n",
        "X_train_count = count_vect_neuronal.fit_transform(X_train)\n",
        "X_test_count = count_vect_neuronal.transform(X_test)"
      ],
      "metadata": {
        "id": "52M80d29tLjz"
      },
      "execution_count": null,
      "outputs": []
    },
    {
      "cell_type": "markdown",
      "source": [
        "Codificamos nuevamente el target, de palabras a 0s y 1s ya que la funcion lo requiere"
      ],
      "metadata": {
        "id": "CLDx5tz0_ANT"
      }
    },
    {
      "cell_type": "code",
      "source": [
        "y_train_encoded, y_test_encoded = mapear_palabras_a_numeros(y_train, y_test)"
      ],
      "metadata": {
        "id": "0qO185pzvhbT"
      },
      "execution_count": null,
      "outputs": []
    },
    {
      "cell_type": "markdown",
      "source": [
        "Armamos la red con 1 unica capa oculta. En la capa de salida usamos como funcion de activacion la sigmoidea, dada la naturaleza de nuestro problema. Agregamos ademas, dropout entre capas con el fin de reducir el sobreajuste. Luego compilamos el modelo usando como optimizador adam, ya que este es muy usado y suele ser bueno, y la entropia binaria cruzada."
      ],
      "metadata": {
        "id": "7mUWvOr0Andf"
      }
    },
    {
      "cell_type": "code",
      "source": [
        "input_dim = (X_train_count.shape[1],)\n",
        "\n",
        "red = Sequential()\n",
        "input_shape = (input_dim,)\n",
        "red.add(Dense(100, activation='relu', input_shape=input_dim))\n",
        "red.add(Dropout(0.18))\n",
        "red.add(Dense(50, activation='relu'))\n",
        "red.add(Dropout(0.15))\n",
        "red.add(Dense(1, activation='sigmoid'))\n",
        "\n",
        "red.compile(loss='binary_crossentropy',\n",
        "              optimizer='adam',\n",
        "              metrics=['accuracy'])\n",
        "red.summary()"
      ],
      "metadata": {
        "id": "4DB7-ZvVs1Wq",
        "colab": {
          "base_uri": "https://localhost:8080/"
        },
        "outputId": "bff33abc-1670-4c77-a1a5-00d24ed77f7d"
      },
      "execution_count": null,
      "outputs": [
        {
          "output_type": "stream",
          "name": "stdout",
          "text": [
            "Model: \"sequential\"\n",
            "_________________________________________________________________\n",
            " Layer (type)                Output Shape              Param #   \n",
            "=================================================================\n",
            " dense (Dense)               (None, 100)               2016700   \n",
            "                                                                 \n",
            " dropout (Dropout)           (None, 100)               0         \n",
            "                                                                 \n",
            " dense_1 (Dense)             (None, 50)                5050      \n",
            "                                                                 \n",
            " dropout_1 (Dropout)         (None, 50)                0         \n",
            "                                                                 \n",
            " dense_2 (Dense)             (None, 1)                 51        \n",
            "                                                                 \n",
            "=================================================================\n",
            "Total params: 2,021,801\n",
            "Trainable params: 2,021,801\n",
            "Non-trainable params: 0\n",
            "_________________________________________________________________\n"
          ]
        }
      ]
    },
    {
      "cell_type": "markdown",
      "source": [
        "Entrenamos entonces al modelo, usando un tamano de lote de 32, pasando los fragmentos del vector de a fragmentos a array, ya si pasamos toda la X_train a array, el entorno se satura y se corta, pues se gasta toda la RAM disponible."
      ],
      "metadata": {
        "id": "e3Y-JTXzBbH9"
      }
    },
    {
      "cell_type": "code",
      "source": [
        "batch_size = 32\n",
        "\n",
        "# Obtener el número total de muestras de entrenamiento\n",
        "num_samples = X_train_count.shape[0]\n",
        "\n",
        "# Entrenar el modelo en lotes secuenciales\n",
        "for i in range(0, num_samples, batch_size):\n",
        "    start = i\n",
        "    end = min(i + batch_size, num_samples)\n",
        "    X_batch = X_train_count[start:end].toarray()\n",
        "    y_batch = y_train_encoded[start:end]\n",
        "    red.train_on_batch(X_batch, y_batch)\n"
      ],
      "metadata": {
        "id": "Xay6txXf2qoy"
      },
      "execution_count": null,
      "outputs": []
    },
    {
      "cell_type": "markdown",
      "source": [
        "Pasamos ahora el conjunto de testeo a un array de forma directa, ya que este es mas chico y no genera problemas, y luego realizamos predicciones sobre este."
      ],
      "metadata": {
        "id": "vkZQx6aWPwIZ"
      }
    },
    {
      "cell_type": "code",
      "source": [
        "X_test_dense = X_test_count.toarray()\n",
        "mostrarPerformanceConBinarizador (red, X_test_dense, y_test_encoded)"
      ],
      "metadata": {
        "id": "svA9uOii3eMV",
        "colab": {
          "base_uri": "https://localhost:8080/",
          "height": 623
        },
        "outputId": "843d05b0-38a1-4ce6-aa4c-a2f038cbce89"
      },
      "execution_count": null,
      "outputs": [
        {
          "output_type": "stream",
          "name": "stdout",
          "text": [
            "469/469 [==============================] - 5s 9ms/step\n",
            "              precision    recall  f1-score   support\n",
            "\n",
            "           0       0.91      0.84      0.87      7599\n",
            "           1       0.85      0.92      0.88      7401\n",
            "\n",
            "    accuracy                           0.88     15000\n",
            "   macro avg       0.88      0.88      0.88     15000\n",
            "weighted avg       0.88      0.88      0.88     15000\n",
            "\n"
          ]
        },
        {
          "output_type": "display_data",
          "data": {
            "text/plain": [
              "<Figure size 640x480 with 2 Axes>"
            ],
            "image/png": "[encoded data removed]"
          },
          "metadata": {}
        }
      ]
    },
    {
      "cell_type": "markdown",
      "source": [
        "Vemos que a este modelo le va muy bien. Sin embargo, no podemos confirmar que no este sobreajustando, pues no podemos probarlo en el conjunto de entrenamiento entero ya que hay problemas con la RAM. Sin embargo podemos observar la perdida y el accuracy del entrenamiento, y vemos que el accuracy del entrenamiento dio igual que el de test, lo cual es una buena senal. Al predecir en kaggle, este modelo tuvo un buen rendimiento."
      ],
      "metadata": {
        "id": "GN4YAwnsP8h9"
      }
    },
    {
      "cell_type": "code",
      "source": [
        "filename = \"red_neuronal_dropout.pickle\"\n",
        "\n",
        "# save model\n",
        "pickle.dump(red, open(filename, \"wb\"))"
      ],
      "metadata": {
        "id": "2_yN77KKKr6t"
      },
      "execution_count": null,
      "outputs": []
    },
    {
      "cell_type": "markdown",
      "source": [
        "## Modelo con dos capas ocultas y Early Stopping"
      ],
      "metadata": {
        "id": "aOPyaypQthnN"
      }
    },
    {
      "cell_type": "markdown",
      "source": [
        "Entrenaremos nuevamente una red neuronal como el modelo anterior, con el fin de predecir el sentimiento de las resenas. Pero agregaremos la técnica Early Stopping"
      ],
      "metadata": {
        "id": "IUp5jO9mtm29"
      }
    },
    {
      "cell_type": "code",
      "source": [
        "X_train, X_test, y_train, y_test = train_test_split(ds_normalizado.review_es,\n",
        "                                                    ds_normalizado.sentimiento,\n",
        "                                                    test_size=0.30,\n",
        "                                                    random_state=25,\n",
        "                                                    shuffle=True)"
      ],
      "metadata": {
        "id": "zvVhxEXWtmmZ"
      },
      "execution_count": null,
      "outputs": []
    },
    {
      "cell_type": "markdown",
      "source": [
        "Crearemos nuevamente un bag of words mediante la funcion Count Vectorizer, setteando como hiperparametros los elegidos para Bayes Naive con bernoulli, pues este modelo tuvo una alta performance."
      ],
      "metadata": {
        "id": "GTjk4hRZtybn"
      }
    },
    {
      "cell_type": "code",
      "source": [
        "count_vect_neuronal = CountVectorizer(min_df=30, ngram_range=(1, 2))\n",
        "X_train_count = count_vect_neuronal.fit_transform(X_train)\n",
        "X_test_count = count_vect_neuronal.transform(X_test)"
      ],
      "metadata": {
        "id": "WtV6sEhZt6kT"
      },
      "execution_count": null,
      "outputs": []
    },
    {
      "cell_type": "markdown",
      "source": [
        "Codificamos nuevamente el target, de palabras a 0s y 1s"
      ],
      "metadata": {
        "id": "JCvn366zt8OZ"
      }
    },
    {
      "cell_type": "code",
      "source": [
        "y_train_encoded, y_test_encoded = mapear_palabras_a_numeros(y_train, y_test)"
      ],
      "metadata": {
        "id": "NRtZJL10uDEW"
      },
      "execution_count": null,
      "outputs": []
    },
    {
      "cell_type": "markdown",
      "source": [
        "Armamos la red como el modelo anterior, pero modificando el tamaño de las capas, y agregando una capa oculta extra.\n"
      ],
      "metadata": {
        "id": "8XmxO_D9uDsv"
      }
    },
    {
      "cell_type": "code",
      "source": [
        "input_dim = X_train_count.shape[1]\n",
        "\n",
        "# Creación del modelo\n",
        "red = Sequential()\n",
        "red.add(Dense(200, activation='relu', input_dim=input_dim))\n",
        "red.add(Dropout(0.3))\n",
        "red.add(Dense(100, activation='relu'))\n",
        "red.add(Dropout(0.2))\n",
        "red.add(Dense(50, activation='relu'))\n",
        "red.add(Dropout(0.1))\n",
        "red.add(Dense(1, activation='sigmoid'))\n",
        "\n",
        "red.compile(loss='binary_crossentropy',\n",
        "              optimizer='adam',\n",
        "              metrics=['accuracy'])\n",
        "red.summary()"
      ],
      "metadata": {
        "id": "MiYwrD1Kucqx",
        "colab": {
          "base_uri": "https://localhost:8080/"
        },
        "outputId": "d9af7ac9-76bd-4abe-8ba6-4fb827be268b"
      },
      "execution_count": null,
      "outputs": [
        {
          "output_type": "stream",
          "name": "stdout",
          "text": [
            "Model: \"sequential_1\"\n",
            "_________________________________________________________________\n",
            " Layer (type)                Output Shape              Param #   \n",
            "=================================================================\n",
            " dense_3 (Dense)             (None, 200)               4033400   \n",
            "                                                                 \n",
            " dropout_2 (Dropout)         (None, 200)               0         \n",
            "                                                                 \n",
            " dense_4 (Dense)             (None, 100)               20100     \n",
            "                                                                 \n",
            " dropout_3 (Dropout)         (None, 100)               0         \n",
            "                                                                 \n",
            " dense_5 (Dense)             (None, 50)                5050      \n",
            "                                                                 \n",
            " dropout_4 (Dropout)         (None, 50)                0         \n",
            "                                                                 \n",
            " dense_6 (Dense)             (None, 1)                 51        \n",
            "                                                                 \n",
            "=================================================================\n",
            "Total params: 4,058,601\n",
            "Trainable params: 4,058,601\n",
            "Non-trainable params: 0\n",
            "_________________________________________________________________\n"
          ]
        }
      ]
    },
    {
      "cell_type": "markdown",
      "source": [
        "Ahora, generamos los datos utilizando una función auxiliar. Lo que hacemos ahora es, en vez de realizar un entrenamiento de a poco, entrenarlo todo junto pero vectorizando de a poco."
      ],
      "metadata": {
        "id": "9Kmq4hgru--0"
      }
    },
    {
      "cell_type": "code",
      "source": [
        "batch_size = 32\n",
        "train_generator = generador_de_lotes(X_train_count, y_train_encoded, batch_size)"
      ],
      "metadata": {
        "id": "Nm-q4qrZvDid"
      },
      "execution_count": null,
      "outputs": []
    },
    {
      "cell_type": "markdown",
      "source": [
        "Utilizamos el ***early stopping*** para controlar el proceso de entrenamiento del modelo de red neuronal, para intentar evitar el sobreajuste lo maximo posible."
      ],
      "metadata": {
        "id": "W-GtdnYyvFYT"
      }
    },
    {
      "cell_type": "code",
      "source": [
        "# Técnica Early Stopping\n",
        "early_stopping = EarlyStopping(monitor='val_loss', patience=3)\n",
        "\n",
        "# Modelo utilizando el generador de datos\n",
        "red.fit(train_generator,\n",
        "        steps_per_epoch=X_train_count.shape[0] // batch_size,\n",
        "        epochs=100,\n",
        "        validation_data=(X_test_count.toarray(), y_test_encoded),\n",
        "        callbacks=[early_stopping])"
      ],
      "metadata": {
        "id": "SEaEGvq3vFy7",
        "colab": {
          "base_uri": "https://localhost:8080/"
        },
        "outputId": "61dc781c-c5a5-46d1-b05f-4e79116a5df3"
      },
      "execution_count": null,
      "outputs": [
        {
          "output_type": "stream",
          "name": "stdout",
          "text": [
            "Epoch 1/100\n",
            "1093/1093 [==============================] - 84s 75ms/step - loss: 0.3477 - accuracy: 0.8544 - val_loss: 0.2810 - val_accuracy: 0.8861\n",
            "Epoch 2/100\n",
            "1093/1093 [==============================] - 64s 59ms/step - loss: 0.1591 - accuracy: 0.9393 - val_loss: 0.3231 - val_accuracy: 0.8762\n",
            "Epoch 3/100\n",
            "1093/1093 [==============================] - 71s 65ms/step - loss: 0.0603 - accuracy: 0.9794 - val_loss: 0.4568 - val_accuracy: 0.8786\n",
            "Epoch 4/100\n",
            "1093/1093 [==============================] - 78s 71ms/step - loss: 0.0305 - accuracy: 0.9902 - val_loss: 0.5755 - val_accuracy: 0.8717\n"
          ]
        },
        {
          "output_type": "execute_result",
          "data": {
            "text/plain": [
              "<keras.callbacks.History at 0x7f09b7983b50>"
            ]
          },
          "metadata": {},
          "execution_count": 52
        }
      ]
    },
    {
      "cell_type": "markdown",
      "source": [
        "Ahora, evaluaremos el modelo"
      ],
      "metadata": {
        "id": "WTWoX9kvv-kO"
      }
    },
    {
      "cell_type": "code",
      "source": [
        "mostrarPerformanceConBinarizador (red, X_test_count.toarray(), y_test_encoded)"
      ],
      "metadata": {
        "id": "icNgo5eVhnRx"
      },
      "execution_count": null,
      "outputs": []
    },
    {
      "cell_type": "code",
      "source": [
        "filename = \"red_neuronal_early_stopping.pickle\"\n",
        "\n",
        "# save model\n",
        "pickle.dump(red, open(filename, \"wb\"))"
      ],
      "metadata": {
        "id": "uBGt4cCphcMu"
      },
      "execution_count": null,
      "outputs": []
    },
    {
      "cell_type": "markdown",
      "source": [
        "## Modelo utilizando Early Stopping con TFIDF"
      ],
      "metadata": {
        "id": "IbZihVNAWqBu"
      }
    },
    {
      "cell_type": "markdown",
      "source": [
        "Entrenaremos nuevamente una red neuronal como el modelo anterior, con el fin de predecir el sentimiento de las reseñas."
      ],
      "metadata": {
        "id": "lZAZYcpqxSaK"
      }
    },
    {
      "cell_type": "code",
      "source": [
        "X_train, X_test, y_train, y_test = train_test_split(ds_normalizado['review_es'],\n",
        "                                                    ds_normalizado['sentimiento'],\n",
        "                                                    test_size=0.3,\n",
        "                                                    random_state=25,\n",
        "                                                    shuffle=True)\n"
      ],
      "metadata": {
        "id": "abDEFWn4WsV1"
      },
      "execution_count": null,
      "outputs": []
    },
    {
      "cell_type": "markdown",
      "source": [
        "A diferencia del modelo anterior, se crea una representación de los textos utilizando TF-IDF (Term Frequency-Inverse Document Frequency). Los parámetros min_df consideran las palabras que aparecen al menos en 30 documentos y ngra_range(1,2) indica que considerá las palabras individuales como las combinaciones de dos palabras."
      ],
      "metadata": {
        "id": "pv5QCC7lx6wj"
      }
    },
    {
      "cell_type": "code",
      "source": [
        "vectorizer = TfidfVectorizer(min_df=30, ngram_range=(1, 2))\n",
        "X_train_tfidf = vectorizer.fit_transform(X_train)\n",
        "X_test_tfidf = vectorizer.transform(X_test)\n"
      ],
      "metadata": {
        "id": "94jqQ6RSdA5e"
      },
      "execution_count": null,
      "outputs": []
    },
    {
      "cell_type": "markdown",
      "source": [
        "Convertimos las matrices dispersas de representaciones TF-IDF de los textos en tensores dispersos de TensorFlow. Esto nos parecio necesario para poder utilizar los datos en el modelo.\n"
      ],
      "metadata": {
        "id": "_Ha3-o-GysDi"
      }
    },
    {
      "cell_type": "code",
      "source": [
        "X_train_tfidf = tf.convert_to_tensor(X_train_tfidf.toarray(), dtype=tf.float32)\n",
        "X_test_tfidf = tf.convert_to_tensor(X_test_tfidf.toarray(), dtype=tf.float32)\n"
      ],
      "metadata": {
        "id": "vWUUTWsddBab"
      },
      "execution_count": null,
      "outputs": []
    },
    {
      "cell_type": "markdown",
      "source": [
        "Ahora, utilizamos LabelEncoder para asignar numeros a las etiquetas de las muestras."
      ],
      "metadata": {
        "id": "vBtxgGAvzCVd"
      }
    },
    {
      "cell_type": "code",
      "source": [
        "label_encoder = LabelEncoder()\n",
        "y_train_encoded = label_encoder.fit_transform(y_train)\n",
        "y_test_encoded = label_encoder.transform(y_test)\n"
      ],
      "metadata": {
        "id": "nSunSBS0dD8N"
      },
      "execution_count": null,
      "outputs": []
    },
    {
      "cell_type": "markdown",
      "source": [
        "Creamos el modelo,la primera capa densa tiene 500 neuronas y utiliza la función de activación Relu. El parámetro imput_dim se establece en la dimensión del conjunto de entrenamiento TF-IDF x_train_tfidf. Esto puede asegurarnos que la primera capa tenga la cantidad correcta de neuronas de entrada para procesar las características de los datos.Además agregamos una capa Dropout para desactivar un porcentaje de las neuronas durante el entrenamiento.\n",
        "\n",
        "\n"
      ],
      "metadata": {
        "id": "3Y-9iYQRzzyp"
      }
    },
    {
      "cell_type": "code",
      "source": [
        "input_dim = X_train_tfidf.shape[1]\n",
        "\n",
        "# Creación del modelo\n",
        "model = Sequential()\n",
        "model.add(Dense(500, activation='relu', input_dim=input_dim))\n",
        "model.add(Dropout(0.5))\n",
        "model.add(Dense(300, activation='relu'))\n",
        "model.add(Dropout(0.3))\n",
        "model.add(Dense(200, activation='relu'))\n",
        "model.add(Dropout(0.2))\n",
        "model.add(Dense(100, activation='relu'))\n",
        "model.add(Dropout(0.1))\n",
        "model.add(Dense(1, activation='sigmoid'))"
      ],
      "metadata": {
        "id": "RvpI2CHgdGxK"
      },
      "execution_count": null,
      "outputs": []
    },
    {
      "cell_type": "markdown",
      "source": [
        "Compilamos nuestro modelo y imprimimos su resumen."
      ],
      "metadata": {
        "id": "HXadDhHR0uLH"
      }
    },
    {
      "cell_type": "code",
      "source": [
        "model.compile(loss='binary_crossentropy', optimizer='adam', metrics=['accuracy'])\n",
        "\n",
        "model.summary()"
      ],
      "metadata": {
        "id": "zLiM4QQ3W9yT"
      },
      "execution_count": null,
      "outputs": []
    },
    {
      "cell_type": "markdown",
      "source": [
        "Entrenamos nuestra red neuronal usando la técnica Early Stopping y con la vectorización TFIDF."
      ],
      "metadata": {
        "id": "6JJF-mCI00GN"
      }
    },
    {
      "cell_type": "code",
      "source": [
        "history = model.fit(X_train_tfidf, y_train_encoded, epochs=20, batch_size=16,\n",
        "                    validation_split=0.2, callbacks=[EarlyStopping(patience=3, restore_best_weights=True)])\n"
      ],
      "metadata": {
        "id": "lwBNJ7pxW_KE"
      },
      "execution_count": null,
      "outputs": []
    },
    {
      "cell_type": "markdown",
      "source": [
        "Se obtienen ahora las metricas, pero ahora no podemos usar nuestra funcion ya que no contamos con las entradas que esta requiere"
      ],
      "metadata": {
        "id": "kjYaBVHT1qLB"
      }
    },
    {
      "cell_type": "code",
      "source": [
        "# Obtener las predicciones del modelo como probabilidades\n",
        "y_pred_prob = model.predict(X_test_tfidf)\n",
        "\n",
        "# Aplicar umbral de 0.5 para convertir las probabilidades en etiquetas binarias\n",
        "y_pred = (y_pred_prob >= 0.5).astype(int)\n",
        "\n",
        "# Convertir las etiquetas predichas a valores originales\n",
        "y_pred_original = label_encoder.inverse_transform(y_pred.flatten())\n",
        "\n",
        "# Convertir las etiquetas originales a valores originales\n",
        "y_test_original = label_encoder.inverse_transform(y_test_encoded)\n",
        "\n",
        "# Calcular las métricas\n",
        "accuracy = accuracy_score(y_test_original, y_pred_original)\n",
        "precision = precision_score(y_test_original, y_pred_original, average='weighted')\n",
        "recall = recall_score(y_test_original, y_pred_original, average='weighted')\n",
        "f1 = f1_score(y_test_original, y_pred_original, average='weighted')\n",
        "\n",
        "# Imprimir el informe de métricas\n",
        "print(\"Informe de métricas para el conjunto de prueba:\")\n",
        "print(\"Accuracy:\", accuracy)\n",
        "print(\"Precision:\", precision)\n",
        "print(\"Recall:\", recall)\n",
        "print(\"F1-Score:\", f1)\n"
      ],
      "metadata": {
        "id": "DGpn0dCCa6Vw"
      },
      "execution_count": null,
      "outputs": []
    },
    {
      "cell_type": "markdown",
      "source": [
        "Predecimos tambien sobre el set de entrenamiento"
      ],
      "metadata": {
        "id": "DC0Yib351yJs"
      }
    },
    {
      "cell_type": "code",
      "source": [
        "# Obtener las predicciones del modelo para el conjunto de entrenamiento\n",
        "y_train_pred_prob = model.predict(X_train_tfidf)\n",
        "y_train_pred = (y_train_pred_prob >= 0.5).astype(int)\n",
        "\n",
        "# Convertir las etiquetas codificadas del conjunto de entrenamiento a valores originales\n",
        "y_train_original = label_encoder.inverse_transform(y_train_encoded)\n",
        "\n",
        "# Convertir las etiquetas predichas del conjunto de entrenamiento a valores originales\n",
        "y_train_pred_original = label_encoder.inverse_transform(y_train_pred.flatten())\n",
        "\n",
        "# Calcular las métricas para el conjunto de entrenamiento\n",
        "train_accuracy = accuracy_score(y_train_original, y_train_pred_original)\n",
        "train_precision = precision_score(y_train_original, y_train_pred_original, average='weighted')\n",
        "train_recall = recall_score(y_train_original, y_train_pred_original, average='weighted')\n",
        "train_f1 = f1_score(y_train_original, y_train_pred_original, average='weighted')\n",
        "\n",
        "# Imprimir el informe de métricas para el conjunto de entrenamiento\n",
        "print(\"Informe de métricas para el conjunto de entrenamiento:\")\n",
        "print(\"Accuracy:\", train_accuracy)\n",
        "print(\"Precision:\", train_precision)\n",
        "print(\"Recall:\", train_recall)\n",
        "print(\"F1-Score:\", train_f1)\n"
      ],
      "metadata": {
        "id": "LAWG61zLbUBu"
      },
      "execution_count": null,
      "outputs": []
    },
    {
      "cell_type": "code",
      "source": [
        "filename = \"red_neuronal_es_tfidf.pickle\"\n",
        "\n",
        "# save model\n",
        "pickle.dump(model, open(filename, \"wb\"))"
      ],
      "metadata": {
        "id": "9JLNqh3Qxgmz"
      },
      "execution_count": null,
      "outputs": []
    },
    {
      "cell_type": "markdown",
      "source": [
        "# Ensambles Elegidos"
      ],
      "metadata": {
        "id": "qWPlt1Leqhuv"
      }
    },
    {
      "cell_type": "markdown",
      "source": [
        "## Voting\n"
      ],
      "metadata": {
        "id": "-bJ6ABLHA0Jl"
      }
    },
    {
      "cell_type": "markdown",
      "source": [
        "### Voting Hibrido"
      ],
      "metadata": {
        "id": "JZzAg7NOmbCV"
      }
    },
    {
      "cell_type": "markdown",
      "source": [
        "Entrenaremos ahora un ensamble hibrido, con el fin de predecir el sentimiento de las resenas. Empezamos separando como antes el dataset en train y test."
      ],
      "metadata": {
        "id": "T2ieYkKkw3O3"
      }
    },
    {
      "cell_type": "code",
      "source": [
        "X_train,X_test,y_train,y_test = train_test_split(ds_normalizado['review_es'],\n",
        "                                                 ds_normalizado['sentimiento'],\n",
        "                                                 test_size =0.30,\n",
        "                                                 random_state=25,\n",
        "                                                 shuffle=True)"
      ],
      "metadata": {
        "id": "BVFCgJThBITs"
      },
      "execution_count": null,
      "outputs": []
    },
    {
      "cell_type": "code",
      "source": [
        "y_train_encoded, y_test_encoded = mapear_palabras_a_numeros(y_train, y_test)\n"
      ],
      "metadata": {
        "id": "S8qDVMTmBLML"
      },
      "execution_count": null,
      "outputs": []
    },
    {
      "cell_type": "markdown",
      "source": [
        "Elegimos como modelos base una variedad de los distintos modelos vistos a lo largo de la materia, esperando que combinarlos implique un modelo mas fuerte."
      ],
      "metadata": {
        "id": "BpTgIECvA3oi"
      }
    },
    {
      "cell_type": "code",
      "source": [
        "base_models = [('random_forest', RandomForestClassifier(n_estimators=50)),\n",
        "               ('svm', SVC(probability = True)),\n",
        "               ('knn', KNeighborsClassifier(n_neighbors=11)),\n",
        "               ('xgb', xgb.XGBClassifier())]\n"
      ],
      "metadata": {
        "id": "yPkUQfyJA18Q"
      },
      "execution_count": null,
      "outputs": []
    },
    {
      "cell_type": "code",
      "source": [
        "pipeline = Pipeline([\n",
        "    ('cv', CountVectorizer(min_df=1000)),\n",
        "    ('vot',  VotingClassifier(estimators = base_models, voting = 'soft'))\n",
        "])"
      ],
      "metadata": {
        "id": "pE91t9hsw_sk"
      },
      "execution_count": null,
      "outputs": []
    },
    {
      "cell_type": "code",
      "source": [
        "pipeline.fit(X_train,y_train_encoded)"
      ],
      "metadata": {
        "colab": {
          "base_uri": "https://localhost:8080/",
          "height": 217
        },
        "id": "Gx_kXhyBBkze",
        "outputId": "ae298a58-2221-41b5-f6c1-d8dadf3e3f69"
      },
      "execution_count": null,
      "outputs": [
        {
          "output_type": "execute_result",
          "data": {
            "text/plain": [
              "Pipeline(steps=[('cv', CountVectorizer(min_df=1000)),\n",
              "                ('tfidf', TfidfTransformer()),\n",
              "                ('vot',\n",
              "                 VotingClassifier(estimators=[('random_forest',\n",
              "                                               RandomForestClassifier(n_estimators=50)),\n",
              "                                              ('svm', SVC(probability=True)),\n",
              "                                              ('knn',\n",
              "                                               KNeighborsClassifier(n_neighbors=11)),\n",
              "                                              ('xgb',\n",
              "                                               XGBClassifier(base_score=None,\n",
              "                                                             booster=None,\n",
              "                                                             callbacks=None,\n",
              "                                                             colsample_bylevel=None,\n",
              "                                                             colsample_by...\n",
              "                                                             grow_policy=None,\n",
              "                                                             importance_type=None,\n",
              "                                                             interaction_constraints=None,\n",
              "                                                             learning_rate=None,\n",
              "                                                             max_bin=None,\n",
              "                                                             max_cat_threshold=None,\n",
              "                                                             max_cat_to_onehot=None,\n",
              "                                                             max_delta_step=None,\n",
              "                                                             max_depth=None,\n",
              "                                                             max_leaves=None,\n",
              "                                                             min_child_weight=None,\n",
              "                                                             missing=nan,\n",
              "                                                             monotone_constraints=None,\n",
              "                                                             n_estimators=100,\n",
              "                                                             n_jobs=None,\n",
              "                                                             num_parallel_tree=None,\n",
              "                                                             predictor=None,\n",
              "                                                             random_state=None, ...))],\n",
              "                                  voting='soft'))])"
            ],
            "text/html": [
              "<style>#sk-container-id-1 {color: black;background-color: white;}#sk-container-id-1 pre{padding: 0;}#sk-container-id-1 div.sk-toggleable {background-color: white;}#sk-container-id-1 label.sk-toggleable__label {cursor: pointer;display: block;width: 100%;margin-bottom: 0;padding: 0.3em;box-sizing: border-box;text-align: center;}#sk-container-id-1 label.sk-toggleable__label-arrow:before {content: \"▸\";float: left;margin-right: 0.25em;color: #696969;}#sk-container-id-1 label.sk-toggleable__label-arrow:hover:before {color: black;}#sk-container-id-1 div.sk-estimator:hover label.sk-toggleable__label-arrow:before {color: black;}#sk-container-id-1 div.sk-toggleable__content {max-height: 0;max-width: 0;overflow: hidden;text-align: left;background-color: #f0f8ff;}#sk-container-id-1 div.sk-toggleable__content pre {margin: 0.2em;color: black;border-radius: 0.25em;background-color: #f0f8ff;}#sk-container-id-1 input.sk-toggleable__control:checked~div.sk-toggleable__content {max-height: 200px;max-width: 100%;overflow: auto;}#sk-container-id-1 input.sk-toggleable__control:checked~label.sk-toggleable__label-arrow:before {content: \"▾\";}#sk-container-id-1 div.sk-estimator input.sk-toggleable__control:checked~label.sk-toggleable__label {background-color: #d4ebff;}#sk-container-id-1 div.sk-label input.sk-toggleable__control:checked~label.sk-toggleable__label {background-color: #d4ebff;}#sk-container-id-1 input.sk-hidden--visually {border: 0;clip: rect(1px 1px 1px 1px);clip: rect(1px, 1px, 1px, 1px);height: 1px;margin: -1px;overflow: hidden;padding: 0;position: absolute;width: 1px;}#sk-container-id-1 div.sk-estimator {font-family: monospace;background-color: #f0f8ff;border: 1px dotted black;border-radius: 0.25em;box-sizing: border-box;margin-bottom: 0.5em;}#sk-container-id-1 div.sk-estimator:hover {background-color: #d4ebff;}#sk-container-id-1 div.sk-parallel-item::after {content: \"\";width: 100%;border-bottom: 1px solid gray;flex-grow: 1;}#sk-container-id-1 div.sk-label:hover label.sk-toggleable__label {background-color: #d4ebff;}#sk-container-id-1 div.sk-serial::before {content: \"\";position: absolute;border-left: 1px solid gray;box-sizing: border-box;top: 0;bottom: 0;left: 50%;z-index: 0;}#sk-container-id-1 div.sk-serial {display: flex;flex-direction: column;align-items: center;background-color: white;padding-right: 0.2em;padding-left: 0.2em;position: relative;}#sk-container-id-1 div.sk-item {position: relative;z-index: 1;}#sk-container-id-1 div.sk-parallel {display: flex;align-items: stretch;justify-content: center;background-color: white;position: relative;}#sk-container-id-1 div.sk-item::before, #sk-container-id-1 div.sk-parallel-item::before {content: \"\";position: absolute;border-left: 1px solid gray;box-sizing: border-box;top: 0;bottom: 0;left: 50%;z-index: -1;}#sk-container-id-1 div.sk-parallel-item {display: flex;flex-direction: column;z-index: 1;position: relative;background-color: white;}#sk-container-id-1 div.sk-parallel-item:first-child::after {align-self: flex-end;width: 50%;}#sk-container-id-1 div.sk-parallel-item:last-child::after {align-self: flex-start;width: 50%;}#sk-container-id-1 div.sk-parallel-item:only-child::after {width: 0;}#sk-container-id-1 div.sk-dashed-wrapped {border: 1px dashed gray;margin: 0 0.4em 0.5em 0.4em;box-sizing: border-box;padding-bottom: 0.4em;background-color: white;}#sk-container-id-1 div.sk-label label {font-family: monospace;font-weight: bold;display: inline-block;line-height: 1.2em;}#sk-container-id-1 div.sk-label-container {text-align: center;}#sk-container-id-1 div.sk-container {/* jupyter's `normalize.less` sets `[hidden] { display: none; }` but bootstrap.min.css set `[hidden] { display: none !important; }` so we also need the `!important` here to be able to override the default hidden behavior on the sphinx rendered scikit-learn.org. See: https://github.com/scikit-learn/scikit-learn/issues/21755 */display: inline-block !important;position: relative;}#sk-container-id-1 div.sk-text-repr-fallback {display: none;}</style><div id=\"sk-container-id-1\" class=\"sk-top-container\"><div class=\"sk-text-repr-fallback\"><pre>Pipeline(steps=[(&#x27;cv&#x27;, CountVectorizer(min_df=1000)),\n",
              "                (&#x27;tfidf&#x27;, TfidfTransformer()),\n",
              "                (&#x27;vot&#x27;,\n",
              "                 VotingClassifier(estimators=[(&#x27;random_forest&#x27;,\n",
              "                                               RandomForestClassifier(n_estimators=50)),\n",
              "                                              (&#x27;svm&#x27;, SVC(probability=True)),\n",
              "                                              (&#x27;knn&#x27;,\n",
              "                                               KNeighborsClassifier(n_neighbors=11)),\n",
              "                                              (&#x27;xgb&#x27;,\n",
              "                                               XGBClassifier(base_score=None,\n",
              "                                                             booster=None,\n",
              "                                                             callbacks=None,\n",
              "                                                             colsample_bylevel=None,\n",
              "                                                             colsample_by...\n",
              "                                                             grow_policy=None,\n",
              "                                                             importance_type=None,\n",
              "                                                             interaction_constraints=None,\n",
              "                                                             learning_rate=None,\n",
              "                                                             max_bin=None,\n",
              "                                                             max_cat_threshold=None,\n",
              "                                                             max_cat_to_onehot=None,\n",
              "                                                             max_delta_step=None,\n",
              "                                                             max_depth=None,\n",
              "                                                             max_leaves=None,\n",
              "                                                             min_child_weight=None,\n",
              "                                                             missing=nan,\n",
              "                                                             monotone_constraints=None,\n",
              "                                                             n_estimators=100,\n",
              "                                                             n_jobs=None,\n",
              "                                                             num_parallel_tree=None,\n",
              "                                                             predictor=None,\n",
              "                                                             random_state=None, ...))],\n",
              "                                  voting=&#x27;soft&#x27;))])</pre><b>In a Jupyter environment, please rerun this cell to show the HTML representation or trust the notebook. <br />On GitHub, the HTML representation is unable to render, please try loading this page with nbviewer.org.</b></div><div class=\"sk-container\" hidden><div class=\"sk-item sk-dashed-wrapped\"><div class=\"sk-label-container\"><div class=\"sk-label sk-toggleable\"><input class=\"sk-toggleable__control sk-hidden--visually\" id=\"sk-estimator-id-1\" type=\"checkbox\" ><label for=\"sk-estimator-id-1\" class=\"sk-toggleable__label sk-toggleable__label-arrow\">Pipeline</label><div class=\"sk-toggleable__content\"><pre>Pipeline(steps=[(&#x27;cv&#x27;, CountVectorizer(min_df=1000)),\n",
              "                (&#x27;tfidf&#x27;, TfidfTransformer()),\n",
              "                (&#x27;vot&#x27;,\n",
              "                 VotingClassifier(estimators=[(&#x27;random_forest&#x27;,\n",
              "                                               RandomForestClassifier(n_estimators=50)),\n",
              "                                              (&#x27;svm&#x27;, SVC(probability=True)),\n",
              "                                              (&#x27;knn&#x27;,\n",
              "                                               KNeighborsClassifier(n_neighbors=11)),\n",
              "                                              (&#x27;xgb&#x27;,\n",
              "                                               XGBClassifier(base_score=None,\n",
              "                                                             booster=None,\n",
              "                                                             callbacks=None,\n",
              "                                                             colsample_bylevel=None,\n",
              "                                                             colsample_by...\n",
              "                                                             grow_policy=None,\n",
              "                                                             importance_type=None,\n",
              "                                                             interaction_constraints=None,\n",
              "                                                             learning_rate=None,\n",
              "                                                             max_bin=None,\n",
              "                                                             max_cat_threshold=None,\n",
              "                                                             max_cat_to_onehot=None,\n",
              "                                                             max_delta_step=None,\n",
              "                                                             max_depth=None,\n",
              "                                                             max_leaves=None,\n",
              "                                                             min_child_weight=None,\n",
              "                                                             missing=nan,\n",
              "                                                             monotone_constraints=None,\n",
              "                                                             n_estimators=100,\n",
              "                                                             n_jobs=None,\n",
              "                                                             num_parallel_tree=None,\n",
              "                                                             predictor=None,\n",
              "                                                             random_state=None, ...))],\n",
              "                                  voting=&#x27;soft&#x27;))])</pre></div></div></div><div class=\"sk-serial\"><div class=\"sk-item\"><div class=\"sk-estimator sk-toggleable\"><input class=\"sk-toggleable__control sk-hidden--visually\" id=\"sk-estimator-id-2\" type=\"checkbox\" ><label for=\"sk-estimator-id-2\" class=\"sk-toggleable__label sk-toggleable__label-arrow\">CountVectorizer</label><div class=\"sk-toggleable__content\"><pre>CountVectorizer(min_df=1000)</pre></div></div></div><div class=\"sk-item\"><div class=\"sk-estimator sk-toggleable\"><input class=\"sk-toggleable__control sk-hidden--visually\" id=\"sk-estimator-id-3\" type=\"checkbox\" ><label for=\"sk-estimator-id-3\" class=\"sk-toggleable__label sk-toggleable__label-arrow\">TfidfTransformer</label><div class=\"sk-toggleable__content\"><pre>TfidfTransformer()</pre></div></div></div><div class=\"sk-item sk-dashed-wrapped\"><div class=\"sk-label-container\"><div class=\"sk-label sk-toggleable\"><input class=\"sk-toggleable__control sk-hidden--visually\" id=\"sk-estimator-id-4\" type=\"checkbox\" ><label for=\"sk-estimator-id-4\" class=\"sk-toggleable__label sk-toggleable__label-arrow\">vot: VotingClassifier</label><div class=\"sk-toggleable__content\"><pre>VotingClassifier(estimators=[(&#x27;random_forest&#x27;,\n",
              "                              RandomForestClassifier(n_estimators=50)),\n",
              "                             (&#x27;svm&#x27;, SVC(probability=True)),\n",
              "                             (&#x27;knn&#x27;, KNeighborsClassifier(n_neighbors=11)),\n",
              "                             (&#x27;xgb&#x27;,\n",
              "                              XGBClassifier(base_score=None, booster=None,\n",
              "                                            callbacks=None,\n",
              "                                            colsample_bylevel=None,\n",
              "                                            colsample_bynode=None,\n",
              "                                            colsample_bytree=None,\n",
              "                                            early_stopping_rounds=None,\n",
              "                                            enable_categorical=False,\n",
              "                                            eval...\n",
              "                                            gpu_id=None, grow_policy=None,\n",
              "                                            importance_type=None,\n",
              "                                            interaction_constraints=None,\n",
              "                                            learning_rate=None, max_bin=None,\n",
              "                                            max_cat_threshold=None,\n",
              "                                            max_cat_to_onehot=None,\n",
              "                                            max_delta_step=None, max_depth=None,\n",
              "                                            max_leaves=None,\n",
              "                                            min_child_weight=None, missing=nan,\n",
              "                                            monotone_constraints=None,\n",
              "                                            n_estimators=100, n_jobs=None,\n",
              "                                            num_parallel_tree=None,\n",
              "                                            predictor=None, random_state=None, ...))],\n",
              "                 voting=&#x27;soft&#x27;)</pre></div></div></div><div class=\"sk-parallel\"><div class=\"sk-parallel-item\"><div class=\"sk-item\"><div class=\"sk-label-container\"><div class=\"sk-label sk-toggleable\"><label>random_forest</label></div></div><div class=\"sk-serial\"><div class=\"sk-item\"><div class=\"sk-estimator sk-toggleable\"><input class=\"sk-toggleable__control sk-hidden--visually\" id=\"sk-estimator-id-5\" type=\"checkbox\" ><label for=\"sk-estimator-id-5\" class=\"sk-toggleable__label sk-toggleable__label-arrow\">RandomForestClassifier</label><div class=\"sk-toggleable__content\"><pre>RandomForestClassifier(n_estimators=50)</pre></div></div></div></div></div></div><div class=\"sk-parallel-item\"><div class=\"sk-item\"><div class=\"sk-label-container\"><div class=\"sk-label sk-toggleable\"><label>svm</label></div></div><div class=\"sk-serial\"><div class=\"sk-item\"><div class=\"sk-estimator sk-toggleable\"><input class=\"sk-toggleable__control sk-hidden--visually\" id=\"sk-estimator-id-6\" type=\"checkbox\" ><label for=\"sk-estimator-id-6\" class=\"sk-toggleable__label sk-toggleable__label-arrow\">SVC</label><div class=\"sk-toggleable__content\"><pre>SVC(probability=True)</pre></div></div></div></div></div></div><div class=\"sk-parallel-item\"><div class=\"sk-item\"><div class=\"sk-label-container\"><div class=\"sk-label sk-toggleable\"><label>knn</label></div></div><div class=\"sk-serial\"><div class=\"sk-item\"><div class=\"sk-estimator sk-toggleable\"><input class=\"sk-toggleable__control sk-hidden--visually\" id=\"sk-estimator-id-7\" type=\"checkbox\" ><label for=\"sk-estimator-id-7\" class=\"sk-toggleable__label sk-toggleable__label-arrow\">KNeighborsClassifier</label><div class=\"sk-toggleable__content\"><pre>KNeighborsClassifier(n_neighbors=11)</pre></div></div></div></div></div></div><div class=\"sk-parallel-item\"><div class=\"sk-item\"><div class=\"sk-label-container\"><div class=\"sk-label sk-toggleable\"><label>xgb</label></div></div><div class=\"sk-serial\"><div class=\"sk-item\"><div class=\"sk-estimator sk-toggleable\"><input class=\"sk-toggleable__control sk-hidden--visually\" id=\"sk-estimator-id-8\" type=\"checkbox\" ><label for=\"sk-estimator-id-8\" class=\"sk-toggleable__label sk-toggleable__label-arrow\">XGBClassifier</label><div class=\"sk-toggleable__content\"><pre>XGBClassifier(base_score=None, booster=None, callbacks=None,\n",
              "              colsample_bylevel=None, colsample_bynode=None,\n",
              "              colsample_bytree=None, early_stopping_rounds=None,\n",
              "              enable_categorical=False, eval_metric=None, feature_types=None,\n",
              "              gamma=None, gpu_id=None, grow_policy=None, importance_type=None,\n",
              "              interaction_constraints=None, learning_rate=None, max_bin=None,\n",
              "              max_cat_threshold=None, max_cat_to_onehot=None,\n",
              "              max_delta_step=None, max_depth=None, max_leaves=None,\n",
              "              min_child_weight=None, missing=nan, monotone_constraints=None,\n",
              "              n_estimators=100, n_jobs=None, num_parallel_tree=None,\n",
              "              predictor=None, random_state=None, ...)</pre></div></div></div></div></div></div></div></div></div></div></div></div>"
            ]
          },
          "metadata": {},
          "execution_count": 31
        }
      ]
    },
    {
      "cell_type": "code",
      "source": [
        "mostrarPerformance(pipeline,X_test,y_test_encoded)"
      ],
      "metadata": {
        "colab": {
          "base_uri": "https://localhost:8080/",
          "height": 605
        },
        "id": "Ifut8o1uBpmz",
        "outputId": "d67ecf97-55eb-48c9-8fdf-05dd34d9c323"
      },
      "execution_count": null,
      "outputs": [
        {
          "output_type": "stream",
          "name": "stdout",
          "text": [
            "              precision    recall  f1-score   support\n",
            "\n",
            "           0       0.85      0.79      0.82      7599\n",
            "           1       0.80      0.86      0.83      7401\n",
            "\n",
            "    accuracy                           0.83     15000\n",
            "   macro avg       0.83      0.83      0.83     15000\n",
            "weighted avg       0.83      0.83      0.83     15000\n",
            "\n"
          ]
        },
        {
          "output_type": "display_data",
          "data": {
            "text/plain": [
              "<Figure size 640x480 with 2 Axes>"
            ],
            "image/png": "[encoded data removed]"
          },
          "metadata": {}
        }
      ]
    },
    {
      "cell_type": "code",
      "source": [
        "mostrarPerformance(pipeline,X_train,y_train_encoded)"
      ],
      "metadata": {
        "colab": {
          "base_uri": "https://localhost:8080/",
          "height": 605
        },
        "id": "cV9JGKxZBqTw",
        "outputId": "c0cf75c0-7d0f-483b-a1c1-4c9d87c5f8a0"
      },
      "execution_count": null,
      "outputs": [
        {
          "output_type": "stream",
          "name": "stdout",
          "text": [
            "              precision    recall  f1-score   support\n",
            "\n",
            "           0       0.97      0.95      0.96     17401\n",
            "           1       0.95      0.98      0.96     17599\n",
            "\n",
            "    accuracy                           0.96     35000\n",
            "   macro avg       0.96      0.96      0.96     35000\n",
            "weighted avg       0.96      0.96      0.96     35000\n",
            "\n"
          ]
        },
        {
          "output_type": "display_data",
          "data": {
            "text/plain": [
              "<Figure size 640x480 with 2 Axes>"
            ],
            "image/png": "[encoded data removed]"
          },
          "metadata": {}
        }
      ]
    },
    {
      "cell_type": "markdown",
      "source": [
        "Notamos que el modelo esta haciendo overfitting"
      ],
      "metadata": {
        "id": "KKVS57btBTOA"
      }
    },
    {
      "cell_type": "markdown",
      "source": [
        "### Voting con SVM"
      ],
      "metadata": {
        "id": "SEOM81Uh6IcO"
      }
    },
    {
      "cell_type": "markdown",
      "source": [
        "Entrenaremos ahora un ensamble hibrido \"Voting con SVM\",con el fin de predecir el sentimiento de las resenas. Empezamos separando como antes el dataset en train y test."
      ],
      "metadata": {
        "id": "vzkZ5-NOQjQj"
      }
    },
    {
      "cell_type": "code",
      "source": [
        "X_train, X_test, y_train, y_test = train_test_split(ds_normalizado['review_es'],\n",
        "                                                    ds_normalizado['sentimiento'],\n",
        "                                                    test_size=0.30,\n",
        "                                                    random_state=25,\n",
        "                                                    shuffle=True)"
      ],
      "metadata": {
        "id": "B-2M_K336Mv9"
      },
      "execution_count": null,
      "outputs": []
    },
    {
      "cell_type": "markdown",
      "source": [
        "En este caso, utilizamosel LabelEncoder para codificar las etiquetas de clase en valores numéricos. Esto es necesario para que el algoritmo SVM pueda trabajar con las etiquetas en formato numérico."
      ],
      "metadata": {
        "id": "1TElJDEDQoll"
      }
    },
    {
      "cell_type": "code",
      "source": [
        "y_train_encoded, y_test_encoded = mapear_palabras_a_numeros(y_train, y_test)"
      ],
      "metadata": {
        "id": "18EEbpZW6P4G"
      },
      "execution_count": null,
      "outputs": []
    },
    {
      "cell_type": "markdown",
      "source": [
        "Los modelos se utilizaran  con diferentes kernels: svm_linear con kernel lineal, svm_rbf con kernel radial basis function (RBF) y svm_poly con kernel polinomial de grado 3."
      ],
      "metadata": {
        "id": "ETak6VI4RK5u"
      }
    },
    {
      "cell_type": "code",
      "source": [
        "svm_linear = SVC(kernel='linear')\n",
        "svm_rbf = SVC(kernel='rbf')\n",
        "svm_poly = SVC(kernel='poly', degree=3)\n"
      ],
      "metadata": {
        "id": "Hu0G3fYS6SSP"
      },
      "execution_count": null,
      "outputs": []
    },
    {
      "cell_type": "markdown",
      "source": [
        "Construimos el modelo Voting con la clase VotingClassifer"
      ],
      "metadata": {
        "id": "B60hzZ3JRYzI"
      }
    },
    {
      "cell_type": "code",
      "source": [
        "voting_model = VotingClassifier(estimators=[('svm_linear', svm_linear),\n",
        "                                            ('svm_rbf', svm_rbf),\n",
        "                                            ('svm_poly', svm_poly)],\n",
        "                                voting='hard')\n"
      ],
      "metadata": {
        "id": "loVaIoZV6WW8"
      },
      "execution_count": null,
      "outputs": []
    },
    {
      "cell_type": "markdown",
      "source": [
        "En este caso, construimos el pipeline con la etapa de vectorización usando CountVectorizer y el modelo voting creado anteriormente. El vectorizador se encarga de convertir el texto en representaciones numéricas."
      ],
      "metadata": {
        "id": "k4YCqzanRgg2"
      }
    },
    {
      "cell_type": "code",
      "source": [
        "voting_pipeline_svm = Pipeline([\n",
        "    ('vectorizer', CountVectorizer()),\n",
        "    ('voting', voting_model)\n",
        "])"
      ],
      "metadata": {
        "id": "tyWNgyOx6a2R"
      },
      "execution_count": null,
      "outputs": []
    },
    {
      "cell_type": "markdown",
      "source": [
        "Acá se puede visualizar,durante el entrenamiento, los modelos SVM son ajustados y el modelo de Voting aprende a combinar sus predicciones."
      ],
      "metadata": {
        "id": "aCgC15hWR2AG"
      }
    },
    {
      "cell_type": "code",
      "source": [
        "voting_pipeline_svm.fit(X_train, y_train_encoded)\n"
      ],
      "metadata": {
        "id": "TabfG_hP6dnY",
        "colab": {
          "base_uri": "https://localhost:8080/",
          "height": 185
        },
        "outputId": "167b2ac7-d2dc-4bf5-a56b-afd690705cdd"
      },
      "execution_count": null,
      "outputs": [
        {
          "output_type": "execute_result",
          "data": {
            "text/plain": [
              "Pipeline(steps=[('vectorizer', CountVectorizer()),\n",
              "                ('voting',\n",
              "                 VotingClassifier(estimators=[('svm_linear',\n",
              "                                               SVC(kernel='linear')),\n",
              "                                              ('svm_rbf', SVC()),\n",
              "                                              ('svm_poly',\n",
              "                                               SVC(kernel='poly'))]))])"
            ],
            "text/html": [
              "<style>#sk-container-id-1 {color: black;background-color: white;}#sk-container-id-1 pre{padding: 0;}#sk-container-id-1 div.sk-toggleable {background-color: white;}#sk-container-id-1 label.sk-toggleable__label {cursor: pointer;display: block;width: 100%;margin-bottom: 0;padding: 0.3em;box-sizing: border-box;text-align: center;}#sk-container-id-1 label.sk-toggleable__label-arrow:before {content: \"▸\";float: left;margin-right: 0.25em;color: #696969;}#sk-container-id-1 label.sk-toggleable__label-arrow:hover:before {color: black;}#sk-container-id-1 div.sk-estimator:hover label.sk-toggleable__label-arrow:before {color: black;}#sk-container-id-1 div.sk-toggleable__content {max-height: 0;max-width: 0;overflow: hidden;text-align: left;background-color: #f0f8ff;}#sk-container-id-1 div.sk-toggleable__content pre {margin: 0.2em;color: black;border-radius: 0.25em;background-color: #f0f8ff;}#sk-container-id-1 input.sk-toggleable__control:checked~div.sk-toggleable__content {max-height: 200px;max-width: 100%;overflow: auto;}#sk-container-id-1 input.sk-toggleable__control:checked~label.sk-toggleable__label-arrow:before {content: \"▾\";}#sk-container-id-1 div.sk-estimator input.sk-toggleable__control:checked~label.sk-toggleable__label {background-color: #d4ebff;}#sk-container-id-1 div.sk-label input.sk-toggleable__control:checked~label.sk-toggleable__label {background-color: #d4ebff;}#sk-container-id-1 input.sk-hidden--visually {border: 0;clip: rect(1px 1px 1px 1px);clip: rect(1px, 1px, 1px, 1px);height: 1px;margin: -1px;overflow: hidden;padding: 0;position: absolute;width: 1px;}#sk-container-id-1 div.sk-estimator {font-family: monospace;background-color: #f0f8ff;border: 1px dotted black;border-radius: 0.25em;box-sizing: border-box;margin-bottom: 0.5em;}#sk-container-id-1 div.sk-estimator:hover {background-color: #d4ebff;}#sk-container-id-1 div.sk-parallel-item::after {content: \"\";width: 100%;border-bottom: 1px solid gray;flex-grow: 1;}#sk-container-id-1 div.sk-label:hover label.sk-toggleable__label {background-color: #d4ebff;}#sk-container-id-1 div.sk-serial::before {content: \"\";position: absolute;border-left: 1px solid gray;box-sizing: border-box;top: 0;bottom: 0;left: 50%;z-index: 0;}#sk-container-id-1 div.sk-serial {display: flex;flex-direction: column;align-items: center;background-color: white;padding-right: 0.2em;padding-left: 0.2em;position: relative;}#sk-container-id-1 div.sk-item {position: relative;z-index: 1;}#sk-container-id-1 div.sk-parallel {display: flex;align-items: stretch;justify-content: center;background-color: white;position: relative;}#sk-container-id-1 div.sk-item::before, #sk-container-id-1 div.sk-parallel-item::before {content: \"\";position: absolute;border-left: 1px solid gray;box-sizing: border-box;top: 0;bottom: 0;left: 50%;z-index: -1;}#sk-container-id-1 div.sk-parallel-item {display: flex;flex-direction: column;z-index: 1;position: relative;background-color: white;}#sk-container-id-1 div.sk-parallel-item:first-child::after {align-self: flex-end;width: 50%;}#sk-container-id-1 div.sk-parallel-item:last-child::after {align-self: flex-start;width: 50%;}#sk-container-id-1 div.sk-parallel-item:only-child::after {width: 0;}#sk-container-id-1 div.sk-dashed-wrapped {border: 1px dashed gray;margin: 0 0.4em 0.5em 0.4em;box-sizing: border-box;padding-bottom: 0.4em;background-color: white;}#sk-container-id-1 div.sk-label label {font-family: monospace;font-weight: bold;display: inline-block;line-height: 1.2em;}#sk-container-id-1 div.sk-label-container {text-align: center;}#sk-container-id-1 div.sk-container {/* jupyter's `normalize.less` sets `[hidden] { display: none; }` but bootstrap.min.css set `[hidden] { display: none !important; }` so we also need the `!important` here to be able to override the default hidden behavior on the sphinx rendered scikit-learn.org. See: https://github.com/scikit-learn/scikit-learn/issues/21755 */display: inline-block !important;position: relative;}#sk-container-id-1 div.sk-text-repr-fallback {display: none;}</style><div id=\"sk-container-id-1\" class=\"sk-top-container\"><div class=\"sk-text-repr-fallback\"><pre>Pipeline(steps=[(&#x27;vectorizer&#x27;, CountVectorizer()),\n",
              "                (&#x27;voting&#x27;,\n",
              "                 VotingClassifier(estimators=[(&#x27;svm_linear&#x27;,\n",
              "                                               SVC(kernel=&#x27;linear&#x27;)),\n",
              "                                              (&#x27;svm_rbf&#x27;, SVC()),\n",
              "                                              (&#x27;svm_poly&#x27;,\n",
              "                                               SVC(kernel=&#x27;poly&#x27;))]))])</pre><b>In a Jupyter environment, please rerun this cell to show the HTML representation or trust the notebook. <br />On GitHub, the HTML representation is unable to render, please try loading this page with nbviewer.org.</b></div><div class=\"sk-container\" hidden><div class=\"sk-item sk-dashed-wrapped\"><div class=\"sk-label-container\"><div class=\"sk-label sk-toggleable\"><input class=\"sk-toggleable__control sk-hidden--visually\" id=\"sk-estimator-id-1\" type=\"checkbox\" ><label for=\"sk-estimator-id-1\" class=\"sk-toggleable__label sk-toggleable__label-arrow\">Pipeline</label><div class=\"sk-toggleable__content\"><pre>Pipeline(steps=[(&#x27;vectorizer&#x27;, CountVectorizer()),\n",
              "                (&#x27;voting&#x27;,\n",
              "                 VotingClassifier(estimators=[(&#x27;svm_linear&#x27;,\n",
              "                                               SVC(kernel=&#x27;linear&#x27;)),\n",
              "                                              (&#x27;svm_rbf&#x27;, SVC()),\n",
              "                                              (&#x27;svm_poly&#x27;,\n",
              "                                               SVC(kernel=&#x27;poly&#x27;))]))])</pre></div></div></div><div class=\"sk-serial\"><div class=\"sk-item\"><div class=\"sk-estimator sk-toggleable\"><input class=\"sk-toggleable__control sk-hidden--visually\" id=\"sk-estimator-id-2\" type=\"checkbox\" ><label for=\"sk-estimator-id-2\" class=\"sk-toggleable__label sk-toggleable__label-arrow\">CountVectorizer</label><div class=\"sk-toggleable__content\"><pre>CountVectorizer()</pre></div></div></div><div class=\"sk-item sk-dashed-wrapped\"><div class=\"sk-label-container\"><div class=\"sk-label sk-toggleable\"><input class=\"sk-toggleable__control sk-hidden--visually\" id=\"sk-estimator-id-3\" type=\"checkbox\" ><label for=\"sk-estimator-id-3\" class=\"sk-toggleable__label sk-toggleable__label-arrow\">voting: VotingClassifier</label><div class=\"sk-toggleable__content\"><pre>VotingClassifier(estimators=[(&#x27;svm_linear&#x27;, SVC(kernel=&#x27;linear&#x27;)),\n",
              "                             (&#x27;svm_rbf&#x27;, SVC()),\n",
              "                             (&#x27;svm_poly&#x27;, SVC(kernel=&#x27;poly&#x27;))])</pre></div></div></div><div class=\"sk-parallel\"><div class=\"sk-parallel-item\"><div class=\"sk-item\"><div class=\"sk-label-container\"><div class=\"sk-label sk-toggleable\"><label>svm_linear</label></div></div><div class=\"sk-serial\"><div class=\"sk-item\"><div class=\"sk-estimator sk-toggleable\"><input class=\"sk-toggleable__control sk-hidden--visually\" id=\"sk-estimator-id-4\" type=\"checkbox\" ><label for=\"sk-estimator-id-4\" class=\"sk-toggleable__label sk-toggleable__label-arrow\">SVC</label><div class=\"sk-toggleable__content\"><pre>SVC(kernel=&#x27;linear&#x27;)</pre></div></div></div></div></div></div><div class=\"sk-parallel-item\"><div class=\"sk-item\"><div class=\"sk-label-container\"><div class=\"sk-label sk-toggleable\"><label>svm_rbf</label></div></div><div class=\"sk-serial\"><div class=\"sk-item\"><div class=\"sk-estimator sk-toggleable\"><input class=\"sk-toggleable__control sk-hidden--visually\" id=\"sk-estimator-id-5\" type=\"checkbox\" ><label for=\"sk-estimator-id-5\" class=\"sk-toggleable__label sk-toggleable__label-arrow\">SVC</label><div class=\"sk-toggleable__content\"><pre>SVC()</pre></div></div></div></div></div></div><div class=\"sk-parallel-item\"><div class=\"sk-item\"><div class=\"sk-label-container\"><div class=\"sk-label sk-toggleable\"><label>svm_poly</label></div></div><div class=\"sk-serial\"><div class=\"sk-item\"><div class=\"sk-estimator sk-toggleable\"><input class=\"sk-toggleable__control sk-hidden--visually\" id=\"sk-estimator-id-6\" type=\"checkbox\" ><label for=\"sk-estimator-id-6\" class=\"sk-toggleable__label sk-toggleable__label-arrow\">SVC</label><div class=\"sk-toggleable__content\"><pre>SVC(kernel=&#x27;poly&#x27;)</pre></div></div></div></div></div></div></div></div></div></div></div></div>"
            ]
          },
          "metadata": {},
          "execution_count": 27
        }
      ]
    },
    {
      "cell_type": "markdown",
      "source": [
        "Se realizan predicciones utilizando el pipeline entrenado y los datos de prueba."
      ],
      "metadata": {
        "id": "4Mqr41qhR9SE"
      }
    },
    {
      "cell_type": "code",
      "source": [
        "y_pred = voting_pipeline_svm.predict(X_test)"
      ],
      "metadata": {
        "id": "OBP0-fnOmZMN"
      },
      "execution_count": null,
      "outputs": []
    },
    {
      "cell_type": "code",
      "source": [
        "accuracy = accuracy_score(y_test_encoded, y_pred)\n",
        "print(\"Precisión en el conjunto de prueba:\", accuracy)"
      ],
      "metadata": {
        "id": "ok-bfMoHmTsr",
        "colab": {
          "base_uri": "https://localhost:8080/"
        },
        "outputId": "838b28db-0859-4779-a04a-c1a6ed8eb65e"
      },
      "execution_count": null,
      "outputs": [
        {
          "output_type": "stream",
          "name": "stdout",
          "text": [
            "Precisión en el conjunto de prueba: 0.8666\n"
          ]
        }
      ]
    },
    {
      "cell_type": "code",
      "source": [
        "mostrarPerformance(voting_pipeline_svm,X_test,y_test_encoded)"
      ],
      "metadata": {
        "colab": {
          "base_uri": "https://localhost:8080/",
          "height": 605
        },
        "id": "MC3zqI3OCBhB",
        "outputId": "3c579c15-5b43-4891-ce3a-fa4d55dbdd3a"
      },
      "execution_count": null,
      "outputs": [
        {
          "output_type": "stream",
          "name": "stdout",
          "text": [
            "              precision    recall  f1-score   support\n",
            "\n",
            "           0       0.91      0.81      0.86      7599\n",
            "           1       0.83      0.92      0.87      7401\n",
            "\n",
            "    accuracy                           0.87     15000\n",
            "   macro avg       0.87      0.87      0.87     15000\n",
            "weighted avg       0.87      0.87      0.87     15000\n",
            "\n"
          ]
        },
        {
          "output_type": "display_data",
          "data": {
            "text/plain": [
              "<Figure size 640x480 with 2 Axes>"
            ],
            "image/png": "[encoded data removed]"
          },
          "metadata": {}
        }
      ]
    },
    {
      "cell_type": "code",
      "source": [
        "mostrarPerformance(voting_pipeline_svm,X_train,y_train_encoded)"
      ],
      "metadata": {
        "id": "AKhi75sG6kEs",
        "colab": {
          "base_uri": "https://localhost:8080/",
          "height": 605
        },
        "outputId": "56e8fa15-1482-45d1-9121-2316a13448b7"
      },
      "execution_count": null,
      "outputs": [
        {
          "output_type": "stream",
          "name": "stdout",
          "text": [
            "              precision    recall  f1-score   support\n",
            "\n",
            "           0       0.99      0.94      0.97     17401\n",
            "           1       0.95      0.99      0.97     17599\n",
            "\n",
            "    accuracy                           0.97     35000\n",
            "   macro avg       0.97      0.97      0.97     35000\n",
            "weighted avg       0.97      0.97      0.97     35000\n",
            "\n"
          ]
        },
        {
          "output_type": "display_data",
          "data": {
            "text/plain": [
              "<Figure size 640x480 with 2 Axes>"
            ],
            "image/png": "[encoded data removed]"
          },
          "metadata": {}
        }
      ]
    },
    {
      "cell_type": "markdown",
      "source": [
        "### Voting de Bayes Naive"
      ],
      "metadata": {
        "id": "nO7APE1vaqY9"
      }
    },
    {
      "cell_type": "markdown",
      "source": [
        "Creamos otro modelo de la misma manera que el anterior, pero en que los modelos seran de bayes naive"
      ],
      "metadata": {
        "id": "nAmlrjuagqMv"
      }
    },
    {
      "cell_type": "code",
      "source": [
        "X_train, X_test, y_train, y_test = train_test_split(ds_normalizado['review_es'],\n",
        "                                                    ds_normalizado['sentimiento'],\n",
        "                                                    test_size=0.30,\n",
        "                                                    random_state=25,\n",
        "                                                    shuffle=True)"
      ],
      "metadata": {
        "id": "KDEOtXKib9ef"
      },
      "execution_count": null,
      "outputs": []
    },
    {
      "cell_type": "code",
      "source": [
        "y_train_encoded, y_test_encoded = mapear_palabras_a_numeros(y_train, y_test)"
      ],
      "metadata": {
        "id": "mlb9ZUUEb9EN"
      },
      "execution_count": null,
      "outputs": []
    },
    {
      "cell_type": "markdown",
      "source": [
        "Creamos los modelos base y el pipeline en que se aplicara el vectorizador y luego los modelos"
      ],
      "metadata": {
        "id": "RxK6akiogvbn"
      }
    },
    {
      "cell_type": "code",
      "source": [
        "model1 = BernoulliNB(alpha=0.2)\n",
        "model2 = BernoulliNB()\n",
        "model3 = MultinomialNB()\n",
        "\n",
        "# Construimos el modelo de stacking\n",
        "estimators = [('model1', model1), ('model2',model2), ('model3', model3)]\n",
        "voting_bayes = Pipeline([\n",
        "    ('cv', CountVectorizer(min_df=30, ngram_range=(1, 2))),\n",
        "    ('vt',  VotingClassifier(estimators=estimators, voting='hard'))\n",
        "])"
      ],
      "metadata": {
        "id": "OH-EE4qLavfl"
      },
      "execution_count": null,
      "outputs": []
    },
    {
      "cell_type": "markdown",
      "source": [
        "Entrenamos al modelo"
      ],
      "metadata": {
        "id": "JVZwSUVwg2Of"
      }
    },
    {
      "cell_type": "code",
      "source": [
        "voting_bayes.fit(X_train, y_train_encoded)"
      ],
      "metadata": {
        "colab": {
          "base_uri": "https://localhost:8080/",
          "height": 188
        },
        "id": "uR7PhX7acDUq",
        "outputId": "1c53d20c-dd7c-464d-a05b-a345d36114ed"
      },
      "execution_count": null,
      "outputs": [
        {
          "output_type": "execute_result",
          "data": {
            "text/plain": [
              "Pipeline(steps=[('cv', CountVectorizer(min_df=30, ngram_range=(1, 2))),\n",
              "                ('st',\n",
              "                 VotingClassifier(estimators=[('model1',\n",
              "                                               BernoulliNB(alpha=0.2)),\n",
              "                                              ('model2', BernoulliNB()),\n",
              "                                              ('model3', MultinomialNB())]))])"
            ],
            "text/html": [
              "<style>#sk-container-id-1 {color: black;background-color: white;}#sk-container-id-1 pre{padding: 0;}#sk-container-id-1 div.sk-toggleable {background-color: white;}#sk-container-id-1 label.sk-toggleable__label {cursor: pointer;display: block;width: 100%;margin-bottom: 0;padding: 0.3em;box-sizing: border-box;text-align: center;}#sk-container-id-1 label.sk-toggleable__label-arrow:before {content: \"▸\";float: left;margin-right: 0.25em;color: #696969;}#sk-container-id-1 label.sk-toggleable__label-arrow:hover:before {color: black;}#sk-container-id-1 div.sk-estimator:hover label.sk-toggleable__label-arrow:before {color: black;}#sk-container-id-1 div.sk-toggleable__content {max-height: 0;max-width: 0;overflow: hidden;text-align: left;background-color: #f0f8ff;}#sk-container-id-1 div.sk-toggleable__content pre {margin: 0.2em;color: black;border-radius: 0.25em;background-color: #f0f8ff;}#sk-container-id-1 input.sk-toggleable__control:checked~div.sk-toggleable__content {max-height: 200px;max-width: 100%;overflow: auto;}#sk-container-id-1 input.sk-toggleable__control:checked~label.sk-toggleable__label-arrow:before {content: \"▾\";}#sk-container-id-1 div.sk-estimator input.sk-toggleable__control:checked~label.sk-toggleable__label {background-color: #d4ebff;}#sk-container-id-1 div.sk-label input.sk-toggleable__control:checked~label.sk-toggleable__label {background-color: #d4ebff;}#sk-container-id-1 input.sk-hidden--visually {border: 0;clip: rect(1px 1px 1px 1px);clip: rect(1px, 1px, 1px, 1px);height: 1px;margin: -1px;overflow: hidden;padding: 0;position: absolute;width: 1px;}#sk-container-id-1 div.sk-estimator {font-family: monospace;background-color: #f0f8ff;border: 1px dotted black;border-radius: 0.25em;box-sizing: border-box;margin-bottom: 0.5em;}#sk-container-id-1 div.sk-estimator:hover {background-color: #d4ebff;}#sk-container-id-1 div.sk-parallel-item::after {content: \"\";width: 100%;border-bottom: 1px solid gray;flex-grow: 1;}#sk-container-id-1 div.sk-label:hover label.sk-toggleable__label {background-color: #d4ebff;}#sk-container-id-1 div.sk-serial::before {content: \"\";position: absolute;border-left: 1px solid gray;box-sizing: border-box;top: 0;bottom: 0;left: 50%;z-index: 0;}#sk-container-id-1 div.sk-serial {display: flex;flex-direction: column;align-items: center;background-color: white;padding-right: 0.2em;padding-left: 0.2em;position: relative;}#sk-container-id-1 div.sk-item {position: relative;z-index: 1;}#sk-container-id-1 div.sk-parallel {display: flex;align-items: stretch;justify-content: center;background-color: white;position: relative;}#sk-container-id-1 div.sk-item::before, #sk-container-id-1 div.sk-parallel-item::before {content: \"\";position: absolute;border-left: 1px solid gray;box-sizing: border-box;top: 0;bottom: 0;left: 50%;z-index: -1;}#sk-container-id-1 div.sk-parallel-item {display: flex;flex-direction: column;z-index: 1;position: relative;background-color: white;}#sk-container-id-1 div.sk-parallel-item:first-child::after {align-self: flex-end;width: 50%;}#sk-container-id-1 div.sk-parallel-item:last-child::after {align-self: flex-start;width: 50%;}#sk-container-id-1 div.sk-parallel-item:only-child::after {width: 0;}#sk-container-id-1 div.sk-dashed-wrapped {border: 1px dashed gray;margin: 0 0.4em 0.5em 0.4em;box-sizing: border-box;padding-bottom: 0.4em;background-color: white;}#sk-container-id-1 div.sk-label label {font-family: monospace;font-weight: bold;display: inline-block;line-height: 1.2em;}#sk-container-id-1 div.sk-label-container {text-align: center;}#sk-container-id-1 div.sk-container {/* jupyter's `normalize.less` sets `[hidden] { display: none; }` but bootstrap.min.css set `[hidden] { display: none !important; }` so we also need the `!important` here to be able to override the default hidden behavior on the sphinx rendered scikit-learn.org. See: https://github.com/scikit-learn/scikit-learn/issues/21755 */display: inline-block !important;position: relative;}#sk-container-id-1 div.sk-text-repr-fallback {display: none;}</style><div id=\"sk-container-id-1\" class=\"sk-top-container\"><div class=\"sk-text-repr-fallback\"><pre>Pipeline(steps=[(&#x27;cv&#x27;, CountVectorizer(min_df=30, ngram_range=(1, 2))),\n",
              "                (&#x27;st&#x27;,\n",
              "                 VotingClassifier(estimators=[(&#x27;model1&#x27;,\n",
              "                                               BernoulliNB(alpha=0.2)),\n",
              "                                              (&#x27;model2&#x27;, BernoulliNB()),\n",
              "                                              (&#x27;model3&#x27;, MultinomialNB())]))])</pre><b>In a Jupyter environment, please rerun this cell to show the HTML representation or trust the notebook. <br />On GitHub, the HTML representation is unable to render, please try loading this page with nbviewer.org.</b></div><div class=\"sk-container\" hidden><div class=\"sk-item sk-dashed-wrapped\"><div class=\"sk-label-container\"><div class=\"sk-label sk-toggleable\"><input class=\"sk-toggleable__control sk-hidden--visually\" id=\"sk-estimator-id-1\" type=\"checkbox\" ><label for=\"sk-estimator-id-1\" class=\"sk-toggleable__label sk-toggleable__label-arrow\">Pipeline</label><div class=\"sk-toggleable__content\"><pre>Pipeline(steps=[(&#x27;cv&#x27;, CountVectorizer(min_df=30, ngram_range=(1, 2))),\n",
              "                (&#x27;st&#x27;,\n",
              "                 VotingClassifier(estimators=[(&#x27;model1&#x27;,\n",
              "                                               BernoulliNB(alpha=0.2)),\n",
              "                                              (&#x27;model2&#x27;, BernoulliNB()),\n",
              "                                              (&#x27;model3&#x27;, MultinomialNB())]))])</pre></div></div></div><div class=\"sk-serial\"><div class=\"sk-item\"><div class=\"sk-estimator sk-toggleable\"><input class=\"sk-toggleable__control sk-hidden--visually\" id=\"sk-estimator-id-2\" type=\"checkbox\" ><label for=\"sk-estimator-id-2\" class=\"sk-toggleable__label sk-toggleable__label-arrow\">CountVectorizer</label><div class=\"sk-toggleable__content\"><pre>CountVectorizer(min_df=30, ngram_range=(1, 2))</pre></div></div></div><div class=\"sk-item sk-dashed-wrapped\"><div class=\"sk-label-container\"><div class=\"sk-label sk-toggleable\"><input class=\"sk-toggleable__control sk-hidden--visually\" id=\"sk-estimator-id-3\" type=\"checkbox\" ><label for=\"sk-estimator-id-3\" class=\"sk-toggleable__label sk-toggleable__label-arrow\">st: VotingClassifier</label><div class=\"sk-toggleable__content\"><pre>VotingClassifier(estimators=[(&#x27;model1&#x27;, BernoulliNB(alpha=0.2)),\n",
              "                             (&#x27;model2&#x27;, BernoulliNB()),\n",
              "                             (&#x27;model3&#x27;, MultinomialNB())])</pre></div></div></div><div class=\"sk-parallel\"><div class=\"sk-parallel-item\"><div class=\"sk-item\"><div class=\"sk-label-container\"><div class=\"sk-label sk-toggleable\"><label>model1</label></div></div><div class=\"sk-serial\"><div class=\"sk-item\"><div class=\"sk-estimator sk-toggleable\"><input class=\"sk-toggleable__control sk-hidden--visually\" id=\"sk-estimator-id-4\" type=\"checkbox\" ><label for=\"sk-estimator-id-4\" class=\"sk-toggleable__label sk-toggleable__label-arrow\">BernoulliNB</label><div class=\"sk-toggleable__content\"><pre>BernoulliNB(alpha=0.2)</pre></div></div></div></div></div></div><div class=\"sk-parallel-item\"><div class=\"sk-item\"><div class=\"sk-label-container\"><div class=\"sk-label sk-toggleable\"><label>model2</label></div></div><div class=\"sk-serial\"><div class=\"sk-item\"><div class=\"sk-estimator sk-toggleable\"><input class=\"sk-toggleable__control sk-hidden--visually\" id=\"sk-estimator-id-5\" type=\"checkbox\" ><label for=\"sk-estimator-id-5\" class=\"sk-toggleable__label sk-toggleable__label-arrow\">BernoulliNB</label><div class=\"sk-toggleable__content\"><pre>BernoulliNB()</pre></div></div></div></div></div></div><div class=\"sk-parallel-item\"><div class=\"sk-item\"><div class=\"sk-label-container\"><div class=\"sk-label sk-toggleable\"><label>model3</label></div></div><div class=\"sk-serial\"><div class=\"sk-item\"><div class=\"sk-estimator sk-toggleable\"><input class=\"sk-toggleable__control sk-hidden--visually\" id=\"sk-estimator-id-6\" type=\"checkbox\" ><label for=\"sk-estimator-id-6\" class=\"sk-toggleable__label sk-toggleable__label-arrow\">MultinomialNB</label><div class=\"sk-toggleable__content\"><pre>MultinomialNB()</pre></div></div></div></div></div></div></div></div></div></div></div></div>"
            ]
          },
          "metadata": {},
          "execution_count": 14
        }
      ]
    },
    {
      "cell_type": "markdown",
      "source": [
        "Predecimos sobre ambos sets"
      ],
      "metadata": {
        "id": "ahlY4A8lg3kD"
      }
    },
    {
      "cell_type": "code",
      "source": [
        "mostrarPerformance(voting_bayes, X_test, y_test_encoded)"
      ],
      "metadata": {
        "colab": {
          "base_uri": "https://localhost:8080/",
          "height": 605
        },
        "id": "PndKRn3ScKkh",
        "outputId": "284b2b8e-9954-47c6-8208-bb9faedf3cf2"
      },
      "execution_count": null,
      "outputs": [
        {
          "output_type": "stream",
          "name": "stdout",
          "text": [
            "              precision    recall  f1-score   support\n",
            "\n",
            "           0       0.87      0.85      0.86      7599\n",
            "           1       0.85      0.87      0.86      7401\n",
            "\n",
            "    accuracy                           0.86     15000\n",
            "   macro avg       0.86      0.86      0.86     15000\n",
            "weighted avg       0.86      0.86      0.86     15000\n",
            "\n"
          ]
        },
        {
          "output_type": "display_data",
          "data": {
            "text/plain": [
              "<Figure size 640x480 with 2 Axes>"
            ],
            "image/png": "[encoded data removed]"
          },
          "metadata": {}
        }
      ]
    },
    {
      "cell_type": "code",
      "source": [
        "mostrarPerformance(voting_bayes, X_train, y_train_encoded)"
      ],
      "metadata": {
        "colab": {
          "base_uri": "https://localhost:8080/",
          "height": 605
        },
        "id": "MZeSmWeEcO-e",
        "outputId": "dd3d4ad3-5ab1-41f3-c931-042ce63f9c44"
      },
      "execution_count": null,
      "outputs": [
        {
          "output_type": "stream",
          "name": "stdout",
          "text": [
            "              precision    recall  f1-score   support\n",
            "\n",
            "           0       0.89      0.87      0.88     17401\n",
            "           1       0.87      0.89      0.88     17599\n",
            "\n",
            "    accuracy                           0.88     35000\n",
            "   macro avg       0.88      0.88      0.88     35000\n",
            "weighted avg       0.88      0.88      0.88     35000\n",
            "\n"
          ]
        },
        {
          "output_type": "display_data",
          "data": {
            "text/plain": [
              "<Figure size 640x480 with 2 Axes>"
            ],
            "image/png": "[encoded data removed]"
          },
          "metadata": {}
        }
      ]
    },
    {
      "cell_type": "markdown",
      "source": [
        "Notamos que no solo a este modelo le fue mucho mejor que a los anteriores sino que ademas redujo muchisimo el sobreajuste. Lo exportamos"
      ],
      "metadata": {
        "id": "fPS2-bOkg7Ke"
      }
    },
    {
      "cell_type": "code",
      "source": [
        "filename = \"voting_bayes.pickle\"\n",
        "\n",
        "# save model\n",
        "pickle.dump(voting_bayes, open(filename, \"wb\"))"
      ],
      "metadata": {
        "id": "tZi8xYFJgJiA"
      },
      "execution_count": null,
      "outputs": []
    },
    {
      "cell_type": "markdown",
      "source": [
        "### Optimizacion de hiperparametros de voting Bayes"
      ],
      "metadata": {
        "id": "6JciAoBIgl1Y"
      }
    },
    {
      "cell_type": "markdown",
      "source": [
        "Dado el rendimiento del modelo, intentaremos optimizar los hiperparametros de todos los modelos que componen el pipeline."
      ],
      "metadata": {
        "id": "pS0lsFKyhLY1"
      }
    },
    {
      "cell_type": "code",
      "source": [
        "from scipy.stats import uniform\n",
        "param_grid = {\n",
        "    'vt__model1__alpha': np.linspace(0.1, 1.5, num=10),\n",
        "    'vt__model2__alpha': np.linspace(0.1, 1.5, num=10),\n",
        "    'vt__model3__alpha': np.linspace(0.1, 1.5, num=10),\n",
        "    'cv__ngram_range': [(1, 1), (1, 2)],\n",
        "    'cv__min_df': list(range(5,200)),\n",
        "    'cv__max_df': uniform(loc=0.7, scale=0.2)\n",
        "}\n",
        "\n",
        "voting_bayes_optimizado= buscarMejoresHiperparametros(10, 5, voting_bayes, param_grid, X_train, y_train_encoded)"
      ],
      "metadata": {
        "colab": {
          "base_uri": "https://localhost:8080/"
        },
        "id": "EW6r1idihdQj",
        "outputId": "4ff1a235-581e-40f9-fe68-77b3d6c66293"
      },
      "execution_count": null,
      "outputs": [
        {
          "output_type": "stream",
          "name": "stdout",
          "text": [
            "Best parameters: {'cv__max_df': 0.7900998503939085, 'cv__min_df': 22, 'cv__ngram_range': (1, 2), 'vt__model1__alpha': 1.3444444444444446, 'vt__model2__alpha': 0.25555555555555554, 'vt__model3__alpha': 1.5}\n",
            "Best score: 0.8640512127026307\n"
          ]
        }
      ]
    },
    {
      "cell_type": "markdown",
      "source": [
        "Predecimos ahora con el nuevo modelo en ambos sets"
      ],
      "metadata": {
        "id": "Y3aC5Krco5yH"
      }
    },
    {
      "cell_type": "code",
      "source": [
        "mostrarPerformance(voting_bayes_optimizado, X_test, y_test_encoded)"
      ],
      "metadata": {
        "colab": {
          "base_uri": "https://localhost:8080/",
          "height": 605
        },
        "id": "2NTrI7a4igtN",
        "outputId": "394c8363-fe6a-4ce3-8d72-13219fe7e879"
      },
      "execution_count": null,
      "outputs": [
        {
          "output_type": "stream",
          "name": "stdout",
          "text": [
            "              precision    recall  f1-score   support\n",
            "\n",
            "           0       0.87      0.85      0.86      7599\n",
            "           1       0.85      0.87      0.86      7401\n",
            "\n",
            "    accuracy                           0.86     15000\n",
            "   macro avg       0.86      0.86      0.86     15000\n",
            "weighted avg       0.86      0.86      0.86     15000\n",
            "\n"
          ]
        },
        {
          "output_type": "display_data",
          "data": {
            "text/plain": [
              "<Figure size 640x480 with 2 Axes>"
            ],
            "image/png": "[encoded data removed]"
          },
          "metadata": {}
        }
      ]
    },
    {
      "cell_type": "code",
      "source": [
        "mostrarPerformance(voting_bayes_optimizado, X_train, y_train_encoded)"
      ],
      "metadata": {
        "colab": {
          "base_uri": "https://localhost:8080/",
          "height": 605
        },
        "id": "Y6YjAvP-mloZ",
        "outputId": "bf6d30b8-46df-485a-db64-92b50a624696"
      },
      "execution_count": null,
      "outputs": [
        {
          "output_type": "stream",
          "name": "stdout",
          "text": [
            "              precision    recall  f1-score   support\n",
            "\n",
            "           0       0.89      0.88      0.89     17401\n",
            "           1       0.88      0.89      0.89     17599\n",
            "\n",
            "    accuracy                           0.89     35000\n",
            "   macro avg       0.89      0.89      0.89     35000\n",
            "weighted avg       0.89      0.89      0.89     35000\n",
            "\n"
          ]
        },
        {
          "output_type": "display_data",
          "data": {
            "text/plain": [
              "<Figure size 640x480 with 2 Axes>"
            ],
            "image/png": "[encoded data removed]"
          },
          "metadata": {}
        }
      ]
    },
    {
      "cell_type": "markdown",
      "source": [
        "Notamos que las metricas mejoraron ahora sobre el set de entrenamiento, pero no sobre el set de testeo, por lo que concluimos que aumento su sobreajuste, y no su rendimiento. Exportamos igualmente el modelo."
      ],
      "metadata": {
        "id": "gmhCcSsHo9-M"
      }
    },
    {
      "cell_type": "code",
      "source": [
        "filename = \"voting_bayes_optimizado.pickle\"\n",
        "\n",
        "# save model\n",
        "pickle.dump(voting_bayes_optimizado, open(filename, \"wb\"))"
      ],
      "metadata": {
        "id": "htxH-NgFmywn"
      },
      "execution_count": null,
      "outputs": []
    },
    {
      "cell_type": "markdown",
      "source": [
        "# Preparacion del dataset para realizar predicciones"
      ],
      "metadata": {
        "id": "9aw7lmct6kIH"
      }
    },
    {
      "cell_type": "code",
      "source": [
        "ds = pd.read_csv('https://drive.google.com/uc?export=download&id=1x3Q8Q1dt7G3XkNJj-AcpTNTMrpmgiMV0', index_col=None)\n",
        "ds_x_test = ds.copy()"
      ],
      "metadata": {
        "id": "4Bz3oBujBgVS"
      },
      "execution_count": null,
      "outputs": []
    },
    {
      "cell_type": "markdown",
      "source": [
        "Aplicamos el preprocesamiento al set de testeo"
      ],
      "metadata": {
        "id": "FW55V7qCFawv"
      }
    },
    {
      "cell_type": "code",
      "source": [
        "ds_x_test[\"review_es\"] = ds_x_test[\"review_es\"].apply(sacar_tildes)\n",
        "ds_x_test[\"review_es\"] = ds_x_test[\"review_es\"].apply(limpiar_texto)\n",
        "ds_x_test[\"review_es\"] = ds_x_test[\"review_es\"].apply(remover_conectores)"
      ],
      "metadata": {
        "id": "pmXyOd0Hooy2",
        "colab": {
          "base_uri": "https://localhost:8080/",
          "height": 200
        },
        "outputId": "c4c9129e-b365-4c69-c846-3211fc9c5bff"
      },
      "execution_count": null,
      "outputs": [
        {
          "output_type": "error",
          "ename": "NameError",
          "evalue": "ignored",
          "traceback": [
            "\u001b[0;31m---------------------------------------------------------------------------\u001b[0m",
            "\u001b[0;31mNameError\u001b[0m                                 Traceback (most recent call last)",
            "\u001b[0;32m<ipython-input-22-72e992c8ab0a>\u001b[0m in \u001b[0;36m<cell line: 1>\u001b[0;34m()\u001b[0m\n\u001b[0;32m----> 1\u001b[0;31m \u001b[0mds_x_test\u001b[0m\u001b[0;34m[\u001b[0m\u001b[0;34m\"review_es\"\u001b[0m\u001b[0;34m]\u001b[0m \u001b[0;34m=\u001b[0m \u001b[0mds_x_test\u001b[0m\u001b[0;34m[\u001b[0m\u001b[0;34m\"review_es\"\u001b[0m\u001b[0;34m]\u001b[0m\u001b[0;34m.\u001b[0m\u001b[0mapply\u001b[0m\u001b[0;34m(\u001b[0m\u001b[0msacar_tildes\u001b[0m\u001b[0;34m)\u001b[0m\u001b[0;34m\u001b[0m\u001b[0;34m\u001b[0m\u001b[0m\n\u001b[0m\u001b[1;32m      2\u001b[0m \u001b[0mds_x_test\u001b[0m\u001b[0;34m[\u001b[0m\u001b[0;34m\"review_es\"\u001b[0m\u001b[0;34m]\u001b[0m \u001b[0;34m=\u001b[0m \u001b[0mds_x_test\u001b[0m\u001b[0;34m[\u001b[0m\u001b[0;34m\"review_es\"\u001b[0m\u001b[0;34m]\u001b[0m\u001b[0;34m.\u001b[0m\u001b[0mapply\u001b[0m\u001b[0;34m(\u001b[0m\u001b[0mlimpiar_texto\u001b[0m\u001b[0;34m)\u001b[0m\u001b[0;34m\u001b[0m\u001b[0;34m\u001b[0m\u001b[0m\n\u001b[1;32m      3\u001b[0m \u001b[0mds_x_test\u001b[0m\u001b[0;34m[\u001b[0m\u001b[0;34m\"review_es\"\u001b[0m\u001b[0;34m]\u001b[0m \u001b[0;34m=\u001b[0m \u001b[0mds_x_test\u001b[0m\u001b[0;34m[\u001b[0m\u001b[0;34m\"review_es\"\u001b[0m\u001b[0;34m]\u001b[0m\u001b[0;34m.\u001b[0m\u001b[0mapply\u001b[0m\u001b[0;34m(\u001b[0m\u001b[0mremover_conectores\u001b[0m\u001b[0;34m)\u001b[0m\u001b[0;34m\u001b[0m\u001b[0;34m\u001b[0m\u001b[0m\n",
            "\u001b[0;31mNameError\u001b[0m: name 'sacar_tildes' is not defined"
          ]
        }
      ]
    },
    {
      "cell_type": "markdown",
      "source": [
        "Creamos esta funcion para convertir predicciones binarias a predicciones en palabras"
      ],
      "metadata": {
        "id": "s32neLOTFVl5"
      }
    },
    {
      "cell_type": "code",
      "source": [
        "def convertir_pred_numericas_a_palabras(ds_y_test):\n",
        "  label_mapping = {\n",
        "    0: \"negativo\",\n",
        "    1: \"positivo\"\n",
        "  }\n",
        "\n",
        "  # Decodificar los valores numéricos a etiquetas originales\n",
        "  y_pred = [label_mapping[value] for value in ds_y_test]\n",
        "  return y_pred"
      ],
      "metadata": {
        "id": "1gagwYj5FIOr"
      },
      "execution_count": null,
      "outputs": []
    },
    {
      "cell_type": "markdown",
      "source": [
        "Creamos dos funciones para generar predicciones. La primera predice sobre modelos que devuelven como respuesta valores binarios, por lo que debemos mapear estos a palabras."
      ],
      "metadata": {
        "id": "tc2Jhpp0Ex0r"
      }
    },
    {
      "cell_type": "code",
      "source": [
        "def predecir_test_binario(x, model, name):\n",
        "  ds_y_test = convertir_pred_numericas_a_palabras(model.predict(x[\"review_es\"]))\n",
        "  ds_submission = pd.DataFrame({'id': x['ID'], 'sentimiento': ds_y_test})\n",
        "  ds_submission.to_csv(name, index=False)"
      ],
      "metadata": {
        "id": "i-eD2VC3FvzE"
      },
      "execution_count": null,
      "outputs": []
    },
    {
      "cell_type": "markdown",
      "source": [
        "Esta segunda hace lo mismo que la anterior, pero sin realizar dicho mapeo ya que devuelve directamente la respuesta en palabras."
      ],
      "metadata": {
        "id": "Dpsk9M3eHByd"
      }
    },
    {
      "cell_type": "code",
      "source": [
        "def predecir_test(x, model, name):\n",
        "  ds_y_test = model.predict(x[\"review_es\"])\n",
        "  ds_submission = pd.DataFrame({'id': x['ID'], 'sentimiento': ds_y_test})\n",
        "  ds_submission.to_csv(name, index=False)"
      ],
      "metadata": {
        "id": "fcbiKpynnFLw"
      },
      "execution_count": null,
      "outputs": []
    },
    {
      "cell_type": "markdown",
      "source": [
        "## Prediccion Bayes"
      ],
      "metadata": {
        "id": "Vbd7S8dsGk4Z"
      }
    },
    {
      "cell_type": "code",
      "source": [
        "predecir_test(ds_x_test, model_bayes, 'bayes_bernoulli.csv')"
      ],
      "metadata": {
        "id": "nXdukkDQGE2j"
      },
      "execution_count": null,
      "outputs": []
    },
    {
      "cell_type": "markdown",
      "source": [
        "## Prediccion Random Forest"
      ],
      "metadata": {
        "id": "ahBZtdaGLWAe"
      }
    },
    {
      "cell_type": "code",
      "source": [
        "predecir_test_binario(ds_x_test, optimized_rf_2, 'random_forest_optimizado.csv')"
      ],
      "metadata": {
        "id": "NANCDNaaLY4A"
      },
      "execution_count": null,
      "outputs": []
    },
    {
      "cell_type": "markdown",
      "source": [
        "## Prediccion XGB\n"
      ],
      "metadata": {
        "id": "Y_3Qcl71aeVB"
      }
    },
    {
      "cell_type": "code",
      "source": [
        "predecir_test_binario(ds_x_test, xgb_model, 'model_xgb_conservador.csv')"
      ],
      "metadata": {
        "id": "iTQmJ2otZIlm"
      },
      "execution_count": null,
      "outputs": []
    },
    {
      "cell_type": "markdown",
      "source": [
        "## Predicción Ensambles Hibridos:Voting"
      ],
      "metadata": {
        "id": "XCyVGcnT5cK4"
      }
    },
    {
      "cell_type": "code",
      "source": [
        "predecir_test_binario(ds_x_test, voting_pipeline_svm, 'model_stacking_svm.csv')"
      ],
      "metadata": {
        "id": "GvluLO4XoSat"
      },
      "execution_count": null,
      "outputs": []
    },
    {
      "cell_type": "markdown",
      "source": [
        "## Predicción Red Neuronal"
      ],
      "metadata": {
        "id": "OVHXFbaB5-3F"
      }
    },
    {
      "cell_type": "code",
      "source": [
        "#Realizamos las predicciones\n",
        "\n",
        "#ds_x = count_vect_ber.transform()\n",
        "X_test_count = vectorizer.transform(ds_x_test[\"review_es\"])\n",
        "X_test = X_test_count.toarray()\n",
        "ds_y_test = model.predict(X_test)\n",
        "ds_y_bin = pasar_prediccion_a_binario(ds_y_test)\n",
        "ds_y_opt = mapear_numeros_a_palabras(ds_y_bin)\n"
      ],
      "metadata": {
        "id": "bIWyZqglANN6",
        "colab": {
          "base_uri": "https://localhost:8080/"
        },
        "outputId": "46b6cda7-78e4-41c0-82fb-c730dc265728"
      },
      "execution_count": null,
      "outputs": [
        {
          "output_type": "stream",
          "name": "stdout",
          "text": [
            "269/269 [==============================] - 7s 27ms/step\n"
          ]
        }
      ]
    },
    {
      "cell_type": "code",
      "source": [
        "ds_submission = pd.DataFrame({'id': ds_x_test['ID'], 'sentimiento': ds_y_opt})\n",
        "ds_submission.to_csv('model_red_6.csv', index=False)"
      ],
      "metadata": {
        "id": "tbXQByqD6fmb"
      },
      "execution_count": null,
      "outputs": []
    }
  ],
  "metadata": {
    "colab": {
      "provenance": [],
      "collapsed_sections": [
        "rwfashkHmYmx",
        "SB57Twjn2Mx2",
        "K3BGumnCn5NA",
        "v07ZOJv9Twrk",
        "0xSGuOCKuICF",
        "XJfLjtkC4X-S",
        "MUVSt0FivDBf",
        "OIBtFe_uviwD",
        "dGOrey2BDzNc",
        "n19Zvqlv6JmD",
        "ZdDWdv0RGwqc",
        "K5Wp7eZD1NT1",
        "Lm8SIPn3P457",
        "PhwhcWMoQaDP",
        "UNZx31CIFehc",
        "sNlgg9IQd8R5",
        "Ch7JZo35-ONv",
        "aOPyaypQthnN",
        "-bJ6ABLHA0Jl",
        "iQFVFi8iK4mU",
        "UpKvbnXkT3F_",
        "SEOM81Uh6IcO",
        "Y_3Qcl71aeVB",
        "XCyVGcnT5cK4",
        "OVHXFbaB5-3F"
      ]
    },
    "kernelspec": {
      "display_name": "Python 3",
      "name": "python3"
    },
    "language_info": {
      "codemirror_mode": {
        "name": "ipython",
        "version": 3
      },
      "file_extension": ".py",
      "mimetype": "text/x-python",
      "name": "python",
      "nbconvert_exporter": "python",
      "pygments_lexer": "ipython3",
      "version": "3.8.10"
    }
  },
  "nbformat": 4,
  "nbformat_minor": 0
}