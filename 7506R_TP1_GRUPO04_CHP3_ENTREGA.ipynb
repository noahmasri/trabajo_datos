{
  "cells": [
    {
      "cell_type": "markdown",
      "metadata": {
        "id": "IAQHAxcv6qI5"
      },
      "source": [
        "# <center> Organizacion de datos </center>\n",
        "#### <center> Curso Rodriguez </center>\n",
        "## <center> Trabajo practico I: Reservas de Hotel </center>\n",
        "#### <center> Integrantes del grupo: </center>"
      ]
    },
    {
      "cell_type": "markdown",
      "metadata": {
        "id": "r9Erkxvm6sRU"
      },
      "source": [
        "<center>\n",
        "\n",
        "| Apellido y nombre | Padron |\n",
        "| - | - |\n",
        "| Ayala, Camila | 107440 |\n",
        "| Loscalzo, Melina | 106571 |\n",
        "| Masri, Noah | 108814 |\n",
        "\n",
        "</center>"
      ]
    },
    {
      "cell_type": "markdown",
      "metadata": {
        "id": "f-gTW0Su9JT3"
      },
      "source": [
        "# Checkpoint 3: Ensambles de modelos"
      ]
    },
    {
      "cell_type": "markdown",
      "metadata": {
        "id": "HD4jDltuXx2N"
      },
      "source": [
        "# Preparacion"
      ]
    },
    {
      "cell_type": "markdown",
      "metadata": {
        "id": "fGZwLJqzBdZE"
      },
      "source": [
        "Comenzamos como siempre, importando las librerias que vamos a usar"
      ]
    },
    {
      "cell_type": "code",
      "execution_count": 1,
      "metadata": {
        "id": "LqWigcrjBciE"
      },
      "outputs": [],
      "source": [
        "import pandas as pd\n",
        "import numpy as np\n",
        "import pickle\n",
        "\n",
        "#Visualización\n",
        "import matplotlib.pyplot as plt\n",
        "import seaborn as sns\n",
        "import matplotlib as mpl\n",
        "from six import StringIO\n",
        "from IPython.display import Image\n",
        "\n",
        "#modelos y métricas\n",
        "import sklearn as sk\n",
        "from sklearn.svm import SVC\n",
        "from sklearn.pipeline import Pipeline\n",
        "from sklearn.decomposition import PCA\n",
        "from sklearn.ensemble import RandomForestClassifier\n",
        "from sklearn.tree import DecisionTreeClassifier\n",
        "from sklearn.model_selection import train_test_split, StratifiedKFold, KFold,RandomizedSearchCV, RepeatedStratifiedKFold, GridSearchCV\n",
        "from sklearn.metrics import precision_score, recall_score, accuracy_score, f1_score\n",
        "from sklearn.metrics import confusion_matrix, classification_report, make_scorer\n",
        "from sklearn.preprocessing import StandardScaler, MinMaxScaler\n",
        "from scipy.stats import randint, uniform\n",
        "from sklearn.neighbors import KNeighborsClassifier\n",
        "from sklearn.ensemble import VotingClassifier\n",
        "from sklearn.datasets import make_classification\n",
        "\n",
        "from sklearn.neural_network import MLPClassifier\n",
        "import xgboost as xgb\n",
        "from sklearn.model_selection import cross_val_score\n",
        "from sklearn.datasets import make_classification\n",
        "from sklearn.model_selection import train_test_split\n",
        "from sklearn.metrics import accuracy_score\n",
        "from collections import defaultdict\n",
        "import plotly.graph_objs as go"
      ]
    },
    {
      "cell_type": "markdown",
      "metadata": {
        "id": "62VlCKdwCLjI"
      },
      "source": [
        "En segundo lugar, importamos el dataset con el que vamos a estar trabajando; el dataset ya trabajado en el checkpoint 1"
      ]
    },
    {
      "cell_type": "code",
      "execution_count": 2,
      "metadata": {
        "id": "egQmtrLnCT5n"
      },
      "outputs": [],
      "source": [
        "ds = pd.read_csv(\"https://drive.google.com/uc?export=download&id=1HuOWp-SuBRQrokZkpEWEz2kaloWOJqiR\")"
      ]
    },
    {
      "cell_type": "markdown",
      "metadata": {
        "id": "HZCDsw_vCtFo"
      },
      "source": [
        "Generamos una copia de este para no alterar sus datos originales."
      ]
    },
    {
      "cell_type": "code",
      "execution_count": 3,
      "metadata": {
        "id": "wNg11rBIC46L"
      },
      "outputs": [],
      "source": [
        "ds_ensambles = ds.copy()"
      ]
    },
    {
      "cell_type": "markdown",
      "metadata": {
        "id": "Fxe11DRlDBsi"
      },
      "source": [
        "Tal como en la parte anterior, seleccionamos las columnas que no consideramos importantes, y las quitamos. El criterio fue explicado ya en el checkpoint 2."
      ]
    },
    {
      "cell_type": "code",
      "execution_count": 4,
      "metadata": {
        "id": "lJKIAVkWCydo"
      },
      "outputs": [],
      "source": [
        "to_drop = ['country', 'reservation_status_date', 'stays_in_weekend_nights', 'arrival_date_year', 'arrival_date_day_of_month', 'id','assigned_room_type', 'days_in_waiting_list', 'company']\n",
        "ds_ensambles.drop(to_drop, axis = 'columns', inplace = True)"
      ]
    },
    {
      "cell_type": "markdown",
      "metadata": {
        "id": "HGUvkVktXt00"
      },
      "source": [
        "# Funciones utiles"
      ]
    },
    {
      "cell_type": "markdown",
      "metadata": {
        "id": "DqFay64K_otS"
      },
      "source": [
        "Para esta entrega se pide realizar una variedad de modelos de prediccion, y para cada uno de ellos, evaluar su performance en los conjuntos de entrenamiento y validación, explicar todas las métricas y mostrar la matriz de confusión. Dado que esto se pide para todos, creamos una funcion que imprima la matriz de confusion y las metricas dado el x e y de un dataset, para poder llamarla con cada modelo tanto para el set de entrenamiento como para el de testeo."
      ]
    },
    {
      "cell_type": "code",
      "execution_count": 5,
      "metadata": {
        "id": "szU-WbkjAGYS"
      },
      "outputs": [],
      "source": [
        "def mostrarPerformance (model, x, y):\n",
        "  y_pred = model.predict(x)\n",
        "\n",
        "  cm = confusion_matrix(y,y_pred)\n",
        "  sns.heatmap(cm, cmap='Blues',annot=True,fmt='g')\n",
        "  plt.xlabel('Predicted')\n",
        "  plt.ylabel('True')\n",
        "\n",
        "  print(classification_report(y,y_pred))\n",
        "  print('F1-Score: {}'.format(f1_score(y, y_pred, average='binary')))"
      ]
    },
    {
      "cell_type": "markdown",
      "metadata": {
        "id": "6lyLF9bbDp8l"
      },
      "source": [
        "Creamos otra funcion que separa nuestro dataset en un conjunto de entrenamiento y testeo. No lo hacemos una sola vez generalizado ya que para algunos modelos podrian ser mas o menos relevantes ciertas columnas o habria q hacerle un trabajo previo, mientras que quizas para otros no."
      ]
    },
    {
      "cell_type": "code",
      "execution_count": 6,
      "metadata": {
        "id": "CmeVnS5GDumK"
      },
      "outputs": [],
      "source": [
        "# El test size es un parametro adicional, pero que por defecto tiene asignado 0.3\n",
        "def separarConjuntos(ds_ensambles, test_size=0.3): \n",
        "    \n",
        "    # Creo un dataset con los features que voy a usar para clasificar\n",
        "    ds_ensambles_x = ds_ensambles.drop(['is_canceled'], axis='columns', inplace=False)\n",
        "\n",
        "    # Creo un dataset con la variable target\n",
        "    ds_ensambles_y = ds_ensambles['is_canceled'].copy()\n",
        "\n",
        "    # Genero los conjuntos de train y de test\n",
        "    return train_test_split(ds_ensambles_x, ds_ensambles_y, test_size=test_size, random_state=2)\n",
        "\n",
        "\n",
        "## para llamarla x_train, x_test, y_train, y_test = separarConjuntos(ds, test_size)"
      ]
    },
    {
      "cell_type": "markdown",
      "metadata": {
        "id": "0ozEZQJDLlC1"
      },
      "source": [
        "Luego, otra funcion que busca optimizar los hiperparametros usando Kfolds Randomized Cross Validation, ya que lo necesitamos en mas de uno, por lo que es util tenerlo modularizado. Esta funcion devuelve el modelo con los mejores hiperparametros hallados ya entrenado."
      ]
    },
    {
      "cell_type": "code",
      "execution_count": 7,
      "metadata": {
        "id": "MdXjFyUbH4yL"
      },
      "outputs": [],
      "source": [
        "def buscarMejoresHiperparametros(n, folds, model, parametres, x_train, y_train, metric= make_scorer(sk.metrics.f1_score)) :\n",
        "  \n",
        "  kfoldcv = StratifiedKFold(n_splits=folds)\n",
        "  randomcv = RandomizedSearchCV(estimator=model,\n",
        "                              param_distributions = parametres,\n",
        "                              scoring=metric,\n",
        "                              cv=kfoldcv,\n",
        "                              n_iter=n, \n",
        "                              random_state=42) #plantamos la semilla para que nos den siempre los mismos hiperparametros\n",
        "\n",
        "  #Entrenamos al random search\n",
        "  randomcv.fit(X = x_train, y = y_train)\n",
        "\n",
        "  best_params = randomcv.best_params_\n",
        "  best_score = randomcv.best_score_\n",
        "\n",
        "  print(f\"Best parameters: {best_params}\")\n",
        "  print(f\"Best score: {best_score}\")\n",
        "\n",
        "  best_model = model.set_params(**best_params)\n",
        "  best_model.fit(x_train, y_train)\n",
        "\n",
        "  return best_model"
      ]
    },
    {
      "cell_type": "markdown",
      "metadata": {
        "id": "4cnjiJZg1Oq6"
      },
      "source": [
        "Esta otra funcion realiza el hot-encoding que usamos para deshacernos de variables categoricas, lo cual es necesario para realizar algunos modelos.\n",
        "Aplicamos a algunas esto, mientras que a otras que no nos \n",
        "resultan tan relevantes las mapeamos a diversos valores. Resulta natural el mapeo del tipo de habitacion pues habiamos notado un patron de orden en los precios."
      ]
    },
    {
      "cell_type": "code",
      "execution_count": 8,
      "metadata": {
        "id": "0YtUXo091K0k"
      },
      "outputs": [],
      "source": [
        "def ds_con_one_hot_encoding(ds):\n",
        "  ds = pd.get_dummies(ds, columns=[\"hotel\",\"deposit_type\",\"customer_type\", \"market_segment\"], drop_first=True)\n",
        "\n",
        "  ds['meal'] = ds['meal'].map({'BB' : 0, 'FB': 1, 'HB': 2, 'SC': 3, 'Undefined': 4})\n",
        "\n",
        "  ds['distribution_channel'] = ds['distribution_channel'].map({'Direct': 0, 'Corporate': 1, 'TA/TO': 2, 'Undefined': 3,\n",
        "                                                                        'GDS': 4})\n",
        "\n",
        "  ds['reserved_room_type'] = ds['reserved_room_type'].map({'A': 0, 'B': 1, 'C': 2, 'D': 3, 'E': 4, 'F': 5, 'G': 6,\n",
        "                                                                    'H': 7, 'L': 8, 'P':9})\n",
        "\n",
        "  ds['agent'] = ds['agent'].replace('No_agent', 0)\n",
        "  ds['agent'] = ds['agent'].astype(float)\n",
        "\n",
        "  return ds"
      ]
    },
    {
      "cell_type": "markdown",
      "metadata": {
        "id": "Z1waTjoQ9NSi"
      },
      "source": [
        "# a. Clasificador KNN optimizando parametros con K-Fold Cross Validation"
      ]
    },
    {
      "cell_type": "markdown",
      "metadata": {
        "id": "Agc24n005Mmp"
      },
      "source": [
        "Para comenzar el análisis, primero nos deshacemos de las variables categoricas utilizando nuestra función de one hot encoding."
      ]
    },
    {
      "cell_type": "code",
      "execution_count": null,
      "metadata": {
        "id": "_YS6hBgq-RE3"
      },
      "outputs": [],
      "source": [
        "ds_reservas_kNN = ds_con_one_hot_encoding(ds_ensambles)"
      ]
    },
    {
      "cell_type": "markdown",
      "metadata": {
        "id": "QLaeYNQf5ett"
      },
      "source": [
        "Aplicamos nuestra función separarConjuntos, para separar el dataset en entrenamiento y testeo. En este caso consideramos mas conveniente usar unicamente un 20% de los datos como datos de testeo"
      ]
    },
    {
      "cell_type": "code",
      "execution_count": null,
      "metadata": {
        "id": "8asqXB2h-5Oe"
      },
      "outputs": [],
      "source": [
        "x_train, x_test, y_train, y_test = separarConjuntos(ds_reservas_kNN,0.2)"
      ]
    },
    {
      "cell_type": "markdown",
      "metadata": {
        "id": "pb3FmZ9-78lp"
      },
      "source": [
        "Comenzamos creando un modelo base, para poder optimizarlo"
      ]
    },
    {
      "cell_type": "code",
      "execution_count": null,
      "metadata": {
        "id": "pbjD8gJr_tRj"
      },
      "outputs": [],
      "source": [
        "KNN_Classifier = KNeighborsClassifier()"
      ]
    },
    {
      "cell_type": "markdown",
      "metadata": {
        "id": "JkUFTIAV8D55"
      },
      "source": [
        "Obtenemos sus parametros para ver cuales son los que vienen por defecto."
      ]
    },
    {
      "cell_type": "code",
      "execution_count": null,
      "metadata": {
        "colab": {
          "base_uri": "https://localhost:8080/"
        },
        "id": "dKj0t01K8EjL",
        "outputId": "5de7cfc5-ccb4-4513-b54f-fe54eb201a43"
      },
      "outputs": [
        {
          "data": {
            "text/plain": [
              "{'algorithm': 'auto',\n",
              " 'leaf_size': 30,\n",
              " 'metric': 'minkowski',\n",
              " 'metric_params': None,\n",
              " 'n_jobs': None,\n",
              " 'n_neighbors': 5,\n",
              " 'p': 2,\n",
              " 'weights': 'uniform'}"
            ]
          },
          "execution_count": 12,
          "metadata": {},
          "output_type": "execute_result"
        }
      ],
      "source": [
        "KNN_Classifier.get_params()"
      ]
    },
    {
      "cell_type": "markdown",
      "metadata": {
        "id": "j-QWKqaLD4Vh"
      },
      "source": [
        "\n",
        "Veamos que ocurre al variar la cantidad de vecinos usando Cross-Validation"
      ]
    },
    {
      "cell_type": "code",
      "execution_count": null,
      "metadata": {
        "colab": {
          "base_uri": "https://localhost:8080/",
          "height": 415
        },
        "id": "dwDgoEv0D3Ac",
        "outputId": "1c1cb81a-a33a-48d8-c912-2069396f913c"
      },
      "outputs": [
        {
          "ename": "KeyboardInterrupt",
          "evalue": "ignored",
          "output_type": "error",
          "traceback": [
            "\u001b[0;31m---------------------------------------------------------------------------\u001b[0m",
            "\u001b[0;31mKeyboardInterrupt\u001b[0m                         Traceback (most recent call last)",
            "\u001b[0;32m<ipython-input-14-c9aeedf896f6>\u001b[0m in \u001b[0;36m<cell line: 5>\u001b[0;34m()\u001b[0m\n\u001b[1;32m      7\u001b[0m     \u001b[0mknn\u001b[0m\u001b[0;34m=\u001b[0m\u001b[0mKNeighborsClassifier\u001b[0m\u001b[0;34m(\u001b[0m\u001b[0mn_neighbors\u001b[0m\u001b[0;34m=\u001b[0m\u001b[0mk\u001b[0m\u001b[0;34m)\u001b[0m\u001b[0;34m\u001b[0m\u001b[0;34m\u001b[0m\u001b[0m\n\u001b[1;32m      8\u001b[0m     \u001b[0;31m#uso 10 folds\u001b[0m\u001b[0;34m\u001b[0m\u001b[0;34m\u001b[0m\u001b[0m\n\u001b[0;32m----> 9\u001b[0;31m     \u001b[0mscores\u001b[0m\u001b[0;34m=\u001b[0m\u001b[0mcross_val_score\u001b[0m\u001b[0;34m(\u001b[0m\u001b[0mknn\u001b[0m\u001b[0;34m,\u001b[0m\u001b[0mx_train\u001b[0m\u001b[0;34m,\u001b[0m\u001b[0my_train\u001b[0m\u001b[0;34m,\u001b[0m\u001b[0mcv\u001b[0m\u001b[0;34m=\u001b[0m\u001b[0;36m10\u001b[0m\u001b[0;34m,\u001b[0m\u001b[0mscoring\u001b[0m\u001b[0;34m=\u001b[0m\u001b[0;34m'accuracy'\u001b[0m\u001b[0;34m)\u001b[0m\u001b[0;34m\u001b[0m\u001b[0;34m\u001b[0m\u001b[0m\n\u001b[0m\u001b[1;32m     10\u001b[0m     \u001b[0;31m#promedio las 10 métricas\u001b[0m\u001b[0;34m\u001b[0m\u001b[0;34m\u001b[0m\u001b[0m\n\u001b[1;32m     11\u001b[0m     \u001b[0mk_scores\u001b[0m\u001b[0;34m.\u001b[0m\u001b[0mappend\u001b[0m\u001b[0;34m(\u001b[0m\u001b[0mscores\u001b[0m\u001b[0;34m.\u001b[0m\u001b[0mmean\u001b[0m\u001b[0;34m(\u001b[0m\u001b[0;34m)\u001b[0m\u001b[0;34m)\u001b[0m\u001b[0;34m\u001b[0m\u001b[0;34m\u001b[0m\u001b[0m\n",
            "\u001b[0;32m/usr/local/lib/python3.10/dist-packages/sklearn/model_selection/_validation.py\u001b[0m in \u001b[0;36mcross_val_score\u001b[0;34m(estimator, X, y, groups, scoring, cv, n_jobs, verbose, fit_params, pre_dispatch, error_score)\u001b[0m\n\u001b[1;32m    513\u001b[0m     \u001b[0mscorer\u001b[0m \u001b[0;34m=\u001b[0m \u001b[0mcheck_scoring\u001b[0m\u001b[0;34m(\u001b[0m\u001b[0mestimator\u001b[0m\u001b[0;34m,\u001b[0m \u001b[0mscoring\u001b[0m\u001b[0;34m=\u001b[0m\u001b[0mscoring\u001b[0m\u001b[0;34m)\u001b[0m\u001b[0;34m\u001b[0m\u001b[0;34m\u001b[0m\u001b[0m\n\u001b[1;32m    514\u001b[0m \u001b[0;34m\u001b[0m\u001b[0m\n\u001b[0;32m--> 515\u001b[0;31m     cv_results = cross_validate(\n\u001b[0m\u001b[1;32m    516\u001b[0m         \u001b[0mestimator\u001b[0m\u001b[0;34m=\u001b[0m\u001b[0mestimator\u001b[0m\u001b[0;34m,\u001b[0m\u001b[0;34m\u001b[0m\u001b[0;34m\u001b[0m\u001b[0m\n\u001b[1;32m    517\u001b[0m         \u001b[0mX\u001b[0m\u001b[0;34m=\u001b[0m\u001b[0mX\u001b[0m\u001b[0;34m,\u001b[0m\u001b[0;34m\u001b[0m\u001b[0;34m\u001b[0m\u001b[0m\n",
            "\u001b[0;32m/usr/local/lib/python3.10/dist-packages/sklearn/model_selection/_validation.py\u001b[0m in \u001b[0;36mcross_validate\u001b[0;34m(estimator, X, y, groups, scoring, cv, n_jobs, verbose, fit_params, pre_dispatch, return_train_score, return_estimator, error_score)\u001b[0m\n\u001b[1;32m    264\u001b[0m     \u001b[0;31m# independent, and that it is pickle-able.\u001b[0m\u001b[0;34m\u001b[0m\u001b[0;34m\u001b[0m\u001b[0m\n\u001b[1;32m    265\u001b[0m     \u001b[0mparallel\u001b[0m \u001b[0;34m=\u001b[0m \u001b[0mParallel\u001b[0m\u001b[0;34m(\u001b[0m\u001b[0mn_jobs\u001b[0m\u001b[0;34m=\u001b[0m\u001b[0mn_jobs\u001b[0m\u001b[0;34m,\u001b[0m \u001b[0mverbose\u001b[0m\u001b[0;34m=\u001b[0m\u001b[0mverbose\u001b[0m\u001b[0;34m,\u001b[0m \u001b[0mpre_dispatch\u001b[0m\u001b[0;34m=\u001b[0m\u001b[0mpre_dispatch\u001b[0m\u001b[0;34m)\u001b[0m\u001b[0;34m\u001b[0m\u001b[0;34m\u001b[0m\u001b[0m\n\u001b[0;32m--> 266\u001b[0;31m     results = parallel(\n\u001b[0m\u001b[1;32m    267\u001b[0m         delayed(_fit_and_score)(\n\u001b[1;32m    268\u001b[0m             \u001b[0mclone\u001b[0m\u001b[0;34m(\u001b[0m\u001b[0mestimator\u001b[0m\u001b[0;34m)\u001b[0m\u001b[0;34m,\u001b[0m\u001b[0;34m\u001b[0m\u001b[0;34m\u001b[0m\u001b[0m\n",
            "\u001b[0;32m/usr/local/lib/python3.10/dist-packages/sklearn/utils/parallel.py\u001b[0m in \u001b[0;36m__call__\u001b[0;34m(self, iterable)\u001b[0m\n\u001b[1;32m     61\u001b[0m             \u001b[0;32mfor\u001b[0m \u001b[0mdelayed_func\u001b[0m\u001b[0;34m,\u001b[0m \u001b[0margs\u001b[0m\u001b[0;34m,\u001b[0m \u001b[0mkwargs\u001b[0m \u001b[0;32min\u001b[0m \u001b[0miterable\u001b[0m\u001b[0;34m\u001b[0m\u001b[0;34m\u001b[0m\u001b[0m\n\u001b[1;32m     62\u001b[0m         )\n\u001b[0;32m---> 63\u001b[0;31m         \u001b[0;32mreturn\u001b[0m \u001b[0msuper\u001b[0m\u001b[0;34m(\u001b[0m\u001b[0;34m)\u001b[0m\u001b[0;34m.\u001b[0m\u001b[0m__call__\u001b[0m\u001b[0;34m(\u001b[0m\u001b[0miterable_with_config\u001b[0m\u001b[0;34m)\u001b[0m\u001b[0;34m\u001b[0m\u001b[0;34m\u001b[0m\u001b[0m\n\u001b[0m\u001b[1;32m     64\u001b[0m \u001b[0;34m\u001b[0m\u001b[0m\n\u001b[1;32m     65\u001b[0m \u001b[0;34m\u001b[0m\u001b[0m\n",
            "\u001b[0;32m/usr/local/lib/python3.10/dist-packages/joblib/parallel.py\u001b[0m in \u001b[0;36m__call__\u001b[0;34m(self, iterable)\u001b[0m\n\u001b[1;32m   1086\u001b[0m                 \u001b[0mself\u001b[0m\u001b[0;34m.\u001b[0m\u001b[0m_iterating\u001b[0m \u001b[0;34m=\u001b[0m \u001b[0mself\u001b[0m\u001b[0;34m.\u001b[0m\u001b[0m_original_iterator\u001b[0m \u001b[0;32mis\u001b[0m \u001b[0;32mnot\u001b[0m \u001b[0;32mNone\u001b[0m\u001b[0;34m\u001b[0m\u001b[0;34m\u001b[0m\u001b[0m\n\u001b[1;32m   1087\u001b[0m \u001b[0;34m\u001b[0m\u001b[0m\n\u001b[0;32m-> 1088\u001b[0;31m             \u001b[0;32mwhile\u001b[0m \u001b[0mself\u001b[0m\u001b[0;34m.\u001b[0m\u001b[0mdispatch_one_batch\u001b[0m\u001b[0;34m(\u001b[0m\u001b[0miterator\u001b[0m\u001b[0;34m)\u001b[0m\u001b[0;34m:\u001b[0m\u001b[0;34m\u001b[0m\u001b[0;34m\u001b[0m\u001b[0m\n\u001b[0m\u001b[1;32m   1089\u001b[0m                 \u001b[0;32mpass\u001b[0m\u001b[0;34m\u001b[0m\u001b[0;34m\u001b[0m\u001b[0m\n\u001b[1;32m   1090\u001b[0m \u001b[0;34m\u001b[0m\u001b[0m\n",
            "\u001b[0;32m/usr/local/lib/python3.10/dist-packages/joblib/parallel.py\u001b[0m in \u001b[0;36mdispatch_one_batch\u001b[0;34m(self, iterator)\u001b[0m\n\u001b[1;32m    899\u001b[0m                 \u001b[0;32mreturn\u001b[0m \u001b[0;32mFalse\u001b[0m\u001b[0;34m\u001b[0m\u001b[0;34m\u001b[0m\u001b[0m\n\u001b[1;32m    900\u001b[0m             \u001b[0;32melse\u001b[0m\u001b[0;34m:\u001b[0m\u001b[0;34m\u001b[0m\u001b[0;34m\u001b[0m\u001b[0m\n\u001b[0;32m--> 901\u001b[0;31m                 \u001b[0mself\u001b[0m\u001b[0;34m.\u001b[0m\u001b[0m_dispatch\u001b[0m\u001b[0;34m(\u001b[0m\u001b[0mtasks\u001b[0m\u001b[0;34m)\u001b[0m\u001b[0;34m\u001b[0m\u001b[0;34m\u001b[0m\u001b[0m\n\u001b[0m\u001b[1;32m    902\u001b[0m                 \u001b[0;32mreturn\u001b[0m \u001b[0;32mTrue\u001b[0m\u001b[0;34m\u001b[0m\u001b[0;34m\u001b[0m\u001b[0m\n\u001b[1;32m    903\u001b[0m \u001b[0;34m\u001b[0m\u001b[0m\n",
            "\u001b[0;32m/usr/local/lib/python3.10/dist-packages/joblib/parallel.py\u001b[0m in \u001b[0;36m_dispatch\u001b[0;34m(self, batch)\u001b[0m\n\u001b[1;32m    817\u001b[0m         \u001b[0;32mwith\u001b[0m \u001b[0mself\u001b[0m\u001b[0;34m.\u001b[0m\u001b[0m_lock\u001b[0m\u001b[0;34m:\u001b[0m\u001b[0;34m\u001b[0m\u001b[0;34m\u001b[0m\u001b[0m\n\u001b[1;32m    818\u001b[0m             \u001b[0mjob_idx\u001b[0m \u001b[0;34m=\u001b[0m \u001b[0mlen\u001b[0m\u001b[0;34m(\u001b[0m\u001b[0mself\u001b[0m\u001b[0;34m.\u001b[0m\u001b[0m_jobs\u001b[0m\u001b[0;34m)\u001b[0m\u001b[0;34m\u001b[0m\u001b[0;34m\u001b[0m\u001b[0m\n\u001b[0;32m--> 819\u001b[0;31m             \u001b[0mjob\u001b[0m \u001b[0;34m=\u001b[0m \u001b[0mself\u001b[0m\u001b[0;34m.\u001b[0m\u001b[0m_backend\u001b[0m\u001b[0;34m.\u001b[0m\u001b[0mapply_async\u001b[0m\u001b[0;34m(\u001b[0m\u001b[0mbatch\u001b[0m\u001b[0;34m,\u001b[0m \u001b[0mcallback\u001b[0m\u001b[0;34m=\u001b[0m\u001b[0mcb\u001b[0m\u001b[0;34m)\u001b[0m\u001b[0;34m\u001b[0m\u001b[0;34m\u001b[0m\u001b[0m\n\u001b[0m\u001b[1;32m    820\u001b[0m             \u001b[0;31m# A job can complete so quickly than its callback is\u001b[0m\u001b[0;34m\u001b[0m\u001b[0;34m\u001b[0m\u001b[0m\n\u001b[1;32m    821\u001b[0m             \u001b[0;31m# called before we get here, causing self._jobs to\u001b[0m\u001b[0;34m\u001b[0m\u001b[0;34m\u001b[0m\u001b[0m\n",
            "\u001b[0;32m/usr/local/lib/python3.10/dist-packages/joblib/_parallel_backends.py\u001b[0m in \u001b[0;36mapply_async\u001b[0;34m(self, func, callback)\u001b[0m\n\u001b[1;32m    206\u001b[0m     \u001b[0;32mdef\u001b[0m \u001b[0mapply_async\u001b[0m\u001b[0;34m(\u001b[0m\u001b[0mself\u001b[0m\u001b[0;34m,\u001b[0m \u001b[0mfunc\u001b[0m\u001b[0;34m,\u001b[0m \u001b[0mcallback\u001b[0m\u001b[0;34m=\u001b[0m\u001b[0;32mNone\u001b[0m\u001b[0;34m)\u001b[0m\u001b[0;34m:\u001b[0m\u001b[0;34m\u001b[0m\u001b[0;34m\u001b[0m\u001b[0m\n\u001b[1;32m    207\u001b[0m         \u001b[0;34m\"\"\"Schedule a func to be run\"\"\"\u001b[0m\u001b[0;34m\u001b[0m\u001b[0;34m\u001b[0m\u001b[0m\n\u001b[0;32m--> 208\u001b[0;31m         \u001b[0mresult\u001b[0m \u001b[0;34m=\u001b[0m \u001b[0mImmediateResult\u001b[0m\u001b[0;34m(\u001b[0m\u001b[0mfunc\u001b[0m\u001b[0;34m)\u001b[0m\u001b[0;34m\u001b[0m\u001b[0;34m\u001b[0m\u001b[0m\n\u001b[0m\u001b[1;32m    209\u001b[0m         \u001b[0;32mif\u001b[0m \u001b[0mcallback\u001b[0m\u001b[0;34m:\u001b[0m\u001b[0;34m\u001b[0m\u001b[0;34m\u001b[0m\u001b[0m\n\u001b[1;32m    210\u001b[0m             \u001b[0mcallback\u001b[0m\u001b[0;34m(\u001b[0m\u001b[0mresult\u001b[0m\u001b[0;34m)\u001b[0m\u001b[0;34m\u001b[0m\u001b[0;34m\u001b[0m\u001b[0m\n",
            "\u001b[0;32m/usr/local/lib/python3.10/dist-packages/joblib/_parallel_backends.py\u001b[0m in \u001b[0;36m__init__\u001b[0;34m(self, batch)\u001b[0m\n\u001b[1;32m    595\u001b[0m         \u001b[0;31m# Don't delay the application, to avoid keeping the input\u001b[0m\u001b[0;34m\u001b[0m\u001b[0;34m\u001b[0m\u001b[0m\n\u001b[1;32m    596\u001b[0m         \u001b[0;31m# arguments in memory\u001b[0m\u001b[0;34m\u001b[0m\u001b[0;34m\u001b[0m\u001b[0m\n\u001b[0;32m--> 597\u001b[0;31m         \u001b[0mself\u001b[0m\u001b[0;34m.\u001b[0m\u001b[0mresults\u001b[0m \u001b[0;34m=\u001b[0m \u001b[0mbatch\u001b[0m\u001b[0;34m(\u001b[0m\u001b[0;34m)\u001b[0m\u001b[0;34m\u001b[0m\u001b[0;34m\u001b[0m\u001b[0m\n\u001b[0m\u001b[1;32m    598\u001b[0m \u001b[0;34m\u001b[0m\u001b[0m\n\u001b[1;32m    599\u001b[0m     \u001b[0;32mdef\u001b[0m \u001b[0mget\u001b[0m\u001b[0;34m(\u001b[0m\u001b[0mself\u001b[0m\u001b[0;34m)\u001b[0m\u001b[0;34m:\u001b[0m\u001b[0;34m\u001b[0m\u001b[0;34m\u001b[0m\u001b[0m\n",
            "\u001b[0;32m/usr/local/lib/python3.10/dist-packages/joblib/parallel.py\u001b[0m in \u001b[0;36m__call__\u001b[0;34m(self)\u001b[0m\n\u001b[1;32m    286\u001b[0m         \u001b[0;31m# change the default number of processes to -1\u001b[0m\u001b[0;34m\u001b[0m\u001b[0;34m\u001b[0m\u001b[0m\n\u001b[1;32m    287\u001b[0m         \u001b[0;32mwith\u001b[0m \u001b[0mparallel_backend\u001b[0m\u001b[0;34m(\u001b[0m\u001b[0mself\u001b[0m\u001b[0;34m.\u001b[0m\u001b[0m_backend\u001b[0m\u001b[0;34m,\u001b[0m \u001b[0mn_jobs\u001b[0m\u001b[0;34m=\u001b[0m\u001b[0mself\u001b[0m\u001b[0;34m.\u001b[0m\u001b[0m_n_jobs\u001b[0m\u001b[0;34m)\u001b[0m\u001b[0;34m:\u001b[0m\u001b[0;34m\u001b[0m\u001b[0;34m\u001b[0m\u001b[0m\n\u001b[0;32m--> 288\u001b[0;31m             return [func(*args, **kwargs)\n\u001b[0m\u001b[1;32m    289\u001b[0m                     for func, args, kwargs in self.items]\n\u001b[1;32m    290\u001b[0m \u001b[0;34m\u001b[0m\u001b[0m\n",
            "\u001b[0;32m/usr/local/lib/python3.10/dist-packages/joblib/parallel.py\u001b[0m in \u001b[0;36m<listcomp>\u001b[0;34m(.0)\u001b[0m\n\u001b[1;32m    286\u001b[0m         \u001b[0;31m# change the default number of processes to -1\u001b[0m\u001b[0;34m\u001b[0m\u001b[0;34m\u001b[0m\u001b[0m\n\u001b[1;32m    287\u001b[0m         \u001b[0;32mwith\u001b[0m \u001b[0mparallel_backend\u001b[0m\u001b[0;34m(\u001b[0m\u001b[0mself\u001b[0m\u001b[0;34m.\u001b[0m\u001b[0m_backend\u001b[0m\u001b[0;34m,\u001b[0m \u001b[0mn_jobs\u001b[0m\u001b[0;34m=\u001b[0m\u001b[0mself\u001b[0m\u001b[0;34m.\u001b[0m\u001b[0m_n_jobs\u001b[0m\u001b[0;34m)\u001b[0m\u001b[0;34m:\u001b[0m\u001b[0;34m\u001b[0m\u001b[0;34m\u001b[0m\u001b[0m\n\u001b[0;32m--> 288\u001b[0;31m             return [func(*args, **kwargs)\n\u001b[0m\u001b[1;32m    289\u001b[0m                     for func, args, kwargs in self.items]\n\u001b[1;32m    290\u001b[0m \u001b[0;34m\u001b[0m\u001b[0m\n",
            "\u001b[0;32m/usr/local/lib/python3.10/dist-packages/sklearn/utils/parallel.py\u001b[0m in \u001b[0;36m__call__\u001b[0;34m(self, *args, **kwargs)\u001b[0m\n\u001b[1;32m    121\u001b[0m             \u001b[0mconfig\u001b[0m \u001b[0;34m=\u001b[0m \u001b[0;34m{\u001b[0m\u001b[0;34m}\u001b[0m\u001b[0;34m\u001b[0m\u001b[0;34m\u001b[0m\u001b[0m\n\u001b[1;32m    122\u001b[0m         \u001b[0;32mwith\u001b[0m \u001b[0mconfig_context\u001b[0m\u001b[0;34m(\u001b[0m\u001b[0;34m**\u001b[0m\u001b[0mconfig\u001b[0m\u001b[0;34m)\u001b[0m\u001b[0;34m:\u001b[0m\u001b[0;34m\u001b[0m\u001b[0;34m\u001b[0m\u001b[0m\n\u001b[0;32m--> 123\u001b[0;31m             \u001b[0;32mreturn\u001b[0m \u001b[0mself\u001b[0m\u001b[0;34m.\u001b[0m\u001b[0mfunction\u001b[0m\u001b[0;34m(\u001b[0m\u001b[0;34m*\u001b[0m\u001b[0margs\u001b[0m\u001b[0;34m,\u001b[0m \u001b[0;34m**\u001b[0m\u001b[0mkwargs\u001b[0m\u001b[0;34m)\u001b[0m\u001b[0;34m\u001b[0m\u001b[0;34m\u001b[0m\u001b[0m\n\u001b[0m",
            "\u001b[0;32m/usr/local/lib/python3.10/dist-packages/sklearn/model_selection/_validation.py\u001b[0m in \u001b[0;36m_fit_and_score\u001b[0;34m(estimator, X, y, scorer, train, test, verbose, parameters, fit_params, return_train_score, return_parameters, return_n_test_samples, return_times, return_estimator, split_progress, candidate_progress, error_score)\u001b[0m\n\u001b[1;32m    706\u001b[0m \u001b[0;34m\u001b[0m\u001b[0m\n\u001b[1;32m    707\u001b[0m         \u001b[0mfit_time\u001b[0m \u001b[0;34m=\u001b[0m \u001b[0mtime\u001b[0m\u001b[0;34m.\u001b[0m\u001b[0mtime\u001b[0m\u001b[0;34m(\u001b[0m\u001b[0;34m)\u001b[0m \u001b[0;34m-\u001b[0m \u001b[0mstart_time\u001b[0m\u001b[0;34m\u001b[0m\u001b[0;34m\u001b[0m\u001b[0m\n\u001b[0;32m--> 708\u001b[0;31m         \u001b[0mtest_scores\u001b[0m \u001b[0;34m=\u001b[0m \u001b[0m_score\u001b[0m\u001b[0;34m(\u001b[0m\u001b[0mestimator\u001b[0m\u001b[0;34m,\u001b[0m \u001b[0mX_test\u001b[0m\u001b[0;34m,\u001b[0m \u001b[0my_test\u001b[0m\u001b[0;34m,\u001b[0m \u001b[0mscorer\u001b[0m\u001b[0;34m,\u001b[0m \u001b[0merror_score\u001b[0m\u001b[0;34m)\u001b[0m\u001b[0;34m\u001b[0m\u001b[0;34m\u001b[0m\u001b[0m\n\u001b[0m\u001b[1;32m    709\u001b[0m         \u001b[0mscore_time\u001b[0m \u001b[0;34m=\u001b[0m \u001b[0mtime\u001b[0m\u001b[0;34m.\u001b[0m\u001b[0mtime\u001b[0m\u001b[0;34m(\u001b[0m\u001b[0;34m)\u001b[0m \u001b[0;34m-\u001b[0m \u001b[0mstart_time\u001b[0m \u001b[0;34m-\u001b[0m \u001b[0mfit_time\u001b[0m\u001b[0;34m\u001b[0m\u001b[0;34m\u001b[0m\u001b[0m\n\u001b[1;32m    710\u001b[0m         \u001b[0;32mif\u001b[0m \u001b[0mreturn_train_score\u001b[0m\u001b[0;34m:\u001b[0m\u001b[0;34m\u001b[0m\u001b[0;34m\u001b[0m\u001b[0m\n",
            "\u001b[0;32m/usr/local/lib/python3.10/dist-packages/sklearn/model_selection/_validation.py\u001b[0m in \u001b[0;36m_score\u001b[0;34m(estimator, X_test, y_test, scorer, error_score)\u001b[0m\n\u001b[1;32m    765\u001b[0m             \u001b[0mscores\u001b[0m \u001b[0;34m=\u001b[0m \u001b[0mscorer\u001b[0m\u001b[0;34m(\u001b[0m\u001b[0mestimator\u001b[0m\u001b[0;34m,\u001b[0m \u001b[0mX_test\u001b[0m\u001b[0;34m)\u001b[0m\u001b[0;34m\u001b[0m\u001b[0;34m\u001b[0m\u001b[0m\n\u001b[1;32m    766\u001b[0m         \u001b[0;32melse\u001b[0m\u001b[0;34m:\u001b[0m\u001b[0;34m\u001b[0m\u001b[0;34m\u001b[0m\u001b[0m\n\u001b[0;32m--> 767\u001b[0;31m             \u001b[0mscores\u001b[0m \u001b[0;34m=\u001b[0m \u001b[0mscorer\u001b[0m\u001b[0;34m(\u001b[0m\u001b[0mestimator\u001b[0m\u001b[0;34m,\u001b[0m \u001b[0mX_test\u001b[0m\u001b[0;34m,\u001b[0m \u001b[0my_test\u001b[0m\u001b[0;34m)\u001b[0m\u001b[0;34m\u001b[0m\u001b[0;34m\u001b[0m\u001b[0m\n\u001b[0m\u001b[1;32m    768\u001b[0m     \u001b[0;32mexcept\u001b[0m \u001b[0mException\u001b[0m\u001b[0;34m:\u001b[0m\u001b[0;34m\u001b[0m\u001b[0;34m\u001b[0m\u001b[0m\n\u001b[1;32m    769\u001b[0m         \u001b[0;32mif\u001b[0m \u001b[0misinstance\u001b[0m\u001b[0;34m(\u001b[0m\u001b[0mscorer\u001b[0m\u001b[0;34m,\u001b[0m \u001b[0m_MultimetricScorer\u001b[0m\u001b[0;34m)\u001b[0m\u001b[0;34m:\u001b[0m\u001b[0;34m\u001b[0m\u001b[0;34m\u001b[0m\u001b[0m\n",
            "\u001b[0;32m/usr/local/lib/python3.10/dist-packages/sklearn/metrics/_scorer.py\u001b[0m in \u001b[0;36m__call__\u001b[0;34m(self, estimator, *args, **kwargs)\u001b[0m\n\u001b[1;32m    113\u001b[0m             \u001b[0;32mtry\u001b[0m\u001b[0;34m:\u001b[0m\u001b[0;34m\u001b[0m\u001b[0;34m\u001b[0m\u001b[0m\n\u001b[1;32m    114\u001b[0m                 \u001b[0;32mif\u001b[0m \u001b[0misinstance\u001b[0m\u001b[0;34m(\u001b[0m\u001b[0mscorer\u001b[0m\u001b[0;34m,\u001b[0m \u001b[0m_BaseScorer\u001b[0m\u001b[0;34m)\u001b[0m\u001b[0;34m:\u001b[0m\u001b[0;34m\u001b[0m\u001b[0;34m\u001b[0m\u001b[0m\n\u001b[0;32m--> 115\u001b[0;31m                     \u001b[0mscore\u001b[0m \u001b[0;34m=\u001b[0m \u001b[0mscorer\u001b[0m\u001b[0;34m.\u001b[0m\u001b[0m_score\u001b[0m\u001b[0;34m(\u001b[0m\u001b[0mcached_call\u001b[0m\u001b[0;34m,\u001b[0m \u001b[0mestimator\u001b[0m\u001b[0;34m,\u001b[0m \u001b[0;34m*\u001b[0m\u001b[0margs\u001b[0m\u001b[0;34m,\u001b[0m \u001b[0;34m**\u001b[0m\u001b[0mkwargs\u001b[0m\u001b[0;34m)\u001b[0m\u001b[0;34m\u001b[0m\u001b[0;34m\u001b[0m\u001b[0m\n\u001b[0m\u001b[1;32m    116\u001b[0m                 \u001b[0;32melse\u001b[0m\u001b[0;34m:\u001b[0m\u001b[0;34m\u001b[0m\u001b[0;34m\u001b[0m\u001b[0m\n\u001b[1;32m    117\u001b[0m                     \u001b[0mscore\u001b[0m \u001b[0;34m=\u001b[0m \u001b[0mscorer\u001b[0m\u001b[0;34m(\u001b[0m\u001b[0mestimator\u001b[0m\u001b[0;34m,\u001b[0m \u001b[0;34m*\u001b[0m\u001b[0margs\u001b[0m\u001b[0;34m,\u001b[0m \u001b[0;34m**\u001b[0m\u001b[0mkwargs\u001b[0m\u001b[0;34m)\u001b[0m\u001b[0;34m\u001b[0m\u001b[0;34m\u001b[0m\u001b[0m\n",
            "\u001b[0;32m/usr/local/lib/python3.10/dist-packages/sklearn/metrics/_scorer.py\u001b[0m in \u001b[0;36m_score\u001b[0;34m(self, method_caller, estimator, X, y_true, sample_weight)\u001b[0m\n\u001b[1;32m    274\u001b[0m         \"\"\"\n\u001b[1;32m    275\u001b[0m \u001b[0;34m\u001b[0m\u001b[0m\n\u001b[0;32m--> 276\u001b[0;31m         \u001b[0my_pred\u001b[0m \u001b[0;34m=\u001b[0m \u001b[0mmethod_caller\u001b[0m\u001b[0;34m(\u001b[0m\u001b[0mestimator\u001b[0m\u001b[0;34m,\u001b[0m \u001b[0;34m\"predict\"\u001b[0m\u001b[0;34m,\u001b[0m \u001b[0mX\u001b[0m\u001b[0;34m)\u001b[0m\u001b[0;34m\u001b[0m\u001b[0;34m\u001b[0m\u001b[0m\n\u001b[0m\u001b[1;32m    277\u001b[0m         \u001b[0;32mif\u001b[0m \u001b[0msample_weight\u001b[0m \u001b[0;32mis\u001b[0m \u001b[0;32mnot\u001b[0m \u001b[0;32mNone\u001b[0m\u001b[0;34m:\u001b[0m\u001b[0;34m\u001b[0m\u001b[0;34m\u001b[0m\u001b[0m\n\u001b[1;32m    278\u001b[0m             return self._sign * self._score_func(\n",
            "\u001b[0;32m/usr/local/lib/python3.10/dist-packages/sklearn/metrics/_scorer.py\u001b[0m in \u001b[0;36m_cached_call\u001b[0;34m(cache, estimator, method, *args, **kwargs)\u001b[0m\n\u001b[1;32m     71\u001b[0m     \u001b[0;34m\"\"\"Call estimator with method and args and kwargs.\"\"\"\u001b[0m\u001b[0;34m\u001b[0m\u001b[0;34m\u001b[0m\u001b[0m\n\u001b[1;32m     72\u001b[0m     \u001b[0;32mif\u001b[0m \u001b[0mcache\u001b[0m \u001b[0;32mis\u001b[0m \u001b[0;32mNone\u001b[0m\u001b[0;34m:\u001b[0m\u001b[0;34m\u001b[0m\u001b[0;34m\u001b[0m\u001b[0m\n\u001b[0;32m---> 73\u001b[0;31m         \u001b[0;32mreturn\u001b[0m \u001b[0mgetattr\u001b[0m\u001b[0;34m(\u001b[0m\u001b[0mestimator\u001b[0m\u001b[0;34m,\u001b[0m \u001b[0mmethod\u001b[0m\u001b[0;34m)\u001b[0m\u001b[0;34m(\u001b[0m\u001b[0;34m*\u001b[0m\u001b[0margs\u001b[0m\u001b[0;34m,\u001b[0m \u001b[0;34m**\u001b[0m\u001b[0mkwargs\u001b[0m\u001b[0;34m)\u001b[0m\u001b[0;34m\u001b[0m\u001b[0;34m\u001b[0m\u001b[0m\n\u001b[0m\u001b[1;32m     74\u001b[0m \u001b[0;34m\u001b[0m\u001b[0m\n\u001b[1;32m     75\u001b[0m     \u001b[0;32mtry\u001b[0m\u001b[0;34m:\u001b[0m\u001b[0;34m\u001b[0m\u001b[0;34m\u001b[0m\u001b[0m\n",
            "\u001b[0;32m/usr/local/lib/python3.10/dist-packages/sklearn/neighbors/_classification.py\u001b[0m in \u001b[0;36mpredict\u001b[0;34m(self, X)\u001b[0m\n\u001b[1;32m    232\u001b[0m             \u001b[0;31m# In that case, we do not need the distances to perform\u001b[0m\u001b[0;34m\u001b[0m\u001b[0;34m\u001b[0m\u001b[0m\n\u001b[1;32m    233\u001b[0m             \u001b[0;31m# the weighting so we do not compute them.\u001b[0m\u001b[0;34m\u001b[0m\u001b[0;34m\u001b[0m\u001b[0m\n\u001b[0;32m--> 234\u001b[0;31m             \u001b[0mneigh_ind\u001b[0m \u001b[0;34m=\u001b[0m \u001b[0mself\u001b[0m\u001b[0;34m.\u001b[0m\u001b[0mkneighbors\u001b[0m\u001b[0;34m(\u001b[0m\u001b[0mX\u001b[0m\u001b[0;34m,\u001b[0m \u001b[0mreturn_distance\u001b[0m\u001b[0;34m=\u001b[0m\u001b[0;32mFalse\u001b[0m\u001b[0;34m)\u001b[0m\u001b[0;34m\u001b[0m\u001b[0;34m\u001b[0m\u001b[0m\n\u001b[0m\u001b[1;32m    235\u001b[0m             \u001b[0mneigh_dist\u001b[0m \u001b[0;34m=\u001b[0m \u001b[0;32mNone\u001b[0m\u001b[0;34m\u001b[0m\u001b[0;34m\u001b[0m\u001b[0m\n\u001b[1;32m    236\u001b[0m         \u001b[0;32melse\u001b[0m\u001b[0;34m:\u001b[0m\u001b[0;34m\u001b[0m\u001b[0;34m\u001b[0m\u001b[0m\n",
            "\u001b[0;32m/usr/local/lib/python3.10/dist-packages/sklearn/neighbors/_base.py\u001b[0m in \u001b[0;36mkneighbors\u001b[0;34m(self, X, n_neighbors, return_distance)\u001b[0m\n\u001b[1;32m    822\u001b[0m         )\n\u001b[1;32m    823\u001b[0m         \u001b[0;32mif\u001b[0m \u001b[0muse_pairwise_distances_reductions\u001b[0m\u001b[0;34m:\u001b[0m\u001b[0;34m\u001b[0m\u001b[0;34m\u001b[0m\u001b[0m\n\u001b[0;32m--> 824\u001b[0;31m             results = ArgKmin.compute(\n\u001b[0m\u001b[1;32m    825\u001b[0m                 \u001b[0mX\u001b[0m\u001b[0;34m=\u001b[0m\u001b[0mX\u001b[0m\u001b[0;34m,\u001b[0m\u001b[0;34m\u001b[0m\u001b[0;34m\u001b[0m\u001b[0m\n\u001b[1;32m    826\u001b[0m                 \u001b[0mY\u001b[0m\u001b[0;34m=\u001b[0m\u001b[0mself\u001b[0m\u001b[0;34m.\u001b[0m\u001b[0m_fit_X\u001b[0m\u001b[0;34m,\u001b[0m\u001b[0;34m\u001b[0m\u001b[0;34m\u001b[0m\u001b[0m\n",
            "\u001b[0;32m/usr/local/lib/python3.10/dist-packages/sklearn/metrics/_pairwise_distances_reduction/_dispatcher.py\u001b[0m in \u001b[0;36mcompute\u001b[0;34m(cls, X, Y, k, metric, chunk_size, metric_kwargs, strategy, return_distance)\u001b[0m\n\u001b[1;32m    275\u001b[0m         \"\"\"\n\u001b[1;32m    276\u001b[0m         \u001b[0;32mif\u001b[0m \u001b[0mX\u001b[0m\u001b[0;34m.\u001b[0m\u001b[0mdtype\u001b[0m \u001b[0;34m==\u001b[0m \u001b[0mY\u001b[0m\u001b[0;34m.\u001b[0m\u001b[0mdtype\u001b[0m \u001b[0;34m==\u001b[0m \u001b[0mnp\u001b[0m\u001b[0;34m.\u001b[0m\u001b[0mfloat64\u001b[0m\u001b[0;34m:\u001b[0m\u001b[0;34m\u001b[0m\u001b[0;34m\u001b[0m\u001b[0m\n\u001b[0;32m--> 277\u001b[0;31m             return ArgKmin64.compute(\n\u001b[0m\u001b[1;32m    278\u001b[0m                 \u001b[0mX\u001b[0m\u001b[0;34m=\u001b[0m\u001b[0mX\u001b[0m\u001b[0;34m,\u001b[0m\u001b[0;34m\u001b[0m\u001b[0;34m\u001b[0m\u001b[0m\n\u001b[1;32m    279\u001b[0m                 \u001b[0mY\u001b[0m\u001b[0;34m=\u001b[0m\u001b[0mY\u001b[0m\u001b[0;34m,\u001b[0m\u001b[0;34m\u001b[0m\u001b[0;34m\u001b[0m\u001b[0m\n",
            "\u001b[0;32msklearn/metrics/_pairwise_distances_reduction/_argkmin.pyx\u001b[0m in \u001b[0;36msklearn.metrics._pairwise_distances_reduction._argkmin.ArgKmin64.compute\u001b[0;34m()\u001b[0m\n",
            "\u001b[0;32m/usr/local/lib/python3.10/dist-packages/threadpoolctl.py\u001b[0m in \u001b[0;36m__exit__\u001b[0;34m(self, type, value, traceback)\u001b[0m\n\u001b[1;32m    169\u001b[0m         \u001b[0;32mreturn\u001b[0m \u001b[0mself\u001b[0m\u001b[0;34m\u001b[0m\u001b[0;34m\u001b[0m\u001b[0m\n\u001b[1;32m    170\u001b[0m \u001b[0;34m\u001b[0m\u001b[0m\n\u001b[0;32m--> 171\u001b[0;31m     \u001b[0;32mdef\u001b[0m \u001b[0m__exit__\u001b[0m\u001b[0;34m(\u001b[0m\u001b[0mself\u001b[0m\u001b[0;34m,\u001b[0m \u001b[0mtype\u001b[0m\u001b[0;34m,\u001b[0m \u001b[0mvalue\u001b[0m\u001b[0;34m,\u001b[0m \u001b[0mtraceback\u001b[0m\u001b[0;34m)\u001b[0m\u001b[0;34m:\u001b[0m\u001b[0;34m\u001b[0m\u001b[0;34m\u001b[0m\u001b[0m\n\u001b[0m\u001b[1;32m    172\u001b[0m         \u001b[0mself\u001b[0m\u001b[0;34m.\u001b[0m\u001b[0mrestore_original_limits\u001b[0m\u001b[0;34m(\u001b[0m\u001b[0;34m)\u001b[0m\u001b[0;34m\u001b[0m\u001b[0;34m\u001b[0m\u001b[0m\n\u001b[1;32m    173\u001b[0m \u001b[0;34m\u001b[0m\u001b[0m\n",
            "\u001b[0;31mKeyboardInterrupt\u001b[0m: "
          ]
        }
      ],
      "source": [
        "k_range=range(1,30) #canidad de vecinos a probar\n",
        "\n",
        "k_scores=[] # accuracy para cada K utilizado\n",
        "\n",
        "for k in k_range:\n",
        "    #clasificador Knn\n",
        "    knn=KNeighborsClassifier(n_neighbors=k)\n",
        "    #uso 10 folds\n",
        "    scores=cross_val_score(knn,x_train,y_train,cv=10,scoring='accuracy')\n",
        "    #promedio las 10 métricas\n",
        "    k_scores.append(scores.mean())"
      ]
    },
    {
      "cell_type": "code",
      "execution_count": null,
      "metadata": {
        "colab": {
          "base_uri": "https://localhost:8080/",
          "height": 472
        },
        "id": "N5AgsvTCEB5U",
        "outputId": "9b0fec78-c7bb-4c7d-d493-faeeb5e633f3"
      },
      "outputs": [
        {
          "data": {
            "image/png": "[encoded data removed]",
            "text/plain": [
              "<Figure size 640x480 with 1 Axes>"
            ]
          },
          "metadata": {},
          "output_type": "display_data"
        }
      ],
      "source": [
        "#ploteamos accuracy vs cantidad de vecinos\n",
        "plt.plot(k_range, k_scores)\n",
        "plt.xlabel('Cantidad de Vecinos')\n",
        "plt.ylabel('Cross Validation Accuracy')\n",
        "plt.title('Accuracy vs Cantidad de Vecinos')\n",
        "plt.show()"
      ]
    },
    {
      "cell_type": "markdown",
      "metadata": {
        "id": "RVd-y9pME032"
      },
      "source": [
        "Ahora, buscaremos optimizar los hiperparametros por medio de random search. Entre los parametros a optimizar, se tienen:\n",
        "\n",
        "* n_neighbors: número de vecinos a considerar, por defecto este valor esta seteado en 5.\n",
        "* algorithm: algoritmo utilizado para calcular los vecinos más cercanos:\n",
        "  - ball_tree utilizará BallTree\n",
        "  - kd_tree : utilizará KDTree\n",
        "  - brute : utilizará una búsqueda de fuerza bruta.\n",
        "* metric: métrica a utilizar para el cálculo de la distancia. El valor predeterminado es \"minkowski\". Las métricas válidas dependerán del algorítmo que utilicemos.\n",
        "* weights: función de peso utilizada en la predicción. Por defecto vienen pesos uniformes, es decir, todos los puntos en cada \"vecindario\" pesan lo mismo. Se podria tambien hacer que tengan un peso en base a la distancia.\n",
        "\n"
      ]
    },
    {
      "cell_type": "code",
      "execution_count": null,
      "metadata": {
        "id": "lF0Q21fb_hSo"
      },
      "outputs": [],
      "source": [
        "#Grilla de Parámetros\n",
        "params_grid={ 'n_neighbors':range(1,30), \n",
        "              'weights':['distance','uniform'],\n",
        "              'algorithm':['ball_tree', 'kd_tree', 'brute'],\n",
        "              'metric':['euclidean','manhattan','chebyshev']\n",
        "             }"
      ]
    },
    {
      "cell_type": "markdown",
      "metadata": {
        "id": "_U92VJAj5wqx"
      },
      "source": [
        "Buscamos con nuestra funcion que realiza Kfolds Randomized Cross Validation, el modelo con los mejores hiperparametros, probando 10 valores al azar, separando el conjunto en 10 (10 folds)"
      ]
    },
    {
      "cell_type": "code",
      "execution_count": null,
      "metadata": {
        "colab": {
          "base_uri": "https://localhost:8080/"
        },
        "id": "-hGqU2wxA2C4",
        "outputId": "304a774c-6caa-42a5-998f-241f1c8d150d"
      },
      "outputs": [
        {
          "name": "stdout",
          "output_type": "stream",
          "text": [
            "Best parameters: {'weights': 'distance', 'n_neighbors': 18, 'metric': 'manhattan', 'algorithm': 'brute'}\n",
            "Best score: 0.7809762436893568\n"
          ]
        }
      ],
      "source": [
        "kNN_optimizado = buscarMejoresHiperparametros(10, 10, KNN_Classifier, params_grid, x_train, y_train)"
      ]
    },
    {
      "cell_type": "code",
      "execution_count": null,
      "metadata": {
        "colab": {
          "base_uri": "https://localhost:8080/",
          "height": 625
        },
        "id": "avvis0c7Cf-i",
        "outputId": "24471ddf-a4e2-4751-8cf0-1ae86458099f"
      },
      "outputs": [
        {
          "name": "stdout",
          "output_type": "stream",
          "text": [
            "              precision    recall  f1-score   support\n",
            "\n",
            "           0       0.80      0.75      0.77      6178\n",
            "           1       0.76      0.81      0.79      6187\n",
            "\n",
            "    accuracy                           0.78     12365\n",
            "   macro avg       0.78      0.78      0.78     12365\n",
            "weighted avg       0.78      0.78      0.78     12365\n",
            "\n",
            "F1-Score: 0.7886706830451451\n"
          ]
        },
        {
          "data": {
            "image/png": "[encoded data removed]",
            "text/plain": [
              "<Figure size 640x480 with 2 Axes>"
            ]
          },
          "metadata": {},
          "output_type": "display_data"
        }
      ],
      "source": [
        "mostrarPerformance(kNN_optimizado,x_test,y_test)"
      ]
    },
    {
      "cell_type": "code",
      "execution_count": null,
      "metadata": {
        "colab": {
          "base_uri": "https://localhost:8080/",
          "height": 623
        },
        "id": "M6U6RjEkAGG-",
        "outputId": "e061ba10-ddc1-41e9-b0f7-5238e175cd3b"
      },
      "outputs": [
        {
          "name": "stdout",
          "output_type": "stream",
          "text": [
            "              precision    recall  f1-score   support\n",
            "\n",
            "           0       0.99      0.99      0.99     24732\n",
            "           1       0.99      0.99      0.99     24727\n",
            "\n",
            "    accuracy                           0.99     49459\n",
            "   macro avg       0.99      0.99      0.99     49459\n",
            "weighted avg       0.99      0.99      0.99     49459\n",
            "\n",
            "F1-Score: 0.9911429092604228\n"
          ]
        },
        {
          "data": {
            "image/png": "[encoded data removed]",
            "text/plain": [
              "<Figure size 640x480 with 2 Axes>"
            ]
          },
          "metadata": {},
          "output_type": "display_data"
        }
      ],
      "source": [
        "mostrarPerformance(kNN_optimizado,x_train,y_train)"
      ]
    },
    {
      "cell_type": "markdown",
      "metadata": {
        "id": "FxmD2HItAN-x"
      },
      "source": [
        "Dado lo absurdamente altas que dan las metricas sobre el dataset de entrenamiento, y la diferencia que hay con las de testeo, podemos asumir que nuestro modelo esta sobreajustando los datos que ya conoce. Es por esto que a la hora de ver datos que nunca vio, apenas se alejan de lo que ya conoce le cuesta mas poder predecir."
      ]
    },
    {
      "cell_type": "markdown",
      "metadata": {
        "id": "9rBO5Ab0A1hX"
      },
      "source": [
        "Guardamos el modelo y probaremos con nuevos valores."
      ]
    },
    {
      "cell_type": "code",
      "execution_count": null,
      "metadata": {
        "id": "mYXDbl-L4HHL"
      },
      "outputs": [],
      "source": [
        "filename = \"kNN.pickle\"\n",
        "\n",
        "# save model\n",
        "pickle.dump(kNN_optimizado, open(filename, \"wb\"))"
      ]
    },
    {
      "cell_type": "markdown",
      "metadata": {
        "id": "aL0lLdFQBUyJ"
      },
      "source": [
        "Creamos una nueva grilla de vecinos, agregando algunos tipos de distancia, y acotamos la cantidad de vecinos, para ver si de esta manera genera un menor sobreajuste, mientras mantiene su rendimiento."
      ]
    },
    {
      "cell_type": "code",
      "execution_count": null,
      "metadata": {
        "id": "UTgMaqeRBDHg"
      },
      "outputs": [],
      "source": [
        "params_grid={ 'n_neighbors':range(1,15), \n",
        "              'weights':['distance','uniform'],\n",
        "              'algorithm':['ball_tree', 'kd_tree', 'brute'],\n",
        "              'metric':['euclidean','manhattan','chebyshev', 'canberra'],\n",
        "             }"
      ]
    },
    {
      "cell_type": "markdown",
      "metadata": {
        "id": "guzB0D8HB_ta"
      },
      "source": [
        "Probaremos tambien reducir la cantidad de partes en que separa al dataset (folds)"
      ]
    },
    {
      "cell_type": "code",
      "execution_count": null,
      "metadata": {
        "colab": {
          "base_uri": "https://localhost:8080/"
        },
        "id": "T8W9aN3jBhtT",
        "outputId": "7ef61c6d-fa9b-4c79-cc94-d372d3fa9fdb"
      },
      "outputs": [
        {
          "name": "stdout",
          "output_type": "stream",
          "text": [
            "Best parameters: {'weights': 'distance', 'n_neighbors': 14, 'metric': 'canberra', 'algorithm': 'ball_tree'}\n",
            "Best score: 0.819733323590593\n"
          ]
        }
      ],
      "source": [
        "kNN_optimizado2 = buscarMejoresHiperparametros(10, 5, KNN_Classifier, params_grid, x_train, y_train)"
      ]
    },
    {
      "cell_type": "markdown",
      "metadata": {
        "id": "7QSkrz9CFwER"
      },
      "source": [
        "Ahora probamos estos nuevos hiperparametros obtenidos\n",
        "\n",
        "\n",
        "\n",
        "\n"
      ]
    },
    {
      "cell_type": "code",
      "execution_count": null,
      "metadata": {
        "colab": {
          "base_uri": "https://localhost:8080/",
          "height": 623
        },
        "id": "ZiWyZ0yyBrz4",
        "outputId": "ee4719dd-a471-4190-f54b-b529790b92f0"
      },
      "outputs": [
        {
          "name": "stdout",
          "output_type": "stream",
          "text": [
            "              precision    recall  f1-score   support\n",
            "\n",
            "           0       0.82      0.83      0.83      6178\n",
            "           1       0.83      0.82      0.83      6187\n",
            "\n",
            "    accuracy                           0.83     12365\n",
            "   macro avg       0.83      0.83      0.83     12365\n",
            "weighted avg       0.83      0.83      0.83     12365\n",
            "\n",
            "F1-Score: 0.8264086511098462\n"
          ]
        },
        {
          "data": {
            "image/png": "[encoded data removed]",
            "text/plain": [
              "<Figure size 640x480 with 2 Axes>"
            ]
          },
          "metadata": {},
          "output_type": "display_data"
        }
      ],
      "source": [
        "mostrarPerformance(kNN_optimizado2,x_test,y_test)"
      ]
    },
    {
      "cell_type": "code",
      "execution_count": null,
      "metadata": {
        "colab": {
          "base_uri": "https://localhost:8080/",
          "height": 623
        },
        "id": "ZPGzuk5lBwXN",
        "outputId": "a8918588-407f-489f-8726-21b9132fea62"
      },
      "outputs": [
        {
          "name": "stdout",
          "output_type": "stream",
          "text": [
            "              precision    recall  f1-score   support\n",
            "\n",
            "           0       0.99      0.99      0.99     24732\n",
            "           1       0.99      0.99      0.99     24727\n",
            "\n",
            "    accuracy                           0.99     49459\n",
            "   macro avg       0.99      0.99      0.99     49459\n",
            "weighted avg       0.99      0.99      0.99     49459\n",
            "\n",
            "F1-Score: 0.9911429092604228\n"
          ]
        },
        {
          "data": {
            "image/png": "[encoded data removed]",
            "text/plain": [
              "<Figure size 640x480 with 2 Axes>"
            ]
          },
          "metadata": {},
          "output_type": "display_data"
        }
      ],
      "source": [
        "mostrarPerformance(kNN_optimizado2,x_train,y_train)"
      ]
    },
    {
      "cell_type": "markdown",
      "metadata": {
        "id": "tm4XOQN0F_me"
      },
      "source": [
        "Vemos que el modelo sigue realizando un sobreajuste importante, pero hemos logrado mejorar las metricas en el set de testeo al menos."
      ]
    },
    {
      "cell_type": "code",
      "execution_count": null,
      "metadata": {
        "id": "WBK-R00qxeW4"
      },
      "outputs": [],
      "source": [
        "filename = \"kNN_mejor.pickle\"\n",
        "\n",
        "# save model\n",
        "pickle.dump(kNN_optimizado2, open(filename, \"wb\"))"
      ]
    },
    {
      "cell_type": "markdown",
      "metadata": {
        "id": "9h8feA899RJ6"
      },
      "source": [
        "# b. Clasificador SVM variando el Kernel y los parametros"
      ]
    },
    {
      "cell_type": "markdown",
      "metadata": {
        "id": "1kqfq-YuVpva"
      },
      "source": [
        "Tal como en el caso anterior, comenzamos creando una nueva copia del dataset y aplicandole One Hot Encoding. Luego, separamos el dataset en train y test, pero esta vez tomando 0.25 como el tamano de la muestra."
      ]
    },
    {
      "cell_type": "code",
      "execution_count": null,
      "metadata": {
        "id": "jRr0q3LCVpNy"
      },
      "outputs": [],
      "source": [
        "ds_svm = ds_con_one_hot_encoding(ds_ensambles)\n",
        "x_train, x_test, y_train, y_test = separarConjuntos(ds_svm, 0.25)"
      ]
    },
    {
      "cell_type": "markdown",
      "metadata": {
        "id": "t2gYpCGOZETC"
      },
      "source": [
        "Antes de comenzar a buscar cualquier tipo de hiperparametro, debemos normalizar los datos. Para este tipo de modelo es muy importante tener una desviacion estandar unitaria para cada caracteristica. Como Standard Scaler es mas robusto ante outliers, elegimos normalizarla con este."
      ]
    },
    {
      "cell_type": "code",
      "execution_count": null,
      "metadata": {
        "id": "FwD7Pvd5ZihV"
      },
      "outputs": [],
      "source": [
        "scaler = StandardScaler()\n",
        "x_train_scaled = scaler.fit_transform(x_train)\n",
        "x_test_scaled = scaler.transform(x_test)"
      ]
    },
    {
      "cell_type": "markdown",
      "metadata": {
        "id": "H0J1bSosfI-Z"
      },
      "source": [
        "En un principio intentamos optimizar sus hiperparametros con kfolds cross validation, como hicimos anteriormente, dejando el kernel fijo y variando el resto. Al probarlo vimos que esto no convergia, a pesar de haber estandarizado los datos, por lo que decidimos realizar un analisis de componentes principales, ya que quizas eran demasiadas columnas las que se estaban tomando en cuenta."
      ]
    },
    {
      "cell_type": "code",
      "execution_count": null,
      "metadata": {
        "colab": {
          "base_uri": "https://localhost:8080/"
        },
        "id": "6UKwy3jcfg9o",
        "outputId": "f17e5c04-5007-4c3b-c039-091f1448ee2e"
      },
      "outputs": [
        {
          "data": {
            "image/png": "[encoded data removed]",
            "text/plain": [
              "<Figure size 640x480 with 1 Axes>"
            ]
          },
          "metadata": {},
          "output_type": "display_data"
        }
      ],
      "source": [
        "pca = PCA(n_components = None)\n",
        "pca.fit(x_train_scaled)\n",
        "\n",
        "explained_var = pca.explained_variance_ratio_\n",
        "cumulative_var = np.cumsum(explained_var)\n",
        "componentes = len(pca.explained_variance_ratio_) \n",
        "\n",
        "# Grafica la varianza explicada y acumulada\n",
        "plt.plot(range(1, componentes+1), explained_var, 'b-o', label='Varianza explicada')\n",
        "plt.plot(range(1, componentes+1), cumulative_var, 'r-o', label='Varianza acumulada')\n",
        "plt.xlabel('Número de componentes')\n",
        "plt.ylabel('Varianza explicada')\n",
        "plt.legend(loc='best')\n",
        "plt.show()\n"
      ]
    },
    {
      "cell_type": "markdown",
      "metadata": {
        "id": "WtuyLKi4hCqO"
      },
      "source": [
        "Podemos observar que con 15 componentes tenemos aproximadamente el 80% de la varianza explicada, por lo que usaremos esto. Creamos entonces el PCA."
      ]
    },
    {
      "cell_type": "code",
      "execution_count": null,
      "metadata": {
        "colab": {
          "base_uri": "https://localhost:8080/"
        },
        "id": "jiswJ6lSXHqW",
        "outputId": "049c056d-72fc-4554-a923-122967c9658e"
      },
      "outputs": [
        {
          "data": {
            "text/html": [
              "<style>#sk-container-id-1 {color: black;background-color: white;}#sk-container-id-1 pre{padding: 0;}#sk-container-id-1 div.sk-toggleable {background-color: white;}#sk-container-id-1 label.sk-toggleable__label {cursor: pointer;display: block;width: 100%;margin-bottom: 0;padding: 0.3em;box-sizing: border-box;text-align: center;}#sk-container-id-1 label.sk-toggleable__label-arrow:before {content: \"▸\";float: left;margin-right: 0.25em;color: #696969;}#sk-container-id-1 label.sk-toggleable__label-arrow:hover:before {color: black;}#sk-container-id-1 div.sk-estimator:hover label.sk-toggleable__label-arrow:before {color: black;}#sk-container-id-1 div.sk-toggleable__content {max-height: 0;max-width: 0;overflow: hidden;text-align: left;background-color: #f0f8ff;}#sk-container-id-1 div.sk-toggleable__content pre {margin: 0.2em;color: black;border-radius: 0.25em;background-color: #f0f8ff;}#sk-container-id-1 input.sk-toggleable__control:checked~div.sk-toggleable__content {max-height: 200px;max-width: 100%;overflow: auto;}#sk-container-id-1 input.sk-toggleable__control:checked~label.sk-toggleable__label-arrow:before {content: \"▾\";}#sk-container-id-1 div.sk-estimator input.sk-toggleable__control:checked~label.sk-toggleable__label {background-color: #d4ebff;}#sk-container-id-1 div.sk-label input.sk-toggleable__control:checked~label.sk-toggleable__label {background-color: #d4ebff;}#sk-container-id-1 input.sk-hidden--visually {border: 0;clip: rect(1px 1px 1px 1px);clip: rect(1px, 1px, 1px, 1px);height: 1px;margin: -1px;overflow: hidden;padding: 0;position: absolute;width: 1px;}#sk-container-id-1 div.sk-estimator {font-family: monospace;background-color: #f0f8ff;border: 1px dotted black;border-radius: 0.25em;box-sizing: border-box;margin-bottom: 0.5em;}#sk-container-id-1 div.sk-estimator:hover {background-color: #d4ebff;}#sk-container-id-1 div.sk-parallel-item::after {content: \"\";width: 100%;border-bottom: 1px solid gray;flex-grow: 1;}#sk-container-id-1 div.sk-label:hover label.sk-toggleable__label {background-color: #d4ebff;}#sk-container-id-1 div.sk-serial::before {content: \"\";position: absolute;border-left: 1px solid gray;box-sizing: border-box;top: 0;bottom: 0;left: 50%;z-index: 0;}#sk-container-id-1 div.sk-serial {display: flex;flex-direction: column;align-items: center;background-color: white;padding-right: 0.2em;padding-left: 0.2em;position: relative;}#sk-container-id-1 div.sk-item {position: relative;z-index: 1;}#sk-container-id-1 div.sk-parallel {display: flex;align-items: stretch;justify-content: center;background-color: white;position: relative;}#sk-container-id-1 div.sk-item::before, #sk-container-id-1 div.sk-parallel-item::before {content: \"\";position: absolute;border-left: 1px solid gray;box-sizing: border-box;top: 0;bottom: 0;left: 50%;z-index: -1;}#sk-container-id-1 div.sk-parallel-item {display: flex;flex-direction: column;z-index: 1;position: relative;background-color: white;}#sk-container-id-1 div.sk-parallel-item:first-child::after {align-self: flex-end;width: 50%;}#sk-container-id-1 div.sk-parallel-item:last-child::after {align-self: flex-start;width: 50%;}#sk-container-id-1 div.sk-parallel-item:only-child::after {width: 0;}#sk-container-id-1 div.sk-dashed-wrapped {border: 1px dashed gray;margin: 0 0.4em 0.5em 0.4em;box-sizing: border-box;padding-bottom: 0.4em;background-color: white;}#sk-container-id-1 div.sk-label label {font-family: monospace;font-weight: bold;display: inline-block;line-height: 1.2em;}#sk-container-id-1 div.sk-label-container {text-align: center;}#sk-container-id-1 div.sk-container {/* jupyter's `normalize.less` sets `[hidden] { display: none; }` but bootstrap.min.css set `[hidden] { display: none !important; }` so we also need the `!important` here to be able to override the default hidden behavior on the sphinx rendered scikit-learn.org. See: https://github.com/scikit-learn/scikit-learn/issues/21755 */display: inline-block !important;position: relative;}#sk-container-id-1 div.sk-text-repr-fallback {display: none;}</style><div id=\"sk-container-id-1\" class=\"sk-top-container\"><div class=\"sk-text-repr-fallback\"><pre>PCA(n_components=15)</pre><b>In a Jupyter environment, please rerun this cell to show the HTML representation or trust the notebook. <br />On GitHub, the HTML representation is unable to render, please try loading this page with nbviewer.org.</b></div><div class=\"sk-container\" hidden><div class=\"sk-item\"><div class=\"sk-estimator sk-toggleable\"><input class=\"sk-toggleable__control sk-hidden--visually\" id=\"sk-estimator-id-1\" type=\"checkbox\" checked><label for=\"sk-estimator-id-1\" class=\"sk-toggleable__label sk-toggleable__label-arrow\">PCA</label><div class=\"sk-toggleable__content\"><pre>PCA(n_components=15)</pre></div></div></div></div></div>"
            ],
            "text/plain": [
              "PCA(n_components=15)"
            ]
          },
          "execution_count": 38,
          "metadata": {},
          "output_type": "execute_result"
        }
      ],
      "source": [
        "pca = PCA(n_components = 15)\n",
        "pca.fit(x_train_scaled)"
      ]
    },
    {
      "cell_type": "markdown",
      "metadata": {
        "id": "yjFQh3CBUas4"
      },
      "source": [
        "##Kernel lineal"
      ]
    },
    {
      "cell_type": "markdown",
      "metadata": {
        "id": "6aT5IIGe5Vrp"
      },
      "source": [
        "Buscaremos los mejores hiperparametros que acompanen a este modelo. Creamos entonces un modelo de este tipo."
      ]
    },
    {
      "cell_type": "code",
      "execution_count": null,
      "metadata": {
        "id": "09rdSk1tA_hI"
      },
      "outputs": [],
      "source": [
        "svm_lineal = SVC(kernel='linear')"
      ]
    },
    {
      "cell_type": "markdown",
      "metadata": {
        "id": "45PVDt63XDLM"
      },
      "source": [
        "Creamos un pipeline, que lo que hace es ir aplicando estas tres funciones a lo que le llegue. Esto quiere decir que primero estandariza el dataset, luego le realiza un analisis de componentes principales, y finalmente lo predice."
      ]
    },
    {
      "cell_type": "code",
      "execution_count": null,
      "metadata": {
        "id": "FArjU6jbhN9i"
      },
      "outputs": [],
      "source": [
        "svm_lineal_mejorado = Pipeline([\n",
        "    ('std_scaler', scaler),\n",
        "    ('pca', pca),\n",
        "    ('svm', svm_lineal)\n",
        "])"
      ]
    },
    {
      "cell_type": "code",
      "execution_count": null,
      "metadata": {
        "colab": {
          "base_uri": "https://localhost:8080/"
        },
        "id": "DwW5cXpFhnV5",
        "outputId": "3d3713e5-9882-420c-a263-872c9e6c6759"
      },
      "outputs": [
        {
          "data": {
            "text/html": [
              "<style>#sk-container-id-2 {color: black;background-color: white;}#sk-container-id-2 pre{padding: 0;}#sk-container-id-2 div.sk-toggleable {background-color: white;}#sk-container-id-2 label.sk-toggleable__label {cursor: pointer;display: block;width: 100%;margin-bottom: 0;padding: 0.3em;box-sizing: border-box;text-align: center;}#sk-container-id-2 label.sk-toggleable__label-arrow:before {content: \"▸\";float: left;margin-right: 0.25em;color: #696969;}#sk-container-id-2 label.sk-toggleable__label-arrow:hover:before {color: black;}#sk-container-id-2 div.sk-estimator:hover label.sk-toggleable__label-arrow:before {color: black;}#sk-container-id-2 div.sk-toggleable__content {max-height: 0;max-width: 0;overflow: hidden;text-align: left;background-color: #f0f8ff;}#sk-container-id-2 div.sk-toggleable__content pre {margin: 0.2em;color: black;border-radius: 0.25em;background-color: #f0f8ff;}#sk-container-id-2 input.sk-toggleable__control:checked~div.sk-toggleable__content {max-height: 200px;max-width: 100%;overflow: auto;}#sk-container-id-2 input.sk-toggleable__control:checked~label.sk-toggleable__label-arrow:before {content: \"▾\";}#sk-container-id-2 div.sk-estimator input.sk-toggleable__control:checked~label.sk-toggleable__label {background-color: #d4ebff;}#sk-container-id-2 div.sk-label input.sk-toggleable__control:checked~label.sk-toggleable__label {background-color: #d4ebff;}#sk-container-id-2 input.sk-hidden--visually {border: 0;clip: rect(1px 1px 1px 1px);clip: rect(1px, 1px, 1px, 1px);height: 1px;margin: -1px;overflow: hidden;padding: 0;position: absolute;width: 1px;}#sk-container-id-2 div.sk-estimator {font-family: monospace;background-color: #f0f8ff;border: 1px dotted black;border-radius: 0.25em;box-sizing: border-box;margin-bottom: 0.5em;}#sk-container-id-2 div.sk-estimator:hover {background-color: #d4ebff;}#sk-container-id-2 div.sk-parallel-item::after {content: \"\";width: 100%;border-bottom: 1px solid gray;flex-grow: 1;}#sk-container-id-2 div.sk-label:hover label.sk-toggleable__label {background-color: #d4ebff;}#sk-container-id-2 div.sk-serial::before {content: \"\";position: absolute;border-left: 1px solid gray;box-sizing: border-box;top: 0;bottom: 0;left: 50%;z-index: 0;}#sk-container-id-2 div.sk-serial {display: flex;flex-direction: column;align-items: center;background-color: white;padding-right: 0.2em;padding-left: 0.2em;position: relative;}#sk-container-id-2 div.sk-item {position: relative;z-index: 1;}#sk-container-id-2 div.sk-parallel {display: flex;align-items: stretch;justify-content: center;background-color: white;position: relative;}#sk-container-id-2 div.sk-item::before, #sk-container-id-2 div.sk-parallel-item::before {content: \"\";position: absolute;border-left: 1px solid gray;box-sizing: border-box;top: 0;bottom: 0;left: 50%;z-index: -1;}#sk-container-id-2 div.sk-parallel-item {display: flex;flex-direction: column;z-index: 1;position: relative;background-color: white;}#sk-container-id-2 div.sk-parallel-item:first-child::after {align-self: flex-end;width: 50%;}#sk-container-id-2 div.sk-parallel-item:last-child::after {align-self: flex-start;width: 50%;}#sk-container-id-2 div.sk-parallel-item:only-child::after {width: 0;}#sk-container-id-2 div.sk-dashed-wrapped {border: 1px dashed gray;margin: 0 0.4em 0.5em 0.4em;box-sizing: border-box;padding-bottom: 0.4em;background-color: white;}#sk-container-id-2 div.sk-label label {font-family: monospace;font-weight: bold;display: inline-block;line-height: 1.2em;}#sk-container-id-2 div.sk-label-container {text-align: center;}#sk-container-id-2 div.sk-container {/* jupyter's `normalize.less` sets `[hidden] { display: none; }` but bootstrap.min.css set `[hidden] { display: none !important; }` so we also need the `!important` here to be able to override the default hidden behavior on the sphinx rendered scikit-learn.org. See: https://github.com/scikit-learn/scikit-learn/issues/21755 */display: inline-block !important;position: relative;}#sk-container-id-2 div.sk-text-repr-fallback {display: none;}</style><div id=\"sk-container-id-2\" class=\"sk-top-container\"><div class=\"sk-text-repr-fallback\"><pre>Pipeline(steps=[(&#x27;std_scaler&#x27;, StandardScaler()), (&#x27;pca&#x27;, PCA(n_components=15)),\n",
              "                (&#x27;svm&#x27;, SVC(kernel=&#x27;linear&#x27;))])</pre><b>In a Jupyter environment, please rerun this cell to show the HTML representation or trust the notebook. <br />On GitHub, the HTML representation is unable to render, please try loading this page with nbviewer.org.</b></div><div class=\"sk-container\" hidden><div class=\"sk-item sk-dashed-wrapped\"><div class=\"sk-label-container\"><div class=\"sk-label sk-toggleable\"><input class=\"sk-toggleable__control sk-hidden--visually\" id=\"sk-estimator-id-2\" type=\"checkbox\" ><label for=\"sk-estimator-id-2\" class=\"sk-toggleable__label sk-toggleable__label-arrow\">Pipeline</label><div class=\"sk-toggleable__content\"><pre>Pipeline(steps=[(&#x27;std_scaler&#x27;, StandardScaler()), (&#x27;pca&#x27;, PCA(n_components=15)),\n",
              "                (&#x27;svm&#x27;, SVC(kernel=&#x27;linear&#x27;))])</pre></div></div></div><div class=\"sk-serial\"><div class=\"sk-item\"><div class=\"sk-estimator sk-toggleable\"><input class=\"sk-toggleable__control sk-hidden--visually\" id=\"sk-estimator-id-3\" type=\"checkbox\" ><label for=\"sk-estimator-id-3\" class=\"sk-toggleable__label sk-toggleable__label-arrow\">StandardScaler</label><div class=\"sk-toggleable__content\"><pre>StandardScaler()</pre></div></div></div><div class=\"sk-item\"><div class=\"sk-estimator sk-toggleable\"><input class=\"sk-toggleable__control sk-hidden--visually\" id=\"sk-estimator-id-4\" type=\"checkbox\" ><label for=\"sk-estimator-id-4\" class=\"sk-toggleable__label sk-toggleable__label-arrow\">PCA</label><div class=\"sk-toggleable__content\"><pre>PCA(n_components=15)</pre></div></div></div><div class=\"sk-item\"><div class=\"sk-estimator sk-toggleable\"><input class=\"sk-toggleable__control sk-hidden--visually\" id=\"sk-estimator-id-5\" type=\"checkbox\" ><label for=\"sk-estimator-id-5\" class=\"sk-toggleable__label sk-toggleable__label-arrow\">SVC</label><div class=\"sk-toggleable__content\"><pre>SVC(kernel=&#x27;linear&#x27;)</pre></div></div></div></div></div></div></div>"
            ],
            "text/plain": [
              "Pipeline(steps=[('std_scaler', StandardScaler()), ('pca', PCA(n_components=15)),\n",
              "                ('svm', SVC(kernel='linear'))])"
            ]
          },
          "execution_count": 41,
          "metadata": {},
          "output_type": "execute_result"
        }
      ],
      "source": [
        "svm_lineal_mejorado.fit(x_train, y_train)"
      ]
    },
    {
      "cell_type": "code",
      "execution_count": null,
      "metadata": {
        "colab": {
          "base_uri": "https://localhost:8080/"
        },
        "id": "2J1ug09KkP7l",
        "outputId": "35196aa8-af3b-4ced-a1c5-7d5586da6c17"
      },
      "outputs": [
        {
          "name": "stdout",
          "output_type": "stream",
          "text": [
            "              precision    recall  f1-score   support\n",
            "\n",
            "           0       0.73      0.79      0.76      7711\n",
            "           1       0.77      0.71      0.74      7745\n",
            "\n",
            "    accuracy                           0.75     15456\n",
            "   macro avg       0.75      0.75      0.75     15456\n",
            "weighted avg       0.75      0.75      0.75     15456\n",
            "\n",
            "F1-Score: 0.7413179283939008\n"
          ]
        },
        {
          "data": {
            "image/png": "[encoded data removed]",
            "text/plain": [
              "<Figure size 640x480 with 2 Axes>"
            ]
          },
          "metadata": {},
          "output_type": "display_data"
        }
      ],
      "source": [
        "mostrarPerformance(svm_lineal_mejorado, x_test, y_test)"
      ]
    },
    {
      "cell_type": "code",
      "execution_count": null,
      "metadata": {
        "colab": {
          "base_uri": "https://localhost:8080/"
        },
        "id": "BkWEF0cykHM0",
        "outputId": "f4ca24ee-9fb5-414c-d3bf-01b63865d458"
      },
      "outputs": [
        {
          "name": "stdout",
          "output_type": "stream",
          "text": [
            "              precision    recall  f1-score   support\n",
            "\n",
            "           0       0.73      0.79      0.76     23199\n",
            "           1       0.77      0.71      0.74     23169\n",
            "\n",
            "    accuracy                           0.75     46368\n",
            "   macro avg       0.75      0.75      0.75     46368\n",
            "weighted avg       0.75      0.75      0.75     46368\n",
            "\n",
            "F1-Score: 0.7354217734499742\n"
          ]
        },
        {
          "data": {
            "image/png": "[encoded data removed]",
            "text/plain": [
              "<Figure size 640x480 with 2 Axes>"
            ]
          },
          "metadata": {},
          "output_type": "display_data"
        }
      ],
      "source": [
        "mostrarPerformance(svm_lineal_mejorado, x_train, y_train)"
      ]
    },
    {
      "cell_type": "markdown",
      "metadata": {
        "id": "x__QrErklWuw"
      },
      "source": [
        "Notamos que las metricas obtenidas son bastante pobres. Este modelo falla sobre todo a la hora de decidir quien si cancelo. Esto tiene sentido, ya que el kernel lineal es una simplificacion bastante mala si los datos son altamente no lineales, el cual se podria decir es nuestro caso, por lo que buscaremos mejorarlo con otros."
      ]
    },
    {
      "cell_type": "markdown",
      "metadata": {
        "id": "j_4mUSM2xDZ-"
      },
      "source": [
        "Para terminar, guardamos el modelo obtenido."
      ]
    },
    {
      "cell_type": "code",
      "execution_count": null,
      "metadata": {
        "id": "2QQuneAdwfWg"
      },
      "outputs": [],
      "source": [
        "filename = \"svm_lineal\"\n",
        "pickle.dump(svm_lineal_mejorado, open(filename, \"wb\"))"
      ]
    },
    {
      "cell_type": "code",
      "execution_count": null,
      "metadata": {
        "id": "puURNPus5Uho"
      },
      "outputs": [],
      "source": []
    },
    {
      "cell_type": "markdown",
      "metadata": {
        "id": "Pg9gMKUXlnXF"
      },
      "source": [
        "## Kernel polinomico\n"
      ]
    },
    {
      "cell_type": "markdown",
      "metadata": {
        "id": "GGLEYICy5LmP"
      },
      "source": [
        "Ahora, veremos si podemos con este otro mejorar nuestras metricas. Procedemos de la misma manera que para el kernel lineal, empezando con el grado del polinomio que viene por defecto."
      ]
    },
    {
      "cell_type": "markdown",
      "metadata": {
        "id": "Mhiv9hRf5JnK"
      },
      "source": [
        "## i. De grado 3"
      ]
    },
    {
      "cell_type": "code",
      "execution_count": null,
      "metadata": {
        "id": "-6Uw9pdbl4Th"
      },
      "outputs": [],
      "source": [
        "svm_polinom = SVC(kernel='poly')\n",
        "svm_polinom_mejorado = Pipeline([\n",
        "    ('std_scaler', scaler),\n",
        "    ('pca', pca),\n",
        "    ('svm', svm_polinom)\n",
        "])"
      ]
    },
    {
      "cell_type": "code",
      "execution_count": null,
      "metadata": {
        "colab": {
          "base_uri": "https://localhost:8080/"
        },
        "id": "4WvWaVwzmWkQ",
        "outputId": "4669b420-f028-41a0-efee-f03bdb29a564"
      },
      "outputs": [
        {
          "data": {
            "text/html": [
              "<style>#sk-container-id-3 {color: black;background-color: white;}#sk-container-id-3 pre{padding: 0;}#sk-container-id-3 div.sk-toggleable {background-color: white;}#sk-container-id-3 label.sk-toggleable__label {cursor: pointer;display: block;width: 100%;margin-bottom: 0;padding: 0.3em;box-sizing: border-box;text-align: center;}#sk-container-id-3 label.sk-toggleable__label-arrow:before {content: \"▸\";float: left;margin-right: 0.25em;color: #696969;}#sk-container-id-3 label.sk-toggleable__label-arrow:hover:before {color: black;}#sk-container-id-3 div.sk-estimator:hover label.sk-toggleable__label-arrow:before {color: black;}#sk-container-id-3 div.sk-toggleable__content {max-height: 0;max-width: 0;overflow: hidden;text-align: left;background-color: #f0f8ff;}#sk-container-id-3 div.sk-toggleable__content pre {margin: 0.2em;color: black;border-radius: 0.25em;background-color: #f0f8ff;}#sk-container-id-3 input.sk-toggleable__control:checked~div.sk-toggleable__content {max-height: 200px;max-width: 100%;overflow: auto;}#sk-container-id-3 input.sk-toggleable__control:checked~label.sk-toggleable__label-arrow:before {content: \"▾\";}#sk-container-id-3 div.sk-estimator input.sk-toggleable__control:checked~label.sk-toggleable__label {background-color: #d4ebff;}#sk-container-id-3 div.sk-label input.sk-toggleable__control:checked~label.sk-toggleable__label {background-color: #d4ebff;}#sk-container-id-3 input.sk-hidden--visually {border: 0;clip: rect(1px 1px 1px 1px);clip: rect(1px, 1px, 1px, 1px);height: 1px;margin: -1px;overflow: hidden;padding: 0;position: absolute;width: 1px;}#sk-container-id-3 div.sk-estimator {font-family: monospace;background-color: #f0f8ff;border: 1px dotted black;border-radius: 0.25em;box-sizing: border-box;margin-bottom: 0.5em;}#sk-container-id-3 div.sk-estimator:hover {background-color: #d4ebff;}#sk-container-id-3 div.sk-parallel-item::after {content: \"\";width: 100%;border-bottom: 1px solid gray;flex-grow: 1;}#sk-container-id-3 div.sk-label:hover label.sk-toggleable__label {background-color: #d4ebff;}#sk-container-id-3 div.sk-serial::before {content: \"\";position: absolute;border-left: 1px solid gray;box-sizing: border-box;top: 0;bottom: 0;left: 50%;z-index: 0;}#sk-container-id-3 div.sk-serial {display: flex;flex-direction: column;align-items: center;background-color: white;padding-right: 0.2em;padding-left: 0.2em;position: relative;}#sk-container-id-3 div.sk-item {position: relative;z-index: 1;}#sk-container-id-3 div.sk-parallel {display: flex;align-items: stretch;justify-content: center;background-color: white;position: relative;}#sk-container-id-3 div.sk-item::before, #sk-container-id-3 div.sk-parallel-item::before {content: \"\";position: absolute;border-left: 1px solid gray;box-sizing: border-box;top: 0;bottom: 0;left: 50%;z-index: -1;}#sk-container-id-3 div.sk-parallel-item {display: flex;flex-direction: column;z-index: 1;position: relative;background-color: white;}#sk-container-id-3 div.sk-parallel-item:first-child::after {align-self: flex-end;width: 50%;}#sk-container-id-3 div.sk-parallel-item:last-child::after {align-self: flex-start;width: 50%;}#sk-container-id-3 div.sk-parallel-item:only-child::after {width: 0;}#sk-container-id-3 div.sk-dashed-wrapped {border: 1px dashed gray;margin: 0 0.4em 0.5em 0.4em;box-sizing: border-box;padding-bottom: 0.4em;background-color: white;}#sk-container-id-3 div.sk-label label {font-family: monospace;font-weight: bold;display: inline-block;line-height: 1.2em;}#sk-container-id-3 div.sk-label-container {text-align: center;}#sk-container-id-3 div.sk-container {/* jupyter's `normalize.less` sets `[hidden] { display: none; }` but bootstrap.min.css set `[hidden] { display: none !important; }` so we also need the `!important` here to be able to override the default hidden behavior on the sphinx rendered scikit-learn.org. See: https://github.com/scikit-learn/scikit-learn/issues/21755 */display: inline-block !important;position: relative;}#sk-container-id-3 div.sk-text-repr-fallback {display: none;}</style><div id=\"sk-container-id-3\" class=\"sk-top-container\"><div class=\"sk-text-repr-fallback\"><pre>Pipeline(steps=[(&#x27;std_scaler&#x27;, StandardScaler()), (&#x27;pca&#x27;, PCA(n_components=15)),\n",
              "                (&#x27;svm&#x27;, SVC(kernel=&#x27;poly&#x27;))])</pre><b>In a Jupyter environment, please rerun this cell to show the HTML representation or trust the notebook. <br />On GitHub, the HTML representation is unable to render, please try loading this page with nbviewer.org.</b></div><div class=\"sk-container\" hidden><div class=\"sk-item sk-dashed-wrapped\"><div class=\"sk-label-container\"><div class=\"sk-label sk-toggleable\"><input class=\"sk-toggleable__control sk-hidden--visually\" id=\"sk-estimator-id-6\" type=\"checkbox\" ><label for=\"sk-estimator-id-6\" class=\"sk-toggleable__label sk-toggleable__label-arrow\">Pipeline</label><div class=\"sk-toggleable__content\"><pre>Pipeline(steps=[(&#x27;std_scaler&#x27;, StandardScaler()), (&#x27;pca&#x27;, PCA(n_components=15)),\n",
              "                (&#x27;svm&#x27;, SVC(kernel=&#x27;poly&#x27;))])</pre></div></div></div><div class=\"sk-serial\"><div class=\"sk-item\"><div class=\"sk-estimator sk-toggleable\"><input class=\"sk-toggleable__control sk-hidden--visually\" id=\"sk-estimator-id-7\" type=\"checkbox\" ><label for=\"sk-estimator-id-7\" class=\"sk-toggleable__label sk-toggleable__label-arrow\">StandardScaler</label><div class=\"sk-toggleable__content\"><pre>StandardScaler()</pre></div></div></div><div class=\"sk-item\"><div class=\"sk-estimator sk-toggleable\"><input class=\"sk-toggleable__control sk-hidden--visually\" id=\"sk-estimator-id-8\" type=\"checkbox\" ><label for=\"sk-estimator-id-8\" class=\"sk-toggleable__label sk-toggleable__label-arrow\">PCA</label><div class=\"sk-toggleable__content\"><pre>PCA(n_components=15)</pre></div></div></div><div class=\"sk-item\"><div class=\"sk-estimator sk-toggleable\"><input class=\"sk-toggleable__control sk-hidden--visually\" id=\"sk-estimator-id-9\" type=\"checkbox\" ><label for=\"sk-estimator-id-9\" class=\"sk-toggleable__label sk-toggleable__label-arrow\">SVC</label><div class=\"sk-toggleable__content\"><pre>SVC(kernel=&#x27;poly&#x27;)</pre></div></div></div></div></div></div></div>"
            ],
            "text/plain": [
              "Pipeline(steps=[('std_scaler', StandardScaler()), ('pca', PCA(n_components=15)),\n",
              "                ('svm', SVC(kernel='poly'))])"
            ]
          },
          "execution_count": 46,
          "metadata": {},
          "output_type": "execute_result"
        }
      ],
      "source": [
        "svm_polinom_mejorado.fit(x_train, y_train)"
      ]
    },
    {
      "cell_type": "markdown",
      "metadata": {
        "id": "KJu8EGnzqObL"
      },
      "source": [
        "Realizamos predicciones con nuestro nuevo modelo y vemos si mejoro."
      ]
    },
    {
      "cell_type": "code",
      "execution_count": null,
      "metadata": {
        "colab": {
          "base_uri": "https://localhost:8080/"
        },
        "id": "C70pkhTVmdPV",
        "outputId": "155e40e2-bf40-4537-c848-7c97aec44a8d"
      },
      "outputs": [
        {
          "name": "stdout",
          "output_type": "stream",
          "text": [
            "              precision    recall  f1-score   support\n",
            "\n",
            "           0       0.77      0.79      0.78      7711\n",
            "           1       0.78      0.76      0.77      7745\n",
            "\n",
            "    accuracy                           0.78     15456\n",
            "   macro avg       0.78      0.78      0.78     15456\n",
            "weighted avg       0.78      0.78      0.78     15456\n",
            "\n",
            "F1-Score: 0.7739022315293502\n"
          ]
        },
        {
          "data": {
            "image/png": "[encoded data removed]",
            "text/plain": [
              "<Figure size 640x480 with 2 Axes>"
            ]
          },
          "metadata": {},
          "output_type": "display_data"
        }
      ],
      "source": [
        "mostrarPerformance(svm_polinom_mejorado, x_test, y_test)"
      ]
    },
    {
      "cell_type": "code",
      "execution_count": null,
      "metadata": {
        "colab": {
          "base_uri": "https://localhost:8080/"
        },
        "id": "9Vm0MIP6mzLW",
        "outputId": "923b375d-cda7-4e7b-cb57-c6b017829cbf"
      },
      "outputs": [
        {
          "name": "stdout",
          "output_type": "stream",
          "text": [
            "              precision    recall  f1-score   support\n",
            "\n",
            "           0       0.77      0.79      0.78     23199\n",
            "           1       0.78      0.76      0.77     23169\n",
            "\n",
            "    accuracy                           0.78     46368\n",
            "   macro avg       0.78      0.78      0.78     46368\n",
            "weighted avg       0.78      0.78      0.78     46368\n",
            "\n",
            "F1-Score: 0.7731569410788744\n"
          ]
        },
        {
          "data": {
            "image/png": "[encoded data removed]",
            "text/plain": [
              "<Figure size 640x480 with 2 Axes>"
            ]
          },
          "metadata": {},
          "output_type": "display_data"
        }
      ],
      "source": [
        "mostrarPerformance(svm_polinom_mejorado, x_train, y_train)"
      ]
    },
    {
      "cell_type": "markdown",
      "metadata": {
        "id": "Wk0o5eTfaTg-"
      },
      "source": [
        "A simple vista parecieran haber mejorado bastante las metricas. Ademas, podemos ver las metricas tanto para testeo como para entrenamiento dan, al menos hasta el segundo decimal, exactamente igual, por lo que a simple vista no vemos que este sobreajustando los datos."
      ]
    },
    {
      "cell_type": "markdown",
      "metadata": {
        "id": "10q6rYf2xXjx"
      },
      "source": [
        "Guardamos luego el modelo obtenido."
      ]
    },
    {
      "cell_type": "code",
      "execution_count": null,
      "metadata": {
        "id": "zcqwuI-MxHh3"
      },
      "outputs": [],
      "source": [
        "filename = \"svm_polinom\"\n",
        "pickle.dump(svm_polinom_mejorado, open(filename, \"wb\"))"
      ]
    },
    {
      "cell_type": "markdown",
      "metadata": {
        "id": "-gLBG6ek44qR"
      },
      "source": [
        "## ii. De grado 5"
      ]
    },
    {
      "cell_type": "markdown",
      "metadata": {
        "id": "7OFS0CIYqb8Y"
      },
      "source": [
        "A pesar de estar mejor que antes, sabemos que no son metricas muy elevadas; pudimos conseguir algo asi con un simple arbol de decision. Es por esto que nuevamente quisimos mejorar las metricas haciendo uso de KFolds, pero nuevamente obteniamos errores de convergencia. Es por esto que decidimos simplemente probar a mano otro modelo, usando un polinomio de grado 5, mientras que el anterior era de grado 3. "
      ]
    },
    {
      "cell_type": "code",
      "execution_count": null,
      "metadata": {
        "id": "q_oQMIPHu47Y"
      },
      "outputs": [],
      "source": [
        "svm_polinom = SVC(kernel='poly', degree = 5)\n",
        "svm_polinom_mejorado2 = Pipeline([\n",
        "    ('std_scaler', scaler),\n",
        "    ('pca', pca),\n",
        "    ('svm', svm_polinom)\n",
        "])"
      ]
    },
    {
      "cell_type": "code",
      "execution_count": null,
      "metadata": {
        "colab": {
          "base_uri": "https://localhost:8080/"
        },
        "id": "c8W5C9WIqbgI",
        "outputId": "4e6e60b8-2ef8-4f76-a48d-c61d054635ae"
      },
      "outputs": [
        {
          "data": {
            "text/html": [
              "<style>#sk-container-id-4 {color: black;background-color: white;}#sk-container-id-4 pre{padding: 0;}#sk-container-id-4 div.sk-toggleable {background-color: white;}#sk-container-id-4 label.sk-toggleable__label {cursor: pointer;display: block;width: 100%;margin-bottom: 0;padding: 0.3em;box-sizing: border-box;text-align: center;}#sk-container-id-4 label.sk-toggleable__label-arrow:before {content: \"▸\";float: left;margin-right: 0.25em;color: #696969;}#sk-container-id-4 label.sk-toggleable__label-arrow:hover:before {color: black;}#sk-container-id-4 div.sk-estimator:hover label.sk-toggleable__label-arrow:before {color: black;}#sk-container-id-4 div.sk-toggleable__content {max-height: 0;max-width: 0;overflow: hidden;text-align: left;background-color: #f0f8ff;}#sk-container-id-4 div.sk-toggleable__content pre {margin: 0.2em;color: black;border-radius: 0.25em;background-color: #f0f8ff;}#sk-container-id-4 input.sk-toggleable__control:checked~div.sk-toggleable__content {max-height: 200px;max-width: 100%;overflow: auto;}#sk-container-id-4 input.sk-toggleable__control:checked~label.sk-toggleable__label-arrow:before {content: \"▾\";}#sk-container-id-4 div.sk-estimator input.sk-toggleable__control:checked~label.sk-toggleable__label {background-color: #d4ebff;}#sk-container-id-4 div.sk-label input.sk-toggleable__control:checked~label.sk-toggleable__label {background-color: #d4ebff;}#sk-container-id-4 input.sk-hidden--visually {border: 0;clip: rect(1px 1px 1px 1px);clip: rect(1px, 1px, 1px, 1px);height: 1px;margin: -1px;overflow: hidden;padding: 0;position: absolute;width: 1px;}#sk-container-id-4 div.sk-estimator {font-family: monospace;background-color: #f0f8ff;border: 1px dotted black;border-radius: 0.25em;box-sizing: border-box;margin-bottom: 0.5em;}#sk-container-id-4 div.sk-estimator:hover {background-color: #d4ebff;}#sk-container-id-4 div.sk-parallel-item::after {content: \"\";width: 100%;border-bottom: 1px solid gray;flex-grow: 1;}#sk-container-id-4 div.sk-label:hover label.sk-toggleable__label {background-color: #d4ebff;}#sk-container-id-4 div.sk-serial::before {content: \"\";position: absolute;border-left: 1px solid gray;box-sizing: border-box;top: 0;bottom: 0;left: 50%;z-index: 0;}#sk-container-id-4 div.sk-serial {display: flex;flex-direction: column;align-items: center;background-color: white;padding-right: 0.2em;padding-left: 0.2em;position: relative;}#sk-container-id-4 div.sk-item {position: relative;z-index: 1;}#sk-container-id-4 div.sk-parallel {display: flex;align-items: stretch;justify-content: center;background-color: white;position: relative;}#sk-container-id-4 div.sk-item::before, #sk-container-id-4 div.sk-parallel-item::before {content: \"\";position: absolute;border-left: 1px solid gray;box-sizing: border-box;top: 0;bottom: 0;left: 50%;z-index: -1;}#sk-container-id-4 div.sk-parallel-item {display: flex;flex-direction: column;z-index: 1;position: relative;background-color: white;}#sk-container-id-4 div.sk-parallel-item:first-child::after {align-self: flex-end;width: 50%;}#sk-container-id-4 div.sk-parallel-item:last-child::after {align-self: flex-start;width: 50%;}#sk-container-id-4 div.sk-parallel-item:only-child::after {width: 0;}#sk-container-id-4 div.sk-dashed-wrapped {border: 1px dashed gray;margin: 0 0.4em 0.5em 0.4em;box-sizing: border-box;padding-bottom: 0.4em;background-color: white;}#sk-container-id-4 div.sk-label label {font-family: monospace;font-weight: bold;display: inline-block;line-height: 1.2em;}#sk-container-id-4 div.sk-label-container {text-align: center;}#sk-container-id-4 div.sk-container {/* jupyter's `normalize.less` sets `[hidden] { display: none; }` but bootstrap.min.css set `[hidden] { display: none !important; }` so we also need the `!important` here to be able to override the default hidden behavior on the sphinx rendered scikit-learn.org. See: https://github.com/scikit-learn/scikit-learn/issues/21755 */display: inline-block !important;position: relative;}#sk-container-id-4 div.sk-text-repr-fallback {display: none;}</style><div id=\"sk-container-id-4\" class=\"sk-top-container\"><div class=\"sk-text-repr-fallback\"><pre>Pipeline(steps=[(&#x27;std_scaler&#x27;, StandardScaler()), (&#x27;pca&#x27;, PCA(n_components=15)),\n",
              "                (&#x27;svm&#x27;, SVC(degree=5, kernel=&#x27;poly&#x27;))])</pre><b>In a Jupyter environment, please rerun this cell to show the HTML representation or trust the notebook. <br />On GitHub, the HTML representation is unable to render, please try loading this page with nbviewer.org.</b></div><div class=\"sk-container\" hidden><div class=\"sk-item sk-dashed-wrapped\"><div class=\"sk-label-container\"><div class=\"sk-label sk-toggleable\"><input class=\"sk-toggleable__control sk-hidden--visually\" id=\"sk-estimator-id-10\" type=\"checkbox\" ><label for=\"sk-estimator-id-10\" class=\"sk-toggleable__label sk-toggleable__label-arrow\">Pipeline</label><div class=\"sk-toggleable__content\"><pre>Pipeline(steps=[(&#x27;std_scaler&#x27;, StandardScaler()), (&#x27;pca&#x27;, PCA(n_components=15)),\n",
              "                (&#x27;svm&#x27;, SVC(degree=5, kernel=&#x27;poly&#x27;))])</pre></div></div></div><div class=\"sk-serial\"><div class=\"sk-item\"><div class=\"sk-estimator sk-toggleable\"><input class=\"sk-toggleable__control sk-hidden--visually\" id=\"sk-estimator-id-11\" type=\"checkbox\" ><label for=\"sk-estimator-id-11\" class=\"sk-toggleable__label sk-toggleable__label-arrow\">StandardScaler</label><div class=\"sk-toggleable__content\"><pre>StandardScaler()</pre></div></div></div><div class=\"sk-item\"><div class=\"sk-estimator sk-toggleable\"><input class=\"sk-toggleable__control sk-hidden--visually\" id=\"sk-estimator-id-12\" type=\"checkbox\" ><label for=\"sk-estimator-id-12\" class=\"sk-toggleable__label sk-toggleable__label-arrow\">PCA</label><div class=\"sk-toggleable__content\"><pre>PCA(n_components=15)</pre></div></div></div><div class=\"sk-item\"><div class=\"sk-estimator sk-toggleable\"><input class=\"sk-toggleable__control sk-hidden--visually\" id=\"sk-estimator-id-13\" type=\"checkbox\" ><label for=\"sk-estimator-id-13\" class=\"sk-toggleable__label sk-toggleable__label-arrow\">SVC</label><div class=\"sk-toggleable__content\"><pre>SVC(degree=5, kernel=&#x27;poly&#x27;)</pre></div></div></div></div></div></div></div>"
            ],
            "text/plain": [
              "Pipeline(steps=[('std_scaler', StandardScaler()), ('pca', PCA(n_components=15)),\n",
              "                ('svm', SVC(degree=5, kernel='poly'))])"
            ]
          },
          "execution_count": 51,
          "metadata": {},
          "output_type": "execute_result"
        }
      ],
      "source": [
        "svm_polinom_mejorado2.fit(x_train, y_train)"
      ]
    },
    {
      "cell_type": "code",
      "execution_count": null,
      "metadata": {
        "colab": {
          "base_uri": "https://localhost:8080/"
        },
        "id": "OAI2lMcUxOk6",
        "outputId": "233458ac-3906-40d3-82c1-4623d4444e29"
      },
      "outputs": [
        {
          "name": "stdout",
          "output_type": "stream",
          "text": [
            "              precision    recall  f1-score   support\n",
            "\n",
            "           0       0.78      0.78      0.78      7711\n",
            "           1       0.78      0.78      0.78      7745\n",
            "\n",
            "    accuracy                           0.78     15456\n",
            "   macro avg       0.78      0.78      0.78     15456\n",
            "weighted avg       0.78      0.78      0.78     15456\n",
            "\n",
            "F1-Score: 0.7793603521947429\n"
          ]
        },
        {
          "data": {
            "image/png": "[encoded data removed]",
            "text/plain": [
              "<Figure size 640x480 with 2 Axes>"
            ]
          },
          "metadata": {},
          "output_type": "display_data"
        }
      ],
      "source": [
        "mostrarPerformance(svm_polinom_mejorado2, x_test, y_test)"
      ]
    },
    {
      "cell_type": "code",
      "execution_count": null,
      "metadata": {
        "id": "0a9GH3vkxOHu"
      },
      "outputs": [],
      "source": [
        "mostrarPerformance(svm_polinom_mejorado2, x_train, y_train)"
      ]
    },
    {
      "cell_type": "markdown",
      "metadata": {
        "id": "rYTx-idazM6K"
      },
      "source": [
        "Ahora vemos que le va levemente mejor prediciendo sobre los datos de entrenamiento, pero que en ambos casos esta perfectamente balanceado; todas las metricas dan casi lo mismo. Vemos comparativamente que mejoraron las metricas respecto del anterior, el polinomico de grado 3, sobretodo al predecir los casos en que el huesped cancelo la reserva."
      ]
    },
    {
      "cell_type": "markdown",
      "metadata": {
        "id": "JwgO49B-0Wid"
      },
      "source": [
        "Exportamos dicho modelo tambien."
      ]
    },
    {
      "cell_type": "code",
      "execution_count": null,
      "metadata": {
        "id": "IYZIF1qm0W4M"
      },
      "outputs": [],
      "source": [
        "filename = \"svm_polinom_grado_mas_alto\"\n",
        "pickle.dump(svm_polinom_mejorado, open(filename, \"wb\"))"
      ]
    },
    {
      "cell_type": "markdown",
      "metadata": {
        "id": "8syux8gl0vHm"
      },
      "source": [
        "Es razonable que nos de mejor, ya que estamos permitiendo mayor dimensionalidad de los datos, mayor cantidad de agrupamientos separables. Cabe destacar igual que aunque pongamos grado 5, esta podria terminar siendo de grado 3, por lo que tambien seria razonable que de igual que la anterior."
      ]
    },
    {
      "cell_type": "markdown",
      "metadata": {
        "id": "E2utVzdJanf9"
      },
      "source": [
        "## Kernel radial"
      ]
    },
    {
      "cell_type": "markdown",
      "metadata": {
        "id": "_G6JmzYOb9m7"
      },
      "source": [
        "En ultima instancia, creamos un modelo de Support Vector Machines con kernel radial, repitiendo todos los pasos anteriores, unicamente cambiando el kernel."
      ]
    },
    {
      "cell_type": "code",
      "execution_count": null,
      "metadata": {
        "id": "_KYU31lVb0Ki"
      },
      "outputs": [],
      "source": [
        "svm_radial = SVC(kernel='rbf')\n",
        "svm_radial_mejorado = Pipeline([\n",
        "    ('std_scaler', scaler),\n",
        "    ('pca', pca),\n",
        "    ('svm', svm_radial)\n",
        "])"
      ]
    },
    {
      "cell_type": "code",
      "execution_count": null,
      "metadata": {
        "id": "uzOhpLAgcGeT"
      },
      "outputs": [],
      "source": [
        "svm_radial_mejorado.fit(x_train, y_train)"
      ]
    },
    {
      "cell_type": "code",
      "execution_count": null,
      "metadata": {
        "id": "smPst3HmcMxI"
      },
      "outputs": [],
      "source": [
        "mostrarPerformance(svm_radial_mejorado, x_test, y_test)"
      ]
    },
    {
      "cell_type": "code",
      "execution_count": null,
      "metadata": {
        "id": "qf-1aqi8cNTT"
      },
      "outputs": [],
      "source": [
        "mostrarPerformance(svm_radial_mejorado, x_train, y_train)"
      ]
    },
    {
      "cell_type": "markdown",
      "metadata": {
        "id": "bSgZvQPvt7QP"
      },
      "source": [
        "Nuevamente las metricas dan igual en test y en train. Podemos ver que tiene una mejor precision en los huespedes que cancelaron (mejor porcentaje de positivos acertados sobre positivos predichos), mientras que su recall es mas elevado en los huespedes que no cancelaron (mejor porcentaje de positivos predichos sobre positivos reales totales). El F1, que realiza un balance de estas metricas, es superior respecto de los casos en que el target es 0."
      ]
    },
    {
      "cell_type": "markdown",
      "metadata": {
        "id": "WQKZTBe94hwW"
      },
      "source": [
        "Guardamos el modelo, y veremos si podemos mejorarlo."
      ]
    },
    {
      "cell_type": "code",
      "execution_count": null,
      "metadata": {
        "id": "pF0VW8104pX5"
      },
      "outputs": [],
      "source": [
        "filename = \"svm_radial\"\n",
        "pickle.dump(svm_radial_mejorado, open(filename, \"wb\"))"
      ]
    },
    {
      "cell_type": "markdown",
      "metadata": {
        "id": "BDshc-zs4yUj"
      },
      "source": [
        "Vamos a ver que pasa ahora si modificamos el parametro C. Este parametro es un indicador del peso que se le da al error. Dado que cuanto mas alto el valor de C, mas complejo y mejor ajustado a los datos es el modelo, corremos el riesgo de que haya un sobreajuste, pero vamos a probarlo. En Scikit-learn, el valor de C por defecto es de 1.0. Vamos a comenzar probando 10."
      ]
    },
    {
      "cell_type": "code",
      "execution_count": null,
      "metadata": {
        "id": "9jL0D-Vv6wnV"
      },
      "outputs": [],
      "source": [
        "svm_radial = SVC(kernel='rbf', C = 10)\n",
        "svm_radial_mejorado2 = Pipeline([\n",
        "    ('std_scaler', scaler),\n",
        "    ('pca', pca),\n",
        "    ('svm', svm_radial)\n",
        "])"
      ]
    },
    {
      "cell_type": "code",
      "execution_count": null,
      "metadata": {
        "id": "DKkSu0RG7NGE"
      },
      "outputs": [],
      "source": [
        "svm_radial_mejorado2.fit(x_train, y_train)"
      ]
    },
    {
      "cell_type": "code",
      "execution_count": null,
      "metadata": {
        "id": "AxelcxYU7OhQ"
      },
      "outputs": [],
      "source": [
        "mostrarPerformance(svm_radial_mejorado2, x_test, y_test)"
      ]
    },
    {
      "cell_type": "code",
      "execution_count": null,
      "metadata": {
        "id": "G5XnBrBJ7lbk"
      },
      "outputs": [],
      "source": [
        "mostrarPerformance(svm_radial_mejorado2, x_train, y_train)"
      ]
    },
    {
      "cell_type": "code",
      "execution_count": null,
      "metadata": {
        "id": "7RbjXW7r8wPJ"
      },
      "outputs": [],
      "source": [
        "filename = \"svm_radial_ajustado\"\n",
        "pickle.dump(svm_radial_mejorado2, open(filename, \"wb\"))"
      ]
    },
    {
      "cell_type": "markdown",
      "metadata": {
        "id": "-2VR6V7G9UKj"
      },
      "source": [
        "# c. Clasificador Random Forest optimizando parametros con K-Fold Cross Validation"
      ]
    },
    {
      "cell_type": "markdown",
      "metadata": {
        "id": "KVOKxevIBKqK"
      },
      "source": [
        "En primer lugar, nos deshacemos de las variables categoricas haciendo uso de nuestra funcion de one hot encoding."
      ]
    },
    {
      "cell_type": "code",
      "execution_count": null,
      "metadata": {
        "id": "wglbGCIqNEcg"
      },
      "outputs": [],
      "source": [
        "# hacemos one hot encoding creando un nuevo ds\n",
        "ds_random_forest = ds_con_one_hot_encoding(ds_ensambles)"
      ]
    },
    {
      "cell_type": "markdown",
      "metadata": {
        "id": "SI7SU3JNOYnB"
      },
      "source": [
        "Aplicamos luego nuestra funcion para separar el dataset en entrenamiento y testeo. Usamos como tamano del test el que pusimos por defecto."
      ]
    },
    {
      "cell_type": "code",
      "execution_count": null,
      "metadata": {
        "id": "s8oyijgRL1q3"
      },
      "outputs": [],
      "source": [
        "x_train, x_test, y_train, y_test = separarConjuntos(ds_random_forest)"
      ]
    },
    {
      "cell_type": "markdown",
      "metadata": {
        "id": "RPmsSoieC1Fj"
      },
      "source": [
        "Ahora, elegimos la grilla de hiperparametros que estaremos intentando optimizar, y sus rangos."
      ]
    },
    {
      "cell_type": "code",
      "execution_count": null,
      "metadata": {
        "id": "o9jp7uOjOw2M"
      },
      "outputs": [],
      "source": [
        "# Definimos los rangos entre los que van a estar nuestros hiperparametros optimizados\n",
        "param_rf = {'n_estimators': list(range(25,200)),\n",
        "            'min_samples_split':  list(range(2, 10)),\n",
        "            'min_samples_leaf':  list(range(1, 10)),\n",
        "            'max_depth': list(range(1, 10)),\n",
        "            'criterion': ['gini', 'entropy']}\n",
        "\n",
        "# Creamos un objeto Random Forest\n",
        "rf = RandomForestClassifier()"
      ]
    },
    {
      "cell_type": "markdown",
      "metadata": {
        "id": "ZZvKG8D6PdTD"
      },
      "source": [
        "Buscamos con nuestra funcion el modelo con los mejores hiperparametros, probando 10 valores al azar, separando el conjunto en 5 (5 folds)"
      ]
    },
    {
      "cell_type": "code",
      "execution_count": null,
      "metadata": {
        "id": "BH_5-vtHPc1-"
      },
      "outputs": [],
      "source": [
        "rf_optimizado = buscarMejoresHiperparametros(10, 5, rf, param_rf, x_train, y_train)"
      ]
    },
    {
      "cell_type": "markdown",
      "metadata": {
        "id": "POTSr6_PDAp7"
      },
      "source": [
        "Una vez que ya tenemos el modelos con sus mejores hiperparametros, predecimos y buscamos la matriz de confusion sobre los datos, tanto de entrenamiento como de test."
      ]
    },
    {
      "cell_type": "code",
      "execution_count": null,
      "metadata": {
        "id": "O23p0rYcUjHS"
      },
      "outputs": [],
      "source": [
        "mostrarPerformance(rf_optimizado, x_test, y_test)"
      ]
    },
    {
      "cell_type": "code",
      "execution_count": null,
      "metadata": {
        "id": "y0S04DeBUuNW"
      },
      "outputs": [],
      "source": [
        "mostrarPerformance(rf_optimizado, x_train, y_train)"
      ]
    },
    {
      "cell_type": "markdown",
      "metadata": {
        "id": "nrCxHa_dDenq"
      },
      "source": [
        "Vemos que al modelo le va igual tanto en entrenamiento como en testing, y que le va mejor prediciendo los negativos que los positivos. "
      ]
    },
    {
      "cell_type": "code",
      "execution_count": null,
      "metadata": {
        "id": "63buwsOVCxy1"
      },
      "outputs": [],
      "source": [
        "filename = \"random_forest.pickle\"\n",
        "\n",
        "# save model\n",
        "pickle.dump(rf_optimizado, open(filename, \"wb\"))"
      ]
    },
    {
      "cell_type": "markdown",
      "metadata": {
        "id": "fWFU-xpmHqZg"
      },
      "source": [
        "Realizaremos un grafico para ver cuales son las columnas que resultan mas relevantes para los distintos arboles."
      ]
    },
    {
      "cell_type": "code",
      "execution_count": null,
      "metadata": {
        "id": "3r30yftCDwu-"
      },
      "outputs": [],
      "source": [
        "importancia_columna = pd.DataFrame(zip(x_train.columns.to_list(), rf_optimizado.feature_importances_), columns=['Variable','Importancia de la variable'])\n",
        "importancia_columna.sort_values(['Importancia de la variable'], axis=0, inplace=True)\n",
        "\n",
        "plt.figure(figsize=(10, 10))\n",
        "sns.barplot(y=importancia_columna['Variable'], x=importancia_columna['Importancia de la variable'])\n",
        "plt.xlabel('Importancia de la variable')\n",
        "plt.ylabel('Variable')\n",
        "plt.title('Importancia de las variables')\n",
        "plt.show()"
      ]
    },
    {
      "cell_type": "markdown",
      "metadata": {
        "id": "qWFiO4MXICNA"
      },
      "source": [
        "Vemos que ninguna de las variables tiene una importancia super elevada, pero que las que si lo son son las mismas que habiamos hallado en el checkpoint anterior, para nuestros arboles de decision."
      ]
    },
    {
      "cell_type": "markdown",
      "metadata": {
        "id": "X5maFPb0I1B5"
      },
      "source": [
        "Ahora intentaremos optimizar nuestro modelo, pero de una manera levemente distinta. Anteriormente usamos un kfolds estratificado, intentando optimizar unicamente el f1 score. Veremos de buscar un mejor modelo, que optimice todas las metricas; f1, recall, precision y accuracy."
      ]
    },
    {
      "cell_type": "code",
      "execution_count": null,
      "metadata": {
        "id": "cofXPrMkIWtL"
      },
      "outputs": [],
      "source": [
        "rf_2 = RandomForestClassifier()\n",
        "metricas=['accuracy','f1','roc_auc'] #'recall','precision'\n",
        "param_rf = {'n_estimators': list(range(15,250)),\n",
        "            'min_samples_split':  list(range(2, 15)),\n",
        "            'min_samples_leaf':  list(range(1, 10)),\n",
        "            'max_depth': list(range(1, 10)),\n",
        "            'criterion': ['gini', 'entropy']}\n",
        "\n",
        "rf_multimetrica = RandomizedSearchCV(estimator=rf_2,\n",
        "                                     param_distributions=param_rf,\n",
        "                                     scoring=metricas,\n",
        "                                     refit=False,\n",
        "                                     cv=5,\n",
        "                                     n_jobs=-1,\n",
        "                                     n_iter=20,\n",
        "                                     random_state=42)\n",
        "\n",
        "rf_multimetrica = rf_multimetrica.fit(X=x_train, y=y_train)"
      ]
    },
    {
      "cell_type": "markdown",
      "metadata": {
        "id": "eS0TSyObOY1f"
      },
      "source": [
        "Hemos realizado 20 iteraciones con diversos hiperparametros intentando mejorar las metricas. Veremos ahora como fueron dando los distintos modelos, y si podemos ver claramente cual fue el que tuvo mejores resultados."
      ]
    },
    {
      "cell_type": "code",
      "execution_count": null,
      "metadata": {
        "id": "K6MD7oPLN9sj"
      },
      "outputs": [],
      "source": [
        "labels=[ key for key in rf_multimetrica.cv_results_.keys() if(\"mean_test\" in key)]\n",
        "\n",
        "for k in labels:\n",
        "    plt.plot(rf_multimetrica.cv_results_[k],linestyle='--' , linewidth=0.8,marker='o',markersize=2)     \n",
        "    x_linea=np.argmax(rf_multimetrica.cv_results_[k])\n",
        "    plt.axvline(x_linea,linestyle='--' ,linewidth=0.8,color='grey')\n",
        "        \n",
        "plt.xlabel(\"modelo\", fontsize=10)\n",
        "plt.ylabel(\"métrica\", fontsize=10)\n",
        "plt.legend(labels)\n",
        "plt.show()"
      ]
    },
    {
      "cell_type": "markdown",
      "metadata": {
        "id": "-BOZAhXmOspG"
      },
      "source": [
        "Se observa que el modelo 10 es el mejor hallado, ya que es el que tiene las mejores metricas en todos los aspectos. Es por esto que entrenaremos a nuestro modelo con estas"
      ]
    },
    {
      "cell_type": "code",
      "execution_count": null,
      "metadata": {
        "id": "0f50QurjPLQA"
      },
      "outputs": [],
      "source": [
        "parametros_modelo_10 = rf_multimetrica.cv_results_['params'][9]\n",
        "rf_multimetrica = RandomForestClassifier(**parametros_modelo_10)\n",
        "rf_multimetrica.fit(x_train, y_train)"
      ]
    },
    {
      "cell_type": "code",
      "execution_count": null,
      "metadata": {
        "id": "UmvjyBV8NP_Q"
      },
      "outputs": [],
      "source": [
        "mostrarPerformance(rf_multimetrica, x_test, y_test)"
      ]
    },
    {
      "cell_type": "code",
      "execution_count": null,
      "metadata": {
        "id": "gOqTKzB0NSuQ"
      },
      "outputs": [],
      "source": [
        "mostrarPerformance(rf_multimetrica, x_train, y_train)"
      ]
    },
    {
      "cell_type": "markdown",
      "metadata": {
        "id": "-uIwGq-JQTGP"
      },
      "source": [
        "Se observa que las metricas halladas anteriormente eran bastante superiores a las que hallamos de esta otra forma. Podemos ver que el numero de falsos negativos ha subido muchisimo, mientras que el f1 score de los casos positivos se redujo. Igualmente, exportaremos y guardaremos el modelo."
      ]
    },
    {
      "cell_type": "code",
      "execution_count": null,
      "metadata": {
        "id": "KXQZgEhcQ0PY"
      },
      "outputs": [],
      "source": [
        "filename = \"random_forest_multimetrica.pickle\"\n",
        "\n",
        "# save model\n",
        "pickle.dump(rf_multimetrica, open(filename, \"wb\"))"
      ]
    },
    {
      "cell_type": "markdown",
      "metadata": {
        "id": "Blxveuna_YZr"
      },
      "source": [
        "# d. Clasificador XGBoost optimizando sus hiperparámetros"
      ]
    },
    {
      "cell_type": "markdown",
      "metadata": {
        "id": "6RWLVnKMdFqQ"
      },
      "source": [
        "El modelo Extreme Gradient Boosting consiste en crear una cadena de arboles de profundida fija. Para la creacion de estos arboles es necesario deshacerse de las variables categoricas por lo cual aplico a nuestro dataset el metodo de one hot encoding. \n"
      ]
    },
    {
      "cell_type": "code",
      "execution_count": null,
      "metadata": {
        "id": "1kTU6O0RuDzg"
      },
      "outputs": [],
      "source": [
        "# hacemos one hot encoding creando un nuevo ds\n",
        "ds_xgb = ds_con_one_hot_encoding(ds_ensambles)"
      ]
    },
    {
      "cell_type": "code",
      "execution_count": null,
      "metadata": {
        "id": "0vzgjLFdud0g"
      },
      "outputs": [],
      "source": [
        "#Separo en train y test el dataset de entrenamiento\n",
        "x_train, x_test, y_train, y_test = separarConjuntos(ds_xgb)"
      ]
    },
    {
      "cell_type": "markdown",
      "metadata": {
        "id": "ouPGyZYKU91k"
      },
      "source": [
        "El modelo xgb cuenta con varios hiperparametros. Busco en este primer modelo optimizar solo algunos. \n",
        "El learning rate se usa para escalar la contribucion de cada arbol y ayuda a manejar el overfitting. \n",
        "Max-depth se refiere a la profundida maxima que se le permite crecer a cada arbol. \n",
        "Subsample habla de que porcentaje de filas se usan para construir el arbol.\n",
        "N-estimators es la cantidad de estimadores que se construyen en el entrenamiento.\n",
        "Gamma es un umbral usado en la poda. El gain del nodo mas bajo de un arbol es menor a gamma entonces este es eliminado. A mayor gamma se hace mas conservador el algoritmo, en el peor de los caso dejandonos con el estimador inicial.\n",
        "Lamba es un parametro de regularizacion que nos ayuda a evitar error por alta varianza. Se usa en el calculo de los similarity scores."
      ]
    },
    {
      "cell_type": "code",
      "execution_count": null,
      "metadata": {
        "id": "lV30iuaE2_Gz"
      },
      "outputs": [],
      "source": [
        "#Busco optimizar sus hiperparametros\n",
        "param_xgb = {'learning_rate': np.linspace(0.1, 0.3, 3),\n",
        "             'max_depth': list(range(3, 8)),\n",
        "             'subsample': np.linspace(0.5, 1.0, 3),\n",
        "             'n_estimators': list(range(50,200)),\n",
        "             'gamma': np.linspace(0.1, 3.0,5 ),\n",
        "             'lambda': np.linspace(0.1, 3.0, 5),\n",
        "}\n",
        "#Creo el modelo \n",
        "\n",
        "xgb_model = xgb.XGBClassifier(random_state=0)"
      ]
    },
    {
      "cell_type": "code",
      "execution_count": null,
      "metadata": {
        "id": "noXjsXugjVf3"
      },
      "outputs": [],
      "source": [
        "xgb_optimizado = buscarMejoresHiperparametros(10, 5, xgb_model, param_xgb, x_train, y_train)"
      ]
    },
    {
      "cell_type": "code",
      "execution_count": null,
      "metadata": {
        "id": "sVKLYVdy3qkR"
      },
      "outputs": [],
      "source": [
        "mostrarPerformance(xgb_optimizado, x_train, y_train)"
      ]
    },
    {
      "cell_type": "code",
      "execution_count": null,
      "metadata": {
        "id": "ZBsiWCT-32EK"
      },
      "outputs": [],
      "source": [
        "mostrarPerformance(xgb_optimizado, x_test, y_test)"
      ]
    },
    {
      "cell_type": "code",
      "execution_count": null,
      "metadata": {
        "id": "ySbXwtDJ5V0s"
      },
      "outputs": [],
      "source": [
        "filename = \"xgb1.pickle\"\n",
        "\n",
        "# save model\n",
        "pickle.dump(xgb_optimizado, open(filename, \"wb\"))"
      ]
    },
    {
      "cell_type": "markdown",
      "metadata": {
        "id": "Px-l_v7zZMTU"
      },
      "source": [
        "Agrego ahora otros hiperparametros para optimizar y comparo su performance. \n",
        "Eta controla cuanto se actualizan los pesos del modelo en cada iteracion del entrenamiento y puede evitar el overfitting.\n",
        "Alpha ayuda en la disminucion de dimensionalidad. Reduce la importancia de caracteristicas redundantes o irrelevantes reduciendo su peso. Esto simplifica el modelo y ayuda a evitar el sobreajuste.\n"
      ]
    },
    {
      "cell_type": "code",
      "execution_count": null,
      "metadata": {
        "colab": {
          "base_uri": "https://localhost:8080/"
        },
        "id": "alFvcMLPdAvk",
        "outputId": "1d2c80ac-7217-4439-c064-a78faa21af00"
      },
      "outputs": [
        {
          "name": "stdout",
          "output_type": "stream",
          "text": [
            "Best parameters: {'tree_method': 'approx', 'subsample': 0.75, 'n_estimators': 118, 'min_child_weight': 0.05, 'max_depth': 6, 'learning_rate': 0.2, 'lambda': 0.1, 'gamma': 1.55, 'colsample_bytree': 1.0, 'alpha': 2.0}\n",
            "Best score: 0.8169771573533433\n"
          ]
        }
      ],
      "source": [
        "#Busco optimizar sus hiperparametros\n",
        "param_xgb2 = {\n",
        "    'colsample_bytree': np.linspace(0.5, 1.0, 6),\n",
        "    'subsample': np.linspace(0.25, 1.0, 3), \n",
        "    'alpha':np.linspace(0.1,2,5),\n",
        "    'gamma': np.linspace(0.1, 3.0,5 ),\n",
        "    'lambda': np.linspace(0.1, 3.0, 5),\n",
        "    'min_child_weight':np.linspace(0.05,2,5),\n",
        "    'tree_method':['approx','hist'],\n",
        "    'learning_rate': np.linspace(0.1, 0.3, 3),\n",
        "    'max_depth': list(range(3, 8)),\n",
        "    'subsample': np.linspace(0.5, 1.0, 3),\n",
        "    'n_estimators': list(range(50,200)),\n",
        "}\n",
        "\n",
        "#Creo el modelo \n",
        "\n",
        "xgb_model2 = xgb.XGBClassifier(random_state=0)\n",
        "\n",
        "xgb_optimizado2 = buscarMejoresHiperparametros(10, 5, xgb_model2, param_xgb2, x_train, y_train)"
      ]
    },
    {
      "cell_type": "code",
      "execution_count": null,
      "metadata": {
        "colab": {
          "base_uri": "https://localhost:8080/",
          "height": 623
        },
        "id": "WrV7-OMecn16",
        "outputId": "c85a8d24-7e3d-454d-dc7f-1bc88c489760"
      },
      "outputs": [
        {
          "name": "stdout",
          "output_type": "stream",
          "text": [
            "              precision    recall  f1-score   support\n",
            "\n",
            "           0       0.83      0.88      0.85     24732\n",
            "           1       0.87      0.82      0.84     24727\n",
            "\n",
            "    accuracy                           0.85     49459\n",
            "   macro avg       0.85      0.85      0.85     49459\n",
            "weighted avg       0.85      0.85      0.85     49459\n",
            "\n",
            "F1-Score: 0.8439868857936391\n"
          ]
        },
        {
          "data": {
            "image/png": "[encoded data removed]",
            "text/plain": [
              "<Figure size 640x480 with 2 Axes>"
            ]
          },
          "metadata": {},
          "output_type": "display_data"
        }
      ],
      "source": [
        "mostrarPerformance(xgb_optimizado2, x_train, y_train)\n"
      ]
    },
    {
      "cell_type": "code",
      "execution_count": null,
      "metadata": {
        "colab": {
          "base_uri": "https://localhost:8080/",
          "height": 623
        },
        "id": "Qhyhhc-nc4CR",
        "outputId": "6ea01b7c-cc48-4cfd-8141-a36156bc1064"
      },
      "outputs": [
        {
          "name": "stdout",
          "output_type": "stream",
          "text": [
            "              precision    recall  f1-score   support\n",
            "\n",
            "           0       0.81      0.86      0.83      6178\n",
            "           1       0.85      0.80      0.82      6187\n",
            "\n",
            "    accuracy                           0.83     12365\n",
            "   macro avg       0.83      0.83      0.83     12365\n",
            "weighted avg       0.83      0.83      0.83     12365\n",
            "\n",
            "F1-Score: 0.8225511391984036\n"
          ]
        },
        {
          "data": {
            "image/png": "[encoded data removed]",
            "text/plain": [
              "<Figure size 640x480 with 2 Axes>"
            ]
          },
          "metadata": {},
          "output_type": "display_data"
        }
      ],
      "source": [
        "mostrarPerformance(xgb_optimizado2, x_test, y_test)"
      ]
    },
    {
      "cell_type": "markdown",
      "metadata": {
        "id": "-toRtIkLrrKb"
      },
      "source": [
        "Podemos ver que en el segundo modelo, en donde optimizamos mas hiperparametros que el f1-score es bastante menor en el train pero en el test es levemente mayor y hay menos diferencia entre ambos, lo cual habla de menos overfitting."
      ]
    },
    {
      "cell_type": "code",
      "execution_count": null,
      "metadata": {
        "id": "8qJDJIJ3ecJp"
      },
      "outputs": [],
      "source": [
        "filename = \"xgb.pickle\"\n",
        "\n",
        "# save model\n",
        "pickle.dump(xgb_optimizado2, open(filename, \"wb\"))"
      ]
    },
    {
      "cell_type": "markdown",
      "metadata": {
        "id": "r7KZSDCP_hAk"
      },
      "source": [
        "# e. Ensambles híbridos"
      ]
    },
    {
      "cell_type": "markdown",
      "metadata": {
        "id": "zmVWNsIjIpWG"
      },
      "source": [
        "Los ensambles hibridos consisten en crear un estimador fuerte basandose en varios estimadores debiles. "
      ]
    },
    {
      "cell_type": "markdown",
      "metadata": {
        "id": "JvFEBqWstlqD"
      },
      "source": [
        "## i. Stacking"
      ]
    },
    {
      "cell_type": "markdown",
      "metadata": {
        "id": "h4Xa2RT91QdU"
      },
      "source": [
        "Para este modelo hay que definir un modelo de nivel superior, el cual se usara para combinar las predicciones que se consiguen entrenando a varios modelos base. Los modelos base pueden ser de distintos tipos. Las predicciones de los modelos base se recompilaran en un nuevo conjunto de datos sobre el cual el meta-modelo realizara la prediccion final. Esto nos permite aprovechar las distintas fortalezas de los distintos modelos base."
      ]
    },
    {
      "cell_type": "markdown",
      "metadata": {
        "id": "GbY20lFX1S4l"
      },
      "source": [
        "Como en todos los otros casos, comenzamos aplicando one hot encoding a nuestro dataset\n"
      ]
    },
    {
      "cell_type": "code",
      "execution_count": 9,
      "metadata": {
        "id": "OiRHBhjjtHo2"
      },
      "outputs": [],
      "source": [
        "ds_reservas_stacking = ds_con_one_hot_encoding(ds_ensambles)"
      ]
    },
    {
      "cell_type": "markdown",
      "metadata": {
        "id": "_jBdBitg1div"
      },
      "source": [
        "**Entrenamiento y evaluación de modelos individuales**"
      ]
    },
    {
      "cell_type": "markdown",
      "metadata": {
        "id": "FqQQU6LZ1f9T"
      },
      "source": [
        "Entrenamos modelos base, elegiendo algunos de los analizados previamente.\n",
        "\n",
        "* Bosque aleatorio con 50 árboles de decisión (RF).\n",
        "* Máquina de vectores de soporte (SVM)\n",
        "* Extreme Gradient Boost (XGB).\n",
        "* K-nearest neighbours (KNN)."
      ]
    },
    {
      "cell_type": "markdown",
      "metadata": {
        "id": "i0RHmBoB1lVJ"
      },
      "source": [
        "**En cada iteración cada modelo se entrenará con el 80% de los datos y se validará en el 20% restante**"
      ]
    },
    {
      "cell_type": "code",
      "execution_count": 10,
      "metadata": {
        "id": "WSTt3Us81nSF"
      },
      "outputs": [],
      "source": [
        "#Armo conjunto entrenamiento y test 80-20\n",
        "x_train, x_test, y_train, y_test = separarConjuntos(ds_reservas_stacking)"
      ]
    },
    {
      "cell_type": "markdown",
      "metadata": {
        "id": "cizl7C8xjxrk"
      },
      "source": [
        "Generamos luego un conjunto con los 3 modelos que usaremos."
      ]
    },
    {
      "cell_type": "code",
      "execution_count": 11,
      "metadata": {
        "id": "ajnuKwdIjwgV"
      },
      "outputs": [],
      "source": [
        "base_models = [('random_forest', RandomForestClassifier(n_estimators=50)),\n",
        "               ('svm', SVC()),\n",
        "               ('knn', KNeighborsClassifier(n_neighbors=11)),\n",
        "               ('xgb', xgb.XGBClassifier())]"
      ]
    },
    {
      "cell_type": "markdown",
      "metadata": {
        "id": "lQbDmklRj3uY"
      },
      "source": [
        "Generamos el metamodelo. Dada la naturaleza del problema, elegimos un arbol de decision."
      ]
    },
    {
      "cell_type": "code",
      "execution_count": 12,
      "metadata": {
        "id": "jpmvmGMikyIO"
      },
      "outputs": [],
      "source": [
        "meta_model = DecisionTreeClassifier(criterion=\"gini\",\n",
        "                                         max_depth = 20, \n",
        "                                         min_samples_leaf=10) "
      ]
    },
    {
      "cell_type": "markdown",
      "metadata": {
        "id": "2qR60HvUlF2n"
      },
      "source": [
        "Generamos finalmente el ensamble con nuestros modelos base y el metamodelo recien mencionado."
      ]
    },
    {
      "cell_type": "code",
      "execution_count": 13,
      "metadata": {
        "id": "I308iD_81ueC"
      },
      "outputs": [],
      "source": [
        "from sklearn.ensemble import StackingClassifier\n",
        "\n",
        "#Ensemble Stacking\n",
        "stacking = StackingClassifier(estimators=base_models, \n",
        "                                    final_estimator=meta_model, \n",
        "                                    passthrough=True, \n",
        "                                    cv=5,\n",
        "                                    verbose=2)"
      ]
    },
    {
      "cell_type": "markdown",
      "source": [
        "Finalmente, entrenamos al modelo"
      ],
      "metadata": {
        "id": "NWF1J4AnNYw7"
      }
    },
    {
      "cell_type": "code",
      "execution_count": 14,
      "metadata": {
        "colab": {
          "base_uri": "https://localhost:8080/",
          "height": 375
        },
        "id": "j4rKLOJ532Yt",
        "outputId": "887d85ed-1acb-480e-a713-3d9b509008ad"
      },
      "outputs": [
        {
          "output_type": "stream",
          "name": "stderr",
          "text": [
            "[Parallel(n_jobs=1)]: Using backend SequentialBackend with 1 concurrent workers.\n",
            "[Parallel(n_jobs=1)]: Done   1 out of   1 | elapsed:    3.7s remaining:    0.0s\n",
            "[Parallel(n_jobs=1)]: Done   5 out of   5 | elapsed:   14.7s finished\n",
            "[Parallel(n_jobs=1)]: Using backend SequentialBackend with 1 concurrent workers.\n",
            "[Parallel(n_jobs=1)]: Done   1 out of   1 | elapsed:  1.8min remaining:    0.0s\n",
            "[Parallel(n_jobs=1)]: Done   5 out of   5 | elapsed:  9.2min finished\n",
            "[Parallel(n_jobs=1)]: Using backend SequentialBackend with 1 concurrent workers.\n",
            "[Parallel(n_jobs=1)]: Done   1 out of   1 | elapsed:    1.9s remaining:    0.0s\n",
            "[Parallel(n_jobs=1)]: Done   5 out of   5 | elapsed:   10.4s finished\n",
            "[Parallel(n_jobs=1)]: Using backend SequentialBackend with 1 concurrent workers.\n",
            "[Parallel(n_jobs=1)]: Done   1 out of   1 | elapsed:    5.6s remaining:    0.0s\n",
            "[Parallel(n_jobs=1)]: Done   5 out of   5 | elapsed:   29.6s finished\n"
          ]
        },
        {
          "output_type": "execute_result",
          "data": {
            "text/plain": [
              "StackingClassifier(cv=5,\n",
              "                   estimators=[('random_forest',\n",
              "                                RandomForestClassifier(n_estimators=50)),\n",
              "                               ('svm', SVC()),\n",
              "                               ('knn', KNeighborsClassifier(n_neighbors=11)),\n",
              "                               ('xgb',\n",
              "                                XGBClassifier(base_score=None, booster=None,\n",
              "                                              callbacks=None,\n",
              "                                              colsample_bylevel=None,\n",
              "                                              colsample_bynode=None,\n",
              "                                              colsample_bytree=None,\n",
              "                                              early_stopping_rounds=None,\n",
              "                                              enable_categorical=False,\n",
              "                                              eval_metric=N...\n",
              "                                              learning_rate=None, max_bin=None,\n",
              "                                              max_cat_threshold=None,\n",
              "                                              max_cat_to_onehot=None,\n",
              "                                              max_delta_step=None,\n",
              "                                              max_depth=None, max_leaves=None,\n",
              "                                              min_child_weight=None,\n",
              "                                              missing=nan,\n",
              "                                              monotone_constraints=None,\n",
              "                                              n_estimators=100, n_jobs=None,\n",
              "                                              num_parallel_tree=None,\n",
              "                                              predictor=None, random_state=None, ...))],\n",
              "                   final_estimator=DecisionTreeClassifier(max_depth=20,\n",
              "                                                          min_samples_leaf=10),\n",
              "                   passthrough=True, verbose=2)"
            ],
            "text/html": [
              "<style>#sk-container-id-1 {color: black;background-color: white;}#sk-container-id-1 pre{padding: 0;}#sk-container-id-1 div.sk-toggleable {background-color: white;}#sk-container-id-1 label.sk-toggleable__label {cursor: pointer;display: block;width: 100%;margin-bottom: 0;padding: 0.3em;box-sizing: border-box;text-align: center;}#sk-container-id-1 label.sk-toggleable__label-arrow:before {content: \"▸\";float: left;margin-right: 0.25em;color: #696969;}#sk-container-id-1 label.sk-toggleable__label-arrow:hover:before {color: black;}#sk-container-id-1 div.sk-estimator:hover label.sk-toggleable__label-arrow:before {color: black;}#sk-container-id-1 div.sk-toggleable__content {max-height: 0;max-width: 0;overflow: hidden;text-align: left;background-color: #f0f8ff;}#sk-container-id-1 div.sk-toggleable__content pre {margin: 0.2em;color: black;border-radius: 0.25em;background-color: #f0f8ff;}#sk-container-id-1 input.sk-toggleable__control:checked~div.sk-toggleable__content {max-height: 200px;max-width: 100%;overflow: auto;}#sk-container-id-1 input.sk-toggleable__control:checked~label.sk-toggleable__label-arrow:before {content: \"▾\";}#sk-container-id-1 div.sk-estimator input.sk-toggleable__control:checked~label.sk-toggleable__label {background-color: #d4ebff;}#sk-container-id-1 div.sk-label input.sk-toggleable__control:checked~label.sk-toggleable__label {background-color: #d4ebff;}#sk-container-id-1 input.sk-hidden--visually {border: 0;clip: rect(1px 1px 1px 1px);clip: rect(1px, 1px, 1px, 1px);height: 1px;margin: -1px;overflow: hidden;padding: 0;position: absolute;width: 1px;}#sk-container-id-1 div.sk-estimator {font-family: monospace;background-color: #f0f8ff;border: 1px dotted black;border-radius: 0.25em;box-sizing: border-box;margin-bottom: 0.5em;}#sk-container-id-1 div.sk-estimator:hover {background-color: #d4ebff;}#sk-container-id-1 div.sk-parallel-item::after {content: \"\";width: 100%;border-bottom: 1px solid gray;flex-grow: 1;}#sk-container-id-1 div.sk-label:hover label.sk-toggleable__label {background-color: #d4ebff;}#sk-container-id-1 div.sk-serial::before {content: \"\";position: absolute;border-left: 1px solid gray;box-sizing: border-box;top: 0;bottom: 0;left: 50%;z-index: 0;}#sk-container-id-1 div.sk-serial {display: flex;flex-direction: column;align-items: center;background-color: white;padding-right: 0.2em;padding-left: 0.2em;position: relative;}#sk-container-id-1 div.sk-item {position: relative;z-index: 1;}#sk-container-id-1 div.sk-parallel {display: flex;align-items: stretch;justify-content: center;background-color: white;position: relative;}#sk-container-id-1 div.sk-item::before, #sk-container-id-1 div.sk-parallel-item::before {content: \"\";position: absolute;border-left: 1px solid gray;box-sizing: border-box;top: 0;bottom: 0;left: 50%;z-index: -1;}#sk-container-id-1 div.sk-parallel-item {display: flex;flex-direction: column;z-index: 1;position: relative;background-color: white;}#sk-container-id-1 div.sk-parallel-item:first-child::after {align-self: flex-end;width: 50%;}#sk-container-id-1 div.sk-parallel-item:last-child::after {align-self: flex-start;width: 50%;}#sk-container-id-1 div.sk-parallel-item:only-child::after {width: 0;}#sk-container-id-1 div.sk-dashed-wrapped {border: 1px dashed gray;margin: 0 0.4em 0.5em 0.4em;box-sizing: border-box;padding-bottom: 0.4em;background-color: white;}#sk-container-id-1 div.sk-label label {font-family: monospace;font-weight: bold;display: inline-block;line-height: 1.2em;}#sk-container-id-1 div.sk-label-container {text-align: center;}#sk-container-id-1 div.sk-container {/* jupyter's `normalize.less` sets `[hidden] { display: none; }` but bootstrap.min.css set `[hidden] { display: none !important; }` so we also need the `!important` here to be able to override the default hidden behavior on the sphinx rendered scikit-learn.org. See: https://github.com/scikit-learn/scikit-learn/issues/21755 */display: inline-block !important;position: relative;}#sk-container-id-1 div.sk-text-repr-fallback {display: none;}</style><div id=\"sk-container-id-1\" class=\"sk-top-container\"><div class=\"sk-text-repr-fallback\"><pre>StackingClassifier(cv=5,\n",
              "                   estimators=[(&#x27;random_forest&#x27;,\n",
              "                                RandomForestClassifier(n_estimators=50)),\n",
              "                               (&#x27;svm&#x27;, SVC()),\n",
              "                               (&#x27;knn&#x27;, KNeighborsClassifier(n_neighbors=11)),\n",
              "                               (&#x27;xgb&#x27;,\n",
              "                                XGBClassifier(base_score=None, booster=None,\n",
              "                                              callbacks=None,\n",
              "                                              colsample_bylevel=None,\n",
              "                                              colsample_bynode=None,\n",
              "                                              colsample_bytree=None,\n",
              "                                              early_stopping_rounds=None,\n",
              "                                              enable_categorical=False,\n",
              "                                              eval_metric=N...\n",
              "                                              learning_rate=None, max_bin=None,\n",
              "                                              max_cat_threshold=None,\n",
              "                                              max_cat_to_onehot=None,\n",
              "                                              max_delta_step=None,\n",
              "                                              max_depth=None, max_leaves=None,\n",
              "                                              min_child_weight=None,\n",
              "                                              missing=nan,\n",
              "                                              monotone_constraints=None,\n",
              "                                              n_estimators=100, n_jobs=None,\n",
              "                                              num_parallel_tree=None,\n",
              "                                              predictor=None, random_state=None, ...))],\n",
              "                   final_estimator=DecisionTreeClassifier(max_depth=20,\n",
              "                                                          min_samples_leaf=10),\n",
              "                   passthrough=True, verbose=2)</pre><b>In a Jupyter environment, please rerun this cell to show the HTML representation or trust the notebook. <br />On GitHub, the HTML representation is unable to render, please try loading this page with nbviewer.org.</b></div><div class=\"sk-container\" hidden><div class=\"sk-item sk-dashed-wrapped\"><div class=\"sk-label-container\"><div class=\"sk-label sk-toggleable\"><input class=\"sk-toggleable__control sk-hidden--visually\" id=\"sk-estimator-id-1\" type=\"checkbox\" ><label for=\"sk-estimator-id-1\" class=\"sk-toggleable__label sk-toggleable__label-arrow\">StackingClassifier</label><div class=\"sk-toggleable__content\"><pre>StackingClassifier(cv=5,\n",
              "                   estimators=[(&#x27;random_forest&#x27;,\n",
              "                                RandomForestClassifier(n_estimators=50)),\n",
              "                               (&#x27;svm&#x27;, SVC()),\n",
              "                               (&#x27;knn&#x27;, KNeighborsClassifier(n_neighbors=11)),\n",
              "                               (&#x27;xgb&#x27;,\n",
              "                                XGBClassifier(base_score=None, booster=None,\n",
              "                                              callbacks=None,\n",
              "                                              colsample_bylevel=None,\n",
              "                                              colsample_bynode=None,\n",
              "                                              colsample_bytree=None,\n",
              "                                              early_stopping_rounds=None,\n",
              "                                              enable_categorical=False,\n",
              "                                              eval_metric=N...\n",
              "                                              learning_rate=None, max_bin=None,\n",
              "                                              max_cat_threshold=None,\n",
              "                                              max_cat_to_onehot=None,\n",
              "                                              max_delta_step=None,\n",
              "                                              max_depth=None, max_leaves=None,\n",
              "                                              min_child_weight=None,\n",
              "                                              missing=nan,\n",
              "                                              monotone_constraints=None,\n",
              "                                              n_estimators=100, n_jobs=None,\n",
              "                                              num_parallel_tree=None,\n",
              "                                              predictor=None, random_state=None, ...))],\n",
              "                   final_estimator=DecisionTreeClassifier(max_depth=20,\n",
              "                                                          min_samples_leaf=10),\n",
              "                   passthrough=True, verbose=2)</pre></div></div></div><div class=\"sk-serial\"><div class=\"sk-item\"><div class=\"sk-parallel\"><div class=\"sk-parallel-item\"><div class=\"sk-item\"><div class=\"sk-label-container\"><div class=\"sk-label sk-toggleable\"><label>random_forest</label></div></div><div class=\"sk-serial\"><div class=\"sk-item\"><div class=\"sk-estimator sk-toggleable\"><input class=\"sk-toggleable__control sk-hidden--visually\" id=\"sk-estimator-id-2\" type=\"checkbox\" ><label for=\"sk-estimator-id-2\" class=\"sk-toggleable__label sk-toggleable__label-arrow\">RandomForestClassifier</label><div class=\"sk-toggleable__content\"><pre>RandomForestClassifier(n_estimators=50)</pre></div></div></div></div></div></div><div class=\"sk-parallel-item\"><div class=\"sk-item\"><div class=\"sk-label-container\"><div class=\"sk-label sk-toggleable\"><label>svm</label></div></div><div class=\"sk-serial\"><div class=\"sk-item\"><div class=\"sk-estimator sk-toggleable\"><input class=\"sk-toggleable__control sk-hidden--visually\" id=\"sk-estimator-id-3\" type=\"checkbox\" ><label for=\"sk-estimator-id-3\" class=\"sk-toggleable__label sk-toggleable__label-arrow\">SVC</label><div class=\"sk-toggleable__content\"><pre>SVC()</pre></div></div></div></div></div></div><div class=\"sk-parallel-item\"><div class=\"sk-item\"><div class=\"sk-label-container\"><div class=\"sk-label sk-toggleable\"><label>knn</label></div></div><div class=\"sk-serial\"><div class=\"sk-item\"><div class=\"sk-estimator sk-toggleable\"><input class=\"sk-toggleable__control sk-hidden--visually\" id=\"sk-estimator-id-4\" type=\"checkbox\" ><label for=\"sk-estimator-id-4\" class=\"sk-toggleable__label sk-toggleable__label-arrow\">KNeighborsClassifier</label><div class=\"sk-toggleable__content\"><pre>KNeighborsClassifier(n_neighbors=11)</pre></div></div></div></div></div></div><div class=\"sk-parallel-item\"><div class=\"sk-item\"><div class=\"sk-label-container\"><div class=\"sk-label sk-toggleable\"><label>xgb</label></div></div><div class=\"sk-serial\"><div class=\"sk-item\"><div class=\"sk-estimator sk-toggleable\"><input class=\"sk-toggleable__control sk-hidden--visually\" id=\"sk-estimator-id-5\" type=\"checkbox\" ><label for=\"sk-estimator-id-5\" class=\"sk-toggleable__label sk-toggleable__label-arrow\">XGBClassifier</label><div class=\"sk-toggleable__content\"><pre>XGBClassifier(base_score=None, booster=None, callbacks=None,\n",
              "              colsample_bylevel=None, colsample_bynode=None,\n",
              "              colsample_bytree=None, early_stopping_rounds=None,\n",
              "              enable_categorical=False, eval_metric=None, feature_types=None,\n",
              "              gamma=None, gpu_id=None, grow_policy=None, importance_type=None,\n",
              "              interaction_constraints=None, learning_rate=None, max_bin=None,\n",
              "              max_cat_threshold=None, max_cat_to_onehot=None,\n",
              "              max_delta_step=None, max_depth=None, max_leaves=None,\n",
              "              min_child_weight=None, missing=nan, monotone_constraints=None,\n",
              "              n_estimators=100, n_jobs=None, num_parallel_tree=None,\n",
              "              predictor=None, random_state=None, ...)</pre></div></div></div></div></div></div></div></div><div class=\"sk-item\"><div class=\"sk-parallel\"><div class=\"sk-parallel-item\"><div class=\"sk-item\"><div class=\"sk-label-container\"><div class=\"sk-label sk-toggleable\"><label>final_estimator</label></div></div><div class=\"sk-serial\"><div class=\"sk-item\"><div class=\"sk-estimator sk-toggleable\"><input class=\"sk-toggleable__control sk-hidden--visually\" id=\"sk-estimator-id-6\" type=\"checkbox\" ><label for=\"sk-estimator-id-6\" class=\"sk-toggleable__label sk-toggleable__label-arrow\">DecisionTreeClassifier</label><div class=\"sk-toggleable__content\"><pre>DecisionTreeClassifier(max_depth=20, min_samples_leaf=10)</pre></div></div></div></div></div></div></div></div></div></div></div></div>"
            ]
          },
          "metadata": {},
          "execution_count": 14
        }
      ],
      "source": [
        "stacking.fit(x_train,y_train)"
      ]
    },
    {
      "cell_type": "code",
      "execution_count": 15,
      "metadata": {
        "colab": {
          "base_uri": "https://localhost:8080/",
          "height": 623
        },
        "id": "nZd67oxo4HCz",
        "outputId": "06f023e7-ad41-46d2-8278-f109dceaaaa1"
      },
      "outputs": [
        {
          "output_type": "stream",
          "name": "stdout",
          "text": [
            "              precision    recall  f1-score   support\n",
            "\n",
            "           0       0.79      0.84      0.82      9230\n",
            "           1       0.83      0.78      0.81      9318\n",
            "\n",
            "    accuracy                           0.81     18548\n",
            "   macro avg       0.81      0.81      0.81     18548\n",
            "weighted avg       0.81      0.81      0.81     18548\n",
            "\n",
            "F1-Score: 0.8071396993810785\n"
          ]
        },
        {
          "output_type": "display_data",
          "data": {
            "text/plain": [
              "<Figure size 640x480 with 2 Axes>"
            ],
            "image/png": "[encoded data removed]"
          },
          "metadata": {}
        }
      ],
      "source": [
        "mostrarPerformance(stacking, x_test, y_test)"
      ]
    },
    {
      "cell_type": "code",
      "execution_count": 16,
      "metadata": {
        "colab": {
          "base_uri": "https://localhost:8080/",
          "height": 623
        },
        "id": "oV8S-tUPllO3",
        "outputId": "bd00adc3-8992-4f9e-caeb-4d7df2105988"
      },
      "outputs": [
        {
          "output_type": "stream",
          "name": "stdout",
          "text": [
            "              precision    recall  f1-score   support\n",
            "\n",
            "           0       0.90      0.92      0.91     21680\n",
            "           1       0.92      0.90      0.91     21596\n",
            "\n",
            "    accuracy                           0.91     43276\n",
            "   macro avg       0.91      0.91      0.91     43276\n",
            "weighted avg       0.91      0.91      0.91     43276\n",
            "\n",
            "F1-Score: 0.90933776539713\n"
          ]
        },
        {
          "output_type": "display_data",
          "data": {
            "text/plain": [
              "<Figure size 640x480 with 2 Axes>"
            ],
            "image/png": "[encoded data removed]"
          },
          "metadata": {}
        }
      ],
      "source": [
        "mostrarPerformance(stacking, x_train, y_train)"
      ]
    },
    {
      "cell_type": "markdown",
      "metadata": {
        "id": "Xz6akLY3ADui"
      },
      "source": [
        "De estas metricas se puede concluir que el modelo es bueno prediciendo pero que esta de todas maneras haciendo un severo overfitting."
      ]
    },
    {
      "cell_type": "code",
      "execution_count": 17,
      "metadata": {
        "id": "uvaZm9hqDuNd"
      },
      "outputs": [],
      "source": [
        "filename = \"stacking.pickle\"\n",
        "\n",
        "# save model\n",
        "pickle.dump(stacking, open(filename, \"wb\"))"
      ]
    },
    {
      "cell_type": "markdown",
      "metadata": {
        "id": "YSX60qBatiOM"
      },
      "source": [
        "## ii. Voting"
      ]
    },
    {
      "cell_type": "markdown",
      "source": [
        "Al igual que en el modelo anterior, crearemos los modelos base, realizando antes el one hot encoding."
      ],
      "metadata": {
        "id": "41WsQJJhRfaO"
      }
    },
    {
      "cell_type": "code",
      "execution_count": 18,
      "metadata": {
        "id": "yw8Qdkxv4ouv"
      },
      "outputs": [],
      "source": [
        "ds_reservas_voting = ds_con_one_hot_encoding(ds_ensambles)"
      ]
    },
    {
      "cell_type": "markdown",
      "source": [
        "Creamos el modelo y lo entrenamos"
      ],
      "metadata": {
        "id": "SbvTIB5BSAw0"
      }
    },
    {
      "cell_type": "code",
      "execution_count": 22,
      "metadata": {
        "colab": {
          "base_uri": "https://localhost:8080/",
          "height": 112
        },
        "id": "xCDpHcNa13IC",
        "outputId": "c74ef734-829e-4ed7-e2be-45d1f06da83e"
      },
      "outputs": [
        {
          "output_type": "execute_result",
          "data": {
            "text/plain": [
              "VotingClassifier(estimators=[('random_forest',\n",
              "                              RandomForestClassifier(n_estimators=50)),\n",
              "                             ('svm', SVC(probability=True)),\n",
              "                             ('knn', KNeighborsClassifier(n_neighbors=11)),\n",
              "                             ('xgb',\n",
              "                              XGBClassifier(base_score=None, booster=None,\n",
              "                                            callbacks=None,\n",
              "                                            colsample_bylevel=None,\n",
              "                                            colsample_bynode=None,\n",
              "                                            colsample_bytree=None,\n",
              "                                            early_stopping_rounds=None,\n",
              "                                            enable_categorical=False,\n",
              "                                            eval...\n",
              "                                            gpu_id=None, grow_policy=None,\n",
              "                                            importance_type=None,\n",
              "                                            interaction_constraints=None,\n",
              "                                            learning_rate=None, max_bin=None,\n",
              "                                            max_cat_threshold=None,\n",
              "                                            max_cat_to_onehot=None,\n",
              "                                            max_delta_step=None, max_depth=None,\n",
              "                                            max_leaves=None,\n",
              "                                            min_child_weight=None, missing=nan,\n",
              "                                            monotone_constraints=None,\n",
              "                                            n_estimators=100, n_jobs=None,\n",
              "                                            num_parallel_tree=None,\n",
              "                                            predictor=None, random_state=None, ...))],\n",
              "                 voting='soft')"
            ],
            "text/html": [
              "<style>#sk-container-id-3 {color: black;background-color: white;}#sk-container-id-3 pre{padding: 0;}#sk-container-id-3 div.sk-toggleable {background-color: white;}#sk-container-id-3 label.sk-toggleable__label {cursor: pointer;display: block;width: 100%;margin-bottom: 0;padding: 0.3em;box-sizing: border-box;text-align: center;}#sk-container-id-3 label.sk-toggleable__label-arrow:before {content: \"▸\";float: left;margin-right: 0.25em;color: #696969;}#sk-container-id-3 label.sk-toggleable__label-arrow:hover:before {color: black;}#sk-container-id-3 div.sk-estimator:hover label.sk-toggleable__label-arrow:before {color: black;}#sk-container-id-3 div.sk-toggleable__content {max-height: 0;max-width: 0;overflow: hidden;text-align: left;background-color: #f0f8ff;}#sk-container-id-3 div.sk-toggleable__content pre {margin: 0.2em;color: black;border-radius: 0.25em;background-color: #f0f8ff;}#sk-container-id-3 input.sk-toggleable__control:checked~div.sk-toggleable__content {max-height: 200px;max-width: 100%;overflow: auto;}#sk-container-id-3 input.sk-toggleable__control:checked~label.sk-toggleable__label-arrow:before {content: \"▾\";}#sk-container-id-3 div.sk-estimator input.sk-toggleable__control:checked~label.sk-toggleable__label {background-color: #d4ebff;}#sk-container-id-3 div.sk-label input.sk-toggleable__control:checked~label.sk-toggleable__label {background-color: #d4ebff;}#sk-container-id-3 input.sk-hidden--visually {border: 0;clip: rect(1px 1px 1px 1px);clip: rect(1px, 1px, 1px, 1px);height: 1px;margin: -1px;overflow: hidden;padding: 0;position: absolute;width: 1px;}#sk-container-id-3 div.sk-estimator {font-family: monospace;background-color: #f0f8ff;border: 1px dotted black;border-radius: 0.25em;box-sizing: border-box;margin-bottom: 0.5em;}#sk-container-id-3 div.sk-estimator:hover {background-color: #d4ebff;}#sk-container-id-3 div.sk-parallel-item::after {content: \"\";width: 100%;border-bottom: 1px solid gray;flex-grow: 1;}#sk-container-id-3 div.sk-label:hover label.sk-toggleable__label {background-color: #d4ebff;}#sk-container-id-3 div.sk-serial::before {content: \"\";position: absolute;border-left: 1px solid gray;box-sizing: border-box;top: 0;bottom: 0;left: 50%;z-index: 0;}#sk-container-id-3 div.sk-serial {display: flex;flex-direction: column;align-items: center;background-color: white;padding-right: 0.2em;padding-left: 0.2em;position: relative;}#sk-container-id-3 div.sk-item {position: relative;z-index: 1;}#sk-container-id-3 div.sk-parallel {display: flex;align-items: stretch;justify-content: center;background-color: white;position: relative;}#sk-container-id-3 div.sk-item::before, #sk-container-id-3 div.sk-parallel-item::before {content: \"\";position: absolute;border-left: 1px solid gray;box-sizing: border-box;top: 0;bottom: 0;left: 50%;z-index: -1;}#sk-container-id-3 div.sk-parallel-item {display: flex;flex-direction: column;z-index: 1;position: relative;background-color: white;}#sk-container-id-3 div.sk-parallel-item:first-child::after {align-self: flex-end;width: 50%;}#sk-container-id-3 div.sk-parallel-item:last-child::after {align-self: flex-start;width: 50%;}#sk-container-id-3 div.sk-parallel-item:only-child::after {width: 0;}#sk-container-id-3 div.sk-dashed-wrapped {border: 1px dashed gray;margin: 0 0.4em 0.5em 0.4em;box-sizing: border-box;padding-bottom: 0.4em;background-color: white;}#sk-container-id-3 div.sk-label label {font-family: monospace;font-weight: bold;display: inline-block;line-height: 1.2em;}#sk-container-id-3 div.sk-label-container {text-align: center;}#sk-container-id-3 div.sk-container {/* jupyter's `normalize.less` sets `[hidden] { display: none; }` but bootstrap.min.css set `[hidden] { display: none !important; }` so we also need the `!important` here to be able to override the default hidden behavior on the sphinx rendered scikit-learn.org. See: https://github.com/scikit-learn/scikit-learn/issues/21755 */display: inline-block !important;position: relative;}#sk-container-id-3 div.sk-text-repr-fallback {display: none;}</style><div id=\"sk-container-id-3\" class=\"sk-top-container\"><div class=\"sk-text-repr-fallback\"><pre>VotingClassifier(estimators=[(&#x27;random_forest&#x27;,\n",
              "                              RandomForestClassifier(n_estimators=50)),\n",
              "                             (&#x27;svm&#x27;, SVC(probability=True)),\n",
              "                             (&#x27;knn&#x27;, KNeighborsClassifier(n_neighbors=11)),\n",
              "                             (&#x27;xgb&#x27;,\n",
              "                              XGBClassifier(base_score=None, booster=None,\n",
              "                                            callbacks=None,\n",
              "                                            colsample_bylevel=None,\n",
              "                                            colsample_bynode=None,\n",
              "                                            colsample_bytree=None,\n",
              "                                            early_stopping_rounds=None,\n",
              "                                            enable_categorical=False,\n",
              "                                            eval...\n",
              "                                            gpu_id=None, grow_policy=None,\n",
              "                                            importance_type=None,\n",
              "                                            interaction_constraints=None,\n",
              "                                            learning_rate=None, max_bin=None,\n",
              "                                            max_cat_threshold=None,\n",
              "                                            max_cat_to_onehot=None,\n",
              "                                            max_delta_step=None, max_depth=None,\n",
              "                                            max_leaves=None,\n",
              "                                            min_child_weight=None, missing=nan,\n",
              "                                            monotone_constraints=None,\n",
              "                                            n_estimators=100, n_jobs=None,\n",
              "                                            num_parallel_tree=None,\n",
              "                                            predictor=None, random_state=None, ...))],\n",
              "                 voting=&#x27;soft&#x27;)</pre><b>In a Jupyter environment, please rerun this cell to show the HTML representation or trust the notebook. <br />On GitHub, the HTML representation is unable to render, please try loading this page with nbviewer.org.</b></div><div class=\"sk-container\" hidden><div class=\"sk-item sk-dashed-wrapped\"><div class=\"sk-label-container\"><div class=\"sk-label sk-toggleable\"><input class=\"sk-toggleable__control sk-hidden--visually\" id=\"sk-estimator-id-12\" type=\"checkbox\" ><label for=\"sk-estimator-id-12\" class=\"sk-toggleable__label sk-toggleable__label-arrow\">VotingClassifier</label><div class=\"sk-toggleable__content\"><pre>VotingClassifier(estimators=[(&#x27;random_forest&#x27;,\n",
              "                              RandomForestClassifier(n_estimators=50)),\n",
              "                             (&#x27;svm&#x27;, SVC(probability=True)),\n",
              "                             (&#x27;knn&#x27;, KNeighborsClassifier(n_neighbors=11)),\n",
              "                             (&#x27;xgb&#x27;,\n",
              "                              XGBClassifier(base_score=None, booster=None,\n",
              "                                            callbacks=None,\n",
              "                                            colsample_bylevel=None,\n",
              "                                            colsample_bynode=None,\n",
              "                                            colsample_bytree=None,\n",
              "                                            early_stopping_rounds=None,\n",
              "                                            enable_categorical=False,\n",
              "                                            eval...\n",
              "                                            gpu_id=None, grow_policy=None,\n",
              "                                            importance_type=None,\n",
              "                                            interaction_constraints=None,\n",
              "                                            learning_rate=None, max_bin=None,\n",
              "                                            max_cat_threshold=None,\n",
              "                                            max_cat_to_onehot=None,\n",
              "                                            max_delta_step=None, max_depth=None,\n",
              "                                            max_leaves=None,\n",
              "                                            min_child_weight=None, missing=nan,\n",
              "                                            monotone_constraints=None,\n",
              "                                            n_estimators=100, n_jobs=None,\n",
              "                                            num_parallel_tree=None,\n",
              "                                            predictor=None, random_state=None, ...))],\n",
              "                 voting=&#x27;soft&#x27;)</pre></div></div></div><div class=\"sk-parallel\"><div class=\"sk-parallel-item\"><div class=\"sk-item\"><div class=\"sk-label-container\"><div class=\"sk-label sk-toggleable\"><label>random_forest</label></div></div><div class=\"sk-serial\"><div class=\"sk-item\"><div class=\"sk-estimator sk-toggleable\"><input class=\"sk-toggleable__control sk-hidden--visually\" id=\"sk-estimator-id-13\" type=\"checkbox\" ><label for=\"sk-estimator-id-13\" class=\"sk-toggleable__label sk-toggleable__label-arrow\">RandomForestClassifier</label><div class=\"sk-toggleable__content\"><pre>RandomForestClassifier(n_estimators=50)</pre></div></div></div></div></div></div><div class=\"sk-parallel-item\"><div class=\"sk-item\"><div class=\"sk-label-container\"><div class=\"sk-label sk-toggleable\"><label>svm</label></div></div><div class=\"sk-serial\"><div class=\"sk-item\"><div class=\"sk-estimator sk-toggleable\"><input class=\"sk-toggleable__control sk-hidden--visually\" id=\"sk-estimator-id-14\" type=\"checkbox\" ><label for=\"sk-estimator-id-14\" class=\"sk-toggleable__label sk-toggleable__label-arrow\">SVC</label><div class=\"sk-toggleable__content\"><pre>SVC(probability=True)</pre></div></div></div></div></div></div><div class=\"sk-parallel-item\"><div class=\"sk-item\"><div class=\"sk-label-container\"><div class=\"sk-label sk-toggleable\"><label>knn</label></div></div><div class=\"sk-serial\"><div class=\"sk-item\"><div class=\"sk-estimator sk-toggleable\"><input class=\"sk-toggleable__control sk-hidden--visually\" id=\"sk-estimator-id-15\" type=\"checkbox\" ><label for=\"sk-estimator-id-15\" class=\"sk-toggleable__label sk-toggleable__label-arrow\">KNeighborsClassifier</label><div class=\"sk-toggleable__content\"><pre>KNeighborsClassifier(n_neighbors=11)</pre></div></div></div></div></div></div><div class=\"sk-parallel-item\"><div class=\"sk-item\"><div class=\"sk-label-container\"><div class=\"sk-label sk-toggleable\"><label>xgb</label></div></div><div class=\"sk-serial\"><div class=\"sk-item\"><div class=\"sk-estimator sk-toggleable\"><input class=\"sk-toggleable__control sk-hidden--visually\" id=\"sk-estimator-id-16\" type=\"checkbox\" ><label for=\"sk-estimator-id-16\" class=\"sk-toggleable__label sk-toggleable__label-arrow\">XGBClassifier</label><div class=\"sk-toggleable__content\"><pre>XGBClassifier(base_score=None, booster=None, callbacks=None,\n",
              "              colsample_bylevel=None, colsample_bynode=None,\n",
              "              colsample_bytree=None, early_stopping_rounds=None,\n",
              "              enable_categorical=False, eval_metric=None, feature_types=None,\n",
              "              gamma=None, gpu_id=None, grow_policy=None, importance_type=None,\n",
              "              interaction_constraints=None, learning_rate=None, max_bin=None,\n",
              "              max_cat_threshold=None, max_cat_to_onehot=None,\n",
              "              max_delta_step=None, max_depth=None, max_leaves=None,\n",
              "              min_child_weight=None, missing=nan, monotone_constraints=None,\n",
              "              n_estimators=100, n_jobs=None, num_parallel_tree=None,\n",
              "              predictor=None, random_state=None, ...)</pre></div></div></div></div></div></div></div></div></div></div>"
            ]
          },
          "metadata": {},
          "execution_count": 22
        }
      ],
      "source": [
        "base_models = [('random_forest', RandomForestClassifier(n_estimators=50)),\n",
        "               ('svm', SVC(probability = True)),\n",
        "               ('knn', KNeighborsClassifier(n_neighbors=11)),\n",
        "               ('xgb', xgb.XGBClassifier())]\n",
        "\n",
        "#Creo ensemble de Votación\n",
        "vot = VotingClassifier(estimators = base_models, voting = 'soft')\n",
        "\n",
        "#Armo conjunto entrenamiento y test 80-20\n",
        "x_train, x_test, y_train, y_test = separarConjuntos(ds_reservas_voting)\n",
        "\n",
        "#Entreno el ensemble\n",
        "vot.fit(x_train, y_train)"
      ]
    },
    {
      "cell_type": "markdown",
      "source": [
        "Realizamos nuestras redicciones sobre el conjunto de train y de test."
      ],
      "metadata": {
        "id": "S9ZKgrC8SE7l"
      }
    },
    {
      "cell_type": "code",
      "execution_count": 23,
      "metadata": {
        "colab": {
          "base_uri": "https://localhost:8080/",
          "height": 623
        },
        "id": "u5kjU_yTE5rM",
        "outputId": "64fe6f46-67aa-4ad3-d8e8-9b0dfac79d7e"
      },
      "outputs": [
        {
          "output_type": "stream",
          "name": "stdout",
          "text": [
            "              precision    recall  f1-score   support\n",
            "\n",
            "           0       0.91      0.94      0.92     21680\n",
            "           1       0.94      0.91      0.92     21596\n",
            "\n",
            "    accuracy                           0.92     43276\n",
            "   macro avg       0.92      0.92      0.92     43276\n",
            "weighted avg       0.92      0.92      0.92     43276\n",
            "\n",
            "F1-Score: 0.9213784661739088\n"
          ]
        },
        {
          "output_type": "display_data",
          "data": {
            "text/plain": [
              "<Figure size 640x480 with 2 Axes>"
            ],
            "image/png": "[encoded data removed]"
          },
          "metadata": {}
        }
      ],
      "source": [
        "mostrarPerformance(vot,x_train,y_train)"
      ]
    },
    {
      "cell_type": "code",
      "execution_count": 24,
      "metadata": {
        "colab": {
          "base_uri": "https://localhost:8080/",
          "height": 623
        },
        "id": "8PEBruSnFVf5",
        "outputId": "5b7c7504-878f-4b3e-efc7-77982e05c4cd"
      },
      "outputs": [
        {
          "output_type": "stream",
          "name": "stdout",
          "text": [
            "              precision    recall  f1-score   support\n",
            "\n",
            "           0       0.83      0.85      0.84      9230\n",
            "           1       0.85      0.82      0.84      9318\n",
            "\n",
            "    accuracy                           0.84     18548\n",
            "   macro avg       0.84      0.84      0.84     18548\n",
            "weighted avg       0.84      0.84      0.84     18548\n",
            "\n",
            "F1-Score: 0.8350190320826535\n"
          ]
        },
        {
          "output_type": "display_data",
          "data": {
            "text/plain": [
              "<Figure size 640x480 with 2 Axes>"
            ],
            "image/png": "[encoded data removed]"
          },
          "metadata": {}
        }
      ],
      "source": [
        "mostrarPerformance(vot, x_test, y_test)"
      ]
    },
    {
      "cell_type": "code",
      "execution_count": 25,
      "metadata": {
        "id": "a1kBB2xjFrEE"
      },
      "outputs": [],
      "source": [
        "filename = \"vot.pickle\"\n",
        "\n",
        "# save model\n",
        "pickle.dump(vot, open(filename, \"wb\"))"
      ]
    },
    {
      "cell_type": "markdown",
      "metadata": {
        "id": "avfmGAsw0-ON"
      },
      "source": [
        "# Análisis de los Modelos Obtenidos en el CHP3"
      ]
    },
    {
      "cell_type": "code",
      "execution_count": null,
      "metadata": {
        "id": "9yCZUQA39Zpx"
      },
      "outputs": [],
      "source": [
        "from tabulate import tabulate\n",
        " \n",
        "headers = [\"Modelo\", \"Mejores Parámetros\", \"Mejor Score\", \"Precision\", \"Recall\", \"F1-Score\", \"Accuracy\"]\n",
        "\n",
        "data = [\n",
        "    [\"KNN con K-Fold Cross Validation\", \"{'weights': 'distance', 'n_neighbors': 22, 'metric': 'manhattan', 'algorithm': 'brute'}\", 0.7817548433001482, 0.78, 0.78, 0.7894859995320178, 0.78],\n",
        "    [\"Clasificador SVM Lineal\", \"-\", \"-\", 0.73, 0.71, 0.7354760351768967, 0.75],\n",
        "    [\"Clasificador SVM Kernel Polinomico\", \"-\", \"-\", 0.78, 0.76, 0.7731848455071515, 0.78],\n",
        "    [\"Clasificador SVM Kernel Radial\", \"-\", \"-\", 0.85, 0.74, 0.7913573152511205, 0.80],\n",
        "    [\"Random Forest optimizando K-Fold Cross Validation\", \"{'n_estimators': 119, 'min_samples_split': 2, 'min_samples_leaf': 3, 'max_depth': 9, 'criterion': 'gini'}\", 0.7694014174274975, 0.74, 0.91, 0.82, 0.80],\n",
        "        [\"XGBoost optimizando sus hiperparametros\", \"{'tree_method': 'approx', 'subsample': 0.75, 'n_estimators': 145, 'min_child_weight': 0.5375, 'max_depth': 6, 'learning_rate': 0.2, 'lambda': 1.55, 'gamma': 0.1, 'eta': 0.15793103448275864, 'colsample_bytree': 0.7, 'alpha': 0.575}\",0.8176297010638238,  0.85, 0.80,  0.8225511391984036, 0.83],\n",
        "    [\"Ensamble hibrido i-stacking\", \"-\", \"-\", \" 0.84 \", \"0.79 \", \"0.8107838242636046\", \"0.82\"],\n",
        "    [\"Ensamble hibrido ii-Voting\", \"-\", \"-\", \"0.82\", \" 0.82\", \"0.8187052682559328\", '0.82']\n",
        "]\n",
        "\n",
        "print(tabulate(data, headers=headers))"
      ]
    },
    {
      "cell_type": "markdown",
      "metadata": {
        "id": "APcECiAGFZaw"
      },
      "source": [
        "Es importante destacar que el F1-Score, una medida que combina tanto la precisión como el recall de un modelo, es el objetivo a maximizar en el análisis. Por lo tanto, es fundamental considerar el F1-Score en todas las comparaciones de modelos.\n",
        "\n",
        "Los resultados muestran que el modelo **XGBoost** optimizado es el mejor, obteniendo el mayor F1-Score de **0.8776**. **XGBoost** es un algoritmo de boosting que utiliza árboles de decisión, y ha demostrado ser eficaz en problemas complejos de clasificación y regresión.\n",
        "\n",
        "En segundo lugar, el ensamble híbrido obtuvo un F1-Score de **0.8466**. Este ensamble combina dos técnicas: el stacking y el voting. El **stacking** es una técnica que combina varios modelos individuales en un modelo final utilizando una técnica de aprendizaje automático, mientras que el voting es una técnica que combina varios modelos individuales mediante la votación de cada modelo. El ensamble híbrido puede aprovechar las fortalezas de varios modelos para mejorar el rendimiento y generalizar mejor.\n",
        "\n",
        "El tercer mejor modelo en términos de F1-Score es el clasificador **SVM con kernel radial**, con un valor de **0.7914**. Este modelo utiliza un kernel radial para transformar los datos y separar las clases. SVM es una buena opción a considerar en problemas de clasificación binaria, especialmente cuando hay una alta dimensionalidad de los datos y se espera que los patrones no sean lineales."
      ]
    },
    {
      "cell_type": "markdown",
      "metadata": {
        "id": "rKKkccUI7-kj"
      },
      "source": [
        "#Preparacion del dataset para realizar predicciones"
      ]
    },
    {
      "cell_type": "code",
      "execution_count": 26,
      "metadata": {
        "id": "mfsQI2QKSN2K"
      },
      "outputs": [],
      "source": [
        "#importamos el conjunto de test real y le hacemos una copia\n",
        "ds = pd.read_csv('https://drive.google.com/uc?export=download&id=1L-GDEKGbwtLMdYKCxhrJ9m4HZ5NIr5i2', index_col=None)\n",
        "\n",
        "ds_copy = ds.copy()\n",
        "#hacemos sobre este el mismo trabajo que hicimos con el de entrenamiento\n",
        "ds_x_test = ds_con_one_hot_encoding(ds_copy)\n",
        "ds_x_test.fillna(0, inplace=True)\n",
        "ds_x_test.drop(to_drop, axis = 'columns', inplace = True)\n",
        "\n",
        "# Definimos el diccionario que asigna un número a cada mes\n",
        "diccionario_meses = {\n",
        "  'january': '1',\n",
        "  'february': '2',\n",
        "  'march': '3',\n",
        "  'april': '4',\n",
        "  'may': '5',\n",
        "  'june': '6',\n",
        "  'july': '7',\n",
        "  'august': '8',\n",
        "  'september': '9',\n",
        "  'october': '10',\n",
        "  'november': '11',\n",
        "  'december': '12'\n",
        "}\n",
        "\n",
        "# Definimos la función que convierte un nombre de mes en su número correspondiente\n",
        "def mes_a_numero(mes):\n",
        "  if pd.isna(mes):\n",
        "    return mes\n",
        "  elif mes.lower() in diccionario_meses:\n",
        "    return diccionario_meses[mes.lower()]\n",
        "  else:\n",
        "    return mes\n",
        "\n",
        "# Aplicamos la funcion y convertimos los numeros a enteros en vez de strings\n",
        "ds_x_test['arrival_date_month'] = ds_x_test['arrival_date_month'].apply(mes_a_numero).astype(int)"
      ]
    },
    {
      "cell_type": "code",
      "execution_count": 27,
      "metadata": {
        "id": "_j7lj8kpv1BN"
      },
      "outputs": [],
      "source": [
        "ds_y_test = vot.predict(ds_x_test)"
      ]
    },
    {
      "cell_type": "code",
      "execution_count": 28,
      "metadata": {
        "id": "H0LCiiw1By_T"
      },
      "outputs": [],
      "source": [
        "#agregamos la columna id que es nuestro identificador\n",
        "ds_submission = pd.DataFrame({'id': ds['id'], 'is_canceled': ds_y_test})"
      ]
    },
    {
      "cell_type": "markdown",
      "metadata": {
        "id": "noDLNOl4F0jB"
      },
      "source": [
        "Finalmente exportamos nuestras predicciones ya listas para publicar."
      ]
    },
    {
      "cell_type": "code",
      "execution_count": 29,
      "metadata": {
        "id": "559yUzEHULbl"
      },
      "outputs": [],
      "source": [
        "ds_submission.to_csv('kNN_optimizado2.csv', index=False)\n"
      ]
    }
  ],
  "metadata": {
    "colab": {
      "collapsed_sections": [
        "HD4jDltuXx2N",
        "HGUvkVktXt00",
        "Z1waTjoQ9NSi",
        "9h8feA899RJ6",
        "yjFQh3CBUas4",
        "Pg9gMKUXlnXF",
        "Mhiv9hRf5JnK",
        "-gLBG6ek44qR",
        "E2utVzdJanf9",
        "-2VR6V7G9UKj",
        "Blxveuna_YZr",
        "JvFEBqWstlqD"
      ],
      "provenance": []
    },
    "kernelspec": {
      "display_name": "Python 3",
      "name": "python3"
    },
    "language_info": {
      "name": "python"
    }
  },
  "nbformat": 4,
  "nbformat_minor": 0
}